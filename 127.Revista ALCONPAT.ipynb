{
 "cells": [
  {
   "cell_type": "code",
   "execution_count": 14,
   "id": "d4326137-203c-4c8e-add7-60b122a5955b",
   "metadata": {},
   "outputs": [],
   "source": [
    "import requests\n",
    "import bs4\n",
    "from bs4 import BeautifulSoup\n",
    "from urllib.parse import urljoin\n",
    "import pandas as pd"
   ]
  },
  {
   "cell_type": "code",
   "execution_count": 15,
   "id": "8c42dbd1-ff66-42c5-8447-68987cfebc5f",
   "metadata": {},
   "outputs": [],
   "source": [
    "url_inicial = 'https://www.revistaalconpat.org/index.php/RA/issue/archive/2'\n",
    "url_root = 'https://www.revistaalconpat.org/index.php/RA/issue/archive/2'\n",
    "r=requests.get(url_inicial)"
   ]
  },
  {
   "cell_type": "code",
   "execution_count": 16,
   "id": "449a9433-6cf4-4fe0-b7ab-fc8f9c95c5d6",
   "metadata": {},
   "outputs": [],
   "source": [
    "soup = BeautifulSoup(r.text, 'html.parser')"
   ]
  },
  {
   "cell_type": "code",
   "execution_count": 17,
   "id": "9e73d6cd-19b5-4184-a7e8-d4643b09b8dd",
   "metadata": {},
   "outputs": [
    {
     "data": {
      "text/plain": [
       "['https://www.revistaalconpat.org/index.php/RA/issue/view/11',\n",
       " 'https://www.revistaalconpat.org/index.php/RA/issue/view/10',\n",
       " 'https://www.revistaalconpat.org/index.php/RA/issue/view/9',\n",
       " 'https://www.revistaalconpat.org/index.php/RA/issue/view/8',\n",
       " 'https://www.revistaalconpat.org/index.php/RA/issue/view/7',\n",
       " 'https://www.revistaalconpat.org/index.php/RA/issue/view/6',\n",
       " 'https://www.revistaalconpat.org/index.php/RA/issue/view/5',\n",
       " 'https://www.revistaalconpat.org/index.php/RA/issue/view/4',\n",
       " 'https://www.revistaalconpat.org/index.php/RA/issue/view/3',\n",
       " 'https://www.revistaalconpat.org/index.php/RA/issue/view/2']"
      ]
     },
     "execution_count": 17,
     "metadata": {},
     "output_type": "execute_result"
    }
   ],
   "source": [
    "box = soup.find('ul', class_='issues_archive')\n",
    "volumen=box.findAll('div', class_='obj_issue_summary')\n",
    "vol = [x.find('a').get('href')for x in volumen]\n",
    "vol=[urljoin(url_root,i) for i in vol]\n",
    "vol"
   ]
  },
  {
   "cell_type": "code",
   "execution_count": 18,
   "id": "dc747d8a-4cdc-4097-bd19-3319d30b4506",
   "metadata": {},
   "outputs": [],
   "source": [
    "def get_url_items(sopa, url): \n",
    "    box = soup.find('ul', class_='issues_archive')\n",
    "    volumen=box.findAll('div', class_='obj_issue_summary')\n",
    "    vol = [x.find('a').get('href')for x in volumen]\n",
    "    vol=[urljoin(url_root,i) for i in vol]\n",
    "    return vol"
   ]
  },
  {
   "cell_type": "code",
   "execution_count": 19,
   "id": "0816b38d-b35e-4607-be89-c6052601eb28",
   "metadata": {},
   "outputs": [
    {
     "name": "stdout",
     "output_type": "stream",
     "text": [
      "Estoy en la pagina https://www.revistaalconpat.org/index.php/RA/issue/archive/2\n"
     ]
    }
   ],
   "source": [
    "links_items=[]\n",
    "i=0\n",
    "while i<1:\n",
    "    i+=1\n",
    "    print(f'Estoy en la pagina {url_inicial}')\n",
    "    r_pag=requests.get(url_inicial)\n",
    "    s_p=BeautifulSoup(r_pag.text,'html.parser')\n",
    "    links=get_url_items(s_p, url_inicial)\n",
    "    links_items.append(links)"
   ]
  },
  {
   "cell_type": "code",
   "execution_count": 20,
   "id": "ea2773b5-de65-40e4-885e-aab5917be849",
   "metadata": {},
   "outputs": [
    {
     "data": {
      "text/plain": [
       "10"
      ]
     },
     "execution_count": 20,
     "metadata": {},
     "output_type": "execute_result"
    }
   ],
   "source": [
    "list_scraper=[]\n",
    "for i in links_items:\n",
    "    for j in i:\n",
    "        list_scraper.append(j)\n",
    "len(list_scraper)"
   ]
  },
  {
   "cell_type": "code",
   "execution_count": 21,
   "id": "2bb6408d-dced-408d-8e1c-16c8c8bc9fd8",
   "metadata": {},
   "outputs": [],
   "source": [
    "uno=list_scraper[0]\n",
    "r_item=requests.get(uno)\n",
    "s_item=BeautifulSoup(r_item.text, 'html.parser')"
   ]
  },
  {
   "cell_type": "code",
   "execution_count": 22,
   "id": "ecfed8d8-555b-484d-a97e-41fb230737ce",
   "metadata": {},
   "outputs": [],
   "source": [
    "#funcion para iniciar el escraper de cada libro\n",
    "def scraper_book(url):\n",
    "    content_book={}\n",
    "    r=requests.get(url)\n",
    "    tire='Revista ALCONPAT'\n",
    "    a='VII. Ingenierías'\n",
    "    tem='Control de Calidad, Patología y Recuperación de la Construcción'\n",
    "    url='http://www.revistaalconpat.org'\n",
    "    s_item=BeautifulSoup(r.text,'html.parser')\n",
    "    #titulo de revista\n",
    "    try:\n",
    "        titulo=tire\n",
    "        content_book['Titulo de revista']=tire\n",
    "    except AttributeError:\n",
    "        content_book['Titulo de revista']=None\n",
    "    #area\n",
    "    try:\n",
    "        area=a\n",
    "        content_book['Área']=a\n",
    "    except AttributeError:\n",
    "        content_book['Área']=None\n",
    "    #tematica\n",
    "    try:\n",
    "        tema=tem\n",
    "        content_book['Temática']=tem\n",
    "    except AttributeError:\n",
    "        content_book['Temática']=None\n",
    "    #titulo libro\n",
    "    try:\n",
    "        titu=s_item.find('div', class_='title').get_text(strip=True)\n",
    "        content_book['Titulo del libro']=titu\n",
    "    except AttributeError:\n",
    "        content_book['Titulo del libro']=None\n",
    "    #resumen\n",
    "    try:\n",
    "        resu=s_item.find('a', class_='cover').get_text(strip=True)\n",
    "        content_book['Resumen']=resu\n",
    "    except AttributeError:\n",
    "        content_book['Resumen']=None\n",
    "    #Link incial\n",
    "    try:\n",
    "        inicial=url\n",
    "        content_book['Link inicial']=url\n",
    "    except AttributeError:\n",
    "        content_book['Link inicial']=None\n",
    "    #link articulo\n",
    "    try:\n",
    "        link=s_item.find('a', class_='obj_galley_link pdf').get('href')\n",
    "        content_book['Link articulo']=urljoin(url_root, link)\n",
    "    except AttributeError:\n",
    "        content_book['Link articulo']=None\n",
    "    return content_book"
   ]
  },
  {
   "cell_type": "code",
   "execution_count": 23,
   "id": "b156f534-21dd-45ad-977e-3bc509e8338d",
   "metadata": {},
   "outputs": [
    {
     "name": "stdout",
     "output_type": "stream",
     "text": [
      "estas escrapeando la pag 0\n",
      "estas escrapeando la pag 1\n",
      "estas escrapeando la pag 2\n",
      "estas escrapeando la pag 3\n",
      "estas escrapeando la pag 4\n",
      "estas escrapeando la pag 5\n",
      "estas escrapeando la pag 6\n",
      "estas escrapeando la pag 7\n",
      "estas escrapeando la pag 8\n",
      "estas escrapeando la pag 9\n"
     ]
    }
   ],
   "source": [
    "list_scraper=list_scraper[0:10]\n",
    "datos_book=[]\n",
    "for idx, i in enumerate(list_scraper):\n",
    "    print(f'estas escrapeando la pag {idx}')\n",
    "    datos_book.append(scraper_book(i))"
   ]
  },
  {
   "cell_type": "code",
   "execution_count": 24,
   "id": "90a2843f-312a-4bc4-af2d-337504ccda96",
   "metadata": {},
   "outputs": [
    {
     "data": {
      "text/html": [
       "<div>\n",
       "<style scoped>\n",
       "    .dataframe tbody tr th:only-of-type {\n",
       "        vertical-align: middle;\n",
       "    }\n",
       "\n",
       "    .dataframe tbody tr th {\n",
       "        vertical-align: top;\n",
       "    }\n",
       "\n",
       "    .dataframe thead th {\n",
       "        text-align: right;\n",
       "    }\n",
       "</style>\n",
       "<table border=\"1\" class=\"dataframe\">\n",
       "  <thead>\n",
       "    <tr style=\"text-align: right;\">\n",
       "      <th></th>\n",
       "      <th>Titulo de revista</th>\n",
       "      <th>Área</th>\n",
       "      <th>Temática</th>\n",
       "      <th>Titulo del libro</th>\n",
       "      <th>Resumen</th>\n",
       "      <th>Link inicial</th>\n",
       "      <th>Link articulo</th>\n",
       "    </tr>\n",
       "  </thead>\n",
       "  <tbody>\n",
       "    <tr>\n",
       "      <th>0</th>\n",
       "      <td>Revista ALCONPAT</td>\n",
       "      <td>VII. Ingenierías</td>\n",
       "      <td>Control de Calidad, Patología y Recuperación d...</td>\n",
       "      <td>RA V 4N1, Mensaje del Editor en Jefe y Editor ...</td>\n",
       "      <td></td>\n",
       "      <td>http://www.revistaalconpat.org</td>\n",
       "      <td>https://www.revistaalconpat.org/index.php/RA/a...</td>\n",
       "    </tr>\n",
       "    <tr>\n",
       "      <th>1</th>\n",
       "      <td>Revista ALCONPAT</td>\n",
       "      <td>VII. Ingenierías</td>\n",
       "      <td>Control de Calidad, Patología y Recuperación d...</td>\n",
       "      <td>RA V3 N3, Mensaje del Editor en Jefe (Septiemb...</td>\n",
       "      <td></td>\n",
       "      <td>http://www.revistaalconpat.org</td>\n",
       "      <td>https://www.revistaalconpat.org/index.php/RA/a...</td>\n",
       "    </tr>\n",
       "    <tr>\n",
       "      <th>2</th>\n",
       "      <td>Revista ALCONPAT</td>\n",
       "      <td>VII. Ingenierías</td>\n",
       "      <td>Control de Calidad, Patología y Recuperación d...</td>\n",
       "      <td>RA V3N2, Mensaje del Editor en Jefe (Mayo - Ag...</td>\n",
       "      <td></td>\n",
       "      <td>http://www.revistaalconpat.org</td>\n",
       "      <td>https://www.revistaalconpat.org/index.php/RA/a...</td>\n",
       "    </tr>\n",
       "    <tr>\n",
       "      <th>3</th>\n",
       "      <td>Revista ALCONPAT</td>\n",
       "      <td>VII. Ingenierías</td>\n",
       "      <td>Control de Calidad, Patología y Recuperación d...</td>\n",
       "      <td>RA V3N1, Mensaje del Editor en Jefe y Editor i...</td>\n",
       "      <td></td>\n",
       "      <td>http://www.revistaalconpat.org</td>\n",
       "      <td>https://www.revistaalconpat.org/index.php/RA/a...</td>\n",
       "    </tr>\n",
       "    <tr>\n",
       "      <th>4</th>\n",
       "      <td>Revista ALCONPAT</td>\n",
       "      <td>VII. Ingenierías</td>\n",
       "      <td>Control de Calidad, Patología y Recuperación d...</td>\n",
       "      <td>RA V2 N3, Mensaje del Editor en Jefe (Septiemb...</td>\n",
       "      <td></td>\n",
       "      <td>http://www.revistaalconpat.org</td>\n",
       "      <td>https://www.revistaalconpat.org/index.php/RA/a...</td>\n",
       "    </tr>\n",
       "    <tr>\n",
       "      <th>5</th>\n",
       "      <td>Revista ALCONPAT</td>\n",
       "      <td>VII. Ingenierías</td>\n",
       "      <td>Control de Calidad, Patología y Recuperación d...</td>\n",
       "      <td>RA V2 N2, Mensaje del Editor en Jefe (Mayo - A...</td>\n",
       "      <td></td>\n",
       "      <td>http://www.revistaalconpat.org</td>\n",
       "      <td>https://www.revistaalconpat.org/index.php/RA/a...</td>\n",
       "    </tr>\n",
       "    <tr>\n",
       "      <th>6</th>\n",
       "      <td>Revista ALCONPAT</td>\n",
       "      <td>VII. Ingenierías</td>\n",
       "      <td>Control de Calidad, Patología y Recuperación d...</td>\n",
       "      <td>RA V2 N1, Mensaje del Editor en Jefe (Enero-Ab...</td>\n",
       "      <td></td>\n",
       "      <td>http://www.revistaalconpat.org</td>\n",
       "      <td>https://www.revistaalconpat.org/index.php/RA/a...</td>\n",
       "    </tr>\n",
       "    <tr>\n",
       "      <th>7</th>\n",
       "      <td>Revista ALCONPAT</td>\n",
       "      <td>VII. Ingenierías</td>\n",
       "      <td>Control de Calidad, Patología y Recuperación d...</td>\n",
       "      <td>RA V1 N3, Mensaje del Editor en Jefe (Septiemb...</td>\n",
       "      <td></td>\n",
       "      <td>http://www.revistaalconpat.org</td>\n",
       "      <td>https://www.revistaalconpat.org/index.php/RA/a...</td>\n",
       "    </tr>\n",
       "    <tr>\n",
       "      <th>8</th>\n",
       "      <td>Revista ALCONPAT</td>\n",
       "      <td>VII. Ingenierías</td>\n",
       "      <td>Control de Calidad, Patología y Recuperación d...</td>\n",
       "      <td>RA V1 N2, Mensaje del Editor en Jefe (Mayo - A...</td>\n",
       "      <td></td>\n",
       "      <td>http://www.revistaalconpat.org</td>\n",
       "      <td>https://www.revistaalconpat.org/index.php/RA/a...</td>\n",
       "    </tr>\n",
       "    <tr>\n",
       "      <th>9</th>\n",
       "      <td>Revista ALCONPAT</td>\n",
       "      <td>VII. Ingenierías</td>\n",
       "      <td>Control de Calidad, Patología y Recuperación d...</td>\n",
       "      <td>Editorial inaugural del Editor en Jefe</td>\n",
       "      <td></td>\n",
       "      <td>http://www.revistaalconpat.org</td>\n",
       "      <td>https://www.revistaalconpat.org/index.php/RA/a...</td>\n",
       "    </tr>\n",
       "  </tbody>\n",
       "</table>\n",
       "</div>"
      ],
      "text/plain": [
       "  Titulo de revista              Área  \\\n",
       "0  Revista ALCONPAT  VII. Ingenierías   \n",
       "1  Revista ALCONPAT  VII. Ingenierías   \n",
       "2  Revista ALCONPAT  VII. Ingenierías   \n",
       "3  Revista ALCONPAT  VII. Ingenierías   \n",
       "4  Revista ALCONPAT  VII. Ingenierías   \n",
       "5  Revista ALCONPAT  VII. Ingenierías   \n",
       "6  Revista ALCONPAT  VII. Ingenierías   \n",
       "7  Revista ALCONPAT  VII. Ingenierías   \n",
       "8  Revista ALCONPAT  VII. Ingenierías   \n",
       "9  Revista ALCONPAT  VII. Ingenierías   \n",
       "\n",
       "                                            Temática  \\\n",
       "0  Control de Calidad, Patología y Recuperación d...   \n",
       "1  Control de Calidad, Patología y Recuperación d...   \n",
       "2  Control de Calidad, Patología y Recuperación d...   \n",
       "3  Control de Calidad, Patología y Recuperación d...   \n",
       "4  Control de Calidad, Patología y Recuperación d...   \n",
       "5  Control de Calidad, Patología y Recuperación d...   \n",
       "6  Control de Calidad, Patología y Recuperación d...   \n",
       "7  Control de Calidad, Patología y Recuperación d...   \n",
       "8  Control de Calidad, Patología y Recuperación d...   \n",
       "9  Control de Calidad, Patología y Recuperación d...   \n",
       "\n",
       "                                    Titulo del libro Resumen  \\\n",
       "0  RA V 4N1, Mensaje del Editor en Jefe y Editor ...           \n",
       "1  RA V3 N3, Mensaje del Editor en Jefe (Septiemb...           \n",
       "2  RA V3N2, Mensaje del Editor en Jefe (Mayo - Ag...           \n",
       "3  RA V3N1, Mensaje del Editor en Jefe y Editor i...           \n",
       "4  RA V2 N3, Mensaje del Editor en Jefe (Septiemb...           \n",
       "5  RA V2 N2, Mensaje del Editor en Jefe (Mayo - A...           \n",
       "6  RA V2 N1, Mensaje del Editor en Jefe (Enero-Ab...           \n",
       "7  RA V1 N3, Mensaje del Editor en Jefe (Septiemb...           \n",
       "8  RA V1 N2, Mensaje del Editor en Jefe (Mayo - A...           \n",
       "9             Editorial inaugural del Editor en Jefe           \n",
       "\n",
       "                     Link inicial  \\\n",
       "0  http://www.revistaalconpat.org   \n",
       "1  http://www.revistaalconpat.org   \n",
       "2  http://www.revistaalconpat.org   \n",
       "3  http://www.revistaalconpat.org   \n",
       "4  http://www.revistaalconpat.org   \n",
       "5  http://www.revistaalconpat.org   \n",
       "6  http://www.revistaalconpat.org   \n",
       "7  http://www.revistaalconpat.org   \n",
       "8  http://www.revistaalconpat.org   \n",
       "9  http://www.revistaalconpat.org   \n",
       "\n",
       "                                       Link articulo  \n",
       "0  https://www.revistaalconpat.org/index.php/RA/a...  \n",
       "1  https://www.revistaalconpat.org/index.php/RA/a...  \n",
       "2  https://www.revistaalconpat.org/index.php/RA/a...  \n",
       "3  https://www.revistaalconpat.org/index.php/RA/a...  \n",
       "4  https://www.revistaalconpat.org/index.php/RA/a...  \n",
       "5  https://www.revistaalconpat.org/index.php/RA/a...  \n",
       "6  https://www.revistaalconpat.org/index.php/RA/a...  \n",
       "7  https://www.revistaalconpat.org/index.php/RA/a...  \n",
       "8  https://www.revistaalconpat.org/index.php/RA/a...  \n",
       "9  https://www.revistaalconpat.org/index.php/RA/a...  "
      ]
     },
     "execution_count": 24,
     "metadata": {},
     "output_type": "execute_result"
    }
   ],
   "source": [
    "df_catalogo=pd.DataFrame(datos_book)\n",
    "df_catalogo"
   ]
  },
  {
   "cell_type": "code",
   "execution_count": 25,
   "id": "063e294d-127b-4fb6-8072-791533b743e7",
   "metadata": {},
   "outputs": [],
   "source": [
    "df_catalogo.to_csv('Revista127.02.csv', index=False)"
   ]
  },
  {
   "cell_type": "code",
   "execution_count": null,
   "id": "71e1b735-4aff-4dbd-846f-08686e03bdfb",
   "metadata": {},
   "outputs": [],
   "source": []
  }
 ],
 "metadata": {
  "kernelspec": {
   "display_name": "Python 3 (ipykernel)",
   "language": "python",
   "name": "python3"
  },
  "language_info": {
   "codemirror_mode": {
    "name": "ipython",
    "version": 3
   },
   "file_extension": ".py",
   "mimetype": "text/x-python",
   "name": "python",
   "nbconvert_exporter": "python",
   "pygments_lexer": "ipython3",
   "version": "3.10.4"
  }
 },
 "nbformat": 4,
 "nbformat_minor": 5
}
