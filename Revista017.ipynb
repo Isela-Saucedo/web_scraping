{
 "cells": [
  {
   "cell_type": "markdown",
   "id": "4bcb82db-ce4c-4d79-9101-b5da319b7f75",
   "metadata": {},
   "source": [
    "# WEB SCRAPING\n",
    "  \n",
    "Es una técnica para extraer y almacenar datos de una o varias páginas web con el fin de analizarlos o manipularlos en otros medios, para la cual se utilizan bots para extraer los datos y contenidos de las webs. \n",
    "\n",
    "### Importación de librerías.\n",
    "\n",
    "* Requests realiza la petición al servidor.\n",
    "\n",
    "* BeautifulSoup analizar documentos HTML.\n",
    "\n",
    "* Pandas podemos representar datos tabulares con columnas con etiquetas y filas y series temporales."
   ]
  },
  {
   "cell_type": "code",
   "execution_count": null,
   "id": "7d9d4605-4366-46b8-863f-bece318fb865",
   "metadata": {},
   "outputs": [],
   "source": [
    "import requests\n",
    "import bs4\n",
    "from bs4 import BeautifulSoup\n",
    "from urllib.parse import urljoin\n",
    "import pandas as pd"
   ]
  },
  {
   "cell_type": "markdown",
   "id": "e7f0cfdd-2878-49d0-aa23-067ecc64a5f4",
   "metadata": {},
   "source": [
    "Se realiza un request de la url_inicial de la revista, url_root nos ayuda a genera un url completa a partir de la url raíz para esto se utiliza la librería urljoin."
   ]
  },
  {
   "cell_type": "code",
   "execution_count": null,
   "id": "bedb88fb-0aa4-4fa8-b0be-a63860c9d3a3",
   "metadata": {},
   "outputs": [],
   "source": [
    "url_inicial = 'https://cienciaspecuarias.inifap.gob.mx/index.php/Pecuarias/issue/archive'\n",
    "url_root = 'https://cienciaspecuarias.inifap.gob.mx/index.php/Pecuarias/issue/archive'\n",
    "r=requests.get(url_inicial)"
   ]
  },
  {
   "cell_type": "code",
   "execution_count": null,
   "id": "f1d85de8-a1de-4b58-a2af-bca93f9bb1ae",
   "metadata": {},
   "outputs": [],
   "source": [
    "soup = BeautifulSoup(r.text, 'html.parser')"
   ]
  },
  {
   "cell_type": "markdown",
   "id": "5f2b03ac-1c1e-4ea6-a965-e9f47d64d42b",
   "metadata": {},
   "source": [
    "Obtención de los primeros volúmenes.\n",
    "\n",
    "Se realiza la búsqueda para obtener los urls de cada uno de los volúmenes o archivos de la revista."
   ]
  },
  {
   "cell_type": "code",
   "execution_count": null,
   "id": "46fc62e5-70a5-4e0f-9d2f-21dd6284fa40",
   "metadata": {},
   "outputs": [],
   "source": [
    "box = soup.find('div', id='issues')\n",
    "volumen=box.findAll('div',style='float: left; width: 100%;')\n",
    "vol = [x.find('a').get('href')for x in volumen]\n",
    "vol"
   ]
  },
  {
   "cell_type": "code",
   "execution_count": null,
   "id": "85f84020-a2ae-4182-bb17-59f08c39fde3",
   "metadata": {},
   "outputs": [],
   "source": [
    "vol2 =[]\n",
    "for i in vol: \n",
    "    url_inicial1=i \n",
    "    r1 = requests.get(url_inicial1)\n",
    "    soup1 = BeautifulSoup(r1.text, 'html.parser')\n",
    "    box1 = soup1.find('div', class_='container') \n",
    "    volumen1=box1.findAll('table', class_='tocArticle')\n",
    "    vol1 = [x.find('a').get('href')for x in volumen1]\n",
    "    vol2+=vol1"
   ]
  },
  {
   "cell_type": "code",
   "execution_count": null,
   "id": "59877b23-97dd-4ba1-8e5f-713fbb4bca94",
   "metadata": {},
   "outputs": [],
   "source": [
    "vol2"
   ]
  },
  {
   "cell_type": "markdown",
   "id": "65d741e3-4063-4905-9033-ad1bfb03bd0f",
   "metadata": {},
   "source": [
    "En esta función variable sopa se utiliza para tener las paginaciones de la revista y la variable url es guardan cada uno de url que ya se obtuvieron de *vol2*."
   ]
  },
  {
   "cell_type": "code",
   "execution_count": null,
   "id": "b4b15f98-c7a2-4786-91e5-9d7b9472d74f",
   "metadata": {},
   "outputs": [],
   "source": [
    "def get_url_items(sopa,url):\n",
    "    box1 = soup1.find('div', class_='container') \n",
    "    volumen1=box1.findAll('table', class_='tocArticle')\n",
    "    vol1 = [x.find('a').get('href')for x in volumen1]\n",
    "    return vol2"
   ]
  },
  {
   "cell_type": "markdown",
   "id": "34d35283-d01f-4162-8a30-da33ae696dd4",
   "metadata": {},
   "source": [
    "Ahora se va acumulando cada uno de los links e ir iterando en cada una de las páginas, para traer cada uno de los links que se van a ir scrapeando."
   ]
  },
  {
   "cell_type": "code",
   "execution_count": null,
   "id": "1b0443c1-5c58-44fc-a5b7-e31889d58c04",
   "metadata": {},
   "outputs": [],
   "source": [
    "links_items=[]\n",
    "i=0\n",
    "while i<1:\n",
    "    i+=1\n",
    "    print(f'Estoy en la pagina {url_inicial}')\n",
    "    r_pag=requests.get(url_inicial)\n",
    "    s_p=BeautifulSoup(r_pag.text,'html.parser')\n",
    "    links=get_url_items(s_p, url_inicial)\n",
    "    links_items.append(links) \n",
    "    next_a=s_p.select('li.next > a')\n",
    "    if not next_a or not next_a[0].get('href'):\n",
    "        break"
   ]
  },
  {
   "cell_type": "markdown",
   "id": "285bd704-00eb-4931-9ae1-df73558f2573",
   "metadata": {},
   "source": [
    "Obtiene el número de los artículos que se encontraron en los primeros volúmenes de la revista."
   ]
  },
  {
   "cell_type": "code",
   "execution_count": null,
   "id": "e8ca523c-7d1f-4168-bc22-3892f01ee2ea",
   "metadata": {},
   "outputs": [],
   "source": [
    "list_scraper=[]\n",
    "for i in links_items:\n",
    "    for j in i:\n",
    "        list_scraper.append(j)\n",
    "len(list_scraper)"
   ]
  },
  {
   "cell_type": "markdown",
   "id": "1050aab4-fa86-4333-9666-8f5fcc710e7c",
   "metadata": {},
   "source": [
    "Toma uno a uno de los links donde se encuentra la información de cada artículo para Scrapearlos."
   ]
  },
  {
   "cell_type": "code",
   "execution_count": null,
   "id": "069b579c-a153-4856-b231-8e2cd434f6fe",
   "metadata": {},
   "outputs": [],
   "source": [
    "uno=list_scraper[0]\n",
    "r_item=requests.get(uno)\n",
    "s_item=BeautifulSoup(r_item.text, 'html.parser')"
   ]
  },
  {
   "cell_type": "markdown",
   "id": "97c71183-faa8-4937-aee8-1eeb16a0608a",
   "metadata": {},
   "source": [
    "Scrapeo de las urls de los ariculos.\n",
    "\n",
    "Mediante esta función revisa cada uno de los links de los artículos en los cuales se encuentra la información\n",
    "del artículo, por lo cual se aplican cada uno de los métodos, que nos van a obtener lo que estamos requiriendo de dicho artículo."
   ]
  },
  {
   "cell_type": "code",
   "execution_count": null,
   "id": "e871527c-f809-40af-88c1-e71a10cad2a6",
   "metadata": {},
   "outputs": [],
   "source": [
    "#funcion para iniciar el escraper de cada libro\n",
    "def scraper_book(url):\n",
    "    content_book={}\n",
    "    r=requests.get(url)\n",
    "    tire='Revista Mexicana de Ciencias Pecuarias'\n",
    "    a='VI. Biotecnología y Ciencias Agropecuarias'\n",
    "    tem='Inmunología, Microbiología, Epidemiología, Parasitología, Reproducción, Genética, Nutrición, Apicultura, Socioeconomía, Forrajes y Pastizales, Inocuidad.'\n",
    "    s_item=BeautifulSoup(r.text,'html.parser')\n",
    "    #titulo de revista\n",
    "    try:\n",
    "        titulo=tire\n",
    "        content_book['Titulo Revista']=tire\n",
    "    except AttributeError:\n",
    "        content_book['Titulo Revista']=None\n",
    "    #area\n",
    "    try:\n",
    "        area=a\n",
    "        content_book['Area']=a\n",
    "    except AttributeError:\n",
    "        content_book['Area']=None\n",
    "    #tematica\n",
    "    try:\n",
    "        tema=tem\n",
    "        content_book['Tematica']=tem\n",
    "    except AttributeError:\n",
    "        content_book['Tematica']=None\n",
    "    #titulo articulo\n",
    "    try:\n",
    "        titu=s_item.find('div', id='articleTitle').get_text(strip=True)\n",
    "        content_book['Titulo Articulo']=titu\n",
    "    except AttributeError:\n",
    "        content_book['Titulo Articulo']=None\n",
    "    #resumen\n",
    "    try:\n",
    "        resu=s_item.find('div', id='articleAbstract').find('div').get_text(strip=True)\n",
    "        content_book['Resumen']=resu\n",
    "    except AttributeError:\n",
    "        content_book['Resumen']=None\n",
    "    #abstract\n",
    "    try:\n",
    "        abst=s_item.find('div', class_='item cover_image').get_text(strip=True)\n",
    "        content_book['Abstract']=abst\n",
    "    except AttributeError:\n",
    "        content_book['Abstract']=None\n",
    "    #Link incial\n",
    "    try:\n",
    "        linkart=url\n",
    "        #linkart=s_item.find(a', class_='current').get('href')'\n",
    "        content_book['Link Articulo']=linkart\n",
    "    except AttributeError:\n",
    "        content_book['Link Articulo']=None\n",
    "    #link articulo\n",
    "    try:\n",
    "        link=s_item.find('a', class_='file').get('href')\n",
    "        content_book['Link PDF']=urljoin(url_root, link)\n",
    "    except AttributeError:\n",
    "        content_book['Link PDF']=None\n",
    "    return content_book"
   ]
  },
  {
   "cell_type": "markdown",
   "id": "7100488e-bccd-430a-8e18-63ee756b291e",
   "metadata": {},
   "source": [
    "El list_scraper hace un scrapeo de la cada uno de los artículos, ya que en datos_book se acumuló la información obtenida de lo métodos anteriores."
   ]
  },
  {
   "cell_type": "code",
   "execution_count": null,
   "id": "a478281d-6e77-4198-9b31-9c3cab5275a3",
   "metadata": {},
   "outputs": [],
   "source": [
    "list_scraper=list_scraper[0:302]\n",
    "datos_book=[]\n",
    "for idx, i in enumerate(list_scraper):\n",
    "    print(f'estas escrapeando la pag {idx}')\n",
    "    datos_book.append(scraper_book(i))"
   ]
  },
  {
   "cell_type": "markdown",
   "id": "24afcda6-5882-4124-aa06-f12a60dc8829",
   "metadata": {},
   "source": [
    "La variable **datos_book** es un listado en el que se recolecto la información requerida por lo cual\n",
    "se convierte en un **DataFrame**."
   ]
  },
  {
   "cell_type": "code",
   "execution_count": null,
   "id": "64e6a1c6-1235-4874-9640-a282e35201fe",
   "metadata": {},
   "outputs": [],
   "source": [
    "df_catalogo=pd.DataFrame(datos_book)\n",
    "df_catalogo"
   ]
  },
  {
   "cell_type": "markdown",
   "id": "d43370ee-75f9-48ff-98c0-56eb663dba4d",
   "metadata": {},
   "source": [
    "La información solicitada se pasa a un **CSV**."
   ]
  },
  {
   "cell_type": "code",
   "execution_count": null,
   "id": "e8beba5a-1872-46f1-b029-47b777d9a4f9",
   "metadata": {},
   "outputs": [],
   "source": [
    "df_catalogo.to_csv('Revista17.01.csv', index=False)"
   ]
  },
  {
   "cell_type": "markdown",
   "id": "cae14a66-184a-4fb4-90ee-89b7fd93618b",
   "metadata": {},
   "source": [
    "Final del Código"
   ]
  }
 ],
 "metadata": {
  "kernelspec": {
   "display_name": "Python 3 (ipykernel)",
   "language": "python",
   "name": "python3"
  },
  "language_info": {
   "codemirror_mode": {
    "name": "ipython",
    "version": 3
   },
   "file_extension": ".py",
   "mimetype": "text/x-python",
   "name": "python",
   "nbconvert_exporter": "python",
   "pygments_lexer": "ipython3",
   "version": "3.10.4"
  }
 },
 "nbformat": 4,
 "nbformat_minor": 5
}
