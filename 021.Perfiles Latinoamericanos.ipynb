{
 "cells": [
  {
   "cell_type": "code",
   "execution_count": 1,
   "id": "ba0d4ed9-09fb-477f-afac-bd296a34e0c5",
   "metadata": {},
   "outputs": [],
   "source": [
    "import requests\n",
    "import bs4\n",
    "from bs4 import BeautifulSoup\n",
    "from urllib.parse import urljoin\n",
    "import pandas as pd"
   ]
  },
  {
   "cell_type": "code",
   "execution_count": 51,
   "id": "b50767c3-1a51-40ef-9078-d7d4008d045e",
   "metadata": {},
   "outputs": [],
   "source": [
    "url_inicial='https://perfilesla.flacso.edu.mx/index.php/perfilesla/issue/archive/3'\n",
    "url_root= 'https://perfilesla.flacso.edu.mx/index.php/perfilesla/issue/archive/3'\n",
    "r = requests.get(url_inicial)"
   ]
  },
  {
   "cell_type": "code",
   "execution_count": 52,
   "id": "cf145a03-b563-47e0-8169-9380f4497f62",
   "metadata": {},
   "outputs": [],
   "source": [
    "soup = BeautifulSoup(r.text, 'html.parser')"
   ]
  },
  {
   "cell_type": "code",
   "execution_count": 53,
   "id": "a27a1196-6d73-4b69-b1c5-6b11864a4468",
   "metadata": {},
   "outputs": [
    {
     "data": {
      "text/plain": [
       "['https://perfilesla.flacso.edu.mx/index.php/perfilesla/issue/view/39',\n",
       " 'https://perfilesla.flacso.edu.mx/index.php/perfilesla/issue/view/40',\n",
       " 'https://perfilesla.flacso.edu.mx/index.php/perfilesla/issue/view/41',\n",
       " 'https://perfilesla.flacso.edu.mx/index.php/perfilesla/issue/view/42',\n",
       " 'https://perfilesla.flacso.edu.mx/index.php/perfilesla/issue/view/43',\n",
       " 'https://perfilesla.flacso.edu.mx/index.php/perfilesla/issue/view/44',\n",
       " 'https://perfilesla.flacso.edu.mx/index.php/perfilesla/issue/view/45',\n",
       " 'https://perfilesla.flacso.edu.mx/index.php/perfilesla/issue/view/46',\n",
       " 'https://perfilesla.flacso.edu.mx/index.php/perfilesla/issue/view/47']"
      ]
     },
     "execution_count": 53,
     "metadata": {},
     "output_type": "execute_result"
    }
   ],
   "source": [
    "box = soup.find('div', class_='page page_issue_archive')\n",
    "volumen=box.findAll('div', class_='card obj_issue_summary')\n",
    "vol = [x.find('a').get('href')for x in volumen]\n",
    "vol=[urljoin(url_root,i) for i in vol]\n",
    "vol"
   ]
  },
  {
   "cell_type": "code",
   "execution_count": 54,
   "id": "adb6bff9-9879-452a-88dc-dddc56c0e533",
   "metadata": {},
   "outputs": [],
   "source": [
    "def get_url_items(sopa, url): \n",
    "    box = soup.find('div', class_='page page_issue_archive')\n",
    "    volumen=box.findAll('div', class_='card obj_issue_summary')\n",
    "    vol = [x.find('a').get('href')for x in volumen]\n",
    "    vol=[urljoin(url_root,i) for i in vol]\n",
    "    return vol"
   ]
  },
  {
   "cell_type": "code",
   "execution_count": 55,
   "id": "b2dbb0a0-d466-41d3-9fd5-2a2120c9360a",
   "metadata": {},
   "outputs": [
    {
     "name": "stdout",
     "output_type": "stream",
     "text": [
      "Estoy en la pagina https://perfilesla.flacso.edu.mx/index.php/perfilesla/issue/archive/3\n"
     ]
    }
   ],
   "source": [
    "links_items=[]\n",
    "i=0\n",
    "while i<1:\n",
    "    i+=1\n",
    "    print(f'Estoy en la pagina {url_inicial}')\n",
    "    r_pag=requests.get(url_inicial)\n",
    "    s_p=BeautifulSoup(r_pag.text,'html.parser')\n",
    "    links=get_url_items(s_p, url_inicial)\n",
    "    links_items.append(links) \n",
    "    next_a=s_p.select('div.cmp_pagination > a')\n",
    "    if not next_a or not next_a[0].get('href'):\n",
    "        break\n",
    "    url_inicial = urljoin(url_inicial, next_a[0].get('href'))"
   ]
  },
  {
   "cell_type": "code",
   "execution_count": 56,
   "id": "e72e9848-3b77-4086-b603-8d7ac211ae30",
   "metadata": {},
   "outputs": [
    {
     "data": {
      "text/plain": [
       "9"
      ]
     },
     "execution_count": 56,
     "metadata": {},
     "output_type": "execute_result"
    }
   ],
   "source": [
    "list_scraper=[]\n",
    "for i in links_items:\n",
    "    for j in i:\n",
    "        list_scraper.append(j)\n",
    "len(list_scraper)"
   ]
  },
  {
   "cell_type": "code",
   "execution_count": 57,
   "id": "d0e5dfd6-c9fe-400e-81ac-e30d3938bc7e",
   "metadata": {},
   "outputs": [],
   "source": [
    "uno=list_scraper[0]\n",
    "r_item=requests.get(uno)\n",
    "s_item=BeautifulSoup(r_item.text, 'html.parser')"
   ]
  },
  {
   "cell_type": "code",
   "execution_count": 58,
   "id": "d16b421f-54cd-4202-b2a7-cc71afc0b6a6",
   "metadata": {},
   "outputs": [],
   "source": [
    "#funcion para iniciar el escraper de cada libro\n",
    "def scraper_book(url):\n",
    "    content_book={}\n",
    "    r=requests.get(url)\n",
    "    tire='Perfiles Latinoamericanos'\n",
    "    a='V. Ciencias Sociales'\n",
    "    tem='Ciencia Política; Sociología; Economía, Políticas Públicas; Educación; Población y Desarrollo'\n",
    "    url='http://perfilesla.flacso.edu.mx/index.php/perfilesla/index'\n",
    "    s_item=BeautifulSoup(r.text,'html.parser')\n",
    "    #titulo de revista\n",
    "    try:\n",
    "        titulo=tire\n",
    "        content_book['Titulo de revista']=tire\n",
    "    except AttributeError:\n",
    "        content_book['Titulo de revista']=None\n",
    "    #area\n",
    "    try:\n",
    "        area=a\n",
    "        content_book['Área']=a\n",
    "    except AttributeError:\n",
    "        content_book['Área']=None\n",
    "    #tematica\n",
    "    try:\n",
    "        tema=tem\n",
    "        content_book['Temática']=tem\n",
    "    except AttributeError:\n",
    "        content_book['Temática']=None\n",
    "    #titulo libro\n",
    "    try:\n",
    "        titu=s_item.find('li', class_='breadcrumb-item active').get_text(strip=True)\n",
    "        content_book['Titulo del libro']=titu\n",
    "    except AttributeError:\n",
    "        content_book['Titulo del libro']=None\n",
    "    #resumen\n",
    "    try:\n",
    "        resu=s_item.find('div', class_='journal-logo div_imagen_banner').get_text(strip=True)\n",
    "        content_book['Resumen']=resu\n",
    "    except AttributeError:\n",
    "        content_book['Resumen']=None\n",
    "    #Link incial\n",
    "    try:\n",
    "        inicial=url\n",
    "        content_book['Link inicial']=url\n",
    "    except AttributeError:\n",
    "        content_book['Link inicial']=None\n",
    "    #link articulo\n",
    "    try:\n",
    "        link=s_item.find('div', class_='card one-article-intoc').get('href')\n",
    "        content_book['Link articulo']=urljoin(url_root, link)\n",
    "    except AttributeError:\n",
    "        content_book['Link articulo']=None\n",
    "    return content_book"
   ]
  },
  {
   "cell_type": "code",
   "execution_count": 59,
   "id": "141fd22c-c8b5-446e-85aa-5e000ea567ad",
   "metadata": {},
   "outputs": [
    {
     "name": "stdout",
     "output_type": "stream",
     "text": [
      "estas escrapeando la pag 0\n",
      "estas escrapeando la pag 1\n",
      "estas escrapeando la pag 2\n",
      "estas escrapeando la pag 3\n",
      "estas escrapeando la pag 4\n",
      "estas escrapeando la pag 5\n",
      "estas escrapeando la pag 6\n",
      "estas escrapeando la pag 7\n",
      "estas escrapeando la pag 8\n"
     ]
    }
   ],
   "source": [
    "list_scraper=list_scraper[0:9]\n",
    "datos_book=[]\n",
    "for idx, i in enumerate(list_scraper):\n",
    "    print(f'estas escrapeando la pag {idx}')\n",
    "    datos_book.append(scraper_book(i))"
   ]
  },
  {
   "cell_type": "code",
   "execution_count": 60,
   "id": "02b3491b-0ac4-4e01-8ee4-808a1d3d80f4",
   "metadata": {},
   "outputs": [
    {
     "data": {
      "text/html": [
       "<div>\n",
       "<style scoped>\n",
       "    .dataframe tbody tr th:only-of-type {\n",
       "        vertical-align: middle;\n",
       "    }\n",
       "\n",
       "    .dataframe tbody tr th {\n",
       "        vertical-align: top;\n",
       "    }\n",
       "\n",
       "    .dataframe thead th {\n",
       "        text-align: right;\n",
       "    }\n",
       "</style>\n",
       "<table border=\"1\" class=\"dataframe\">\n",
       "  <thead>\n",
       "    <tr style=\"text-align: right;\">\n",
       "      <th></th>\n",
       "      <th>Titulo de revista</th>\n",
       "      <th>Área</th>\n",
       "      <th>Temática</th>\n",
       "      <th>Titulo del libro</th>\n",
       "      <th>Resumen</th>\n",
       "      <th>Link inicial</th>\n",
       "      <th>Link articulo</th>\n",
       "    </tr>\n",
       "  </thead>\n",
       "  <tbody>\n",
       "    <tr>\n",
       "      <th>0</th>\n",
       "      <td>Perfiles Latinoamericanos</td>\n",
       "      <td>V. Ciencias Sociales</td>\n",
       "      <td>Ciencia Política; Sociología; Economía, Políti...</td>\n",
       "      <td>Vol. 5 Núm. 9 (1996)</td>\n",
       "      <td>None</td>\n",
       "      <td>http://perfilesla.flacso.edu.mx/index.php/perf...</td>\n",
       "      <td>https://perfilesla.flacso.edu.mx/index.php/per...</td>\n",
       "    </tr>\n",
       "    <tr>\n",
       "      <th>1</th>\n",
       "      <td>Perfiles Latinoamericanos</td>\n",
       "      <td>V. Ciencias Sociales</td>\n",
       "      <td>Ciencia Política; Sociología; Economía, Políti...</td>\n",
       "      <td>Vol. 5 Núm. 8 (1996)</td>\n",
       "      <td>None</td>\n",
       "      <td>http://perfilesla.flacso.edu.mx/index.php/perf...</td>\n",
       "      <td>https://perfilesla.flacso.edu.mx/index.php/per...</td>\n",
       "    </tr>\n",
       "    <tr>\n",
       "      <th>2</th>\n",
       "      <td>Perfiles Latinoamericanos</td>\n",
       "      <td>V. Ciencias Sociales</td>\n",
       "      <td>Ciencia Política; Sociología; Economía, Políti...</td>\n",
       "      <td>Vol. 4 Núm. 7 (1995)</td>\n",
       "      <td>None</td>\n",
       "      <td>http://perfilesla.flacso.edu.mx/index.php/perf...</td>\n",
       "      <td>https://perfilesla.flacso.edu.mx/index.php/per...</td>\n",
       "    </tr>\n",
       "    <tr>\n",
       "      <th>3</th>\n",
       "      <td>Perfiles Latinoamericanos</td>\n",
       "      <td>V. Ciencias Sociales</td>\n",
       "      <td>Ciencia Política; Sociología; Economía, Políti...</td>\n",
       "      <td>Vol. 4 Núm. 6 (1995)</td>\n",
       "      <td>None</td>\n",
       "      <td>http://perfilesla.flacso.edu.mx/index.php/perf...</td>\n",
       "      <td>https://perfilesla.flacso.edu.mx/index.php/per...</td>\n",
       "    </tr>\n",
       "    <tr>\n",
       "      <th>4</th>\n",
       "      <td>Perfiles Latinoamericanos</td>\n",
       "      <td>V. Ciencias Sociales</td>\n",
       "      <td>Ciencia Política; Sociología; Economía, Políti...</td>\n",
       "      <td>Vol. 3 Núm. 5 (1994)</td>\n",
       "      <td>None</td>\n",
       "      <td>http://perfilesla.flacso.edu.mx/index.php/perf...</td>\n",
       "      <td>https://perfilesla.flacso.edu.mx/index.php/per...</td>\n",
       "    </tr>\n",
       "    <tr>\n",
       "      <th>5</th>\n",
       "      <td>Perfiles Latinoamericanos</td>\n",
       "      <td>V. Ciencias Sociales</td>\n",
       "      <td>Ciencia Política; Sociología; Economía, Políti...</td>\n",
       "      <td>Vol. 3 Núm. 4 (1994)</td>\n",
       "      <td>None</td>\n",
       "      <td>http://perfilesla.flacso.edu.mx/index.php/perf...</td>\n",
       "      <td>https://perfilesla.flacso.edu.mx/index.php/per...</td>\n",
       "    </tr>\n",
       "    <tr>\n",
       "      <th>6</th>\n",
       "      <td>Perfiles Latinoamericanos</td>\n",
       "      <td>V. Ciencias Sociales</td>\n",
       "      <td>Ciencia Política; Sociología; Economía, Políti...</td>\n",
       "      <td>Vol. 2 Núm. 3 (1993)</td>\n",
       "      <td>None</td>\n",
       "      <td>http://perfilesla.flacso.edu.mx/index.php/perf...</td>\n",
       "      <td>https://perfilesla.flacso.edu.mx/index.php/per...</td>\n",
       "    </tr>\n",
       "    <tr>\n",
       "      <th>7</th>\n",
       "      <td>Perfiles Latinoamericanos</td>\n",
       "      <td>V. Ciencias Sociales</td>\n",
       "      <td>Ciencia Política; Sociología; Economía, Políti...</td>\n",
       "      <td>Vol. 2 Núm. 2 (1993)</td>\n",
       "      <td>None</td>\n",
       "      <td>http://perfilesla.flacso.edu.mx/index.php/perf...</td>\n",
       "      <td>https://perfilesla.flacso.edu.mx/index.php/per...</td>\n",
       "    </tr>\n",
       "    <tr>\n",
       "      <th>8</th>\n",
       "      <td>Perfiles Latinoamericanos</td>\n",
       "      <td>V. Ciencias Sociales</td>\n",
       "      <td>Ciencia Política; Sociología; Economía, Políti...</td>\n",
       "      <td>Vol. 1 Núm. 1 (1992)</td>\n",
       "      <td>None</td>\n",
       "      <td>http://perfilesla.flacso.edu.mx/index.php/perf...</td>\n",
       "      <td>https://perfilesla.flacso.edu.mx/index.php/per...</td>\n",
       "    </tr>\n",
       "  </tbody>\n",
       "</table>\n",
       "</div>"
      ],
      "text/plain": [
       "           Titulo de revista                  Área  \\\n",
       "0  Perfiles Latinoamericanos  V. Ciencias Sociales   \n",
       "1  Perfiles Latinoamericanos  V. Ciencias Sociales   \n",
       "2  Perfiles Latinoamericanos  V. Ciencias Sociales   \n",
       "3  Perfiles Latinoamericanos  V. Ciencias Sociales   \n",
       "4  Perfiles Latinoamericanos  V. Ciencias Sociales   \n",
       "5  Perfiles Latinoamericanos  V. Ciencias Sociales   \n",
       "6  Perfiles Latinoamericanos  V. Ciencias Sociales   \n",
       "7  Perfiles Latinoamericanos  V. Ciencias Sociales   \n",
       "8  Perfiles Latinoamericanos  V. Ciencias Sociales   \n",
       "\n",
       "                                            Temática      Titulo del libro  \\\n",
       "0  Ciencia Política; Sociología; Economía, Políti...  Vol. 5 Núm. 9 (1996)   \n",
       "1  Ciencia Política; Sociología; Economía, Políti...  Vol. 5 Núm. 8 (1996)   \n",
       "2  Ciencia Política; Sociología; Economía, Políti...  Vol. 4 Núm. 7 (1995)   \n",
       "3  Ciencia Política; Sociología; Economía, Políti...  Vol. 4 Núm. 6 (1995)   \n",
       "4  Ciencia Política; Sociología; Economía, Políti...  Vol. 3 Núm. 5 (1994)   \n",
       "5  Ciencia Política; Sociología; Economía, Políti...  Vol. 3 Núm. 4 (1994)   \n",
       "6  Ciencia Política; Sociología; Economía, Políti...  Vol. 2 Núm. 3 (1993)   \n",
       "7  Ciencia Política; Sociología; Economía, Políti...  Vol. 2 Núm. 2 (1993)   \n",
       "8  Ciencia Política; Sociología; Economía, Políti...  Vol. 1 Núm. 1 (1992)   \n",
       "\n",
       "  Resumen                                       Link inicial  \\\n",
       "0    None  http://perfilesla.flacso.edu.mx/index.php/perf...   \n",
       "1    None  http://perfilesla.flacso.edu.mx/index.php/perf...   \n",
       "2    None  http://perfilesla.flacso.edu.mx/index.php/perf...   \n",
       "3    None  http://perfilesla.flacso.edu.mx/index.php/perf...   \n",
       "4    None  http://perfilesla.flacso.edu.mx/index.php/perf...   \n",
       "5    None  http://perfilesla.flacso.edu.mx/index.php/perf...   \n",
       "6    None  http://perfilesla.flacso.edu.mx/index.php/perf...   \n",
       "7    None  http://perfilesla.flacso.edu.mx/index.php/perf...   \n",
       "8    None  http://perfilesla.flacso.edu.mx/index.php/perf...   \n",
       "\n",
       "                                       Link articulo  \n",
       "0  https://perfilesla.flacso.edu.mx/index.php/per...  \n",
       "1  https://perfilesla.flacso.edu.mx/index.php/per...  \n",
       "2  https://perfilesla.flacso.edu.mx/index.php/per...  \n",
       "3  https://perfilesla.flacso.edu.mx/index.php/per...  \n",
       "4  https://perfilesla.flacso.edu.mx/index.php/per...  \n",
       "5  https://perfilesla.flacso.edu.mx/index.php/per...  \n",
       "6  https://perfilesla.flacso.edu.mx/index.php/per...  \n",
       "7  https://perfilesla.flacso.edu.mx/index.php/per...  \n",
       "8  https://perfilesla.flacso.edu.mx/index.php/per...  "
      ]
     },
     "execution_count": 60,
     "metadata": {},
     "output_type": "execute_result"
    }
   ],
   "source": [
    "df_catalogo=pd.DataFrame(datos_book)\n",
    "df_catalogo"
   ]
  },
  {
   "cell_type": "code",
   "execution_count": 61,
   "id": "c883f53e-0e10-45c5-baca-87abf2d80000",
   "metadata": {},
   "outputs": [],
   "source": [
    "df_catalogo.to_csv('Revista21.3.csv', index=False)"
   ]
  },
  {
   "cell_type": "code",
   "execution_count": null,
   "id": "3eaf2a53-995e-428d-afab-bb6ada1359fc",
   "metadata": {},
   "outputs": [],
   "source": []
  }
 ],
 "metadata": {
  "kernelspec": {
   "display_name": "Python 3 (ipykernel)",
   "language": "python",
   "name": "python3"
  },
  "language_info": {
   "codemirror_mode": {
    "name": "ipython",
    "version": 3
   },
   "file_extension": ".py",
   "mimetype": "text/x-python",
   "name": "python",
   "nbconvert_exporter": "python",
   "pygments_lexer": "ipython3",
   "version": "3.10.4"
  }
 },
 "nbformat": 4,
 "nbformat_minor": 5
}
