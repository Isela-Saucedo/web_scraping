{
 "cells": [
  {
   "cell_type": "code",
   "execution_count": 1,
   "id": "d4326137-203c-4c8e-add7-60b122a5955b",
   "metadata": {},
   "outputs": [],
   "source": [
    "import requests\n",
    "import bs4\n",
    "from bs4 import BeautifulSoup\n",
    "from urllib.parse import urljoin\n",
    "import pandas as pd"
   ]
  },
  {
   "cell_type": "code",
   "execution_count": 13,
   "id": "8c42dbd1-ff66-42c5-8447-68987cfebc5f",
   "metadata": {},
   "outputs": [],
   "source": [
    "url_inicial = 'http://culturales.uabc.mx/index.php/Culturales/issue/archive/2'\n",
    "url_root = 'http://culturales.uabc.mx/index.php/Culturales/issue/archive/2'\n",
    "r=requests.get(url_inicial)"
   ]
  },
  {
   "cell_type": "code",
   "execution_count": 14,
   "id": "449a9433-6cf4-4fe0-b7ab-fc8f9c95c5d6",
   "metadata": {},
   "outputs": [],
   "source": [
    "soup = BeautifulSoup(r.text, 'html.parser')"
   ]
  },
  {
   "cell_type": "code",
   "execution_count": 15,
   "id": "9e73d6cd-19b5-4184-a7e8-d4643b09b8dd",
   "metadata": {},
   "outputs": [
    {
     "data": {
      "text/plain": [
       "['http://culturales.uabc.mx/index.php/Culturales/issue/view/12',\n",
       " 'http://culturales.uabc.mx/index.php/Culturales/issue/view/14',\n",
       " 'http://culturales.uabc.mx/index.php/Culturales/issue/view/10',\n",
       " 'http://culturales.uabc.mx/index.php/Culturales/issue/view/9',\n",
       " 'http://culturales.uabc.mx/index.php/Culturales/issue/view/8',\n",
       " 'http://culturales.uabc.mx/index.php/Culturales/issue/view/7',\n",
       " 'http://culturales.uabc.mx/index.php/Culturales/issue/view/6',\n",
       " 'http://culturales.uabc.mx/index.php/Culturales/issue/view/5',\n",
       " 'http://culturales.uabc.mx/index.php/Culturales/issue/view/4',\n",
       " 'http://culturales.uabc.mx/index.php/Culturales/issue/view/3',\n",
       " 'http://culturales.uabc.mx/index.php/Culturales/issue/view/2']"
      ]
     },
     "execution_count": 15,
     "metadata": {},
     "output_type": "execute_result"
    }
   ],
   "source": [
    "box = soup.find('ul', class_='issues_archive')\n",
    "volumen=box.findAll('div', class_='obj_issue_summary')\n",
    "vol = [x.find('a').get('href')for x in volumen]\n",
    "vol=[urljoin(url_root,i) for i in vol]\n",
    "vol"
   ]
  },
  {
   "cell_type": "code",
   "execution_count": 16,
   "id": "dc747d8a-4cdc-4097-bd19-3319d30b4506",
   "metadata": {},
   "outputs": [],
   "source": [
    "def get_url_items(sopa, url): \n",
    "    box = soup.find('ul', class_='issues_archive')\n",
    "    volumen=box.findAll('div', class_='obj_issue_summary')\n",
    "    vol = [x.find('a').get('href')for x in volumen]\n",
    "    vol=[urljoin(url_root,i) for i in vol]\n",
    "    return vol"
   ]
  },
  {
   "cell_type": "code",
   "execution_count": 17,
   "id": "0816b38d-b35e-4607-be89-c6052601eb28",
   "metadata": {},
   "outputs": [
    {
     "name": "stdout",
     "output_type": "stream",
     "text": [
      "Estoy en la pagina http://culturales.uabc.mx/index.php/Culturales/issue/archive/2\n"
     ]
    }
   ],
   "source": [
    "links_items=[]\n",
    "i=0\n",
    "while i<1:\n",
    "    i+=1\n",
    "    print(f'Estoy en la pagina {url_inicial}')\n",
    "    r_pag=requests.get(url_inicial)\n",
    "    s_p=BeautifulSoup(r_pag.text,'html.parser')\n",
    "    links=get_url_items(s_p, url_inicial)\n",
    "    links_items.append(links)"
   ]
  },
  {
   "cell_type": "code",
   "execution_count": 18,
   "id": "ea2773b5-de65-40e4-885e-aab5917be849",
   "metadata": {},
   "outputs": [
    {
     "data": {
      "text/plain": [
       "11"
      ]
     },
     "execution_count": 18,
     "metadata": {},
     "output_type": "execute_result"
    }
   ],
   "source": [
    "list_scraper=[]\n",
    "for i in links_items:\n",
    "    for j in i:\n",
    "        list_scraper.append(j)\n",
    "len(list_scraper)"
   ]
  },
  {
   "cell_type": "code",
   "execution_count": 19,
   "id": "2bb6408d-dced-408d-8e1c-16c8c8bc9fd8",
   "metadata": {},
   "outputs": [],
   "source": [
    "uno=list_scraper[0]\n",
    "r_item=requests.get(uno)\n",
    "s_item=BeautifulSoup(r_item.text, 'html.parser')"
   ]
  },
  {
   "cell_type": "code",
   "execution_count": 20,
   "id": "ecfed8d8-555b-484d-a97e-41fb230737ce",
   "metadata": {},
   "outputs": [],
   "source": [
    "#funcion para iniciar el escraper de cada libro\n",
    "def scraper_book(url):\n",
    "    content_book={}\n",
    "    r=requests.get(url)\n",
    "    tire='Culturales'\n",
    "    a='IV. Humanidades y Ciencias de la Conducta'\n",
    "    tem='Estudios Culturales'\n",
    "    url='http://culturales.uabc.mx'\n",
    "    s_item=BeautifulSoup(r.text,'html.parser')\n",
    "    #titulo de revista\n",
    "    try:\n",
    "        titulo=tire\n",
    "        content_book['Titulo de revista']=tire\n",
    "    except AttributeError:\n",
    "        content_book['Titulo de revista']=None\n",
    "    #area\n",
    "    try:\n",
    "        area=a\n",
    "        content_book['Área']=a\n",
    "    except AttributeError:\n",
    "        content_book['Área']=None\n",
    "    #tematica\n",
    "    try:\n",
    "        tema=tem\n",
    "        content_book['Temática']=tem\n",
    "    except AttributeError:\n",
    "        content_book['Temática']=None\n",
    "    #titulo libro\n",
    "    try:\n",
    "        titu=s_item.find('h3', class_='title').get_text(strip=True)\n",
    "        content_book['Titulo del libro']=titu\n",
    "    except AttributeError:\n",
    "        content_book['Titulo del libro']=None\n",
    "    #resumen\n",
    "    try:\n",
    "        resu=s_item.find('a', class_='cover').get_text(strip=True)\n",
    "        content_book['Resumen']=resu\n",
    "    except AttributeError:\n",
    "        content_book['Resumen']=None\n",
    "    #Link incial\n",
    "    try:\n",
    "        inicial=url\n",
    "        content_book['Link inicial']=url\n",
    "    except AttributeError:\n",
    "        content_book['Link inicial']=None\n",
    "    #link articulo\n",
    "    try:\n",
    "        link=s_item.find('a', class_='obj_galley_link pdf').get('href')\n",
    "        content_book['Link articulo']=urljoin(url_root, link)\n",
    "    except AttributeError:\n",
    "        content_book['Link articulo']=None\n",
    "    return content_book"
   ]
  },
  {
   "cell_type": "code",
   "execution_count": 21,
   "id": "b156f534-21dd-45ad-977e-3bc509e8338d",
   "metadata": {},
   "outputs": [
    {
     "name": "stdout",
     "output_type": "stream",
     "text": [
      "estas escrapeando la pag 0\n",
      "estas escrapeando la pag 1\n",
      "estas escrapeando la pag 2\n",
      "estas escrapeando la pag 3\n",
      "estas escrapeando la pag 4\n",
      "estas escrapeando la pag 5\n",
      "estas escrapeando la pag 6\n",
      "estas escrapeando la pag 7\n",
      "estas escrapeando la pag 8\n",
      "estas escrapeando la pag 9\n",
      "estas escrapeando la pag 10\n"
     ]
    }
   ],
   "source": [
    "list_scraper=list_scraper[0:20]\n",
    "datos_book=[]\n",
    "for idx, i in enumerate(list_scraper):\n",
    "    print(f'estas escrapeando la pag {idx}')\n",
    "    datos_book.append(scraper_book(i))"
   ]
  },
  {
   "cell_type": "code",
   "execution_count": 22,
   "id": "90a2843f-312a-4bc4-af2d-337504ccda96",
   "metadata": {},
   "outputs": [
    {
     "data": {
      "text/html": [
       "<div>\n",
       "<style scoped>\n",
       "    .dataframe tbody tr th:only-of-type {\n",
       "        vertical-align: middle;\n",
       "    }\n",
       "\n",
       "    .dataframe tbody tr th {\n",
       "        vertical-align: top;\n",
       "    }\n",
       "\n",
       "    .dataframe thead th {\n",
       "        text-align: right;\n",
       "    }\n",
       "</style>\n",
       "<table border=\"1\" class=\"dataframe\">\n",
       "  <thead>\n",
       "    <tr style=\"text-align: right;\">\n",
       "      <th></th>\n",
       "      <th>Titulo de revista</th>\n",
       "      <th>Área</th>\n",
       "      <th>Temática</th>\n",
       "      <th>Titulo del libro</th>\n",
       "      <th>Resumen</th>\n",
       "      <th>Link inicial</th>\n",
       "      <th>Link articulo</th>\n",
       "    </tr>\n",
       "  </thead>\n",
       "  <tbody>\n",
       "    <tr>\n",
       "      <th>0</th>\n",
       "      <td>Culturales</td>\n",
       "      <td>IV. Humanidades y Ciencias de la Conducta</td>\n",
       "      <td>Estudios Culturales</td>\n",
       "      <td>No soy mexicano, soy de Tijuana: juventud e id...</td>\n",
       "      <td></td>\n",
       "      <td>http://culturales.uabc.mx</td>\n",
       "      <td>http://culturales.uabc.mx/index.php/Culturales...</td>\n",
       "    </tr>\n",
       "    <tr>\n",
       "      <th>1</th>\n",
       "      <td>Culturales</td>\n",
       "      <td>IV. Humanidades y Ciencias de la Conducta</td>\n",
       "      <td>Estudios Culturales</td>\n",
       "      <td>Consumo de bienes culturales: reflexiones sobr...</td>\n",
       "      <td></td>\n",
       "      <td>http://culturales.uabc.mx</td>\n",
       "      <td>http://culturales.uabc.mx/index.php/Culturales...</td>\n",
       "    </tr>\n",
       "    <tr>\n",
       "      <th>2</th>\n",
       "      <td>Culturales</td>\n",
       "      <td>IV. Humanidades y Ciencias de la Conducta</td>\n",
       "      <td>Estudios Culturales</td>\n",
       "      <td>Más allá de la sociología: Sobre catástrofes, ...</td>\n",
       "      <td></td>\n",
       "      <td>http://culturales.uabc.mx</td>\n",
       "      <td>http://culturales.uabc.mx/index.php/Culturales...</td>\n",
       "    </tr>\n",
       "    <tr>\n",
       "      <th>3</th>\n",
       "      <td>Culturales</td>\n",
       "      <td>IV. Humanidades y Ciencias de la Conducta</td>\n",
       "      <td>Estudios Culturales</td>\n",
       "      <td>El suspenso del melodrama: Entre modelos narra...</td>\n",
       "      <td></td>\n",
       "      <td>http://culturales.uabc.mx</td>\n",
       "      <td>http://culturales.uabc.mx/index.php/Culturales...</td>\n",
       "    </tr>\n",
       "    <tr>\n",
       "      <th>4</th>\n",
       "      <td>Culturales</td>\n",
       "      <td>IV. Humanidades y Ciencias de la Conducta</td>\n",
       "      <td>Estudios Culturales</td>\n",
       "      <td>Identidades sociales en jóvenes de sectores po...</td>\n",
       "      <td></td>\n",
       "      <td>http://culturales.uabc.mx</td>\n",
       "      <td>http://culturales.uabc.mx/index.php/Culturales...</td>\n",
       "    </tr>\n",
       "    <tr>\n",
       "      <th>5</th>\n",
       "      <td>Culturales</td>\n",
       "      <td>IV. Humanidades y Ciencias de la Conducta</td>\n",
       "      <td>Estudios Culturales</td>\n",
       "      <td>La subsunción simbólica</td>\n",
       "      <td></td>\n",
       "      <td>http://culturales.uabc.mx</td>\n",
       "      <td>http://culturales.uabc.mx/index.php/Culturales...</td>\n",
       "    </tr>\n",
       "    <tr>\n",
       "      <th>6</th>\n",
       "      <td>Culturales</td>\n",
       "      <td>IV. Humanidades y Ciencias de la Conducta</td>\n",
       "      <td>Estudios Culturales</td>\n",
       "      <td>El desierto como territorio, paisaje y referen...</td>\n",
       "      <td></td>\n",
       "      <td>http://culturales.uabc.mx</td>\n",
       "      <td>http://culturales.uabc.mx/index.php/Culturales...</td>\n",
       "    </tr>\n",
       "    <tr>\n",
       "      <th>7</th>\n",
       "      <td>Culturales</td>\n",
       "      <td>IV. Humanidades y Ciencias de la Conducta</td>\n",
       "      <td>Estudios Culturales</td>\n",
       "      <td>Nosotros y los otros. Una aproximación reflexiva</td>\n",
       "      <td></td>\n",
       "      <td>http://culturales.uabc.mx</td>\n",
       "      <td>http://culturales.uabc.mx/index.php/Culturales...</td>\n",
       "    </tr>\n",
       "    <tr>\n",
       "      <th>8</th>\n",
       "      <td>Culturales</td>\n",
       "      <td>IV. Humanidades y Ciencias de la Conducta</td>\n",
       "      <td>Estudios Culturales</td>\n",
       "      <td>La “gente del desierto” en el norte de Sonora</td>\n",
       "      <td></td>\n",
       "      <td>http://culturales.uabc.mx</td>\n",
       "      <td>http://culturales.uabc.mx/index.php/Culturales...</td>\n",
       "    </tr>\n",
       "    <tr>\n",
       "      <th>9</th>\n",
       "      <td>Culturales</td>\n",
       "      <td>IV. Humanidades y Ciencias de la Conducta</td>\n",
       "      <td>Estudios Culturales</td>\n",
       "      <td>La inscripción de la ley en los cuerpos: un re...</td>\n",
       "      <td></td>\n",
       "      <td>http://culturales.uabc.mx</td>\n",
       "      <td>http://culturales.uabc.mx/index.php/Culturales...</td>\n",
       "    </tr>\n",
       "    <tr>\n",
       "      <th>10</th>\n",
       "      <td>Culturales</td>\n",
       "      <td>IV. Humanidades y Ciencias de la Conducta</td>\n",
       "      <td>Estudios Culturales</td>\n",
       "      <td>Sobre comunicología y comunicometodología. Pri...</td>\n",
       "      <td></td>\n",
       "      <td>http://culturales.uabc.mx</td>\n",
       "      <td>http://culturales.uabc.mx/index.php/Culturales...</td>\n",
       "    </tr>\n",
       "  </tbody>\n",
       "</table>\n",
       "</div>"
      ],
      "text/plain": [
       "   Titulo de revista                                       Área  \\\n",
       "0         Culturales  IV. Humanidades y Ciencias de la Conducta   \n",
       "1         Culturales  IV. Humanidades y Ciencias de la Conducta   \n",
       "2         Culturales  IV. Humanidades y Ciencias de la Conducta   \n",
       "3         Culturales  IV. Humanidades y Ciencias de la Conducta   \n",
       "4         Culturales  IV. Humanidades y Ciencias de la Conducta   \n",
       "5         Culturales  IV. Humanidades y Ciencias de la Conducta   \n",
       "6         Culturales  IV. Humanidades y Ciencias de la Conducta   \n",
       "7         Culturales  IV. Humanidades y Ciencias de la Conducta   \n",
       "8         Culturales  IV. Humanidades y Ciencias de la Conducta   \n",
       "9         Culturales  IV. Humanidades y Ciencias de la Conducta   \n",
       "10        Culturales  IV. Humanidades y Ciencias de la Conducta   \n",
       "\n",
       "               Temática                                   Titulo del libro  \\\n",
       "0   Estudios Culturales  No soy mexicano, soy de Tijuana: juventud e id...   \n",
       "1   Estudios Culturales  Consumo de bienes culturales: reflexiones sobr...   \n",
       "2   Estudios Culturales  Más allá de la sociología: Sobre catástrofes, ...   \n",
       "3   Estudios Culturales  El suspenso del melodrama: Entre modelos narra...   \n",
       "4   Estudios Culturales  Identidades sociales en jóvenes de sectores po...   \n",
       "5   Estudios Culturales                            La subsunción simbólica   \n",
       "6   Estudios Culturales  El desierto como territorio, paisaje y referen...   \n",
       "7   Estudios Culturales   Nosotros y los otros. Una aproximación reflexiva   \n",
       "8   Estudios Culturales      La “gente del desierto” en el norte de Sonora   \n",
       "9   Estudios Culturales  La inscripción de la ley en los cuerpos: un re...   \n",
       "10  Estudios Culturales  Sobre comunicología y comunicometodología. Pri...   \n",
       "\n",
       "   Resumen               Link inicial  \\\n",
       "0           http://culturales.uabc.mx   \n",
       "1           http://culturales.uabc.mx   \n",
       "2           http://culturales.uabc.mx   \n",
       "3           http://culturales.uabc.mx   \n",
       "4           http://culturales.uabc.mx   \n",
       "5           http://culturales.uabc.mx   \n",
       "6           http://culturales.uabc.mx   \n",
       "7           http://culturales.uabc.mx   \n",
       "8           http://culturales.uabc.mx   \n",
       "9           http://culturales.uabc.mx   \n",
       "10          http://culturales.uabc.mx   \n",
       "\n",
       "                                        Link articulo  \n",
       "0   http://culturales.uabc.mx/index.php/Culturales...  \n",
       "1   http://culturales.uabc.mx/index.php/Culturales...  \n",
       "2   http://culturales.uabc.mx/index.php/Culturales...  \n",
       "3   http://culturales.uabc.mx/index.php/Culturales...  \n",
       "4   http://culturales.uabc.mx/index.php/Culturales...  \n",
       "5   http://culturales.uabc.mx/index.php/Culturales...  \n",
       "6   http://culturales.uabc.mx/index.php/Culturales...  \n",
       "7   http://culturales.uabc.mx/index.php/Culturales...  \n",
       "8   http://culturales.uabc.mx/index.php/Culturales...  \n",
       "9   http://culturales.uabc.mx/index.php/Culturales...  \n",
       "10  http://culturales.uabc.mx/index.php/Culturales...  "
      ]
     },
     "execution_count": 22,
     "metadata": {},
     "output_type": "execute_result"
    }
   ],
   "source": [
    "df_catalogo=pd.DataFrame(datos_book)\n",
    "df_catalogo"
   ]
  },
  {
   "cell_type": "code",
   "execution_count": 23,
   "id": "063e294d-127b-4fb6-8072-791533b743e7",
   "metadata": {},
   "outputs": [],
   "source": [
    "df_catalogo.to_csv('Revista175.02.csv', index=False)"
   ]
  },
  {
   "cell_type": "code",
   "execution_count": null,
   "id": "fb0672df-f0b7-4ca4-9469-14f9c89c3037",
   "metadata": {},
   "outputs": [],
   "source": []
  }
 ],
 "metadata": {
  "kernelspec": {
   "display_name": "Python 3 (ipykernel)",
   "language": "python",
   "name": "python3"
  },
  "language_info": {
   "codemirror_mode": {
    "name": "ipython",
    "version": 3
   },
   "file_extension": ".py",
   "mimetype": "text/x-python",
   "name": "python",
   "nbconvert_exporter": "python",
   "pygments_lexer": "ipython3",
   "version": "3.10.4"
  }
 },
 "nbformat": 4,
 "nbformat_minor": 5
}
