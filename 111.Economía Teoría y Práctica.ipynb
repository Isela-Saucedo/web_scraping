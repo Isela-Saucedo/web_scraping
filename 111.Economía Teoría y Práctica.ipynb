{
 "cells": [
  {
   "cell_type": "code",
   "execution_count": 1,
   "id": "d4326137-203c-4c8e-add7-60b122a5955b",
   "metadata": {},
   "outputs": [],
   "source": [
    "import requests\n",
    "import bs4\n",
    "from bs4 import BeautifulSoup\n",
    "from urllib.parse import urljoin\n",
    "import pandas as pd"
   ]
  },
  {
   "cell_type": "code",
   "execution_count": 23,
   "id": "8c42dbd1-ff66-42c5-8447-68987cfebc5f",
   "metadata": {},
   "outputs": [],
   "source": [
    "url_inicial = 'https://economiatyp.uam.mx/index.php/ETYP/issue/archive/2'\n",
    "url_root = 'https://economiatyp.uam.mx/index.php/ETYP/issue/archive/2'\n",
    "r=requests.get(url_inicial)"
   ]
  },
  {
   "cell_type": "code",
   "execution_count": 24,
   "id": "449a9433-6cf4-4fe0-b7ab-fc8f9c95c5d6",
   "metadata": {},
   "outputs": [],
   "source": [
    "soup = BeautifulSoup(r.text, 'html.parser')"
   ]
  },
  {
   "cell_type": "code",
   "execution_count": 25,
   "id": "9e73d6cd-19b5-4184-a7e8-d4643b09b8dd",
   "metadata": {},
   "outputs": [
    {
     "data": {
      "text/plain": [
       "['https://economiatyp.uam.mx/index.php/ETYP/issue/view/19',\n",
       " 'https://economiatyp.uam.mx/index.php/ETYP/issue/view/20',\n",
       " 'https://economiatyp.uam.mx/index.php/ETYP/issue/view/21',\n",
       " 'https://economiatyp.uam.mx/index.php/ETYP/issue/view/22',\n",
       " 'https://economiatyp.uam.mx/index.php/ETYP/issue/view/26',\n",
       " 'https://economiatyp.uam.mx/index.php/ETYP/issue/view/27',\n",
       " 'https://economiatyp.uam.mx/index.php/ETYP/issue/view/23',\n",
       " 'https://economiatyp.uam.mx/index.php/ETYP/issue/view/24',\n",
       " 'https://economiatyp.uam.mx/index.php/ETYP/issue/view/25',\n",
       " 'https://economiatyp.uam.mx/index.php/ETYP/issue/view/28',\n",
       " 'https://economiatyp.uam.mx/index.php/ETYP/issue/view/29']"
      ]
     },
     "execution_count": 25,
     "metadata": {},
     "output_type": "execute_result"
    }
   ],
   "source": [
    "lista_articulo = soup.find_all('div', class_='issue_item')\n",
    "links_libros = [x.find('a').get('href') for x in lista_articulo]\n",
    "links_libros = [urljoin (url_root, i) for i in links_libros]\n",
    "links_libros"
   ]
  },
  {
   "cell_type": "code",
   "execution_count": 26,
   "id": "dc747d8a-4cdc-4097-bd19-3319d30b4506",
   "metadata": {},
   "outputs": [],
   "source": [
    "def get_url_items(soup,url):\n",
    "    lista_articulo = soup.find_all('div', class_='issue_item')\n",
    "    links_libros = [x.find('a').get('href') for x in lista_articulo]\n",
    "    links_libros = [urljoin (url_root, i) for i in links_libros]\n",
    "    return links_libros"
   ]
  },
  {
   "cell_type": "code",
   "execution_count": 27,
   "id": "0816b38d-b35e-4607-be89-c6052601eb28",
   "metadata": {},
   "outputs": [
    {
     "name": "stdout",
     "output_type": "stream",
     "text": [
      "Estoy en la pagina https://economiatyp.uam.mx/index.php/ETYP/issue/archive/2\n"
     ]
    }
   ],
   "source": [
    "links_items=[]\n",
    "i=0\n",
    "while i<1:\n",
    "    i+=1\n",
    "    print(f'Estoy en la pagina {url_inicial}')\n",
    "    r_pag=requests.get(url_inicial)\n",
    "    s_p=BeautifulSoup(r_pag.text,'html.parser')\n",
    "    links=get_url_items(s_p, url_inicial)\n",
    "    links_items.append(links)"
   ]
  },
  {
   "cell_type": "code",
   "execution_count": 28,
   "id": "ea2773b5-de65-40e4-885e-aab5917be849",
   "metadata": {},
   "outputs": [
    {
     "data": {
      "text/plain": [
       "11"
      ]
     },
     "execution_count": 28,
     "metadata": {},
     "output_type": "execute_result"
    }
   ],
   "source": [
    "list_scraper=[]\n",
    "for i in links_items:\n",
    "    for j in i:\n",
    "        list_scraper.append(j)\n",
    "len(list_scraper)"
   ]
  },
  {
   "cell_type": "code",
   "execution_count": 29,
   "id": "2bb6408d-dced-408d-8e1c-16c8c8bc9fd8",
   "metadata": {},
   "outputs": [],
   "source": [
    "uno=list_scraper[0]\n",
    "r_item=requests.get(uno)\n",
    "s_item=BeautifulSoup(r_item.text, 'html.parser')"
   ]
  },
  {
   "cell_type": "code",
   "execution_count": 30,
   "id": "ecfed8d8-555b-484d-a97e-41fb230737ce",
   "metadata": {},
   "outputs": [],
   "source": [
    "#funcion para iniciar el escraper de cada libro\n",
    "def scraper_book(url):\n",
    "    content_book={}\n",
    "    r=requests.get(url)\n",
    "    tire='Economía: Teoría y Práctica'\n",
    "    a='V. Ciencias Sociales'\n",
    "    tem='Economía'\n",
    "    url='http://economiatyp.uam.mx/'\n",
    "    s_item=BeautifulSoup(r.text,'html.parser')\n",
    "    #titulo de revista\n",
    "    try:\n",
    "        titulo=tire\n",
    "        content_book['Titulo de revista']=tire\n",
    "    except AttributeError:\n",
    "        content_book['Titulo de revista']=None\n",
    "    #area\n",
    "    try:\n",
    "        area=a\n",
    "        content_book['Área']=a\n",
    "    except AttributeError:\n",
    "        content_book['Área']=None\n",
    "    #tematica\n",
    "    try:\n",
    "        tema=tem\n",
    "        content_book['Temática']=tem\n",
    "    except AttributeError:\n",
    "        content_book['Temática']=None\n",
    "    #titulo libro\n",
    "    try:\n",
    "        titu=s_item.find('h1', class_='text-left issue-header').get_text(strip=True)\n",
    "        content_book['Titulo del libro']=titu\n",
    "    except AttributeError:\n",
    "        content_book['Titulo del libro']=None\n",
    "    #resumen\n",
    "    try:\n",
    "        resu=s_item.find('div', class_='description_text').get_text(strip=True)\n",
    "        content_book['Resumen']=resu\n",
    "    except AttributeError:\n",
    "        content_book['Resumen']=None\n",
    "    #Link incial\n",
    "    try:\n",
    "        inicial=url\n",
    "        content_book['Link inicial']=url\n",
    "    except AttributeError:\n",
    "        content_book['Link inicial']=None\n",
    "    #link articulo\n",
    "    try:\n",
    "        link=s_item.find('a', class_='btn btn-primary galley-link obj_galley_link pdf').get('href')\n",
    "        content_book['Link articulo']=urljoin(url_root, link)\n",
    "    except AttributeError:\n",
    "        content_book['Link articulo']=None\n",
    "    return content_book"
   ]
  },
  {
   "cell_type": "code",
   "execution_count": 31,
   "id": "b156f534-21dd-45ad-977e-3bc509e8338d",
   "metadata": {},
   "outputs": [
    {
     "name": "stdout",
     "output_type": "stream",
     "text": [
      "estas escrapeando la pag 0\n",
      "estas escrapeando la pag 1\n",
      "estas escrapeando la pag 2\n",
      "estas escrapeando la pag 3\n",
      "estas escrapeando la pag 4\n",
      "estas escrapeando la pag 5\n",
      "estas escrapeando la pag 6\n",
      "estas escrapeando la pag 7\n",
      "estas escrapeando la pag 8\n",
      "estas escrapeando la pag 9\n",
      "estas escrapeando la pag 10\n"
     ]
    }
   ],
   "source": [
    "list_scraper=list_scraper[0:25]\n",
    "datos_book=[]\n",
    "for idx, i in enumerate(list_scraper):\n",
    "    print(f'estas escrapeando la pag {idx}')\n",
    "    datos_book.append(scraper_book(i))"
   ]
  },
  {
   "cell_type": "code",
   "execution_count": 32,
   "id": "90a2843f-312a-4bc4-af2d-337504ccda96",
   "metadata": {},
   "outputs": [
    {
     "data": {
      "text/html": [
       "<div>\n",
       "<style scoped>\n",
       "    .dataframe tbody tr th:only-of-type {\n",
       "        vertical-align: middle;\n",
       "    }\n",
       "\n",
       "    .dataframe tbody tr th {\n",
       "        vertical-align: top;\n",
       "    }\n",
       "\n",
       "    .dataframe thead th {\n",
       "        text-align: right;\n",
       "    }\n",
       "</style>\n",
       "<table border=\"1\" class=\"dataframe\">\n",
       "  <thead>\n",
       "    <tr style=\"text-align: right;\">\n",
       "      <th></th>\n",
       "      <th>Titulo de revista</th>\n",
       "      <th>Área</th>\n",
       "      <th>Temática</th>\n",
       "      <th>Titulo del libro</th>\n",
       "      <th>Resumen</th>\n",
       "      <th>Link inicial</th>\n",
       "      <th>Link articulo</th>\n",
       "    </tr>\n",
       "  </thead>\n",
       "  <tbody>\n",
       "    <tr>\n",
       "      <th>0</th>\n",
       "      <td>Economía: Teoría y Práctica</td>\n",
       "      <td>V. Ciencias Sociales</td>\n",
       "      <td>Economía</td>\n",
       "      <td>No 34 (2011)</td>\n",
       "      <td>None</td>\n",
       "      <td>http://economiatyp.uam.mx/</td>\n",
       "      <td>https://economiatyp.uam.mx/index.php/ETYP/arti...</td>\n",
       "    </tr>\n",
       "    <tr>\n",
       "      <th>1</th>\n",
       "      <td>Economía: Teoría y Práctica</td>\n",
       "      <td>V. Ciencias Sociales</td>\n",
       "      <td>Economía</td>\n",
       "      <td>No 33 (2010)</td>\n",
       "      <td>None</td>\n",
       "      <td>http://economiatyp.uam.mx/</td>\n",
       "      <td>https://economiatyp.uam.mx/index.php/ETYP/arti...</td>\n",
       "    </tr>\n",
       "    <tr>\n",
       "      <th>2</th>\n",
       "      <td>Economía: Teoría y Práctica</td>\n",
       "      <td>V. Ciencias Sociales</td>\n",
       "      <td>Economía</td>\n",
       "      <td>No 32 (2010)</td>\n",
       "      <td>None</td>\n",
       "      <td>http://economiatyp.uam.mx/</td>\n",
       "      <td>https://economiatyp.uam.mx/index.php/ETYP/arti...</td>\n",
       "    </tr>\n",
       "    <tr>\n",
       "      <th>3</th>\n",
       "      <td>Economía: Teoría y Práctica</td>\n",
       "      <td>V. Ciencias Sociales</td>\n",
       "      <td>Economía</td>\n",
       "      <td>No 31 (2009)</td>\n",
       "      <td>None</td>\n",
       "      <td>http://economiatyp.uam.mx/</td>\n",
       "      <td>https://economiatyp.uam.mx/index.php/ETYP/arti...</td>\n",
       "    </tr>\n",
       "    <tr>\n",
       "      <th>4</th>\n",
       "      <td>Economía: Teoría y Práctica</td>\n",
       "      <td>V. Ciencias Sociales</td>\n",
       "      <td>Economía</td>\n",
       "      <td>Vol 2 (2009): núm. especial, vol. 2</td>\n",
       "      <td>None</td>\n",
       "      <td>http://economiatyp.uam.mx/</td>\n",
       "      <td>https://economiatyp.uam.mx/index.php/ETYP/arti...</td>\n",
       "    </tr>\n",
       "    <tr>\n",
       "      <th>5</th>\n",
       "      <td>Economía: Teoría y Práctica</td>\n",
       "      <td>V. Ciencias Sociales</td>\n",
       "      <td>Economía</td>\n",
       "      <td>Vol 1 (2009): núm. especial, vol. 1</td>\n",
       "      <td>None</td>\n",
       "      <td>http://economiatyp.uam.mx/</td>\n",
       "      <td>https://economiatyp.uam.mx/index.php/ETYP/arti...</td>\n",
       "    </tr>\n",
       "    <tr>\n",
       "      <th>6</th>\n",
       "      <td>Economía: Teoría y Práctica</td>\n",
       "      <td>V. Ciencias Sociales</td>\n",
       "      <td>Economía</td>\n",
       "      <td>No 30 (2009)</td>\n",
       "      <td>None</td>\n",
       "      <td>http://economiatyp.uam.mx/</td>\n",
       "      <td>https://economiatyp.uam.mx/index.php/ETYP/arti...</td>\n",
       "    </tr>\n",
       "    <tr>\n",
       "      <th>7</th>\n",
       "      <td>Economía: Teoría y Práctica</td>\n",
       "      <td>V. Ciencias Sociales</td>\n",
       "      <td>Economía</td>\n",
       "      <td>No 29 (2008)</td>\n",
       "      <td>None</td>\n",
       "      <td>http://economiatyp.uam.mx/</td>\n",
       "      <td>https://economiatyp.uam.mx/index.php/ETYP/arti...</td>\n",
       "    </tr>\n",
       "    <tr>\n",
       "      <th>8</th>\n",
       "      <td>Economía: Teoría y Práctica</td>\n",
       "      <td>V. Ciencias Sociales</td>\n",
       "      <td>Economía</td>\n",
       "      <td>No 28 (2008)</td>\n",
       "      <td>None</td>\n",
       "      <td>http://economiatyp.uam.mx/</td>\n",
       "      <td>https://economiatyp.uam.mx/index.php/ETYP/arti...</td>\n",
       "    </tr>\n",
       "    <tr>\n",
       "      <th>9</th>\n",
       "      <td>Economía: Teoría y Práctica</td>\n",
       "      <td>V. Ciencias Sociales</td>\n",
       "      <td>Economía</td>\n",
       "      <td>No 27 (2007)</td>\n",
       "      <td>None</td>\n",
       "      <td>http://economiatyp.uam.mx/</td>\n",
       "      <td>https://economiatyp.uam.mx/index.php/ETYP/arti...</td>\n",
       "    </tr>\n",
       "    <tr>\n",
       "      <th>10</th>\n",
       "      <td>Economía: Teoría y Práctica</td>\n",
       "      <td>V. Ciencias Sociales</td>\n",
       "      <td>Economía</td>\n",
       "      <td>No 26 (2007)</td>\n",
       "      <td>None</td>\n",
       "      <td>http://economiatyp.uam.mx/</td>\n",
       "      <td>https://economiatyp.uam.mx/index.php/ETYP/arti...</td>\n",
       "    </tr>\n",
       "  </tbody>\n",
       "</table>\n",
       "</div>"
      ],
      "text/plain": [
       "              Titulo de revista                  Área  Temática  \\\n",
       "0   Economía: Teoría y Práctica  V. Ciencias Sociales  Economía   \n",
       "1   Economía: Teoría y Práctica  V. Ciencias Sociales  Economía   \n",
       "2   Economía: Teoría y Práctica  V. Ciencias Sociales  Economía   \n",
       "3   Economía: Teoría y Práctica  V. Ciencias Sociales  Economía   \n",
       "4   Economía: Teoría y Práctica  V. Ciencias Sociales  Economía   \n",
       "5   Economía: Teoría y Práctica  V. Ciencias Sociales  Economía   \n",
       "6   Economía: Teoría y Práctica  V. Ciencias Sociales  Economía   \n",
       "7   Economía: Teoría y Práctica  V. Ciencias Sociales  Economía   \n",
       "8   Economía: Teoría y Práctica  V. Ciencias Sociales  Economía   \n",
       "9   Economía: Teoría y Práctica  V. Ciencias Sociales  Economía   \n",
       "10  Economía: Teoría y Práctica  V. Ciencias Sociales  Economía   \n",
       "\n",
       "                       Titulo del libro Resumen                Link inicial  \\\n",
       "0                          No 34 (2011)    None  http://economiatyp.uam.mx/   \n",
       "1                          No 33 (2010)    None  http://economiatyp.uam.mx/   \n",
       "2                          No 32 (2010)    None  http://economiatyp.uam.mx/   \n",
       "3                          No 31 (2009)    None  http://economiatyp.uam.mx/   \n",
       "4   Vol 2 (2009): núm. especial, vol. 2    None  http://economiatyp.uam.mx/   \n",
       "5   Vol 1 (2009): núm. especial, vol. 1    None  http://economiatyp.uam.mx/   \n",
       "6                          No 30 (2009)    None  http://economiatyp.uam.mx/   \n",
       "7                          No 29 (2008)    None  http://economiatyp.uam.mx/   \n",
       "8                          No 28 (2008)    None  http://economiatyp.uam.mx/   \n",
       "9                          No 27 (2007)    None  http://economiatyp.uam.mx/   \n",
       "10                         No 26 (2007)    None  http://economiatyp.uam.mx/   \n",
       "\n",
       "                                        Link articulo  \n",
       "0   https://economiatyp.uam.mx/index.php/ETYP/arti...  \n",
       "1   https://economiatyp.uam.mx/index.php/ETYP/arti...  \n",
       "2   https://economiatyp.uam.mx/index.php/ETYP/arti...  \n",
       "3   https://economiatyp.uam.mx/index.php/ETYP/arti...  \n",
       "4   https://economiatyp.uam.mx/index.php/ETYP/arti...  \n",
       "5   https://economiatyp.uam.mx/index.php/ETYP/arti...  \n",
       "6   https://economiatyp.uam.mx/index.php/ETYP/arti...  \n",
       "7   https://economiatyp.uam.mx/index.php/ETYP/arti...  \n",
       "8   https://economiatyp.uam.mx/index.php/ETYP/arti...  \n",
       "9   https://economiatyp.uam.mx/index.php/ETYP/arti...  \n",
       "10  https://economiatyp.uam.mx/index.php/ETYP/arti...  "
      ]
     },
     "execution_count": 32,
     "metadata": {},
     "output_type": "execute_result"
    }
   ],
   "source": [
    "df_catalogo=pd.DataFrame(datos_book)\n",
    "df_catalogo"
   ]
  },
  {
   "cell_type": "code",
   "execution_count": 33,
   "id": "063e294d-127b-4fb6-8072-791533b743e7",
   "metadata": {},
   "outputs": [],
   "source": [
    "df_catalogo.to_csv('Revista111.02.csv', index=False)"
   ]
  },
  {
   "cell_type": "code",
   "execution_count": null,
   "id": "ff8be29a-2802-45fb-9ee4-e4261310f854",
   "metadata": {},
   "outputs": [],
   "source": []
  }
 ],
 "metadata": {
  "kernelspec": {
   "display_name": "Python 3 (ipykernel)",
   "language": "python",
   "name": "python3"
  },
  "language_info": {
   "codemirror_mode": {
    "name": "ipython",
    "version": 3
   },
   "file_extension": ".py",
   "mimetype": "text/x-python",
   "name": "python",
   "nbconvert_exporter": "python",
   "pygments_lexer": "ipython3",
   "version": "3.10.4"
  }
 },
 "nbformat": 4,
 "nbformat_minor": 5
}
