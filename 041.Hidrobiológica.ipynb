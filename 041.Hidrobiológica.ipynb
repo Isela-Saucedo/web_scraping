{
 "cells": [
  {
   "cell_type": "code",
   "execution_count": 1,
   "id": "1cdc4940-9b1f-4fba-9b42-838f596d77de",
   "metadata": {},
   "outputs": [],
   "source": [
    "import requests\n",
    "import bs4\n",
    "from bs4 import BeautifulSoup\n",
    "from urllib.parse import urljoin\n",
    "import pandas as pd"
   ]
  },
  {
   "cell_type": "code",
   "execution_count": 38,
   "id": "71300ecb-8eeb-4c00-8bfd-45cb43457ec2",
   "metadata": {},
   "outputs": [],
   "source": [
    "url_inicial = 'https://hidrobiologica.izt.uam.mx/index.php/revHidro/issue/archive/4'\n",
    "url_root = 'https://hidrobiologica.izt.uam.mx/index.php/revHidro/issue/archive/4'\n",
    "r=requests.get(url_inicial)"
   ]
  },
  {
   "cell_type": "code",
   "execution_count": 39,
   "id": "9f2abdaa-73c3-4803-aab3-a385000a59b6",
   "metadata": {},
   "outputs": [],
   "source": [
    "soup = BeautifulSoup(r.text, 'html.parser')"
   ]
  },
  {
   "cell_type": "code",
   "execution_count": 40,
   "id": "1dade222-f5f1-42ce-84e9-a51cd28060de",
   "metadata": {},
   "outputs": [
    {
     "data": {
      "text/plain": [
       "['https://hidrobiologica.izt.uam.mx/index.php/revHidro/issue/view/12',\n",
       " 'https://hidrobiologica.izt.uam.mx/index.php/revHidro/issue/view/11']"
      ]
     },
     "execution_count": 40,
     "metadata": {},
     "output_type": "execute_result"
    }
   ],
   "source": [
    "box = soup.find('ul', class_='issues_archive')\n",
    "volumen=box.findAll('div', class_='obj_issue_summary')\n",
    "vol = [x.find('a').get('href')for x in volumen]\n",
    "vol=[urljoin(url_root,i) for i in vol]\n",
    "vol"
   ]
  },
  {
   "cell_type": "code",
   "execution_count": 41,
   "id": "0669e0f3-27b4-4378-8413-1dec75ddd747",
   "metadata": {},
   "outputs": [],
   "source": [
    "def get_url_items(sopa, url): \n",
    "    box = soup.find('ul', class_='issues_archive')\n",
    "    volumen=box.findAll('div', class_='obj_issue_summary')\n",
    "    vol = [x.find('a').get('href')for x in volumen]\n",
    "    vol=[urljoin(url_root,i) for i in vol]\n",
    "    return vol"
   ]
  },
  {
   "cell_type": "code",
   "execution_count": 42,
   "id": "b3da789b-4909-48c5-af25-8b26059a60fe",
   "metadata": {},
   "outputs": [
    {
     "name": "stdout",
     "output_type": "stream",
     "text": [
      "Estoy en la pagina https://hidrobiologica.izt.uam.mx/index.php/revHidro/issue/archive/4\n"
     ]
    }
   ],
   "source": [
    "links_items=[]\n",
    "i=0\n",
    "while i<1:\n",
    "    i+=1\n",
    "    print(f'Estoy en la pagina {url_inicial}')\n",
    "    r_pag=requests.get(url_inicial)\n",
    "    s_p=BeautifulSoup(r_pag.text,'html.parser')\n",
    "    links=get_url_items(s_p, url_inicial)\n",
    "    links_items.append(links) "
   ]
  },
  {
   "cell_type": "code",
   "execution_count": 43,
   "id": "55a116a9-e5d9-442a-81cc-319f8b4c9980",
   "metadata": {},
   "outputs": [
    {
     "data": {
      "text/plain": [
       "2"
      ]
     },
     "execution_count": 43,
     "metadata": {},
     "output_type": "execute_result"
    }
   ],
   "source": [
    "list_scraper=[]\n",
    "for i in links_items:\n",
    "    for j in i:\n",
    "        list_scraper.append(j)\n",
    "len(list_scraper)"
   ]
  },
  {
   "cell_type": "code",
   "execution_count": 44,
   "id": "c4108d5d-13d0-4a9a-89d9-5b5a2e301911",
   "metadata": {},
   "outputs": [
    {
     "name": "stderr",
     "output_type": "stream",
     "text": [
      "\n",
      "KeyboardInterrupt\n",
      "\n"
     ]
    }
   ],
   "source": [
    "uno=list_scraper[0]\n",
    "r_item=requests.get(uno)\n",
    "s_item=BeautifulSoup(r_item.text, 'html.parser')"
   ]
  },
  {
   "cell_type": "code",
   "execution_count": null,
   "id": "206d49db-4a57-4319-9066-3be863601946",
   "metadata": {},
   "outputs": [],
   "source": [
    "#funcion para iniciar el escraper de cada libro\n",
    "def scraper_book(url):\n",
    "    content_book={}\n",
    "    r=requests.get(url)\n",
    "    tire='Hidrobiológica'\n",
    "    a='I. Físico Matemáticas y Ciencias de la Tierra'\n",
    "    tem='Recursos hidrobiológicos, aspectos fisiológicos y biológicos de los ambientes acuáticos.'\n",
    "    url='http://investigacion.izt.uam.mx/rehb/'\n",
    "    s_item=BeautifulSoup(r.text,'html.parser')\n",
    "    #titulo de revista\n",
    "    try:\n",
    "        titulo=tire\n",
    "        content_book['Titulo de revista']=tire\n",
    "    except AttributeError:\n",
    "        content_book['Titulo de revista']=None\n",
    "    #area\n",
    "    try:\n",
    "        area=a\n",
    "        content_book['Área']=a\n",
    "    except AttributeError:\n",
    "        content_book['Área']=None\n",
    "    #tematica\n",
    "    try:\n",
    "        tema=tem\n",
    "        content_book['Temática']=tem\n",
    "    except AttributeError:\n",
    "        content_book['Temática']=None\n",
    "    #titulo libro\n",
    "    try:\n",
    "        titu=s_item.find('h1').get_text(strip=True)\n",
    "        content_book['Titulo del libro']=titu\n",
    "    except AttributeError:\n",
    "        content_book['Titulo del libro']=None\n",
    "    #resumen\n",
    "    try:\n",
    "        resu=s_item.find('div', class_='description').get_text(strip=True)\n",
    "        content_book['Resumen']=resu\n",
    "    except AttributeError:\n",
    "        content_book['Resumen']=None\n",
    "    #Link incial\n",
    "    try:\n",
    "        inicial=url\n",
    "        content_book['Link inicial']=url\n",
    "    except AttributeError:\n",
    "        content_book['Link inicial']=None\n",
    "    #link articulo\n",
    "    try:\n",
    "        link=s_item.find('a', class_='obj_galley_link pdf').get('href')\n",
    "        content_book['Link articulo']=urljoin(url_root, link)\n",
    "    except AttributeError:\n",
    "        content_book['Link articulo']=None\n",
    "    return content_book"
   ]
  },
  {
   "cell_type": "code",
   "execution_count": 45,
   "id": "cccd2074-f659-4b4a-9bda-6cbecc8d486a",
   "metadata": {},
   "outputs": [
    {
     "name": "stdout",
     "output_type": "stream",
     "text": [
      "estas escrapeando la pag 0\n",
      "estas escrapeando la pag 1\n"
     ]
    }
   ],
   "source": [
    "list_scraper=list_scraper[0:2]\n",
    "datos_book=[]\n",
    "for idx, i in enumerate(list_scraper):\n",
    "    print(f'estas escrapeando la pag {idx}')\n",
    "    datos_book.append(scraper_book(i))"
   ]
  },
  {
   "cell_type": "code",
   "execution_count": 46,
   "id": "98d5231f-2118-4b54-8166-3de0b82a05ec",
   "metadata": {},
   "outputs": [
    {
     "data": {
      "text/html": [
       "<div>\n",
       "<style scoped>\n",
       "    .dataframe tbody tr th:only-of-type {\n",
       "        vertical-align: middle;\n",
       "    }\n",
       "\n",
       "    .dataframe tbody tr th {\n",
       "        vertical-align: top;\n",
       "    }\n",
       "\n",
       "    .dataframe thead th {\n",
       "        text-align: right;\n",
       "    }\n",
       "</style>\n",
       "<table border=\"1\" class=\"dataframe\">\n",
       "  <thead>\n",
       "    <tr style=\"text-align: right;\">\n",
       "      <th></th>\n",
       "      <th>Titulo de revista</th>\n",
       "      <th>Área</th>\n",
       "      <th>Temática</th>\n",
       "      <th>Titulo del libro</th>\n",
       "      <th>Resumen</th>\n",
       "      <th>Link inicial</th>\n",
       "      <th>Link articulo</th>\n",
       "    </tr>\n",
       "  </thead>\n",
       "  <tbody>\n",
       "    <tr>\n",
       "      <th>0</th>\n",
       "      <td>Hidrobiológica</td>\n",
       "      <td>I. Físico Matemáticas y Ciencias de la Tierra</td>\n",
       "      <td>Recursos hidrobiológicos, aspectos fisiológico...</td>\n",
       "      <td>Vol. 1 Núm. 2 (1992)</td>\n",
       "      <td>None</td>\n",
       "      <td>http://investigacion.izt.uam.mx/rehb/</td>\n",
       "      <td>https://hidrobiologica.izt.uam.mx/index.php/re...</td>\n",
       "    </tr>\n",
       "    <tr>\n",
       "      <th>1</th>\n",
       "      <td>Hidrobiológica</td>\n",
       "      <td>I. Físico Matemáticas y Ciencias de la Tierra</td>\n",
       "      <td>Recursos hidrobiológicos, aspectos fisiológico...</td>\n",
       "      <td>Vol. 1 Núm. 1 (1991)</td>\n",
       "      <td>None</td>\n",
       "      <td>http://investigacion.izt.uam.mx/rehb/</td>\n",
       "      <td>https://hidrobiologica.izt.uam.mx/index.php/re...</td>\n",
       "    </tr>\n",
       "  </tbody>\n",
       "</table>\n",
       "</div>"
      ],
      "text/plain": [
       "  Titulo de revista                                           Área  \\\n",
       "0    Hidrobiológica  I. Físico Matemáticas y Ciencias de la Tierra   \n",
       "1    Hidrobiológica  I. Físico Matemáticas y Ciencias de la Tierra   \n",
       "\n",
       "                                            Temática      Titulo del libro  \\\n",
       "0  Recursos hidrobiológicos, aspectos fisiológico...  Vol. 1 Núm. 2 (1992)   \n",
       "1  Recursos hidrobiológicos, aspectos fisiológico...  Vol. 1 Núm. 1 (1991)   \n",
       "\n",
       "  Resumen                           Link inicial  \\\n",
       "0    None  http://investigacion.izt.uam.mx/rehb/   \n",
       "1    None  http://investigacion.izt.uam.mx/rehb/   \n",
       "\n",
       "                                       Link articulo  \n",
       "0  https://hidrobiologica.izt.uam.mx/index.php/re...  \n",
       "1  https://hidrobiologica.izt.uam.mx/index.php/re...  "
      ]
     },
     "execution_count": 46,
     "metadata": {},
     "output_type": "execute_result"
    }
   ],
   "source": [
    "df_catalogo=pd.DataFrame(datos_book)\n",
    "df_catalogo"
   ]
  },
  {
   "cell_type": "code",
   "execution_count": 47,
   "id": "baf58c57-422c-4506-ab75-1b3f81316a9a",
   "metadata": {},
   "outputs": [],
   "source": [
    "df_catalogo.to_csv('Revista41.04.csv', index=False)"
   ]
  },
  {
   "cell_type": "code",
   "execution_count": null,
   "id": "d0103f7e-acb8-4ac1-be97-19fb40c94fea",
   "metadata": {},
   "outputs": [],
   "source": []
  }
 ],
 "metadata": {
  "kernelspec": {
   "display_name": "Python 3 (ipykernel)",
   "language": "python",
   "name": "python3"
  },
  "language_info": {
   "codemirror_mode": {
    "name": "ipython",
    "version": 3
   },
   "file_extension": ".py",
   "mimetype": "text/x-python",
   "name": "python",
   "nbconvert_exporter": "python",
   "pygments_lexer": "ipython3",
   "version": "3.10.4"
  }
 },
 "nbformat": 4,
 "nbformat_minor": 5
}
