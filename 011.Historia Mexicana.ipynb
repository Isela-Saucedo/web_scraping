{
 "cells": [
  {
   "cell_type": "code",
   "execution_count": 13,
   "id": "9a28e3ba-3bc1-4ae1-81fc-b96dc9517bf6",
   "metadata": {},
   "outputs": [],
   "source": [
    "import requests\n",
    "import bs4\n",
    "from bs4 import BeautifulSoup\n",
    "from urllib.parse import urljoin\n",
    "import pandas as pd"
   ]
  },
  {
   "cell_type": "code",
   "execution_count": 14,
   "id": "94cd9923-f361-4680-b549-cf2c2b6d9f5b",
   "metadata": {},
   "outputs": [],
   "source": [
    "url_inicial = 'https://historiamexicana.colmex.mx/index.php/RHM/issue/view/320'\n",
    "url_root = 'https://historiamexicana.colmex.mx/index.php/RHM/issue/view/320'\n",
    "r=requests.get(url_inicial)"
   ]
  },
  {
   "cell_type": "code",
   "execution_count": 15,
   "id": "f83f3fe0-0c6b-4ed7-be0b-af9e1c3d7da7",
   "metadata": {},
   "outputs": [],
   "source": [
    "soup = BeautifulSoup(r.text, 'html.parser')"
   ]
  },
  {
   "cell_type": "code",
   "execution_count": 16,
   "id": "30074c2c-3089-4d2d-8616-e6152967a317",
   "metadata": {},
   "outputs": [
    {
     "data": {
      "text/plain": [
       "[]"
      ]
     },
     "execution_count": 16,
     "metadata": {},
     "output_type": "execute_result"
    }
   ],
   "source": [
    "lista_articulo = soup.find_all('div', class_='obj_article_summary')\n",
    "links_libros = [x.find('a').get('href') for x in lista_articulo]\n",
    "links_libros = [urljoin (url_root, i) for i in links_libros]\n",
    "links_libros"
   ]
  },
  {
   "cell_type": "code",
   "execution_count": null,
   "id": "d58cd302-80ad-4009-bf62-a83e2f2c6336",
   "metadata": {},
   "outputs": [],
   "source": [
    "def get_url_items(soup,url):\n",
    "    lista_articulo = soup.find_all('div', class_='obj_article_summary')\n",
    "    links_libros = [x.find('a').get('href') for x in lista_articulo]\n",
    "    links_libros = [urljoin (url_root, i) for i in links_libros]\n",
    "    return links_libros"
   ]
  },
  {
   "cell_type": "code",
   "execution_count": null,
   "id": "e528bb4b-bdf6-4a8e-af14-c0e28cd87a35",
   "metadata": {},
   "outputs": [],
   "source": [
    "links_items=[]\n",
    "i = 0\n",
    "while i<1:\n",
    "    i+=1\n",
    "    print(f'Estoy en la pagina {url_inicial}')\n",
    "    r_pag = requests.get(url_inicial)\n",
    "    s_p = BeautifulSoup(r_pag.text, 'html.parser')\n",
    "    links = get_url_items(s_p, url_inicial)\n",
    "    links_items.append(links)\n",
    "    next_a = s_p.select('div.cmp_pagination > a')\n",
    "    if not next_a or not next_a[0].get('href'):\n",
    "        break\n",
    "        url_inicial = urljoin(url_inicial, next_a[0].get('href'))"
   ]
  },
  {
   "cell_type": "code",
   "execution_count": null,
   "id": "6b3c57ae-0a95-4895-8a4a-abb9346e7aca",
   "metadata": {},
   "outputs": [],
   "source": [
    "list_scraper=[]\n",
    "for i in links_items:\n",
    "    for j in i:\n",
    "        list_scraper.append(j)\n",
    "len(list_scraper)"
   ]
  },
  {
   "cell_type": "code",
   "execution_count": null,
   "id": "39cf9557-4a36-42e7-93ca-bbc598e23844",
   "metadata": {},
   "outputs": [],
   "source": [
    "uno=list_scraper[0]\n",
    "r_item=requests.get(uno)\n",
    "s_item=BeautifulSoup(r_item.text, 'html.parser')"
   ]
  },
  {
   "cell_type": "code",
   "execution_count": null,
   "id": "59ec8e4a-a942-4a89-bbff-aea4a026af20",
   "metadata": {},
   "outputs": [],
   "source": [
    "#funcion para iniciar el escraper de cada libro\n",
    "def scraper_book(url):\n",
    "    content_book={}\n",
    "    r=requests.get(url)\n",
    "    tire='Historia Mexicana'\n",
    "    a='IV. Humanidades y Ciencias de la Conducta'\n",
    "    tem='Historia'\n",
    "    url='http://historiamexicana.colmex.mx/index.php/RHM/index'\n",
    "    s_item=BeautifulSoup(r.text,'html.parser')\n",
    "    #titulo de revista\n",
    "    try:\n",
    "        titulo=tire\n",
    "        content_book['Titulo de revista']=tire\n",
    "    except AttributeError:\n",
    "        content_book['Titulo de revista']=None\n",
    "    #area\n",
    "    try:\n",
    "        area=a\n",
    "        content_book['Área']=a\n",
    "    except AttributeError:\n",
    "        content_book['Área']=None\n",
    "    #tematica\n",
    "    try:\n",
    "        tema=tem\n",
    "        content_book['Temática']=tem\n",
    "    except AttributeError:\n",
    "        content_book['Temática']=None\n",
    "    #titulo libro\n",
    "    try:\n",
    "        titu=s_item.find('h1', class_='jatsParser__meta-title').get_text(strip=True)\n",
    "        content_book['Titulo del libro']=titu\n",
    "    except AttributeError:\n",
    "        content_book['Titulo del libro']=None\n",
    "    #abstract\n",
    "    try:\n",
    "        abst=s_item.find('a', rel='license').get_text(strip=True)\n",
    "        content_book['Abstract']=abst\n",
    "    except AttributeError:\n",
    "        content_book['Abstract']=None\n",
    "    #resumen\n",
    "    try:\n",
    "        resu=s_item.find('p').get_text(strip=True)\n",
    "        content_book['Resumen']=resu\n",
    "    except AttributeError:\n",
    "        content_book['Resumen']=None\n",
    "    #Link incial\n",
    "    try:\n",
    "        inicial=url\n",
    "        content_book['Link inicial']=url\n",
    "    except AttributeError:\n",
    "        content_book['Link inicial']=None\n",
    "    #link articulo\n",
    "    try:\n",
    "        link=s_item.find('div', class_='jatsParser__cover-wrapper').get('href')\n",
    "        content_book['Link articulo']=urljoin(url_root, link)\n",
    "    except AttributeError:\n",
    "        content_book['Link articulo']=None\n",
    "    return content_book"
   ]
  },
  {
   "cell_type": "code",
   "execution_count": null,
   "id": "569a81c5-eaca-4533-9f48-12412c4ada27",
   "metadata": {},
   "outputs": [],
   "source": [
    "list_scraper=list_scraper[0:94]\n",
    "datos_book=[]\n",
    "for idx, i in enumerate(list_scraper):\n",
    "    print(f'estas escrapeando la pag {idx}')\n",
    "    datos_book.append(scraper_book(i))"
   ]
  },
  {
   "cell_type": "code",
   "execution_count": null,
   "id": "1e2a4a87-a8f8-49fa-820b-46c6ab0d3225",
   "metadata": {},
   "outputs": [],
   "source": [
    "df_catalogo=pd.DataFrame(datos_book)\n",
    "df_catalogo"
   ]
  },
  {
   "cell_type": "code",
   "execution_count": null,
   "id": "a9f7743f-ef92-4978-9460-d70a8a3383a2",
   "metadata": {},
   "outputs": [],
   "source": [
    "df_catalogo.to_csv('Revista11.csv')"
   ]
  },
  {
   "cell_type": "code",
   "execution_count": null,
   "id": "158ad1df-2235-491a-a825-e8b07070ab95",
   "metadata": {},
   "outputs": [],
   "source": []
  }
 ],
 "metadata": {
  "kernelspec": {
   "display_name": "Python 3 (ipykernel)",
   "language": "python",
   "name": "python3"
  },
  "language_info": {
   "codemirror_mode": {
    "name": "ipython",
    "version": 3
   },
   "file_extension": ".py",
   "mimetype": "text/x-python",
   "name": "python",
   "nbconvert_exporter": "python",
   "pygments_lexer": "ipython3",
   "version": "3.10.4"
  }
 },
 "nbformat": 4,
 "nbformat_minor": 5
}
