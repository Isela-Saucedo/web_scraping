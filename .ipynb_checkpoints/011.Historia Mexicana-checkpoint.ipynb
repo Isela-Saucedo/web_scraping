{
 "cells": [
  {
   "cell_type": "code",
   "execution_count": 1,
   "id": "9a28e3ba-3bc1-4ae1-81fc-b96dc9517bf6",
   "metadata": {},
   "outputs": [],
   "source": [
    "import requests\n",
    "import bs4\n",
    "from bs4 import BeautifulSoup\n",
    "from urllib.parse import urljoin\n",
    "import pandas as pd"
   ]
  },
  {
   "cell_type": "code",
   "execution_count": 2,
   "id": "94cd9923-f361-4680-b549-cf2c2b6d9f5b",
   "metadata": {},
   "outputs": [],
   "source": [
    "url_inicial = 'https://historiamexicana.colmex.mx/index.php/RHM/issue/archive'\n",
    "url_root = 'https://historiamexicana.colmex.mx/index.php/RHM/issue/archive'\n",
    "r=requests.get(url_inicial)"
   ]
  },
  {
   "cell_type": "code",
   "execution_count": 3,
   "id": "f83f3fe0-0c6b-4ed7-be0b-af9e1c3d7da7",
   "metadata": {},
   "outputs": [],
   "source": [
    "soup = BeautifulSoup(r.text, 'html.parser')"
   ]
  },
  {
   "cell_type": "code",
   "execution_count": 10,
   "id": "30074c2c-3089-4d2d-8616-e6152967a317",
   "metadata": {},
   "outputs": [
    {
     "ename": "AttributeError",
     "evalue": "'NoneType' object has no attribute 'findAll'",
     "output_type": "error",
     "traceback": [
      "\u001b[0;31m---------------------------------------------------------------------------\u001b[0m",
      "\u001b[0;31mAttributeError\u001b[0m                            Traceback (most recent call last)",
      "Input \u001b[0;32mIn [10]\u001b[0m, in \u001b[0;36m<cell line: 2>\u001b[0;34m()\u001b[0m\n\u001b[1;32m      1\u001b[0m box \u001b[38;5;241m=\u001b[39m soup\u001b[38;5;241m.\u001b[39mfind(\u001b[38;5;124m'\u001b[39m\u001b[38;5;124mmain\u001b[39m\u001b[38;5;124m'\u001b[39m, class_\u001b[38;5;241m=\u001b[39m\u001b[38;5;124m'\u001b[39m\u001b[38;5;124mpage-content-main container\u001b[39m\u001b[38;5;124m'\u001b[39m)\n\u001b[0;32m----> 2\u001b[0m volumen\u001b[38;5;241m=\u001b[39m\u001b[43mbox\u001b[49m\u001b[38;5;241;43m.\u001b[39;49m\u001b[43mfindAll\u001b[49m(\u001b[38;5;124m'\u001b[39m\u001b[38;5;124mdiv\u001b[39m\u001b[38;5;124m'\u001b[39m, class_\u001b[38;5;241m=\u001b[39m\u001b[38;5;124m'\u001b[39m\u001b[38;5;124mobj_issue_summary\u001b[39m\u001b[38;5;124m'\u001b[39m)\n\u001b[1;32m      3\u001b[0m vol \u001b[38;5;241m=\u001b[39m [x\u001b[38;5;241m.\u001b[39mfind(\u001b[38;5;124m'\u001b[39m\u001b[38;5;124ma\u001b[39m\u001b[38;5;124m'\u001b[39m)\u001b[38;5;241m.\u001b[39mget(\u001b[38;5;124m'\u001b[39m\u001b[38;5;124mhref\u001b[39m\u001b[38;5;124m'\u001b[39m)\u001b[38;5;28;01mfor\u001b[39;00m x \u001b[38;5;129;01min\u001b[39;00m volumen]\n\u001b[1;32m      4\u001b[0m vol\u001b[38;5;241m=\u001b[39m[urljoin(url_root,i) \u001b[38;5;28;01mfor\u001b[39;00m i \u001b[38;5;129;01min\u001b[39;00m vol]\n",
      "\u001b[0;31mAttributeError\u001b[0m: 'NoneType' object has no attribute 'findAll'"
     ]
    }
   ],
   "source": [
    "box = soup.find('main', class_='page-content-main container')\n",
    "volumen=box.findAll('div', class_='obj_issue_summary')\n",
    "vol = [x.find('a').get('href')for x in volumen]\n",
    "vol=[urljoin(url_root,i) for i in vol]\n",
    "vol"
   ]
  },
  {
   "cell_type": "code",
   "execution_count": 21,
   "id": "d58cd302-80ad-4009-bf62-a83e2f2c6336",
   "metadata": {},
   "outputs": [],
   "source": [
    "def get_url_items(sopa, url): \n",
    "    box = soup.find('main', class_='page-content-main container')\n",
    "    volumen=box.findAll('div', class_='obj_issue_summary')\n",
    "    vol = [x.find('a').get('href')for x in volumen]\n",
    "    vol=[urljoin(url_root,i) for i in vol]\n",
    "    return vol"
   ]
  },
  {
   "cell_type": "code",
   "execution_count": 13,
   "id": "e528bb4b-bdf6-4a8e-af14-c0e28cd87a35",
   "metadata": {},
   "outputs": [
    {
     "name": "stdout",
     "output_type": "stream",
     "text": [
      "Estoy en la pagina https://historiamexicana.colmex.mx/index.php/RHM/issue/archive\n"
     ]
    },
    {
     "ename": "AttributeError",
     "evalue": "'NoneType' object has no attribute 'findAll'",
     "output_type": "error",
     "traceback": [
      "\u001b[0;31m---------------------------------------------------------------------------\u001b[0m",
      "\u001b[0;31mAttributeError\u001b[0m                            Traceback (most recent call last)",
      "Input \u001b[0;32mIn [13]\u001b[0m, in \u001b[0;36m<cell line: 3>\u001b[0;34m()\u001b[0m\n\u001b[1;32m      6\u001b[0m r_pag \u001b[38;5;241m=\u001b[39m requests\u001b[38;5;241m.\u001b[39mget(url_inicial)\n\u001b[1;32m      7\u001b[0m s_p \u001b[38;5;241m=\u001b[39m BeautifulSoup(r_pag\u001b[38;5;241m.\u001b[39mtext, \u001b[38;5;124m'\u001b[39m\u001b[38;5;124mhtml.parser\u001b[39m\u001b[38;5;124m'\u001b[39m)\n\u001b[0;32m----> 8\u001b[0m links \u001b[38;5;241m=\u001b[39m \u001b[43mget_url_items\u001b[49m\u001b[43m(\u001b[49m\u001b[43ms_p\u001b[49m\u001b[43m,\u001b[49m\u001b[43m \u001b[49m\u001b[43murl_inicial\u001b[49m\u001b[43m)\u001b[49m\n\u001b[1;32m      9\u001b[0m links_items\u001b[38;5;241m.\u001b[39mappend(links)\n\u001b[1;32m     10\u001b[0m next_a \u001b[38;5;241m=\u001b[39m s_p\u001b[38;5;241m.\u001b[39mselect(\u001b[38;5;124m'\u001b[39m\u001b[38;5;124mdiv.cmp_pagination > a\u001b[39m\u001b[38;5;124m'\u001b[39m)\n",
      "Input \u001b[0;32mIn [12]\u001b[0m, in \u001b[0;36mget_url_items\u001b[0;34m(sopa, url)\u001b[0m\n\u001b[1;32m      1\u001b[0m \u001b[38;5;28;01mdef\u001b[39;00m \u001b[38;5;21mget_url_items\u001b[39m(sopa, url): \n\u001b[1;32m      2\u001b[0m     box \u001b[38;5;241m=\u001b[39m soup\u001b[38;5;241m.\u001b[39mfind(\u001b[38;5;124m'\u001b[39m\u001b[38;5;124mdiv\u001b[39m\u001b[38;5;124m'\u001b[39m, class_\u001b[38;5;241m=\u001b[39m\u001b[38;5;124m'\u001b[39m\u001b[38;5;124mcontainer issue_archive\u001b[39m\u001b[38;5;124m'\u001b[39m)\n\u001b[0;32m----> 3\u001b[0m     volumen\u001b[38;5;241m=\u001b[39m\u001b[43mbox\u001b[49m\u001b[38;5;241;43m.\u001b[39;49m\u001b[43mfindAll\u001b[49m(\u001b[38;5;124m'\u001b[39m\u001b[38;5;124mdiv\u001b[39m\u001b[38;5;124m'\u001b[39m, class_\u001b[38;5;241m=\u001b[39m\u001b[38;5;124m'\u001b[39m\u001b[38;5;124mobj_issue_summary\u001b[39m\u001b[38;5;124m'\u001b[39m)\n\u001b[1;32m      4\u001b[0m     vol \u001b[38;5;241m=\u001b[39m [x\u001b[38;5;241m.\u001b[39mfind(\u001b[38;5;124m'\u001b[39m\u001b[38;5;124ma\u001b[39m\u001b[38;5;124m'\u001b[39m)\u001b[38;5;241m.\u001b[39mget(\u001b[38;5;124m'\u001b[39m\u001b[38;5;124mhref\u001b[39m\u001b[38;5;124m'\u001b[39m)\u001b[38;5;28;01mfor\u001b[39;00m x \u001b[38;5;129;01min\u001b[39;00m volumen]\n\u001b[1;32m      5\u001b[0m     vol\u001b[38;5;241m=\u001b[39m[urljoin(url_root,i) \u001b[38;5;28;01mfor\u001b[39;00m i \u001b[38;5;129;01min\u001b[39;00m vol]\n",
      "\u001b[0;31mAttributeError\u001b[0m: 'NoneType' object has no attribute 'findAll'"
     ]
    }
   ],
   "source": [
    "links_items=[]\n",
    "i = 0\n",
    "while i<1:\n",
    "    i+=1\n",
    "    print(f'Estoy en la pagina {url_inicial}')\n",
    "    r_pag = requests.get(url_inicial)\n",
    "    s_p = BeautifulSoup(r_pag.text, 'html.parser')\n",
    "    links = get_url_items(s_p, url_inicial)\n",
    "    links_items.append(links)\n",
    "    next_a = s_p.select('div.cmp_pagination > a')\n",
    "    if not next_a or not next_a[0].get('href'):\n",
    "        break\n",
    "        url_inicial = urljoin(url_inicial, next_a[0].get('href'))"
   ]
  },
  {
   "cell_type": "code",
   "execution_count": 30,
   "id": "6b3c57ae-0a95-4895-8a4a-abb9346e7aca",
   "metadata": {},
   "outputs": [
    {
     "data": {
      "text/plain": [
       "94"
      ]
     },
     "execution_count": 30,
     "metadata": {},
     "output_type": "execute_result"
    }
   ],
   "source": [
    "list_scraper=[]\n",
    "for i in links_items:\n",
    "    for j in i:\n",
    "        list_scraper.append(j)\n",
    "len(list_scraper)"
   ]
  },
  {
   "cell_type": "code",
   "execution_count": 31,
   "id": "39cf9557-4a36-42e7-93ca-bbc598e23844",
   "metadata": {},
   "outputs": [],
   "source": [
    "uno=list_scraper[0]\n",
    "r_item=requests.get(uno)\n",
    "s_item=BeautifulSoup(r_item.text, 'html.parser')"
   ]
  },
  {
   "cell_type": "code",
   "execution_count": 45,
   "id": "59ec8e4a-a942-4a89-bbff-aea4a026af20",
   "metadata": {},
   "outputs": [],
   "source": [
    "#funcion para iniciar el escraper de cada libro\n",
    "def scraper_book(url):\n",
    "    content_book={}\n",
    "    r=requests.get(url)\n",
    "    s_item=BeautifulSoup(r.text,'html.parser')\n",
    "    #titulo del libro\n",
    "    try:\n",
    "        ancla_arti=s_item.find('div', class_='col-md-10').get_text(strip=True)\n",
    "        content_book['Descripcion']=ancla_desc.find_next_sibling('h2')\n",
    "    except AttributeError:\n",
    "        content_book['Articulo']=None\n",
    "    #fecha del libro\n",
    "    try:\n",
    "        publi=s_item.find('div', class_='published').get_text(strip=True)\n",
    "        content_book['Publicado']=publi\n",
    "    except AttributeError:\n",
    "        content_book['Publicado']=None\n",
    "    #obtener link\n",
    "    try:\n",
    "        link=s_item.find('li').get('href')\n",
    "        content_book['Link']=urljoin(url_root, link)\n",
    "    except AttributeError:\n",
    "        content_book['Link']=None\n",
    "    return content_book"
   ]
  },
  {
   "cell_type": "code",
   "execution_count": null,
   "id": "569a81c5-eaca-4533-9f48-12412c4ada27",
   "metadata": {},
   "outputs": [
    {
     "name": "stdout",
     "output_type": "stream",
     "text": [
      "estas escrapeando la pag 0\n",
      "estas escrapeando la pag 1\n",
      "estas escrapeando la pag 2\n",
      "estas escrapeando la pag 3\n",
      "estas escrapeando la pag 4\n",
      "estas escrapeando la pag 5\n",
      "estas escrapeando la pag 6\n",
      "estas escrapeando la pag 7\n",
      "estas escrapeando la pag 8\n",
      "estas escrapeando la pag 9\n",
      "estas escrapeando la pag 10\n",
      "estas escrapeando la pag 11\n",
      "estas escrapeando la pag 12\n",
      "estas escrapeando la pag 13\n",
      "estas escrapeando la pag 14\n",
      "estas escrapeando la pag 15\n",
      "estas escrapeando la pag 16\n",
      "estas escrapeando la pag 17\n",
      "estas escrapeando la pag 18\n",
      "estas escrapeando la pag 19\n",
      "estas escrapeando la pag 20\n",
      "estas escrapeando la pag 21\n",
      "estas escrapeando la pag 22\n",
      "estas escrapeando la pag 23\n",
      "estas escrapeando la pag 24\n",
      "estas escrapeando la pag 25\n",
      "estas escrapeando la pag 26\n",
      "estas escrapeando la pag 27\n",
      "estas escrapeando la pag 28\n",
      "estas escrapeando la pag 29\n",
      "estas escrapeando la pag 30\n",
      "estas escrapeando la pag 31\n",
      "estas escrapeando la pag 32\n",
      "estas escrapeando la pag 33\n",
      "estas escrapeando la pag 34\n",
      "estas escrapeando la pag 35\n",
      "estas escrapeando la pag 36\n",
      "estas escrapeando la pag 37\n",
      "estas escrapeando la pag 38\n",
      "estas escrapeando la pag 39\n",
      "estas escrapeando la pag 40\n",
      "estas escrapeando la pag 41\n",
      "estas escrapeando la pag 42\n",
      "estas escrapeando la pag 43\n",
      "estas escrapeando la pag 44\n",
      "estas escrapeando la pag 45\n",
      "estas escrapeando la pag 46\n",
      "estas escrapeando la pag 47\n",
      "estas escrapeando la pag 48\n",
      "estas escrapeando la pag 49\n",
      "estas escrapeando la pag 50\n",
      "estas escrapeando la pag 51\n",
      "estas escrapeando la pag 52\n",
      "estas escrapeando la pag 53\n",
      "estas escrapeando la pag 54\n",
      "estas escrapeando la pag 55\n",
      "estas escrapeando la pag 56\n",
      "estas escrapeando la pag 57\n",
      "estas escrapeando la pag 58\n",
      "estas escrapeando la pag 59\n",
      "estas escrapeando la pag 60\n",
      "estas escrapeando la pag 61\n",
      "estas escrapeando la pag 62\n",
      "estas escrapeando la pag 63\n",
      "estas escrapeando la pag 64\n",
      "estas escrapeando la pag 65\n",
      "estas escrapeando la pag 66\n",
      "estas escrapeando la pag 67\n",
      "estas escrapeando la pag 68\n",
      "estas escrapeando la pag 69\n",
      "estas escrapeando la pag 70\n",
      "estas escrapeando la pag 71\n",
      "estas escrapeando la pag 72\n",
      "estas escrapeando la pag 73\n",
      "estas escrapeando la pag 74\n",
      "estas escrapeando la pag 75\n",
      "estas escrapeando la pag 76\n",
      "estas escrapeando la pag 77\n",
      "estas escrapeando la pag 78\n",
      "estas escrapeando la pag 79\n",
      "estas escrapeando la pag 80\n",
      "estas escrapeando la pag 81\n",
      "estas escrapeando la pag 82\n",
      "estas escrapeando la pag 83\n",
      "estas escrapeando la pag 84\n",
      "estas escrapeando la pag 85\n",
      "estas escrapeando la pag 86\n",
      "estas escrapeando la pag 87\n",
      "estas escrapeando la pag 88\n",
      "estas escrapeando la pag 89\n",
      "estas escrapeando la pag 90\n",
      "estas escrapeando la pag 91\n",
      "estas escrapeando la pag 92\n",
      "estas escrapeando la pag 93\n"
     ]
    }
   ],
   "source": [
    "list_scraper=list_scraper[0:94]\n",
    "datos_book=[]\n",
    "for idx, i in enumerate(list_scraper):\n",
    "    print(f'estas escrapeando la pag {idx}')\n",
    "    datos_book.append(scraper_book(i))"
   ]
  },
  {
   "cell_type": "code",
   "execution_count": null,
   "id": "1e2a4a87-a8f8-49fa-820b-46c6ab0d3225",
   "metadata": {},
   "outputs": [
    {
     "data": {
      "text/html": [
       "<div>\n",
       "<style scoped>\n",
       "    .dataframe tbody tr th:only-of-type {\n",
       "        vertical-align: middle;\n",
       "    }\n",
       "\n",
       "    .dataframe tbody tr th {\n",
       "        vertical-align: top;\n",
       "    }\n",
       "\n",
       "    .dataframe thead th {\n",
       "        text-align: right;\n",
       "    }\n",
       "</style>\n",
       "<table border=\"1\" class=\"dataframe\">\n",
       "  <thead>\n",
       "    <tr style=\"text-align: right;\">\n",
       "      <th></th>\n",
       "      <th>Articulo</th>\n",
       "      <th>Publicado</th>\n",
       "      <th>Link</th>\n",
       "    </tr>\n",
       "  </thead>\n",
       "  <tbody>\n",
       "    <tr>\n",
       "      <th>0</th>\n",
       "      <td>None</td>\n",
       "      <td>None</td>\n",
       "      <td>https://historiamexicana.colmex.mx/index.php/R...</td>\n",
       "    </tr>\n",
       "    <tr>\n",
       "      <th>1</th>\n",
       "      <td>None</td>\n",
       "      <td>None</td>\n",
       "      <td>https://historiamexicana.colmex.mx/index.php/R...</td>\n",
       "    </tr>\n",
       "    <tr>\n",
       "      <th>2</th>\n",
       "      <td>None</td>\n",
       "      <td>None</td>\n",
       "      <td>https://historiamexicana.colmex.mx/index.php/R...</td>\n",
       "    </tr>\n",
       "    <tr>\n",
       "      <th>3</th>\n",
       "      <td>None</td>\n",
       "      <td>None</td>\n",
       "      <td>https://historiamexicana.colmex.mx/index.php/R...</td>\n",
       "    </tr>\n",
       "    <tr>\n",
       "      <th>4</th>\n",
       "      <td>None</td>\n",
       "      <td>None</td>\n",
       "      <td>https://historiamexicana.colmex.mx/index.php/R...</td>\n",
       "    </tr>\n",
       "    <tr>\n",
       "      <th>...</th>\n",
       "      <td>...</td>\n",
       "      <td>...</td>\n",
       "      <td>...</td>\n",
       "    </tr>\n",
       "    <tr>\n",
       "      <th>89</th>\n",
       "      <td>None</td>\n",
       "      <td>None</td>\n",
       "      <td>https://historiamexicana.colmex.mx/index.php/R...</td>\n",
       "    </tr>\n",
       "    <tr>\n",
       "      <th>90</th>\n",
       "      <td>None</td>\n",
       "      <td>None</td>\n",
       "      <td>https://historiamexicana.colmex.mx/index.php/R...</td>\n",
       "    </tr>\n",
       "    <tr>\n",
       "      <th>91</th>\n",
       "      <td>None</td>\n",
       "      <td>None</td>\n",
       "      <td>https://historiamexicana.colmex.mx/index.php/R...</td>\n",
       "    </tr>\n",
       "    <tr>\n",
       "      <th>92</th>\n",
       "      <td>None</td>\n",
       "      <td>None</td>\n",
       "      <td>https://historiamexicana.colmex.mx/index.php/R...</td>\n",
       "    </tr>\n",
       "    <tr>\n",
       "      <th>93</th>\n",
       "      <td>None</td>\n",
       "      <td>None</td>\n",
       "      <td>https://historiamexicana.colmex.mx/index.php/R...</td>\n",
       "    </tr>\n",
       "  </tbody>\n",
       "</table>\n",
       "<p>94 rows × 3 columns</p>\n",
       "</div>"
      ],
      "text/plain": [
       "   Articulo Publicado                                               Link\n",
       "0      None      None  https://historiamexicana.colmex.mx/index.php/R...\n",
       "1      None      None  https://historiamexicana.colmex.mx/index.php/R...\n",
       "2      None      None  https://historiamexicana.colmex.mx/index.php/R...\n",
       "3      None      None  https://historiamexicana.colmex.mx/index.php/R...\n",
       "4      None      None  https://historiamexicana.colmex.mx/index.php/R...\n",
       "..      ...       ...                                                ...\n",
       "89     None      None  https://historiamexicana.colmex.mx/index.php/R...\n",
       "90     None      None  https://historiamexicana.colmex.mx/index.php/R...\n",
       "91     None      None  https://historiamexicana.colmex.mx/index.php/R...\n",
       "92     None      None  https://historiamexicana.colmex.mx/index.php/R...\n",
       "93     None      None  https://historiamexicana.colmex.mx/index.php/R...\n",
       "\n",
       "[94 rows x 3 columns]"
      ]
     },
     "execution_count": 44,
     "metadata": {},
     "output_type": "execute_result"
    }
   ],
   "source": [
    "df_catalogo=pd.DataFrame(datos_book)\n",
    "df_catalogo"
   ]
  },
  {
   "cell_type": "code",
   "execution_count": 19,
   "id": "a9f7743f-ef92-4978-9460-d70a8a3383a2",
   "metadata": {},
   "outputs": [],
   "source": [
    "df_catalogo.to_csv('Revista11.csv')"
   ]
  },
  {
   "cell_type": "code",
   "execution_count": null,
   "id": "158ad1df-2235-491a-a825-e8b07070ab95",
   "metadata": {},
   "outputs": [],
   "source": []
  }
 ],
 "metadata": {
  "kernelspec": {
   "display_name": "Python 3 (ipykernel)",
   "language": "python",
   "name": "python3"
  },
  "language_info": {
   "codemirror_mode": {
    "name": "ipython",
    "version": 3
   },
   "file_extension": ".py",
   "mimetype": "text/x-python",
   "name": "python",
   "nbconvert_exporter": "python",
   "pygments_lexer": "ipython3",
   "version": "3.10.4"
  }
 },
 "nbformat": 4,
 "nbformat_minor": 5
}
