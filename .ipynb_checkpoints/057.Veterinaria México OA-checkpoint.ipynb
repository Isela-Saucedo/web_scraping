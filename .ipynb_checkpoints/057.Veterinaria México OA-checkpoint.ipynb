{
 "cells": [
  {
   "cell_type": "code",
   "execution_count": 1,
   "id": "9a7e79a2-c3ff-49ff-bf0f-3fc1d76581c5",
   "metadata": {},
   "outputs": [],
   "source": [
    "import requests\n",
    "import bs4\n",
    "from bs4 import BeautifulSoup\n",
    "from urllib.parse import urljoin\n",
    "import pandas as pd"
   ]
  },
  {
   "cell_type": "code",
   "execution_count": 35,
   "id": "d04c432e-d145-4bcc-9aa1-0757e9d216d5",
   "metadata": {},
   "outputs": [],
   "source": [
    "url_inicial = 'https://veterinariamexico.fmvz.unam.mx/index.php/vet/issue/archive/4'\n",
    "url_root = 'https://veterinariamexico.fmvz.unam.mx/index.php/vet/issue/archive/4'\n",
    "r=requests.get(url_inicial)"
   ]
  },
  {
   "cell_type": "code",
   "execution_count": 36,
   "id": "ea68059d-2c7b-455e-bc9b-0f52e2008dc2",
   "metadata": {},
   "outputs": [],
   "source": [
    "soup = BeautifulSoup(r.text, 'html.parser')"
   ]
  },
  {
   "cell_type": "code",
   "execution_count": 37,
   "id": "b768763b-1309-49cd-9e53-d0e211df0981",
   "metadata": {},
   "outputs": [
    {
     "data": {
      "text/plain": [
       "['https://veterinariamexico.fmvz.unam.mx/index.php/vet/issue/view/7',\n",
       " 'https://veterinariamexico.fmvz.unam.mx/index.php/vet/issue/view/8',\n",
       " 'https://veterinariamexico.fmvz.unam.mx/index.php/vet/issue/view/1',\n",
       " 'https://veterinariamexico.fmvz.unam.mx/index.php/vet/issue/view/2',\n",
       " 'https://veterinariamexico.fmvz.unam.mx/index.php/vet/issue/view/3',\n",
       " 'https://veterinariamexico.fmvz.unam.mx/index.php/vet/issue/view/4']"
      ]
     },
     "execution_count": 37,
     "metadata": {},
     "output_type": "execute_result"
    }
   ],
   "source": [
    "box = soup.find('div', class_='issues media-list')\n",
    "volumen=box.findAll('div', class_='issue-summary media')\n",
    "vol = [x.find('a').get('href')for x in volumen]\n",
    "vol=[urljoin(url_root,i) for i in vol]\n",
    "vol"
   ]
  },
  {
   "cell_type": "code",
   "execution_count": 38,
   "id": "caed287f-6b3a-4a37-bddb-9fbefb3e5b41",
   "metadata": {},
   "outputs": [],
   "source": [
    "def get_url_items(sopa, url): \n",
    "    box = soup.find('div', class_='issues media-list')\n",
    "    volumen=box.findAll('div', class_='issue-summary media')\n",
    "    vol = [x.find('a').get('href')for x in volumen]\n",
    "    vol=[urljoin(url_root,i) for i in vol]\n",
    "    return vol"
   ]
  },
  {
   "cell_type": "code",
   "execution_count": 39,
   "id": "327db61a-c0ba-4789-820f-2bb78fa3b31f",
   "metadata": {},
   "outputs": [
    {
     "name": "stdout",
     "output_type": "stream",
     "text": [
      "Estoy en la pagina https://veterinariamexico.fmvz.unam.mx/index.php/vet/issue/archive/4\n"
     ]
    }
   ],
   "source": [
    "links_items=[]\n",
    "i=0\n",
    "while i<1:\n",
    "    i+=1\n",
    "    print(f'Estoy en la pagina {url_inicial}')\n",
    "    r_pag=requests.get(url_inicial)\n",
    "    s_p=BeautifulSoup(r_pag.text,'html.parser')\n",
    "    links=get_url_items(s_p, url_inicial)\n",
    "    links_items.append(links) "
   ]
  },
  {
   "cell_type": "code",
   "execution_count": 40,
   "id": "1627b073-a033-4a9f-9df0-c54c5e20a5c5",
   "metadata": {},
   "outputs": [
    {
     "data": {
      "text/plain": [
       "6"
      ]
     },
     "execution_count": 40,
     "metadata": {},
     "output_type": "execute_result"
    }
   ],
   "source": [
    "list_scraper=[]\n",
    "for i in links_items:\n",
    "    for j in i:\n",
    "        list_scraper.append(j)\n",
    "len(list_scraper)"
   ]
  },
  {
   "cell_type": "code",
   "execution_count": 41,
   "id": "be2dcd5a-84cb-4ba5-86d0-bd257b0dc629",
   "metadata": {},
   "outputs": [],
   "source": [
    "uno=list_scraper[0]\n",
    "r_item=requests.get(uno)\n",
    "s_item=BeautifulSoup(r_item.text, 'html.parser')"
   ]
  },
  {
   "cell_type": "code",
   "execution_count": 42,
   "id": "e764c88e-b051-4071-8cf7-98119c34524f",
   "metadata": {},
   "outputs": [],
   "source": [
    "#funcion para iniciar el escraper de cada libro\n",
    "def scraper_book(url):\n",
    "    content_book={}\n",
    "    r=requests.get(url)\n",
    "    tire='Veterinaria México OA'\n",
    "    a='VI. Biotecnología y Ciencias Agropecuarias'\n",
    "    tem='Ciencias Veterinarias y de la Producción Animal'\n",
    "    url='http://veterinariamexico.unam.mx'\n",
    "    s_item=BeautifulSoup(r.text,'html.parser')\n",
    "    #titulo de revista\n",
    "    try:\n",
    "        titulo=tire\n",
    "        content_book['Titulo de revista']=tire\n",
    "    except AttributeError:\n",
    "        content_book['Titulo de revista']=None\n",
    "    #area\n",
    "    try:\n",
    "        area=a\n",
    "        content_book['Área']=a\n",
    "    except AttributeError:\n",
    "        content_book['Área']=None\n",
    "    #tematica\n",
    "    try:\n",
    "        tema=tem\n",
    "        content_book['Temática']=tem\n",
    "    except AttributeError:\n",
    "        content_book['Temática']=None\n",
    "    #titulo libro\n",
    "    try:\n",
    "        titu=s_item.find('h3', class_='media-heading').get_text(strip=True)\n",
    "        content_book['Titulo del libro']=titu\n",
    "    except AttributeError:\n",
    "        content_book['Titulo del libro']=None\n",
    "    #resumen\n",
    "    try:\n",
    "        resu=s_item.find('a', class_='cover').get_text(strip=True)\n",
    "        content_book['Resumen']=resu\n",
    "    except AttributeError:\n",
    "        content_book['Resumen']=None\n",
    "    #Link incial\n",
    "    try:\n",
    "        inicial=url\n",
    "        content_book['Link inicial']=url\n",
    "    except AttributeError:\n",
    "        content_book['Link inicial']=None\n",
    "    #link articulo\n",
    "    try:\n",
    "        link=s_item.find('a', class_='galley-link btn btn-primary pdf').get('href')\n",
    "        content_book['Link articulo']=urljoin(url_root, link)\n",
    "    except AttributeError:\n",
    "        content_book['Link articulo']=None\n",
    "    return content_book"
   ]
  },
  {
   "cell_type": "code",
   "execution_count": 43,
   "id": "18c3ae70-ac61-4f29-a5de-2e3a40ba56ff",
   "metadata": {},
   "outputs": [
    {
     "name": "stdout",
     "output_type": "stream",
     "text": [
      "estas escrapeando la pag 0\n",
      "estas escrapeando la pag 1\n",
      "estas escrapeando la pag 2\n",
      "estas escrapeando la pag 3\n",
      "estas escrapeando la pag 4\n",
      "estas escrapeando la pag 5\n"
     ]
    }
   ],
   "source": [
    "list_scraper=list_scraper[0:6]\n",
    "datos_book=[]\n",
    "for idx, i in enumerate(list_scraper):\n",
    "    print(f'estas escrapeando la pag {idx}')\n",
    "    datos_book.append(scraper_book(i))"
   ]
  },
  {
   "cell_type": "code",
   "execution_count": 44,
   "id": "e87a88de-34e7-4845-91c2-a82cde1fafb7",
   "metadata": {},
   "outputs": [
    {
     "data": {
      "text/html": [
       "<div>\n",
       "<style scoped>\n",
       "    .dataframe tbody tr th:only-of-type {\n",
       "        vertical-align: middle;\n",
       "    }\n",
       "\n",
       "    .dataframe tbody tr th {\n",
       "        vertical-align: top;\n",
       "    }\n",
       "\n",
       "    .dataframe thead th {\n",
       "        text-align: right;\n",
       "    }\n",
       "</style>\n",
       "<table border=\"1\" class=\"dataframe\">\n",
       "  <thead>\n",
       "    <tr style=\"text-align: right;\">\n",
       "      <th></th>\n",
       "      <th>Titulo de revista</th>\n",
       "      <th>Área</th>\n",
       "      <th>Temática</th>\n",
       "      <th>Titulo del libro</th>\n",
       "      <th>Resumen</th>\n",
       "      <th>Link inicial</th>\n",
       "      <th>Link articulo</th>\n",
       "    </tr>\n",
       "  </thead>\n",
       "  <tbody>\n",
       "    <tr>\n",
       "      <th>0</th>\n",
       "      <td>Veterinaria México OA</td>\n",
       "      <td>VI. Biotecnología y Ciencias Agropecuarias</td>\n",
       "      <td>Ciencias Veterinarias y de la Producción Animal</td>\n",
       "      <td>Alteraciones en ovarios de perras por inmuniza...</td>\n",
       "      <td></td>\n",
       "      <td>http://veterinariamexico.unam.mx</td>\n",
       "      <td>None</td>\n",
       "    </tr>\n",
       "    <tr>\n",
       "      <th>1</th>\n",
       "      <td>Veterinaria México OA</td>\n",
       "      <td>VI. Biotecnología y Ciencias Agropecuarias</td>\n",
       "      <td>Ciencias Veterinarias y de la Producción Animal</td>\n",
       "      <td>Valores bioquímicos en sangre de burros antes ...</td>\n",
       "      <td></td>\n",
       "      <td>http://veterinariamexico.unam.mx</td>\n",
       "      <td>None</td>\n",
       "    </tr>\n",
       "    <tr>\n",
       "      <th>2</th>\n",
       "      <td>Veterinaria México OA</td>\n",
       "      <td>VI. Biotecnología y Ciencias Agropecuarias</td>\n",
       "      <td>Ciencias Veterinarias y de la Producción Animal</td>\n",
       "      <td>Evaluación de cuatro vehículos para formular u...</td>\n",
       "      <td></td>\n",
       "      <td>http://veterinariamexico.unam.mx</td>\n",
       "      <td>None</td>\n",
       "    </tr>\n",
       "    <tr>\n",
       "      <th>3</th>\n",
       "      <td>Veterinaria México OA</td>\n",
       "      <td>VI. Biotecnología y Ciencias Agropecuarias</td>\n",
       "      <td>Ciencias Veterinarias y de la Producción Animal</td>\n",
       "      <td>Efectos de la suplementación con quelatos orgá...</td>\n",
       "      <td></td>\n",
       "      <td>http://veterinariamexico.unam.mx</td>\n",
       "      <td>None</td>\n",
       "    </tr>\n",
       "    <tr>\n",
       "      <th>4</th>\n",
       "      <td>Veterinaria México OA</td>\n",
       "      <td>VI. Biotecnología y Ciencias Agropecuarias</td>\n",
       "      <td>Ciencias Veterinarias y de la Producción Animal</td>\n",
       "      <td>Comparación del porcentaje de concepción y la ...</td>\n",
       "      <td></td>\n",
       "      <td>http://veterinariamexico.unam.mx</td>\n",
       "      <td>None</td>\n",
       "    </tr>\n",
       "    <tr>\n",
       "      <th>5</th>\n",
       "      <td>Veterinaria México OA</td>\n",
       "      <td>VI. Biotecnología y Ciencias Agropecuarias</td>\n",
       "      <td>Ciencias Veterinarias y de la Producción Animal</td>\n",
       "      <td>Estudio comparativo de los efectos antivirales...</td>\n",
       "      <td></td>\n",
       "      <td>http://veterinariamexico.unam.mx</td>\n",
       "      <td>None</td>\n",
       "    </tr>\n",
       "  </tbody>\n",
       "</table>\n",
       "</div>"
      ],
      "text/plain": [
       "       Titulo de revista                                        Área  \\\n",
       "0  Veterinaria México OA  VI. Biotecnología y Ciencias Agropecuarias   \n",
       "1  Veterinaria México OA  VI. Biotecnología y Ciencias Agropecuarias   \n",
       "2  Veterinaria México OA  VI. Biotecnología y Ciencias Agropecuarias   \n",
       "3  Veterinaria México OA  VI. Biotecnología y Ciencias Agropecuarias   \n",
       "4  Veterinaria México OA  VI. Biotecnología y Ciencias Agropecuarias   \n",
       "5  Veterinaria México OA  VI. Biotecnología y Ciencias Agropecuarias   \n",
       "\n",
       "                                          Temática  \\\n",
       "0  Ciencias Veterinarias y de la Producción Animal   \n",
       "1  Ciencias Veterinarias y de la Producción Animal   \n",
       "2  Ciencias Veterinarias y de la Producción Animal   \n",
       "3  Ciencias Veterinarias y de la Producción Animal   \n",
       "4  Ciencias Veterinarias y de la Producción Animal   \n",
       "5  Ciencias Veterinarias y de la Producción Animal   \n",
       "\n",
       "                                    Titulo del libro Resumen  \\\n",
       "0  Alteraciones en ovarios de perras por inmuniza...           \n",
       "1  Valores bioquímicos en sangre de burros antes ...           \n",
       "2  Evaluación de cuatro vehículos para formular u...           \n",
       "3  Efectos de la suplementación con quelatos orgá...           \n",
       "4  Comparación del porcentaje de concepción y la ...           \n",
       "5  Estudio comparativo de los efectos antivirales...           \n",
       "\n",
       "                       Link inicial Link articulo  \n",
       "0  http://veterinariamexico.unam.mx          None  \n",
       "1  http://veterinariamexico.unam.mx          None  \n",
       "2  http://veterinariamexico.unam.mx          None  \n",
       "3  http://veterinariamexico.unam.mx          None  \n",
       "4  http://veterinariamexico.unam.mx          None  \n",
       "5  http://veterinariamexico.unam.mx          None  "
      ]
     },
     "execution_count": 44,
     "metadata": {},
     "output_type": "execute_result"
    }
   ],
   "source": [
    "df_catalogo=pd.DataFrame(datos_book)\n",
    "df_catalogo"
   ]
  },
  {
   "cell_type": "code",
   "execution_count": 45,
   "id": "9f29fed4-d02b-4c74-9dd1-6542f24ea7cc",
   "metadata": {},
   "outputs": [],
   "source": [
    "df_catalogo.to_csv('Revista57.04.csv', index=False)"
   ]
  },
  {
   "cell_type": "code",
   "execution_count": null,
   "id": "c986f019-5c9e-476e-bdf4-f2c771464fe3",
   "metadata": {},
   "outputs": [],
   "source": []
  }
 ],
 "metadata": {
  "kernelspec": {
   "display_name": "Python 3 (ipykernel)",
   "language": "python",
   "name": "python3"
  },
  "language_info": {
   "codemirror_mode": {
    "name": "ipython",
    "version": 3
   },
   "file_extension": ".py",
   "mimetype": "text/x-python",
   "name": "python",
   "nbconvert_exporter": "python",
   "pygments_lexer": "ipython3",
   "version": "3.10.4"
  }
 },
 "nbformat": 4,
 "nbformat_minor": 5
}
