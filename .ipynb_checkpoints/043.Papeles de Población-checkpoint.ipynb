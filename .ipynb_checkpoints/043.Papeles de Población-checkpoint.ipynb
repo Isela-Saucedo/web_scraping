{
 "cells": [
  {
   "cell_type": "code",
   "execution_count": 61,
   "id": "9728b3fb-92ca-4809-a080-798a0e5bd718",
   "metadata": {},
   "outputs": [],
   "source": [
    "import requests\n",
    "import bs4\n",
    "from bs4 import BeautifulSoup\n",
    "from urllib.parse import urljoin\n",
    "import pandas as pd"
   ]
  },
  {
   "cell_type": "code",
   "execution_count": 62,
   "id": "ef08de18-ffb1-4e9d-b470-855e6f643e14",
   "metadata": {},
   "outputs": [],
   "source": [
    "url_inicial = 'https://rppoblacion.uaemex.mx/issue/archive?issuesPage=5#issues'\n",
    "url_root = 'https://rppoblacion.uaemex.mx/issue/archive?issuesPage=5#issues'\n",
    "r=requests.get(url_inicial)"
   ]
  },
  {
   "cell_type": "code",
   "execution_count": 63,
   "id": "632d345e-bd6a-47b0-8d4f-be89d8e71883",
   "metadata": {},
   "outputs": [],
   "source": [
    "soup = BeautifulSoup(r.text, 'html.parser')"
   ]
  },
  {
   "cell_type": "code",
   "execution_count": 64,
   "id": "dbf9b0c7-1d08-4082-8ca5-767165c53553",
   "metadata": {},
   "outputs": [
    {
     "data": {
      "text/plain": [
       "['https://rppoblacion.uaemex.mx/issue/view/941',\n",
       " 'https://rppoblacion.uaemex.mx/issue/view/942',\n",
       " 'https://rppoblacion.uaemex.mx/issue/view/956',\n",
       " 'https://rppoblacion.uaemex.mx/issue/view/957']"
      ]
     },
     "execution_count": 64,
     "metadata": {},
     "output_type": "execute_result"
    }
   ],
   "source": [
    "box = soup.find('div', class_='issues media-list')\n",
    "volumen=box.findAll('div', class_='issue-summary media')\n",
    "vol = [x.find('a').get('href')for x in volumen]\n",
    "vol=[urljoin(url_root,i) for i in vol]\n",
    "vol"
   ]
  },
  {
   "cell_type": "code",
   "execution_count": 65,
   "id": "92a07a83-9fb4-48dc-8ff7-da34a18bc106",
   "metadata": {},
   "outputs": [],
   "source": [
    "def get_url_items(sopa, url): \n",
    "    box = soup.find('div', class_='issues media-list')\n",
    "    volumen=box.findAll('div', class_='issue-summary media')\n",
    "    vol = [x.find('a').get('href')for x in volumen]\n",
    "    vol=[urljoin(url_root,i) for i in vol]\n",
    "    return vol"
   ]
  },
  {
   "cell_type": "code",
   "execution_count": 66,
   "id": "4d77c39b-88ae-4312-a348-7c0eacf28a72",
   "metadata": {},
   "outputs": [
    {
     "name": "stdout",
     "output_type": "stream",
     "text": [
      "Estoy en la pagina https://rppoblacion.uaemex.mx/issue/archive?issuesPage=5#issues\n"
     ]
    }
   ],
   "source": [
    "links_items=[]\n",
    "i=0\n",
    "while i<1:\n",
    "    i+=1\n",
    "    print(f'Estoy en la pagina {url_inicial}')\n",
    "    r_pag=requests.get(url_inicial)\n",
    "    s_p=BeautifulSoup(r_pag.text,'html.parser')\n",
    "    links=get_url_items(s_p, url_inicial)\n",
    "    links_items.append(links) "
   ]
  },
  {
   "cell_type": "code",
   "execution_count": 67,
   "id": "7e6bc85b-c41b-4c92-91c5-349cf187f212",
   "metadata": {},
   "outputs": [
    {
     "data": {
      "text/plain": [
       "4"
      ]
     },
     "execution_count": 67,
     "metadata": {},
     "output_type": "execute_result"
    }
   ],
   "source": [
    "list_scraper=[]\n",
    "for i in links_items:\n",
    "    for j in i:\n",
    "        list_scraper.append(j)\n",
    "len(list_scraper)"
   ]
  },
  {
   "cell_type": "code",
   "execution_count": 68,
   "id": "a1400005-4798-4df9-a352-2c7f2152e403",
   "metadata": {},
   "outputs": [],
   "source": [
    "uno=list_scraper[0]\n",
    "r_item=requests.get(uno)\n",
    "s_item=BeautifulSoup(r_item.text, 'html.parser')"
   ]
  },
  {
   "cell_type": "code",
   "execution_count": 69,
   "id": "74a012e6-3093-4bd0-be15-4397d3bc0e49",
   "metadata": {},
   "outputs": [],
   "source": [
    "#funcion para iniciar el escraper de cada libro\n",
    "def scraper_book(url):\n",
    "    content_book={}\n",
    "    r=requests.get(url)\n",
    "    tire='Papeles de Población'\n",
    "    a='V. Ciencias Sociales'\n",
    "    tem='Demografía'\n",
    "    url='https://rppoblacion.uaemex.mx/'\n",
    "    s_item=BeautifulSoup(r.text,'html.parser')\n",
    "    #titulo de revista\n",
    "    try:\n",
    "        titulo=tire\n",
    "        content_book['Titulo de revista']=tire\n",
    "    except AttributeError:\n",
    "        content_book['Titulo de revista']=None\n",
    "    #area\n",
    "    try:\n",
    "        area=a\n",
    "        content_book['Área']=a\n",
    "    except AttributeError:\n",
    "        content_book['Área']=None\n",
    "    #tematica\n",
    "    try:\n",
    "        tema=tem\n",
    "        content_book['Temática']=tem\n",
    "    except AttributeError:\n",
    "        content_book['Temática']=None\n",
    "    #titulo libro\n",
    "    try:\n",
    "        titu=s_item.find('li', class_='active').get_text(strip=True)\n",
    "        content_book['Titulo del libro']=titu\n",
    "    except AttributeError:\n",
    "        content_book['Titulo del libro']=None\n",
    "    #resumen\n",
    "    try:\n",
    "        resu=s_item.find('div', class_='description').get_text(strip=True)\n",
    "        content_book['Resumen']=resu\n",
    "    except AttributeError:\n",
    "        content_book['Resumen']=None\n",
    "    #Link incial\n",
    "    try:\n",
    "        inicial=url\n",
    "        content_book['Link inicial']=url\n",
    "    except AttributeError:\n",
    "        content_book['Link inicial']=None\n",
    "    #link articulo\n",
    "    try:\n",
    "        link=s_item.find('a', class_='galley-link').get('href')\n",
    "        content_book['Link articulo']=urljoin(url_root, link)\n",
    "    except AttributeError:\n",
    "        content_book['Link articulo']=None\n",
    "    return content_book"
   ]
  },
  {
   "cell_type": "code",
   "execution_count": 70,
   "id": "d108bf74-8300-4244-9609-5d70a9305c7d",
   "metadata": {},
   "outputs": [
    {
     "name": "stdout",
     "output_type": "stream",
     "text": [
      "estas escrapeando la pag 0\n",
      "estas escrapeando la pag 1\n",
      "estas escrapeando la pag 2\n",
      "estas escrapeando la pag 3\n"
     ]
    }
   ],
   "source": [
    "list_scraper=list_scraper[0:4]\n",
    "datos_book=[]\n",
    "for idx, i in enumerate(list_scraper):\n",
    "    print(f'estas escrapeando la pag {idx}')\n",
    "    datos_book.append(scraper_book(i))"
   ]
  },
  {
   "cell_type": "code",
   "execution_count": 71,
   "id": "f07176ab-17f5-4440-94ce-28fe34741dd6",
   "metadata": {},
   "outputs": [
    {
     "data": {
      "text/html": [
       "<div>\n",
       "<style scoped>\n",
       "    .dataframe tbody tr th:only-of-type {\n",
       "        vertical-align: middle;\n",
       "    }\n",
       "\n",
       "    .dataframe tbody tr th {\n",
       "        vertical-align: top;\n",
       "    }\n",
       "\n",
       "    .dataframe thead th {\n",
       "        text-align: right;\n",
       "    }\n",
       "</style>\n",
       "<table border=\"1\" class=\"dataframe\">\n",
       "  <thead>\n",
       "    <tr style=\"text-align: right;\">\n",
       "      <th></th>\n",
       "      <th>Titulo de revista</th>\n",
       "      <th>Área</th>\n",
       "      <th>Temática</th>\n",
       "      <th>Titulo del libro</th>\n",
       "      <th>Resumen</th>\n",
       "      <th>Link inicial</th>\n",
       "      <th>Link articulo</th>\n",
       "    </tr>\n",
       "  </thead>\n",
       "  <tbody>\n",
       "    <tr>\n",
       "      <th>0</th>\n",
       "      <td>Papeles de Población</td>\n",
       "      <td>V. Ciencias Sociales</td>\n",
       "      <td>Demografía</td>\n",
       "      <td>Vol. 3 Núm. 10 (1996): Papeles de Población</td>\n",
       "      <td>None</td>\n",
       "      <td>https://rppoblacion.uaemex.mx/</td>\n",
       "      <td>https://rppoblacion.uaemex.mx/article/view/184...</td>\n",
       "    </tr>\n",
       "    <tr>\n",
       "      <th>1</th>\n",
       "      <td>Papeles de Población</td>\n",
       "      <td>V. Ciencias Sociales</td>\n",
       "      <td>Demografía</td>\n",
       "      <td>Vol. 2 Núm. 9 (1995): Papeles de Población</td>\n",
       "      <td>None</td>\n",
       "      <td>https://rppoblacion.uaemex.mx/</td>\n",
       "      <td>https://rppoblacion.uaemex.mx/article/view/185...</td>\n",
       "    </tr>\n",
       "    <tr>\n",
       "      <th>2</th>\n",
       "      <td>Papeles de Población</td>\n",
       "      <td>V. Ciencias Sociales</td>\n",
       "      <td>Demografía</td>\n",
       "      <td>Vol. 2 Núm. 8 (1995): Papeles de Población</td>\n",
       "      <td>None</td>\n",
       "      <td>https://rppoblacion.uaemex.mx/</td>\n",
       "      <td>https://rppoblacion.uaemex.mx/article/view/186...</td>\n",
       "    </tr>\n",
       "    <tr>\n",
       "      <th>3</th>\n",
       "      <td>Papeles de Población</td>\n",
       "      <td>V. Ciencias Sociales</td>\n",
       "      <td>Demografía</td>\n",
       "      <td>Vol. 2 Núm. 6-7 (1995): Papeles de Población</td>\n",
       "      <td>None</td>\n",
       "      <td>https://rppoblacion.uaemex.mx/</td>\n",
       "      <td>https://rppoblacion.uaemex.mx/article/view/187...</td>\n",
       "    </tr>\n",
       "  </tbody>\n",
       "</table>\n",
       "</div>"
      ],
      "text/plain": [
       "      Titulo de revista                  Área    Temática  \\\n",
       "0  Papeles de Población  V. Ciencias Sociales  Demografía   \n",
       "1  Papeles de Población  V. Ciencias Sociales  Demografía   \n",
       "2  Papeles de Población  V. Ciencias Sociales  Demografía   \n",
       "3  Papeles de Población  V. Ciencias Sociales  Demografía   \n",
       "\n",
       "                               Titulo del libro Resumen  \\\n",
       "0   Vol. 3 Núm. 10 (1996): Papeles de Población    None   \n",
       "1    Vol. 2 Núm. 9 (1995): Papeles de Población    None   \n",
       "2    Vol. 2 Núm. 8 (1995): Papeles de Población    None   \n",
       "3  Vol. 2 Núm. 6-7 (1995): Papeles de Población    None   \n",
       "\n",
       "                     Link inicial  \\\n",
       "0  https://rppoblacion.uaemex.mx/   \n",
       "1  https://rppoblacion.uaemex.mx/   \n",
       "2  https://rppoblacion.uaemex.mx/   \n",
       "3  https://rppoblacion.uaemex.mx/   \n",
       "\n",
       "                                       Link articulo  \n",
       "0  https://rppoblacion.uaemex.mx/article/view/184...  \n",
       "1  https://rppoblacion.uaemex.mx/article/view/185...  \n",
       "2  https://rppoblacion.uaemex.mx/article/view/186...  \n",
       "3  https://rppoblacion.uaemex.mx/article/view/187...  "
      ]
     },
     "execution_count": 71,
     "metadata": {},
     "output_type": "execute_result"
    }
   ],
   "source": [
    "df_catalogo=pd.DataFrame(datos_book)\n",
    "df_catalogo"
   ]
  },
  {
   "cell_type": "code",
   "execution_count": 72,
   "id": "691cae5e-dd6d-4344-b4fa-947a02f587fd",
   "metadata": {},
   "outputs": [],
   "source": [
    "df_catalogo.to_csv('Revista43.05.csv', index=False)"
   ]
  },
  {
   "cell_type": "code",
   "execution_count": null,
   "id": "6bb8cc96-f150-4c0b-a5c1-70ae4151f448",
   "metadata": {},
   "outputs": [],
   "source": []
  }
 ],
 "metadata": {
  "kernelspec": {
   "display_name": "Python 3 (ipykernel)",
   "language": "python",
   "name": "python3"
  },
  "language_info": {
   "codemirror_mode": {
    "name": "ipython",
    "version": 3
   },
   "file_extension": ".py",
   "mimetype": "text/x-python",
   "name": "python",
   "nbconvert_exporter": "python",
   "pygments_lexer": "ipython3",
   "version": "3.10.4"
  }
 },
 "nbformat": 4,
 "nbformat_minor": 5
}
