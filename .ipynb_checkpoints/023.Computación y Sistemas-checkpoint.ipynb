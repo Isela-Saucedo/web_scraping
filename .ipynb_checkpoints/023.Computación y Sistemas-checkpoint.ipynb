{
 "cells": [
  {
   "cell_type": "code",
   "execution_count": 17,
   "id": "16174b53-f765-436f-b47e-c610fce0c246",
   "metadata": {},
   "outputs": [],
   "source": [
    "import requests\n",
    "import bs4\n",
    "from bs4 import BeautifulSoup\n",
    "from urllib.parse import urljoin\n",
    "import pandas as pd"
   ]
  },
  {
   "cell_type": "code",
   "execution_count": 18,
   "id": "cbd8e374-7b63-4aa7-a806-adeb87e0bbeb",
   "metadata": {},
   "outputs": [],
   "source": [
    "url_inicial='https://www.cys.cic.ipn.mx/ojs/index.php/CyS/issue/archive?issuesPage=2#issues'\n",
    "url_root= 'https://www.cys.cic.ipn.mx/ojs/index.php/CyS/issue/archive?issuesPage=2#issues'\n",
    "r = requests.get(url_inicial)"
   ]
  },
  {
   "cell_type": "code",
   "execution_count": 19,
   "id": "21cc7870-21a0-49f7-9b91-d701a9d79a4a",
   "metadata": {},
   "outputs": [],
   "source": [
    "soup = BeautifulSoup(r.text, 'html.parser')"
   ]
  },
  {
   "cell_type": "code",
   "execution_count": 20,
   "id": "f2cc9bba-d316-49a1-903c-2611e7aeb0d0",
   "metadata": {},
   "outputs": [
    {
     "data": {
      "text/plain": [
       "['https://www.cys.cic.ipn.mx/ojs/index.php/CyS/issue/view/v13n1-2009',\n",
       " 'https://www.cys.cic.ipn.mx/ojs/index.php/CyS/issue/view/v12n2-2008',\n",
       " 'https://www.cys.cic.ipn.mx/ojs/index.php/CyS/issue/view/v11n2-2007',\n",
       " 'https://www.cys.cic.ipn.mx/ojs/index.php/CyS/issue/view/v10n2-2006',\n",
       " 'https://www.cys.cic.ipn.mx/ojs/index.php/CyS/issue/view/v9n2-2005',\n",
       " 'https://www.cys.cic.ipn.mx/ojs/index.php/CyS/issue/view/v8n2-2004',\n",
       " 'https://www.cys.cic.ipn.mx/ojs/index.php/CyS/issue/view/v7n2-2003',\n",
       " 'https://www.cys.cic.ipn.mx/ojs/index.php/CyS/issue/view/v0n0-2002',\n",
       " 'https://www.cys.cic.ipn.mx/ojs/index.php/CyS/issue/view/v5n2-2001',\n",
       " 'https://www.cys.cic.ipn.mx/ojs/index.php/CyS/issue/view/v4n2-2000']"
      ]
     },
     "execution_count": 20,
     "metadata": {},
     "output_type": "execute_result"
    }
   ],
   "source": [
    "box = soup.find('div', id='issues')\n",
    "volumen=box.findAll('div', style='float: left; width: 100%;')\n",
    "vol = [x.find('a').get('href')for x in volumen]\n",
    "vol=[urljoin(url_root,i) for i in vol]\n",
    "vol"
   ]
  },
  {
   "cell_type": "code",
   "execution_count": 21,
   "id": "a265e39f-7a24-464f-8845-c9ae0de7ca77",
   "metadata": {},
   "outputs": [],
   "source": [
    "def get_url_items(sopa, url): \n",
    "    box = soup.find('div', id='content')\n",
    "    volumen=box.findAll('div', style='float: left; width: 100%;')\n",
    "    vol = [x.find('a').get('href')for x in volumen]\n",
    "    vol=[urljoin(url_root,i) for i in vol]\n",
    "    return vol"
   ]
  },
  {
   "cell_type": "code",
   "execution_count": 22,
   "id": "d64e40e7-08ee-4814-b1ea-a3bed66dda6a",
   "metadata": {},
   "outputs": [
    {
     "name": "stdout",
     "output_type": "stream",
     "text": [
      "Estoy en la pagina https://www.cys.cic.ipn.mx/ojs/index.php/CyS/issue/archive?issuesPage=2#issues\n"
     ]
    }
   ],
   "source": [
    "links_items=[]\n",
    "i=0\n",
    "while i<1:\n",
    "    i+=1\n",
    "    print(f'Estoy en la pagina {url_inicial}')\n",
    "    r_pag=requests.get(url_inicial)\n",
    "    s_p=BeautifulSoup(r_pag.text,'html.parser')\n",
    "    links=get_url_items(s_p, url_inicial)\n",
    "    links_items.append(links) \n",
    "    next_a=s_p.select('strong > a')\n",
    "    if not next_a or not next_a[0].get('href'):\n",
    "        break\n",
    "    url_inicial = urljoin(url_inicial, next_a[0].get('href'))"
   ]
  },
  {
   "cell_type": "code",
   "execution_count": 23,
   "id": "8cf64177-26e8-470f-8768-7f2632368b65",
   "metadata": {},
   "outputs": [
    {
     "data": {
      "text/plain": [
       "10"
      ]
     },
     "execution_count": 23,
     "metadata": {},
     "output_type": "execute_result"
    }
   ],
   "source": [
    "list_scraper=[]\n",
    "for i in links_items:\n",
    "    for j in i:\n",
    "        list_scraper.append(j)\n",
    "len(list_scraper)"
   ]
  },
  {
   "cell_type": "code",
   "execution_count": 24,
   "id": "7c7ed069-bc91-447f-8754-e9ae3c6d4c0e",
   "metadata": {},
   "outputs": [],
   "source": [
    "uno=list_scraper[0]\n",
    "r_item=requests.get(uno)\n",
    "s_item=BeautifulSoup(r_item.text, 'html.parser')"
   ]
  },
  {
   "cell_type": "code",
   "execution_count": 25,
   "id": "a4fbd109-b010-4ee9-ba3a-5fbaad26d368",
   "metadata": {},
   "outputs": [],
   "source": [
    "#funcion para iniciar el escraper de cada libro\n",
    "def scraper_book(url):\n",
    "    content_book={}\n",
    "    r=requests.get(url)\n",
    "    s_item=BeautifulSoup(r.text,'html.parser')\n",
    "    #volumen del libro\n",
    "    try:\n",
    "        vol=s_item.find('h2').get_text(strip=True)\n",
    "        content_book['Volumen']=vol\n",
    "    except AttributeError:\n",
    "        content_book['Volumen']=None\n",
    "    #autor del libro\n",
    "    try:\n",
    "        autor=s_item.find('h3').get_text(strip=True)\n",
    "        content_book['Autor']=autor\n",
    "    except AttributeError:\n",
    "        content_book['Autor']=None\n",
    "    #obtener link\n",
    "    try:\n",
    "        link=s_item.find('a', class_='current').get('href')\n",
    "        content_book['Link']=urljoin(url_root, link)\n",
    "    except AttributeError:\n",
    "        content_book['Link']=None\n",
    "    return content_book"
   ]
  },
  {
   "cell_type": "code",
   "execution_count": 26,
   "id": "fc35571f-ca77-4133-8498-f9d5560ec37f",
   "metadata": {},
   "outputs": [
    {
     "name": "stdout",
     "output_type": "stream",
     "text": [
      "estas escrapeando la pag 0\n",
      "estas escrapeando la pag 1\n",
      "estas escrapeando la pag 2\n",
      "estas escrapeando la pag 3\n",
      "estas escrapeando la pag 4\n",
      "estas escrapeando la pag 5\n",
      "estas escrapeando la pag 6\n",
      "estas escrapeando la pag 7\n",
      "estas escrapeando la pag 8\n",
      "estas escrapeando la pag 9\n"
     ]
    }
   ],
   "source": [
    "list_scraper=list_scraper[0:10]\n",
    "datos_book=[]\n",
    "for idx, i in enumerate(list_scraper):\n",
    "    print(f'estas escrapeando la pag {idx}')\n",
    "    datos_book.append(scraper_book(i))"
   ]
  },
  {
   "cell_type": "code",
   "execution_count": 27,
   "id": "4cdf6b6d-3ff8-4e15-a5e9-bb31d293cd67",
   "metadata": {},
   "outputs": [
    {
     "data": {
      "text/html": [
       "<div>\n",
       "<style scoped>\n",
       "    .dataframe tbody tr th:only-of-type {\n",
       "        vertical-align: middle;\n",
       "    }\n",
       "\n",
       "    .dataframe tbody tr th {\n",
       "        vertical-align: top;\n",
       "    }\n",
       "\n",
       "    .dataframe thead th {\n",
       "        text-align: right;\n",
       "    }\n",
       "</style>\n",
       "<table border=\"1\" class=\"dataframe\">\n",
       "  <thead>\n",
       "    <tr style=\"text-align: right;\">\n",
       "      <th></th>\n",
       "      <th>Volumen</th>\n",
       "      <th>Autor</th>\n",
       "      <th>Link</th>\n",
       "    </tr>\n",
       "  </thead>\n",
       "  <tbody>\n",
       "    <tr>\n",
       "      <th>0</th>\n",
       "      <td>Vol. 13, No. 1 (2009)</td>\n",
       "      <td>Table of Contents</td>\n",
       "      <td>https://www.cys.cic.ipn.mx/ojs/index.php/CyS/i...</td>\n",
       "    </tr>\n",
       "    <tr>\n",
       "      <th>1</th>\n",
       "      <td>Vol. 12, No. 2 (2008)</td>\n",
       "      <td>Table of Contents</td>\n",
       "      <td>https://www.cys.cic.ipn.mx/ojs/index.php/CyS/i...</td>\n",
       "    </tr>\n",
       "    <tr>\n",
       "      <th>2</th>\n",
       "      <td>Vol. 11, No. 2 (2007)</td>\n",
       "      <td>Table of Contents</td>\n",
       "      <td>https://www.cys.cic.ipn.mx/ojs/index.php/CyS/i...</td>\n",
       "    </tr>\n",
       "    <tr>\n",
       "      <th>3</th>\n",
       "      <td>Vol. 10, No. 2 (2006)</td>\n",
       "      <td>Table of Contents</td>\n",
       "      <td>https://www.cys.cic.ipn.mx/ojs/index.php/CyS/i...</td>\n",
       "    </tr>\n",
       "    <tr>\n",
       "      <th>4</th>\n",
       "      <td>Vol. 9, No. 2 (2005)</td>\n",
       "      <td>Table of Contents</td>\n",
       "      <td>https://www.cys.cic.ipn.mx/ojs/index.php/CyS/i...</td>\n",
       "    </tr>\n",
       "    <tr>\n",
       "      <th>5</th>\n",
       "      <td>Vol. 8, No. 2 (2004)</td>\n",
       "      <td>Table of Contents</td>\n",
       "      <td>https://www.cys.cic.ipn.mx/ojs/index.php/CyS/i...</td>\n",
       "    </tr>\n",
       "    <tr>\n",
       "      <th>6</th>\n",
       "      <td>Vol. 7, No. 2 (2003)</td>\n",
       "      <td>Table of Contents</td>\n",
       "      <td>https://www.cys.cic.ipn.mx/ojs/index.php/CyS/i...</td>\n",
       "    </tr>\n",
       "    <tr>\n",
       "      <th>7</th>\n",
       "      <td>Special Edition 2002</td>\n",
       "      <td>Table of Contents</td>\n",
       "      <td>https://www.cys.cic.ipn.mx/ojs/index.php/CyS/i...</td>\n",
       "    </tr>\n",
       "    <tr>\n",
       "      <th>8</th>\n",
       "      <td>Vol. 5, No. 2 (2001)</td>\n",
       "      <td>Table of Contents</td>\n",
       "      <td>https://www.cys.cic.ipn.mx/ojs/index.php/CyS/i...</td>\n",
       "    </tr>\n",
       "    <tr>\n",
       "      <th>9</th>\n",
       "      <td>Vol. 4, No. 2 (2000)</td>\n",
       "      <td>Table of Contents</td>\n",
       "      <td>https://www.cys.cic.ipn.mx/ojs/index.php/CyS/i...</td>\n",
       "    </tr>\n",
       "  </tbody>\n",
       "</table>\n",
       "</div>"
      ],
      "text/plain": [
       "                 Volumen              Autor  \\\n",
       "0  Vol. 13, No. 1 (2009)  Table of Contents   \n",
       "1  Vol. 12, No. 2 (2008)  Table of Contents   \n",
       "2  Vol. 11, No. 2 (2007)  Table of Contents   \n",
       "3  Vol. 10, No. 2 (2006)  Table of Contents   \n",
       "4   Vol. 9, No. 2 (2005)  Table of Contents   \n",
       "5   Vol. 8, No. 2 (2004)  Table of Contents   \n",
       "6   Vol. 7, No. 2 (2003)  Table of Contents   \n",
       "7   Special Edition 2002  Table of Contents   \n",
       "8   Vol. 5, No. 2 (2001)  Table of Contents   \n",
       "9   Vol. 4, No. 2 (2000)  Table of Contents   \n",
       "\n",
       "                                                Link  \n",
       "0  https://www.cys.cic.ipn.mx/ojs/index.php/CyS/i...  \n",
       "1  https://www.cys.cic.ipn.mx/ojs/index.php/CyS/i...  \n",
       "2  https://www.cys.cic.ipn.mx/ojs/index.php/CyS/i...  \n",
       "3  https://www.cys.cic.ipn.mx/ojs/index.php/CyS/i...  \n",
       "4  https://www.cys.cic.ipn.mx/ojs/index.php/CyS/i...  \n",
       "5  https://www.cys.cic.ipn.mx/ojs/index.php/CyS/i...  \n",
       "6  https://www.cys.cic.ipn.mx/ojs/index.php/CyS/i...  \n",
       "7  https://www.cys.cic.ipn.mx/ojs/index.php/CyS/i...  \n",
       "8  https://www.cys.cic.ipn.mx/ojs/index.php/CyS/i...  \n",
       "9  https://www.cys.cic.ipn.mx/ojs/index.php/CyS/i...  "
      ]
     },
     "execution_count": 27,
     "metadata": {},
     "output_type": "execute_result"
    }
   ],
   "source": [
    "df_catalogo=pd.DataFrame(datos_book)\n",
    "df_catalogo"
   ]
  },
  {
   "cell_type": "code",
   "execution_count": 28,
   "id": "b51f3e49-3793-4022-ac72-ea7595aecc02",
   "metadata": {},
   "outputs": [],
   "source": [
    "df_catalogo.to_csv('Revista23.2.csv')"
   ]
  },
  {
   "cell_type": "code",
   "execution_count": null,
   "id": "db1e0221-578a-4338-9596-7480fabbb055",
   "metadata": {},
   "outputs": [],
   "source": []
  }
 ],
 "metadata": {
  "kernelspec": {
   "display_name": "Python 3 (ipykernel)",
   "language": "python",
   "name": "python3"
  },
  "language_info": {
   "codemirror_mode": {
    "name": "ipython",
    "version": 3
   },
   "file_extension": ".py",
   "mimetype": "text/x-python",
   "name": "python",
   "nbconvert_exporter": "python",
   "pygments_lexer": "ipython3",
   "version": "3.10.4"
  }
 },
 "nbformat": 4,
 "nbformat_minor": 5
}
