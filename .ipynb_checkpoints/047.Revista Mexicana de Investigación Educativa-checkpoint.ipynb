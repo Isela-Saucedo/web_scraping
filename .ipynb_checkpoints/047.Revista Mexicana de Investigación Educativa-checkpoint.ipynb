{
 "cells": [
  {
   "cell_type": "code",
   "execution_count": 1,
   "id": "a2c0f792-0ff2-42cb-97f5-4377e38cc75b",
   "metadata": {},
   "outputs": [],
   "source": [
    "import requests\n",
    "import bs4\n",
    "from bs4 import BeautifulSoup\n",
    "from urllib.parse import urljoin\n",
    "import pandas as pd"
   ]
  },
  {
   "cell_type": "code",
   "execution_count": 41,
   "id": "7d368521-d8fa-4e43-a130-629d13600907",
   "metadata": {},
   "outputs": [],
   "source": [
    "url_inicial = 'https://www.comie.org.mx/revista/v2018/rmie/index.php/nrmie/issue/archive?issuesPage=4#issues'\n",
    "url_root = 'https://www.comie.org.mx/revista/v2018/rmie/index.php/nrmie/issue/archive?issuesPage=4#issues'\n",
    "r=requests.get(url_inicial)"
   ]
  },
  {
   "cell_type": "code",
   "execution_count": 42,
   "id": "44411b71-88b3-429e-8bb7-2929a0c39c50",
   "metadata": {},
   "outputs": [],
   "source": [
    "soup = BeautifulSoup(r.text, 'html.parser')"
   ]
  },
  {
   "cell_type": "code",
   "execution_count": 43,
   "id": "8f08a539-4dba-4354-87be-3eedb5e1dd77",
   "metadata": {},
   "outputs": [
    {
     "data": {
      "text/plain": [
       "['https://www.comie.org.mx/revista/v2018/rmie/index.php/nrmie/issue/view/69',\n",
       " 'https://www.comie.org.mx/revista/v2018/rmie/index.php/nrmie/issue/view/68',\n",
       " 'https://www.comie.org.mx/revista/v2018/rmie/index.php/nrmie/issue/view/71',\n",
       " 'https://www.comie.org.mx/revista/v2018/rmie/index.php/nrmie/issue/view/70',\n",
       " 'https://www.comie.org.mx/revista/v2018/rmie/index.php/nrmie/issue/view/73',\n",
       " 'https://www.comie.org.mx/revista/v2018/rmie/index.php/nrmie/issue/view/72',\n",
       " 'https://www.comie.org.mx/revista/v2018/rmie/index.php/nrmie/issue/view/75',\n",
       " 'https://www.comie.org.mx/revista/v2018/rmie/index.php/nrmie/issue/view/74']"
      ]
     },
     "execution_count": 43,
     "metadata": {},
     "output_type": "execute_result"
    }
   ],
   "source": [
    "box = soup.find('ul', class_='issues_archive')\n",
    "volumen=box.findAll('div', class_='obj_issue_summary')\n",
    "vol = [x.find('a').get('href')for x in volumen]\n",
    "vol=[urljoin(url_root,i) for i in vol]\n",
    "vol"
   ]
  },
  {
   "cell_type": "code",
   "execution_count": 44,
   "id": "fb9d90cb-ab33-4b38-9332-1349d5505fcd",
   "metadata": {},
   "outputs": [],
   "source": [
    "def get_url_items(sopa, url): \n",
    "    box = soup.find('ul', class_='issues_archive')\n",
    "    volumen=box.findAll('div', class_='obj_issue_summary')\n",
    "    vol = [x.find('a').get('href')for x in volumen]\n",
    "    vol=[urljoin(url_root,i) for i in vol]\n",
    "    return vol"
   ]
  },
  {
   "cell_type": "code",
   "execution_count": 45,
   "id": "8b83c933-17e6-4400-b0bd-85006a094385",
   "metadata": {},
   "outputs": [
    {
     "name": "stdout",
     "output_type": "stream",
     "text": [
      "Estoy en la pagina https://www.comie.org.mx/revista/v2018/rmie/index.php/nrmie/issue/archive?issuesPage=4#issues\n"
     ]
    }
   ],
   "source": [
    "links_items=[]\n",
    "i=0\n",
    "while i<1:\n",
    "    i+=1\n",
    "    print(f'Estoy en la pagina {url_inicial}')\n",
    "    r_pag=requests.get(url_inicial)\n",
    "    s_p=BeautifulSoup(r_pag.text,'html.parser')\n",
    "    links=get_url_items(s_p, url_inicial)\n",
    "    links_items.append(links) "
   ]
  },
  {
   "cell_type": "code",
   "execution_count": 46,
   "id": "ec5d43cc-5d3a-43dc-9743-af9ad7884304",
   "metadata": {},
   "outputs": [
    {
     "data": {
      "text/plain": [
       "8"
      ]
     },
     "execution_count": 46,
     "metadata": {},
     "output_type": "execute_result"
    }
   ],
   "source": [
    "list_scraper=[]\n",
    "for i in links_items:\n",
    "    for j in i:\n",
    "        list_scraper.append(j)\n",
    "len(list_scraper)"
   ]
  },
  {
   "cell_type": "code",
   "execution_count": 47,
   "id": "c412297a-0127-4a5d-89d9-a7a3b6b8245d",
   "metadata": {},
   "outputs": [],
   "source": [
    "uno=list_scraper[0]\n",
    "r_item=requests.get(uno)\n",
    "s_item=BeautifulSoup(r_item.text, 'html.parser')"
   ]
  },
  {
   "cell_type": "code",
   "execution_count": 48,
   "id": "39deeb77-03c9-4715-b64e-91c60d517f3e",
   "metadata": {},
   "outputs": [],
   "source": [
    "#funcion para iniciar el escraper de cada libro\n",
    "def scraper_book(url):\n",
    "    content_book={}\n",
    "    r=requests.get(url)\n",
    "    tire='Revista Mexicana de Investigación Educativa'\n",
    "    a='V. Ciencias Sociales'\n",
    "    tem='Investigación Educativa'\n",
    "    url='http://www.comie.org.mx/v1/revista/portal.php'\n",
    "    s_item=BeautifulSoup(r.text,'html.parser')\n",
    "    #titulo de revista\n",
    "    try:\n",
    "        titulo=tire\n",
    "        content_book['Titulo de revista']=tire\n",
    "    except AttributeError:\n",
    "        content_book['Titulo de revista']=None\n",
    "    #area\n",
    "    try:\n",
    "        area=a\n",
    "        content_book['Área']=a\n",
    "    except AttributeError:\n",
    "        content_book['Área']=None\n",
    "    #tematica\n",
    "    try:\n",
    "        tema=tem\n",
    "        content_book['Temática']=tem\n",
    "    except AttributeError:\n",
    "        content_book['Temática']=None\n",
    "    #titulo libro\n",
    "    try:\n",
    "        titu=s_item.find('div', class_='title').get_text(strip=True)\n",
    "        content_book['Titulo del libro']=titu\n",
    "    except AttributeError:\n",
    "        content_book['Titulo del libro']=None\n",
    "    #resumen\n",
    "    try:\n",
    "        resu=s_item.find('a', class_='cover').get_text(strip=True)\n",
    "        content_book['Resumen']=resu\n",
    "    except AttributeError:\n",
    "        content_book['Resumen']=None\n",
    "    #Link incial\n",
    "    try:\n",
    "        inicial=url\n",
    "        content_book['Link inicial']=url\n",
    "    except AttributeError:\n",
    "        content_book['Link inicial']=None\n",
    "    #link articulo\n",
    "    try:\n",
    "        link=s_item.find('a', class_='obj_galley_link pdf').get('href')\n",
    "        content_book['Link articulo']=urljoin(url_root, link)\n",
    "    except AttributeError:\n",
    "        content_book['Link articulo']=None\n",
    "    return content_book"
   ]
  },
  {
   "cell_type": "code",
   "execution_count": 49,
   "id": "09675eb5-b3d7-4c6b-aaa9-076ae5676846",
   "metadata": {},
   "outputs": [
    {
     "name": "stdout",
     "output_type": "stream",
     "text": [
      "estas escrapeando la pag 0\n",
      "estas escrapeando la pag 1\n",
      "estas escrapeando la pag 2\n",
      "estas escrapeando la pag 3\n",
      "estas escrapeando la pag 4\n",
      "estas escrapeando la pag 5\n",
      "estas escrapeando la pag 6\n",
      "estas escrapeando la pag 7\n"
     ]
    }
   ],
   "source": [
    "list_scraper=list_scraper[0:8]\n",
    "datos_book=[]\n",
    "for idx, i in enumerate(list_scraper):\n",
    "    print(f'estas escrapeando la pag {idx}')\n",
    "    datos_book.append(scraper_book(i))"
   ]
  },
  {
   "cell_type": "code",
   "execution_count": 50,
   "id": "31fc3dde-5230-4a16-9f41-1c9b30986368",
   "metadata": {},
   "outputs": [
    {
     "data": {
      "text/html": [
       "<div>\n",
       "<style scoped>\n",
       "    .dataframe tbody tr th:only-of-type {\n",
       "        vertical-align: middle;\n",
       "    }\n",
       "\n",
       "    .dataframe tbody tr th {\n",
       "        vertical-align: top;\n",
       "    }\n",
       "\n",
       "    .dataframe thead th {\n",
       "        text-align: right;\n",
       "    }\n",
       "</style>\n",
       "<table border=\"1\" class=\"dataframe\">\n",
       "  <thead>\n",
       "    <tr style=\"text-align: right;\">\n",
       "      <th></th>\n",
       "      <th>Titulo de revista</th>\n",
       "      <th>Área</th>\n",
       "      <th>Temática</th>\n",
       "      <th>Titulo del libro</th>\n",
       "      <th>Resumen</th>\n",
       "      <th>Link inicial</th>\n",
       "      <th>Link articulo</th>\n",
       "    </tr>\n",
       "  </thead>\n",
       "  <tbody>\n",
       "    <tr>\n",
       "      <th>0</th>\n",
       "      <td>Revista Mexicana de Investigación Educativa</td>\n",
       "      <td>V. Ciencias Sociales</td>\n",
       "      <td>Investigación Educativa</td>\n",
       "      <td>Investigación educativa y praxis</td>\n",
       "      <td>None</td>\n",
       "      <td>http://www.comie.org.mx/v1/revista/portal.php</td>\n",
       "      <td>https://www.comie.org.mx/revista/v2018/rmie/in...</td>\n",
       "    </tr>\n",
       "    <tr>\n",
       "      <th>1</th>\n",
       "      <td>Revista Mexicana de Investigación Educativa</td>\n",
       "      <td>V. Ciencias Sociales</td>\n",
       "      <td>Investigación Educativa</td>\n",
       "      <td>Un alto para continuar por el buen camino: log...</td>\n",
       "      <td>None</td>\n",
       "      <td>http://www.comie.org.mx/v1/revista/portal.php</td>\n",
       "      <td>https://www.comie.org.mx/revista/v2018/rmie/in...</td>\n",
       "    </tr>\n",
       "    <tr>\n",
       "      <th>2</th>\n",
       "      <td>Revista Mexicana de Investigación Educativa</td>\n",
       "      <td>V. Ciencias Sociales</td>\n",
       "      <td>Investigación Educativa</td>\n",
       "      <td>La información sistematizada en el desarrollo ...</td>\n",
       "      <td>None</td>\n",
       "      <td>http://www.comie.org.mx/v1/revista/portal.php</td>\n",
       "      <td>https://www.comie.org.mx/revista/v2018/rmie/in...</td>\n",
       "    </tr>\n",
       "    <tr>\n",
       "      <th>3</th>\n",
       "      <td>Revista Mexicana de Investigación Educativa</td>\n",
       "      <td>V. Ciencias Sociales</td>\n",
       "      <td>Investigación Educativa</td>\n",
       "      <td>La formación en investigación educativa</td>\n",
       "      <td>None</td>\n",
       "      <td>http://www.comie.org.mx/v1/revista/portal.php</td>\n",
       "      <td>https://www.comie.org.mx/revista/v2018/rmie/in...</td>\n",
       "    </tr>\n",
       "    <tr>\n",
       "      <th>4</th>\n",
       "      <td>Revista Mexicana de Investigación Educativa</td>\n",
       "      <td>V. Ciencias Sociales</td>\n",
       "      <td>Investigación Educativa</td>\n",
       "      <td>Investigación educativa y procesos de decisión</td>\n",
       "      <td>None</td>\n",
       "      <td>http://www.comie.org.mx/v1/revista/portal.php</td>\n",
       "      <td>https://www.comie.org.mx/revista/v2018/rmie/in...</td>\n",
       "    </tr>\n",
       "    <tr>\n",
       "      <th>5</th>\n",
       "      <td>Revista Mexicana de Investigación Educativa</td>\n",
       "      <td>V. Ciencias Sociales</td>\n",
       "      <td>Investigación Educativa</td>\n",
       "      <td>Investigación educativa y compromiso social</td>\n",
       "      <td>None</td>\n",
       "      <td>http://www.comie.org.mx/v1/revista/portal.php</td>\n",
       "      <td>https://www.comie.org.mx/revista/v2018/rmie/in...</td>\n",
       "    </tr>\n",
       "    <tr>\n",
       "      <th>6</th>\n",
       "      <td>Revista Mexicana de Investigación Educativa</td>\n",
       "      <td>V. Ciencias Sociales</td>\n",
       "      <td>Investigación Educativa</td>\n",
       "      <td>Compromiso con un proceso científico más complejo</td>\n",
       "      <td>None</td>\n",
       "      <td>http://www.comie.org.mx/v1/revista/portal.php</td>\n",
       "      <td>https://www.comie.org.mx/revista/v2018/rmie/in...</td>\n",
       "    </tr>\n",
       "    <tr>\n",
       "      <th>7</th>\n",
       "      <td>Revista Mexicana de Investigación Educativa</td>\n",
       "      <td>V. Ciencias Sociales</td>\n",
       "      <td>Investigación Educativa</td>\n",
       "      <td>Un foro académico</td>\n",
       "      <td>None</td>\n",
       "      <td>http://www.comie.org.mx/v1/revista/portal.php</td>\n",
       "      <td>https://www.comie.org.mx/revista/v2018/rmie/in...</td>\n",
       "    </tr>\n",
       "  </tbody>\n",
       "</table>\n",
       "</div>"
      ],
      "text/plain": [
       "                             Titulo de revista                  Área  \\\n",
       "0  Revista Mexicana de Investigación Educativa  V. Ciencias Sociales   \n",
       "1  Revista Mexicana de Investigación Educativa  V. Ciencias Sociales   \n",
       "2  Revista Mexicana de Investigación Educativa  V. Ciencias Sociales   \n",
       "3  Revista Mexicana de Investigación Educativa  V. Ciencias Sociales   \n",
       "4  Revista Mexicana de Investigación Educativa  V. Ciencias Sociales   \n",
       "5  Revista Mexicana de Investigación Educativa  V. Ciencias Sociales   \n",
       "6  Revista Mexicana de Investigación Educativa  V. Ciencias Sociales   \n",
       "7  Revista Mexicana de Investigación Educativa  V. Ciencias Sociales   \n",
       "\n",
       "                  Temática                                   Titulo del libro  \\\n",
       "0  Investigación Educativa                   Investigación educativa y praxis   \n",
       "1  Investigación Educativa  Un alto para continuar por el buen camino: log...   \n",
       "2  Investigación Educativa  La información sistematizada en el desarrollo ...   \n",
       "3  Investigación Educativa            La formación en investigación educativa   \n",
       "4  Investigación Educativa     Investigación educativa y procesos de decisión   \n",
       "5  Investigación Educativa        Investigación educativa y compromiso social   \n",
       "6  Investigación Educativa  Compromiso con un proceso científico más complejo   \n",
       "7  Investigación Educativa                                  Un foro académico   \n",
       "\n",
       "  Resumen                                   Link inicial  \\\n",
       "0    None  http://www.comie.org.mx/v1/revista/portal.php   \n",
       "1    None  http://www.comie.org.mx/v1/revista/portal.php   \n",
       "2    None  http://www.comie.org.mx/v1/revista/portal.php   \n",
       "3    None  http://www.comie.org.mx/v1/revista/portal.php   \n",
       "4    None  http://www.comie.org.mx/v1/revista/portal.php   \n",
       "5    None  http://www.comie.org.mx/v1/revista/portal.php   \n",
       "6    None  http://www.comie.org.mx/v1/revista/portal.php   \n",
       "7    None  http://www.comie.org.mx/v1/revista/portal.php   \n",
       "\n",
       "                                       Link articulo  \n",
       "0  https://www.comie.org.mx/revista/v2018/rmie/in...  \n",
       "1  https://www.comie.org.mx/revista/v2018/rmie/in...  \n",
       "2  https://www.comie.org.mx/revista/v2018/rmie/in...  \n",
       "3  https://www.comie.org.mx/revista/v2018/rmie/in...  \n",
       "4  https://www.comie.org.mx/revista/v2018/rmie/in...  \n",
       "5  https://www.comie.org.mx/revista/v2018/rmie/in...  \n",
       "6  https://www.comie.org.mx/revista/v2018/rmie/in...  \n",
       "7  https://www.comie.org.mx/revista/v2018/rmie/in...  "
      ]
     },
     "execution_count": 50,
     "metadata": {},
     "output_type": "execute_result"
    }
   ],
   "source": [
    "df_catalogo=pd.DataFrame(datos_book)\n",
    "df_catalogo"
   ]
  },
  {
   "cell_type": "code",
   "execution_count": 51,
   "id": "a5375701-1ead-44ef-a826-b3303329aa4e",
   "metadata": {},
   "outputs": [],
   "source": [
    "df_catalogo.to_csv('Revista47.04.csv', index=False)"
   ]
  },
  {
   "cell_type": "code",
   "execution_count": null,
   "id": "4792de01-751e-4500-a888-4c85a06bb811",
   "metadata": {},
   "outputs": [],
   "source": []
  }
 ],
 "metadata": {
  "kernelspec": {
   "display_name": "Python 3 (ipykernel)",
   "language": "python",
   "name": "python3"
  },
  "language_info": {
   "codemirror_mode": {
    "name": "ipython",
    "version": 3
   },
   "file_extension": ".py",
   "mimetype": "text/x-python",
   "name": "python",
   "nbconvert_exporter": "python",
   "pygments_lexer": "ipython3",
   "version": "3.10.4"
  }
 },
 "nbformat": 4,
 "nbformat_minor": 5
}
