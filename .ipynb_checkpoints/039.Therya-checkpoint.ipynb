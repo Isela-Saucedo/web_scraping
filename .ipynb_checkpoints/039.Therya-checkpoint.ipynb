{
 "cells": [
  {
   "cell_type": "code",
   "execution_count": 1,
   "id": "60523bbb-5ea4-4703-b7c7-113a07c9e73b",
   "metadata": {},
   "outputs": [],
   "source": [
    "import requests\n",
    "import bs4\n",
    "from bs4 import BeautifulSoup\n",
    "from urllib.parse import urljoin\n",
    "import pandas as pd"
   ]
  },
  {
   "cell_type": "code",
   "execution_count": 2,
   "id": "5038db28-b4e0-4217-832b-928dd782733a",
   "metadata": {},
   "outputs": [],
   "source": [
    "url_inicial = 'https://mastozoologiamexicana.com/ojs/index.php/theryanotes/issue/archive'\n",
    "url_root = 'https://mastozoologiamexicana.com/ojs/index.php/theryanotes/issue/archive'\n",
    "r=requests.get(url_inicial)"
   ]
  },
  {
   "cell_type": "code",
   "execution_count": 3,
   "id": "e62949e8-d32a-4fd4-9fd6-53220f274051",
   "metadata": {},
   "outputs": [],
   "source": [
    "soup = BeautifulSoup(r.text, 'html.parser')"
   ]
  },
  {
   "cell_type": "code",
   "execution_count": 4,
   "id": "1137d429-739d-4bf7-bec5-3827a2e9e42f",
   "metadata": {},
   "outputs": [
    {
     "data": {
      "text/plain": [
       "['https://mastozoologiamexicana.com/ojs/index.php/theryanotes/issue/view/13',\n",
       " 'https://mastozoologiamexicana.com/ojs/index.php/theryanotes/issue/view/12',\n",
       " 'https://mastozoologiamexicana.com/ojs/index.php/theryanotes/issue/view/8',\n",
       " 'https://mastozoologiamexicana.com/ojs/index.php/theryanotes/issue/view/7',\n",
       " 'https://mastozoologiamexicana.com/ojs/index.php/theryanotes/issue/view/6',\n",
       " 'https://mastozoologiamexicana.com/ojs/index.php/theryanotes/issue/view/5',\n",
       " 'https://mastozoologiamexicana.com/ojs/index.php/theryanotes/issue/view/4',\n",
       " 'https://mastozoologiamexicana.com/ojs/index.php/theryanotes/issue/view/1']"
      ]
     },
     "execution_count": 4,
     "metadata": {},
     "output_type": "execute_result"
    }
   ],
   "source": [
    "box = soup.find('ul', class_='issues_archive')\n",
    "volumen=box.findAll('div', class_='obj_issue_summary')\n",
    "vol = [x.find('a').get('href')for x in volumen]\n",
    "vol=[urljoin(url_root,i) for i in vol]\n",
    "vol"
   ]
  },
  {
   "cell_type": "code",
   "execution_count": 5,
   "id": "b1c13818-dba5-4996-af02-eb9a2179544a",
   "metadata": {},
   "outputs": [],
   "source": [
    "def get_url_items(sopa, url): \n",
    "    box = soup.find('ul', class_='issues_archive')\n",
    "    volumen=box.findAll('div', class_='obj_issue_summary')\n",
    "    vol = [x.find('a').get('href')for x in volumen]\n",
    "    vol=[urljoin(url_root,i) for i in vol]\n",
    "    return vol"
   ]
  },
  {
   "cell_type": "code",
   "execution_count": 7,
   "id": "e0f3a6ce-a3c4-4470-8685-4f9c79fe8bda",
   "metadata": {},
   "outputs": [
    {
     "name": "stdout",
     "output_type": "stream",
     "text": [
      "Estoy en la pagina https://mastozoologiamexicana.com/ojs/index.php/theryanotes/issue/archive\n"
     ]
    }
   ],
   "source": [
    "links_items=[]\n",
    "i=0\n",
    "while i<1:\n",
    "    i+=1\n",
    "    print(f'Estoy en la pagina {url_inicial}')\n",
    "    r_pag=requests.get(url_inicial)\n",
    "    s_p=BeautifulSoup(r_pag.text,'html.parser')\n",
    "    links=get_url_items(s_p, url_inicial)\n",
    "    links_items.append(links) "
   ]
  },
  {
   "cell_type": "code",
   "execution_count": 8,
   "id": "6f9b52ba-a91c-46ec-a926-340adc538ff1",
   "metadata": {},
   "outputs": [
    {
     "data": {
      "text/plain": [
       "8"
      ]
     },
     "execution_count": 8,
     "metadata": {},
     "output_type": "execute_result"
    }
   ],
   "source": [
    "list_scraper=[]\n",
    "for i in links_items:\n",
    "    for j in i:\n",
    "        list_scraper.append(j)\n",
    "len(list_scraper)"
   ]
  },
  {
   "cell_type": "code",
   "execution_count": 9,
   "id": "2887278d-e57c-490d-863d-7a9f72bf56ce",
   "metadata": {},
   "outputs": [],
   "source": [
    "uno=list_scraper[0]\n",
    "r_item=requests.get(uno)\n",
    "s_item=BeautifulSoup(r_item.text, 'html.parser')"
   ]
  },
  {
   "cell_type": "code",
   "execution_count": 14,
   "id": "0bb0f855-f5a4-4490-93c0-8e80873779c3",
   "metadata": {},
   "outputs": [],
   "source": [
    "#funcion para iniciar el escraper de cada libro\n",
    "def scraper_book(url):\n",
    "    content_book={}\n",
    "    r=requests.get(url)\n",
    "    tire='Therya'\n",
    "    a='II. Biología y Química'\n",
    "    tem='Mamíferos'\n",
    "    url='http://www.mastozoologiamexicana.org/'\n",
    "    s_item=BeautifulSoup(r.text,'html.parser')\n",
    "    #titulo de revista\n",
    "    try:\n",
    "        titulo=tire\n",
    "        content_book['Titulo de revista']=tire\n",
    "    except AttributeError:\n",
    "        content_book['Titulo de revista']=None\n",
    "    #area\n",
    "    try:\n",
    "        area=a\n",
    "        content_book['Área']=a\n",
    "    except AttributeError:\n",
    "        content_book['Área']=None\n",
    "    #tematica\n",
    "    try:\n",
    "        tema=tem\n",
    "        content_book['Temática']=tem\n",
    "    except AttributeError:\n",
    "        content_book['Temática']=None\n",
    "    #titulo libro\n",
    "    try:\n",
    "        titu=s_item.find('h1').get_text(strip=True)\n",
    "        content_book['Titulo del libro']=titu\n",
    "    except AttributeError:\n",
    "        content_book['Titulo del libro']=None\n",
    "    #resumen\n",
    "    try:\n",
    "        resu=s_item.find('div', class_='description').get_text(strip=True)\n",
    "        content_book['Resumen']=resu\n",
    "    except AttributeError:\n",
    "        content_book['Resumen']=None\n",
    "    #Link incial\n",
    "    try:\n",
    "        inicial=url\n",
    "        content_book['Link inicial']=url\n",
    "    except AttributeError:\n",
    "        content_book['Link inicial']=None\n",
    "    #link articulo\n",
    "    try:\n",
    "        link=s_item.find('a', class_='obj_galley_link pdf').get('href')\n",
    "        content_book['Link articulo']=urljoin(url_root, link)\n",
    "    except AttributeError:\n",
    "        content_book['Link articulo']=None\n",
    "    return content_book"
   ]
  },
  {
   "cell_type": "code",
   "execution_count": 15,
   "id": "aa27ccd1-5cc4-43ec-8f4e-08198ba25048",
   "metadata": {},
   "outputs": [
    {
     "name": "stdout",
     "output_type": "stream",
     "text": [
      "estas escrapeando la pag 0\n",
      "estas escrapeando la pag 1\n",
      "estas escrapeando la pag 2\n",
      "estas escrapeando la pag 3\n",
      "estas escrapeando la pag 4\n",
      "estas escrapeando la pag 5\n",
      "estas escrapeando la pag 6\n",
      "estas escrapeando la pag 7\n"
     ]
    }
   ],
   "source": [
    "list_scraper=list_scraper[0:8]\n",
    "datos_book=[]\n",
    "for idx, i in enumerate(list_scraper):\n",
    "    print(f'estas escrapeando la pag {idx}')\n",
    "    datos_book.append(scraper_book(i))"
   ]
  },
  {
   "cell_type": "code",
   "execution_count": 16,
   "id": "6b32e587-7ebb-4623-b46b-659d445b4acb",
   "metadata": {},
   "outputs": [
    {
     "data": {
      "text/html": [
       "<div>\n",
       "<style scoped>\n",
       "    .dataframe tbody tr th:only-of-type {\n",
       "        vertical-align: middle;\n",
       "    }\n",
       "\n",
       "    .dataframe tbody tr th {\n",
       "        vertical-align: top;\n",
       "    }\n",
       "\n",
       "    .dataframe thead th {\n",
       "        text-align: right;\n",
       "    }\n",
       "</style>\n",
       "<table border=\"1\" class=\"dataframe\">\n",
       "  <thead>\n",
       "    <tr style=\"text-align: right;\">\n",
       "      <th></th>\n",
       "      <th>Titulo de revista</th>\n",
       "      <th>Área</th>\n",
       "      <th>Temática</th>\n",
       "      <th>Titulo del libro</th>\n",
       "      <th>Resumen</th>\n",
       "      <th>Link inicial</th>\n",
       "      <th>Link articulo</th>\n",
       "    </tr>\n",
       "  </thead>\n",
       "  <tbody>\n",
       "    <tr>\n",
       "      <th>0</th>\n",
       "      <td>Therya</td>\n",
       "      <td>II. Biología y Química</td>\n",
       "      <td>Mamíferos</td>\n",
       "      <td>Vol. 3 (2022): Fascículo 2</td>\n",
       "      <td>El desarrollo de grandes infraestructuras como...</td>\n",
       "      <td>http://www.mastozoologiamexicana.org/</td>\n",
       "      <td>https://mastozoologiamexicana.com/ojs/index.ph...</td>\n",
       "    </tr>\n",
       "    <tr>\n",
       "      <th>1</th>\n",
       "      <td>Therya</td>\n",
       "      <td>II. Biología y Química</td>\n",
       "      <td>Mamíferos</td>\n",
       "      <td>Vol. 3 (2022): Fascículo 1</td>\n",
       "      <td>El leucismo es la pérdida total o parcial de l...</td>\n",
       "      <td>http://www.mastozoologiamexicana.org/</td>\n",
       "      <td>https://mastozoologiamexicana.com/ojs/index.ph...</td>\n",
       "    </tr>\n",
       "    <tr>\n",
       "      <th>2</th>\n",
       "      <td>Therya</td>\n",
       "      <td>II. Biología y Química</td>\n",
       "      <td>Mamíferos</td>\n",
       "      <td>Vol. 2 (2021): Fascículo 3</td>\n",
       "      <td>Ejemplar adulto hembra deLasiurus arequipa. Se...</td>\n",
       "      <td>http://www.mastozoologiamexicana.org/</td>\n",
       "      <td>https://mastozoologiamexicana.com/ojs/index.ph...</td>\n",
       "    </tr>\n",
       "    <tr>\n",
       "      <th>3</th>\n",
       "      <td>Therya</td>\n",
       "      <td>II. Biología y Química</td>\n",
       "      <td>Mamíferos</td>\n",
       "      <td>Vol. 2 (2021): Fascículo 2</td>\n",
       "      <td>El géneroPeropteryxcontiene cinco especies dis...</td>\n",
       "      <td>http://www.mastozoologiamexicana.org/</td>\n",
       "      <td>https://mastozoologiamexicana.com/ojs/index.ph...</td>\n",
       "    </tr>\n",
       "    <tr>\n",
       "      <th>4</th>\n",
       "      <td>Therya</td>\n",
       "      <td>II. Biología y Química</td>\n",
       "      <td>Mamíferos</td>\n",
       "      <td>Vol. 2 (2021): Fascículo 1</td>\n",
       "      <td>El oso negro (Ursus americanus) redujo signifi...</td>\n",
       "      <td>http://www.mastozoologiamexicana.org/</td>\n",
       "      <td>https://mastozoologiamexicana.com/ojs/index.ph...</td>\n",
       "    </tr>\n",
       "    <tr>\n",
       "      <th>5</th>\n",
       "      <td>Therya</td>\n",
       "      <td>II. Biología y Química</td>\n",
       "      <td>Mamíferos</td>\n",
       "      <td>Vol. 1 (2020): Fascículo 3</td>\n",
       "      <td>Los armadillos son los únicos mamíferos que po...</td>\n",
       "      <td>http://www.mastozoologiamexicana.org/</td>\n",
       "      <td>https://mastozoologiamexicana.com/ojs/index.ph...</td>\n",
       "    </tr>\n",
       "    <tr>\n",
       "      <th>6</th>\n",
       "      <td>Therya</td>\n",
       "      <td>II. Biología y Química</td>\n",
       "      <td>Mamíferos</td>\n",
       "      <td>Vol. 1 (2020): Fascículo 2</td>\n",
       "      <td>Las fórmulas dentales anormales se presentan c...</td>\n",
       "      <td>http://www.mastozoologiamexicana.org/</td>\n",
       "      <td>https://mastozoologiamexicana.com/ojs/index.ph...</td>\n",
       "    </tr>\n",
       "    <tr>\n",
       "      <th>7</th>\n",
       "      <td>Therya</td>\n",
       "      <td>II. Biología y Química</td>\n",
       "      <td>Mamíferos</td>\n",
       "      <td>Vol. 1 (2020): Fascículo 1</td>\n",
       "      <td>La zorra gris (Urocyon cinereoargenteus) es co...</td>\n",
       "      <td>http://www.mastozoologiamexicana.org/</td>\n",
       "      <td>https://mastozoologiamexicana.com/ojs/index.ph...</td>\n",
       "    </tr>\n",
       "  </tbody>\n",
       "</table>\n",
       "</div>"
      ],
      "text/plain": [
       "  Titulo de revista                    Área   Temática  \\\n",
       "0            Therya  II. Biología y Química  Mamíferos   \n",
       "1            Therya  II. Biología y Química  Mamíferos   \n",
       "2            Therya  II. Biología y Química  Mamíferos   \n",
       "3            Therya  II. Biología y Química  Mamíferos   \n",
       "4            Therya  II. Biología y Química  Mamíferos   \n",
       "5            Therya  II. Biología y Química  Mamíferos   \n",
       "6            Therya  II. Biología y Química  Mamíferos   \n",
       "7            Therya  II. Biología y Química  Mamíferos   \n",
       "\n",
       "             Titulo del libro  \\\n",
       "0  Vol. 3 (2022): Fascículo 2   \n",
       "1  Vol. 3 (2022): Fascículo 1   \n",
       "2  Vol. 2 (2021): Fascículo 3   \n",
       "3  Vol. 2 (2021): Fascículo 2   \n",
       "4  Vol. 2 (2021): Fascículo 1   \n",
       "5  Vol. 1 (2020): Fascículo 3   \n",
       "6  Vol. 1 (2020): Fascículo 2   \n",
       "7  Vol. 1 (2020): Fascículo 1   \n",
       "\n",
       "                                             Resumen  \\\n",
       "0  El desarrollo de grandes infraestructuras como...   \n",
       "1  El leucismo es la pérdida total o parcial de l...   \n",
       "2  Ejemplar adulto hembra deLasiurus arequipa. Se...   \n",
       "3  El géneroPeropteryxcontiene cinco especies dis...   \n",
       "4  El oso negro (Ursus americanus) redujo signifi...   \n",
       "5  Los armadillos son los únicos mamíferos que po...   \n",
       "6  Las fórmulas dentales anormales se presentan c...   \n",
       "7  La zorra gris (Urocyon cinereoargenteus) es co...   \n",
       "\n",
       "                            Link inicial  \\\n",
       "0  http://www.mastozoologiamexicana.org/   \n",
       "1  http://www.mastozoologiamexicana.org/   \n",
       "2  http://www.mastozoologiamexicana.org/   \n",
       "3  http://www.mastozoologiamexicana.org/   \n",
       "4  http://www.mastozoologiamexicana.org/   \n",
       "5  http://www.mastozoologiamexicana.org/   \n",
       "6  http://www.mastozoologiamexicana.org/   \n",
       "7  http://www.mastozoologiamexicana.org/   \n",
       "\n",
       "                                       Link articulo  \n",
       "0  https://mastozoologiamexicana.com/ojs/index.ph...  \n",
       "1  https://mastozoologiamexicana.com/ojs/index.ph...  \n",
       "2  https://mastozoologiamexicana.com/ojs/index.ph...  \n",
       "3  https://mastozoologiamexicana.com/ojs/index.ph...  \n",
       "4  https://mastozoologiamexicana.com/ojs/index.ph...  \n",
       "5  https://mastozoologiamexicana.com/ojs/index.ph...  \n",
       "6  https://mastozoologiamexicana.com/ojs/index.ph...  \n",
       "7  https://mastozoologiamexicana.com/ojs/index.ph...  "
      ]
     },
     "execution_count": 16,
     "metadata": {},
     "output_type": "execute_result"
    }
   ],
   "source": [
    "df_catalogo=pd.DataFrame(datos_book)\n",
    "df_catalogo"
   ]
  },
  {
   "cell_type": "code",
   "execution_count": 17,
   "id": "958f26f3-5a98-47d1-9289-e8aad011ced7",
   "metadata": {},
   "outputs": [],
   "source": [
    "df_catalogo.to_csv('Revista39.csv', index=False)"
   ]
  },
  {
   "cell_type": "code",
   "execution_count": null,
   "id": "2aa3114f-13c4-43b0-aa37-9d4496bacf3a",
   "metadata": {},
   "outputs": [],
   "source": []
  }
 ],
 "metadata": {
  "kernelspec": {
   "display_name": "Python 3 (ipykernel)",
   "language": "python",
   "name": "python3"
  },
  "language_info": {
   "codemirror_mode": {
    "name": "ipython",
    "version": 3
   },
   "file_extension": ".py",
   "mimetype": "text/x-python",
   "name": "python",
   "nbconvert_exporter": "python",
   "pygments_lexer": "ipython3",
   "version": "3.10.4"
  }
 },
 "nbformat": 4,
 "nbformat_minor": 5
}
