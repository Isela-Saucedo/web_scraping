{
 "cells": [
  {
   "cell_type": "code",
   "execution_count": 1,
   "id": "d4326137-203c-4c8e-add7-60b122a5955b",
   "metadata": {},
   "outputs": [],
   "source": [
    "import requests\n",
    "import bs4\n",
    "from bs4 import BeautifulSoup\n",
    "from urllib.parse import urljoin\n",
    "import pandas as pd"
   ]
  },
  {
   "cell_type": "code",
   "execution_count": 57,
   "id": "8c42dbd1-ff66-42c5-8447-68987cfebc5f",
   "metadata": {},
   "outputs": [],
   "source": [
    "url_inicial = 'http://www.rmib.mx/index.php/rmib/issue/archive/6'\n",
    "url_root = 'http://www.rmib.mx/index.php/rmib/issue/archive/6'\n",
    "r=requests.get(url_inicial)"
   ]
  },
  {
   "cell_type": "code",
   "execution_count": 58,
   "id": "449a9433-6cf4-4fe0-b7ab-fc8f9c95c5d6",
   "metadata": {},
   "outputs": [],
   "source": [
    "soup = BeautifulSoup(r.text, 'html.parser')"
   ]
  },
  {
   "cell_type": "code",
   "execution_count": 59,
   "id": "9e73d6cd-19b5-4184-a7e8-d4643b09b8dd",
   "metadata": {},
   "outputs": [
    {
     "data": {
      "text/plain": [
       "['http://www.rmib.mx/index.php/rmib/issue/view/72',\n",
       " 'http://www.rmib.mx/index.php/rmib/issue/view/59',\n",
       " 'http://www.rmib.mx/index.php/rmib/issue/view/56',\n",
       " 'http://www.rmib.mx/index.php/rmib/issue/view/68',\n",
       " 'http://www.rmib.mx/index.php/rmib/issue/view/55',\n",
       " 'http://www.rmib.mx/index.php/rmib/issue/view/66',\n",
       " 'http://www.rmib.mx/index.php/rmib/issue/view/67',\n",
       " 'http://www.rmib.mx/index.php/rmib/issue/view/54',\n",
       " 'http://www.rmib.mx/index.php/rmib/issue/view/69']"
      ]
     },
     "execution_count": 59,
     "metadata": {},
     "output_type": "execute_result"
    }
   ],
   "source": [
    "box = soup.find('ul', class_='issues_archive')\n",
    "volumen=box.findAll('div', class_='obj_issue_summary')\n",
    "vol = [x.find('a').get('href')for x in volumen]\n",
    "vol=[urljoin(url_root,i) for i in vol]\n",
    "vol"
   ]
  },
  {
   "cell_type": "code",
   "execution_count": 60,
   "id": "dc747d8a-4cdc-4097-bd19-3319d30b4506",
   "metadata": {},
   "outputs": [],
   "source": [
    "def get_url_items(sopa, url): \n",
    "    box = soup.find('ul', class_='issues_archive')\n",
    "    volumen=box.findAll('div', class_='obj_issue_summary')\n",
    "    vol = [x.find('a').get('href')for x in volumen]\n",
    "    vol=[urljoin(url_root,i) for i in vol]\n",
    "    return vol"
   ]
  },
  {
   "cell_type": "code",
   "execution_count": 61,
   "id": "0816b38d-b35e-4607-be89-c6052601eb28",
   "metadata": {},
   "outputs": [
    {
     "name": "stdout",
     "output_type": "stream",
     "text": [
      "Estoy en la pagina http://www.rmib.mx/index.php/rmib/issue/archive/6\n"
     ]
    }
   ],
   "source": [
    "links_items=[]\n",
    "i=0\n",
    "while i<1:\n",
    "    i+=1\n",
    "    print(f'Estoy en la pagina {url_inicial}')\n",
    "    r_pag=requests.get(url_inicial)\n",
    "    s_p=BeautifulSoup(r_pag.text,'html.parser')\n",
    "    links=get_url_items(s_p, url_inicial)\n",
    "    links_items.append(links)"
   ]
  },
  {
   "cell_type": "code",
   "execution_count": 62,
   "id": "ea2773b5-de65-40e4-885e-aab5917be849",
   "metadata": {},
   "outputs": [
    {
     "data": {
      "text/plain": [
       "9"
      ]
     },
     "execution_count": 62,
     "metadata": {},
     "output_type": "execute_result"
    }
   ],
   "source": [
    "list_scraper=[]\n",
    "for i in links_items:\n",
    "    for j in i:\n",
    "        list_scraper.append(j)\n",
    "len(list_scraper)"
   ]
  },
  {
   "cell_type": "code",
   "execution_count": 63,
   "id": "2bb6408d-dced-408d-8e1c-16c8c8bc9fd8",
   "metadata": {},
   "outputs": [],
   "source": [
    "uno=list_scraper[0]\n",
    "r_item=requests.get(uno)\n",
    "s_item=BeautifulSoup(r_item.text, 'html.parser')"
   ]
  },
  {
   "cell_type": "code",
   "execution_count": 64,
   "id": "ecfed8d8-555b-484d-a97e-41fb230737ce",
   "metadata": {},
   "outputs": [],
   "source": [
    "#funcion para iniciar el escraper de cada libro\n",
    "def scraper_book(url):\n",
    "    content_book={}\n",
    "    r=requests.get(url)\n",
    "    tire='Revista Mexicana de Ingeniería Biomédica'\n",
    "    a='VII. Ingenierías'\n",
    "    tem='Ciencias de la Salud'\n",
    "    url='http://www.rmib.mx'\n",
    "    s_item=BeautifulSoup(r.text,'html.parser')\n",
    "    #titulo de revista\n",
    "    try:\n",
    "        titulo=tire\n",
    "        content_book['Titulo de revista']=tire\n",
    "    except AttributeError:\n",
    "        content_book['Titulo de revista']=None\n",
    "    #area\n",
    "    try:\n",
    "        area=a\n",
    "        content_book['Área']=a\n",
    "    except AttributeError:\n",
    "        content_book['Área']=None\n",
    "    #tematica\n",
    "    try:\n",
    "        tema=tem\n",
    "        content_book['Temática']=tem\n",
    "    except AttributeError:\n",
    "        content_book['Temática']=None\n",
    "    #titulo libro\n",
    "    try:\n",
    "        titu=s_item.find('div', class_='title').get_text(strip=True)\n",
    "        content_book['Titulo del libro']=titu\n",
    "    except AttributeError:\n",
    "        content_book['Titulo del libro']=None\n",
    "    #resumen\n",
    "    try:\n",
    "        resu=s_item.find('a', class_='cover').get_text(strip=True)\n",
    "        content_book['Resumen']=resu\n",
    "    except AttributeError:\n",
    "        content_book['Resumen']=None\n",
    "    #Link incial\n",
    "    try:\n",
    "        inicial=url\n",
    "        content_book['Link inicial']=url\n",
    "    except AttributeError:\n",
    "        content_book['Link inicial']=None\n",
    "    #link articulo\n",
    "    try:\n",
    "        link=s_item.find('a', class_='obj_galley_link pdf').get('href')\n",
    "        content_book['Link articulo']=urljoin(url_root, link)\n",
    "    except AttributeError:\n",
    "        content_book['Link articulo']=None\n",
    "    return content_book"
   ]
  },
  {
   "cell_type": "code",
   "execution_count": 65,
   "id": "b156f534-21dd-45ad-977e-3bc509e8338d",
   "metadata": {},
   "outputs": [
    {
     "name": "stdout",
     "output_type": "stream",
     "text": [
      "estas escrapeando la pag 0\n",
      "estas escrapeando la pag 1\n",
      "estas escrapeando la pag 2\n",
      "estas escrapeando la pag 3\n",
      "estas escrapeando la pag 4\n",
      "estas escrapeando la pag 5\n",
      "estas escrapeando la pag 6\n",
      "estas escrapeando la pag 7\n",
      "estas escrapeando la pag 8\n"
     ]
    }
   ],
   "source": [
    "list_scraper=list_scraper[0:9]\n",
    "datos_book=[]\n",
    "for idx, i in enumerate(list_scraper):\n",
    "    print(f'estas escrapeando la pag {idx}')\n",
    "    datos_book.append(scraper_book(i))"
   ]
  },
  {
   "cell_type": "code",
   "execution_count": 66,
   "id": "90a2843f-312a-4bc4-af2d-337504ccda96",
   "metadata": {},
   "outputs": [
    {
     "data": {
      "text/html": [
       "<div>\n",
       "<style scoped>\n",
       "    .dataframe tbody tr th:only-of-type {\n",
       "        vertical-align: middle;\n",
       "    }\n",
       "\n",
       "    .dataframe tbody tr th {\n",
       "        vertical-align: top;\n",
       "    }\n",
       "\n",
       "    .dataframe thead th {\n",
       "        text-align: right;\n",
       "    }\n",
       "</style>\n",
       "<table border=\"1\" class=\"dataframe\">\n",
       "  <thead>\n",
       "    <tr style=\"text-align: right;\">\n",
       "      <th></th>\n",
       "      <th>Titulo de revista</th>\n",
       "      <th>Área</th>\n",
       "      <th>Temática</th>\n",
       "      <th>Titulo del libro</th>\n",
       "      <th>Resumen</th>\n",
       "      <th>Link inicial</th>\n",
       "      <th>Link articulo</th>\n",
       "    </tr>\n",
       "  </thead>\n",
       "  <tbody>\n",
       "    <tr>\n",
       "      <th>0</th>\n",
       "      <td>Revista Mexicana de Ingeniería Biomédica</td>\n",
       "      <td>VII. Ingenierías</td>\n",
       "      <td>Ciencias de la Salud</td>\n",
       "      <td>Detector de movimientos oculares</td>\n",
       "      <td></td>\n",
       "      <td>http://www.rmib.mx</td>\n",
       "      <td>http://www.rmib.mx/index.php/rmib/article/view...</td>\n",
       "    </tr>\n",
       "    <tr>\n",
       "      <th>1</th>\n",
       "      <td>Revista Mexicana de Ingeniería Biomédica</td>\n",
       "      <td>VII. Ingenierías</td>\n",
       "      <td>Ciencias de la Salud</td>\n",
       "      <td>Sesión Biopotenciales</td>\n",
       "      <td></td>\n",
       "      <td>http://www.rmib.mx</td>\n",
       "      <td>http://www.rmib.mx/index.php/rmib/article/view...</td>\n",
       "    </tr>\n",
       "    <tr>\n",
       "      <th>2</th>\n",
       "      <td>Revista Mexicana de Ingeniería Biomédica</td>\n",
       "      <td>VII. Ingenierías</td>\n",
       "      <td>Ciencias de la Salud</td>\n",
       "      <td>Seguridad eléctrica en el medio ambiente hospi...</td>\n",
       "      <td></td>\n",
       "      <td>http://www.rmib.mx</td>\n",
       "      <td>http://www.rmib.mx/index.php/rmib/article/view...</td>\n",
       "    </tr>\n",
       "    <tr>\n",
       "      <th>3</th>\n",
       "      <td>Revista Mexicana de Ingeniería Biomédica</td>\n",
       "      <td>VII. Ingenierías</td>\n",
       "      <td>Ciencias de la Salud</td>\n",
       "      <td>Sesión de Informática médica</td>\n",
       "      <td></td>\n",
       "      <td>http://www.rmib.mx</td>\n",
       "      <td>http://www.rmib.mx/index.php/rmib/article/view...</td>\n",
       "    </tr>\n",
       "    <tr>\n",
       "      <th>4</th>\n",
       "      <td>Revista Mexicana de Ingeniería Biomédica</td>\n",
       "      <td>VII. Ingenierías</td>\n",
       "      <td>Ciencias de la Salud</td>\n",
       "      <td>Calibración de equipo de radiodiagnóstico no f...</td>\n",
       "      <td></td>\n",
       "      <td>http://www.rmib.mx</td>\n",
       "      <td>http://www.rmib.mx/index.php/rmib/article/view...</td>\n",
       "    </tr>\n",
       "    <tr>\n",
       "      <th>5</th>\n",
       "      <td>Revista Mexicana de Ingeniería Biomédica</td>\n",
       "      <td>VII. Ingenierías</td>\n",
       "      <td>Ciencias de la Salud</td>\n",
       "      <td>Tema ILos programas de enseñanza y su impacto ...</td>\n",
       "      <td></td>\n",
       "      <td>http://www.rmib.mx</td>\n",
       "      <td>http://www.rmib.mx/index.php/rmib/article/view...</td>\n",
       "    </tr>\n",
       "    <tr>\n",
       "      <th>6</th>\n",
       "      <td>Revista Mexicana de Ingeniería Biomédica</td>\n",
       "      <td>VII. Ingenierías</td>\n",
       "      <td>Ciencias de la Salud</td>\n",
       "      <td>Salutación</td>\n",
       "      <td></td>\n",
       "      <td>http://www.rmib.mx</td>\n",
       "      <td>http://www.rmib.mx/index.php/rmib/article/view...</td>\n",
       "    </tr>\n",
       "    <tr>\n",
       "      <th>7</th>\n",
       "      <td>Revista Mexicana de Ingeniería Biomédica</td>\n",
       "      <td>VII. Ingenierías</td>\n",
       "      <td>Ciencias de la Salud</td>\n",
       "      <td>Introducción al Procesamiento Discreto de Señales</td>\n",
       "      <td></td>\n",
       "      <td>http://www.rmib.mx</td>\n",
       "      <td>http://www.rmib.mx/index.php/rmib/article/view...</td>\n",
       "    </tr>\n",
       "    <tr>\n",
       "      <th>8</th>\n",
       "      <td>Revista Mexicana de Ingeniería Biomédica</td>\n",
       "      <td>VII. Ingenierías</td>\n",
       "      <td>Ciencias de la Salud</td>\n",
       "      <td>Programa</td>\n",
       "      <td></td>\n",
       "      <td>http://www.rmib.mx</td>\n",
       "      <td>http://www.rmib.mx/index.php/rmib/article/view...</td>\n",
       "    </tr>\n",
       "  </tbody>\n",
       "</table>\n",
       "</div>"
      ],
      "text/plain": [
       "                          Titulo de revista              Área  \\\n",
       "0  Revista Mexicana de Ingeniería Biomédica  VII. Ingenierías   \n",
       "1  Revista Mexicana de Ingeniería Biomédica  VII. Ingenierías   \n",
       "2  Revista Mexicana de Ingeniería Biomédica  VII. Ingenierías   \n",
       "3  Revista Mexicana de Ingeniería Biomédica  VII. Ingenierías   \n",
       "4  Revista Mexicana de Ingeniería Biomédica  VII. Ingenierías   \n",
       "5  Revista Mexicana de Ingeniería Biomédica  VII. Ingenierías   \n",
       "6  Revista Mexicana de Ingeniería Biomédica  VII. Ingenierías   \n",
       "7  Revista Mexicana de Ingeniería Biomédica  VII. Ingenierías   \n",
       "8  Revista Mexicana de Ingeniería Biomédica  VII. Ingenierías   \n",
       "\n",
       "               Temática                                   Titulo del libro  \\\n",
       "0  Ciencias de la Salud                   Detector de movimientos oculares   \n",
       "1  Ciencias de la Salud                              Sesión Biopotenciales   \n",
       "2  Ciencias de la Salud  Seguridad eléctrica en el medio ambiente hospi...   \n",
       "3  Ciencias de la Salud                       Sesión de Informática médica   \n",
       "4  Ciencias de la Salud  Calibración de equipo de radiodiagnóstico no f...   \n",
       "5  Ciencias de la Salud  Tema ILos programas de enseñanza y su impacto ...   \n",
       "6  Ciencias de la Salud                                         Salutación   \n",
       "7  Ciencias de la Salud  Introducción al Procesamiento Discreto de Señales   \n",
       "8  Ciencias de la Salud                                           Programa   \n",
       "\n",
       "  Resumen        Link inicial  \\\n",
       "0          http://www.rmib.mx   \n",
       "1          http://www.rmib.mx   \n",
       "2          http://www.rmib.mx   \n",
       "3          http://www.rmib.mx   \n",
       "4          http://www.rmib.mx   \n",
       "5          http://www.rmib.mx   \n",
       "6          http://www.rmib.mx   \n",
       "7          http://www.rmib.mx   \n",
       "8          http://www.rmib.mx   \n",
       "\n",
       "                                       Link articulo  \n",
       "0  http://www.rmib.mx/index.php/rmib/article/view...  \n",
       "1  http://www.rmib.mx/index.php/rmib/article/view...  \n",
       "2  http://www.rmib.mx/index.php/rmib/article/view...  \n",
       "3  http://www.rmib.mx/index.php/rmib/article/view...  \n",
       "4  http://www.rmib.mx/index.php/rmib/article/view...  \n",
       "5  http://www.rmib.mx/index.php/rmib/article/view...  \n",
       "6  http://www.rmib.mx/index.php/rmib/article/view...  \n",
       "7  http://www.rmib.mx/index.php/rmib/article/view...  \n",
       "8  http://www.rmib.mx/index.php/rmib/article/view...  "
      ]
     },
     "execution_count": 66,
     "metadata": {},
     "output_type": "execute_result"
    }
   ],
   "source": [
    "df_catalogo=pd.DataFrame(datos_book)\n",
    "df_catalogo"
   ]
  },
  {
   "cell_type": "code",
   "execution_count": 67,
   "id": "063e294d-127b-4fb6-8072-791533b743e7",
   "metadata": {},
   "outputs": [],
   "source": [
    "df_catalogo.to_csv('Revista73.06.csv', index=False)"
   ]
  },
  {
   "cell_type": "code",
   "execution_count": null,
   "id": "1e458222-f02a-43d5-86aa-2549842e4ff6",
   "metadata": {},
   "outputs": [],
   "source": []
  }
 ],
 "metadata": {
  "kernelspec": {
   "display_name": "Python 3 (ipykernel)",
   "language": "python",
   "name": "python3"
  },
  "language_info": {
   "codemirror_mode": {
    "name": "ipython",
    "version": 3
   },
   "file_extension": ".py",
   "mimetype": "text/x-python",
   "name": "python",
   "nbconvert_exporter": "python",
   "pygments_lexer": "ipython3",
   "version": "3.10.4"
  }
 },
 "nbformat": 4,
 "nbformat_minor": 5
}
