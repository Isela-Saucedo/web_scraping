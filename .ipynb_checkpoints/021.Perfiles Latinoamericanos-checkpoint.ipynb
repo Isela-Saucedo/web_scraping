{
 "cells": [
  {
   "cell_type": "code",
   "execution_count": 1,
   "id": "ba0d4ed9-09fb-477f-afac-bd296a34e0c5",
   "metadata": {},
   "outputs": [],
   "source": [
    "import requests\n",
    "import bs4\n",
    "from bs4 import BeautifulSoup\n",
    "from urllib.parse import urljoin\n",
    "import pandas as pd"
   ]
  },
  {
   "cell_type": "code",
   "execution_count": 50,
   "id": "b50767c3-1a51-40ef-9078-d7d4008d045e",
   "metadata": {},
   "outputs": [],
   "source": [
    "url_inicial='https://perfilesla.flacso.edu.mx/index.php/perfilesla/issue/archive'\n",
    "url_root= 'https://perfilesla.flacso.edu.mx/index.php/perfilesla/issue/archive'\n",
    "r = requests.get(url_inicial)"
   ]
  },
  {
   "cell_type": "code",
   "execution_count": 51,
   "id": "cf145a03-b563-47e0-8169-9380f4497f62",
   "metadata": {},
   "outputs": [],
   "source": [
    "soup = BeautifulSoup(r.text, 'html.parser')"
   ]
  },
  {
   "cell_type": "code",
   "execution_count": 52,
   "id": "a27a1196-6d73-4b69-b1c5-6b11864a4468",
   "metadata": {},
   "outputs": [
    {
     "data": {
      "text/plain": [
       "['https://perfilesla.flacso.edu.mx/index.php/perfilesla/issue/view/68',\n",
       " 'https://perfilesla.flacso.edu.mx/index.php/perfilesla/issue/view/67',\n",
       " 'https://perfilesla.flacso.edu.mx/index.php/perfilesla/issue/view/66',\n",
       " 'https://perfilesla.flacso.edu.mx/index.php/perfilesla/issue/view/65',\n",
       " 'https://perfilesla.flacso.edu.mx/index.php/perfilesla/issue/view/63',\n",
       " 'https://perfilesla.flacso.edu.mx/index.php/perfilesla/issue/view/62',\n",
       " 'https://perfilesla.flacso.edu.mx/index.php/perfilesla/issue/view/61',\n",
       " 'https://perfilesla.flacso.edu.mx/index.php/perfilesla/issue/view/60',\n",
       " 'https://perfilesla.flacso.edu.mx/index.php/perfilesla/issue/view/58',\n",
       " 'https://perfilesla.flacso.edu.mx/index.php/perfilesla/issue/view/57',\n",
       " 'https://perfilesla.flacso.edu.mx/index.php/perfilesla/issue/view/56',\n",
       " 'https://perfilesla.flacso.edu.mx/index.php/perfilesla/issue/view/53',\n",
       " 'https://perfilesla.flacso.edu.mx/index.php/perfilesla/issue/view/51',\n",
       " 'https://perfilesla.flacso.edu.mx/index.php/perfilesla/issue/view/48',\n",
       " 'https://perfilesla.flacso.edu.mx/index.php/perfilesla/issue/view/2',\n",
       " 'https://perfilesla.flacso.edu.mx/index.php/perfilesla/issue/view/3',\n",
       " 'https://perfilesla.flacso.edu.mx/index.php/perfilesla/issue/view/5',\n",
       " 'https://perfilesla.flacso.edu.mx/index.php/perfilesla/issue/view/6',\n",
       " 'https://perfilesla.flacso.edu.mx/index.php/perfilesla/issue/view/7',\n",
       " 'https://perfilesla.flacso.edu.mx/index.php/perfilesla/issue/view/8',\n",
       " 'https://perfilesla.flacso.edu.mx/index.php/perfilesla/issue/view/9',\n",
       " 'https://perfilesla.flacso.edu.mx/index.php/perfilesla/issue/view/10',\n",
       " 'https://perfilesla.flacso.edu.mx/index.php/perfilesla/issue/view/11',\n",
       " 'https://perfilesla.flacso.edu.mx/index.php/perfilesla/issue/view/12',\n",
       " 'https://perfilesla.flacso.edu.mx/index.php/perfilesla/issue/view/13']"
      ]
     },
     "execution_count": 52,
     "metadata": {},
     "output_type": "execute_result"
    }
   ],
   "source": [
    "box = soup.find('div', class_='page page_issue_archive')\n",
    "volumen=box.findAll('div', class_='card obj_issue_summary')\n",
    "vol = [x.find('a').get('href')for x in volumen]\n",
    "vol=[urljoin(url_root,i) for i in vol]\n",
    "vol"
   ]
  },
  {
   "cell_type": "code",
   "execution_count": 53,
   "id": "adb6bff9-9879-452a-88dc-dddc56c0e533",
   "metadata": {},
   "outputs": [],
   "source": [
    "def get_url_items(sopa, url): \n",
    "    box = soup.find('div', class_='page page_issue_archive')\n",
    "    volumen=box.findAll('div', class_='card obj_issue_summary')\n",
    "    vol = [x.find('a').get('href')for x in volumen]\n",
    "    vol=[urljoin(url_root,i) for i in vol]\n",
    "    return vol"
   ]
  },
  {
   "cell_type": "code",
   "execution_count": 54,
   "id": "b2dbb0a0-d466-41d3-9fd5-2a2120c9360a",
   "metadata": {},
   "outputs": [
    {
     "name": "stdout",
     "output_type": "stream",
     "text": [
      "Estoy en la pagina https://perfilesla.flacso.edu.mx/index.php/perfilesla/issue/archive\n"
     ]
    }
   ],
   "source": [
    "links_items=[]\n",
    "i=0\n",
    "while i<1:\n",
    "    i+=1\n",
    "    print(f'Estoy en la pagina {url_inicial}')\n",
    "    r_pag=requests.get(url_inicial)\n",
    "    s_p=BeautifulSoup(r_pag.text,'html.parser')\n",
    "    links=get_url_items(s_p, url_inicial)\n",
    "    links_items.append(links) \n",
    "    next_a=s_p.select('div.cmp_pagination > a')\n",
    "    if not next_a or not next_a[0].get('href'):\n",
    "        break\n",
    "    url_inicial = urljoin(url_inicial, next_a[0].get('href'))"
   ]
  },
  {
   "cell_type": "code",
   "execution_count": 55,
   "id": "e72e9848-3b77-4086-b603-8d7ac211ae30",
   "metadata": {},
   "outputs": [
    {
     "data": {
      "text/plain": [
       "25"
      ]
     },
     "execution_count": 55,
     "metadata": {},
     "output_type": "execute_result"
    }
   ],
   "source": [
    "list_scraper=[]\n",
    "for i in links_items:\n",
    "    for j in i:\n",
    "        list_scraper.append(j)\n",
    "len(list_scraper)"
   ]
  },
  {
   "cell_type": "code",
   "execution_count": 56,
   "id": "d0e5dfd6-c9fe-400e-81ac-e30d3938bc7e",
   "metadata": {},
   "outputs": [],
   "source": [
    "uno=list_scraper[0]\n",
    "r_item=requests.get(uno)\n",
    "s_item=BeautifulSoup(r_item.text, 'html.parser')"
   ]
  },
  {
   "cell_type": "code",
   "execution_count": 57,
   "id": "d16b421f-54cd-4202-b2a7-cc71afc0b6a6",
   "metadata": {},
   "outputs": [],
   "source": [
    "#funcion para iniciar el escraper de cada libro\n",
    "def scraper_book(url):\n",
    "    content_book={}\n",
    "    r=requests.get(url)\n",
    "    s_item=BeautifulSoup(r.text,'html.parser')\n",
    "    #volumen del libro\n",
    "    try:\n",
    "        vol=s_item.find('li', class_='breadcrumb-item active').get_text(strip=True)\n",
    "        content_book['Volumen']=vol\n",
    "    except AttributeError:\n",
    "        content_book['Volumen']=None\n",
    "    #obtener link\n",
    "    try:\n",
    "        link=s_item.find('h4', class_='issue-article-title card-title').get('href')\n",
    "        content_book['Link']=urljoin(url_root, link)\n",
    "    except AttributeError:\n",
    "        content_book['Link']=None\n",
    "    return content_book"
   ]
  },
  {
   "cell_type": "code",
   "execution_count": 58,
   "id": "141fd22c-c8b5-446e-85aa-5e000ea567ad",
   "metadata": {},
   "outputs": [
    {
     "name": "stdout",
     "output_type": "stream",
     "text": [
      "estas escrapeando la pag 0\n",
      "estas escrapeando la pag 1\n",
      "estas escrapeando la pag 2\n",
      "estas escrapeando la pag 3\n",
      "estas escrapeando la pag 4\n",
      "estas escrapeando la pag 5\n",
      "estas escrapeando la pag 6\n",
      "estas escrapeando la pag 7\n",
      "estas escrapeando la pag 8\n",
      "estas escrapeando la pag 9\n",
      "estas escrapeando la pag 10\n",
      "estas escrapeando la pag 11\n",
      "estas escrapeando la pag 12\n",
      "estas escrapeando la pag 13\n",
      "estas escrapeando la pag 14\n",
      "estas escrapeando la pag 15\n",
      "estas escrapeando la pag 16\n",
      "estas escrapeando la pag 17\n",
      "estas escrapeando la pag 18\n",
      "estas escrapeando la pag 19\n",
      "estas escrapeando la pag 20\n",
      "estas escrapeando la pag 21\n",
      "estas escrapeando la pag 22\n",
      "estas escrapeando la pag 23\n",
      "estas escrapeando la pag 24\n"
     ]
    }
   ],
   "source": [
    "list_scraper=list_scraper[0:25]\n",
    "datos_book=[]\n",
    "for idx, i in enumerate(list_scraper):\n",
    "    print(f'estas escrapeando la pag {idx}')\n",
    "    datos_book.append(scraper_book(i))"
   ]
  },
  {
   "cell_type": "code",
   "execution_count": 59,
   "id": "02b3491b-0ac4-4e01-8ee4-808a1d3d80f4",
   "metadata": {},
   "outputs": [
    {
     "data": {
      "text/html": [
       "<div>\n",
       "<style scoped>\n",
       "    .dataframe tbody tr th:only-of-type {\n",
       "        vertical-align: middle;\n",
       "    }\n",
       "\n",
       "    .dataframe tbody tr th {\n",
       "        vertical-align: top;\n",
       "    }\n",
       "\n",
       "    .dataframe thead th {\n",
       "        text-align: right;\n",
       "    }\n",
       "</style>\n",
       "<table border=\"1\" class=\"dataframe\">\n",
       "  <thead>\n",
       "    <tr style=\"text-align: right;\">\n",
       "      <th></th>\n",
       "      <th>Volumen</th>\n",
       "      <th>Link</th>\n",
       "    </tr>\n",
       "  </thead>\n",
       "  <tbody>\n",
       "    <tr>\n",
       "      <th>0</th>\n",
       "      <td>Vol. 30 Núm. 59 (2022)</td>\n",
       "      <td>https://perfilesla.flacso.edu.mx/index.php/per...</td>\n",
       "    </tr>\n",
       "    <tr>\n",
       "      <th>1</th>\n",
       "      <td>Vol. 29 Núm. 58 (2021)</td>\n",
       "      <td>https://perfilesla.flacso.edu.mx/index.php/per...</td>\n",
       "    </tr>\n",
       "    <tr>\n",
       "      <th>2</th>\n",
       "      <td>Vol. 29 Núm. 57 (2021)</td>\n",
       "      <td>https://perfilesla.flacso.edu.mx/index.php/per...</td>\n",
       "    </tr>\n",
       "    <tr>\n",
       "      <th>3</th>\n",
       "      <td>Vol. 28 Núm. 56 (2020)</td>\n",
       "      <td>https://perfilesla.flacso.edu.mx/index.php/per...</td>\n",
       "    </tr>\n",
       "    <tr>\n",
       "      <th>4</th>\n",
       "      <td>Vol. 28 Núm. 55 (2020)</td>\n",
       "      <td>https://perfilesla.flacso.edu.mx/index.php/per...</td>\n",
       "    </tr>\n",
       "    <tr>\n",
       "      <th>5</th>\n",
       "      <td>Vol. 27 Núm. 54 (2019)</td>\n",
       "      <td>https://perfilesla.flacso.edu.mx/index.php/per...</td>\n",
       "    </tr>\n",
       "    <tr>\n",
       "      <th>6</th>\n",
       "      <td>Vol. 27 Núm. 53 (2019)</td>\n",
       "      <td>https://perfilesla.flacso.edu.mx/index.php/per...</td>\n",
       "    </tr>\n",
       "    <tr>\n",
       "      <th>7</th>\n",
       "      <td>Vol. 26 Núm. 52 (2018)</td>\n",
       "      <td>https://perfilesla.flacso.edu.mx/index.php/per...</td>\n",
       "    </tr>\n",
       "    <tr>\n",
       "      <th>8</th>\n",
       "      <td>Vol. 26 Núm. 51 (2018)</td>\n",
       "      <td>https://perfilesla.flacso.edu.mx/index.php/per...</td>\n",
       "    </tr>\n",
       "    <tr>\n",
       "      <th>9</th>\n",
       "      <td>Vol. 25 Núm. 50 (2017)</td>\n",
       "      <td>https://perfilesla.flacso.edu.mx/index.php/per...</td>\n",
       "    </tr>\n",
       "    <tr>\n",
       "      <th>10</th>\n",
       "      <td>Vol. 25 Núm. 49 (2017)</td>\n",
       "      <td>https://perfilesla.flacso.edu.mx/index.php/per...</td>\n",
       "    </tr>\n",
       "    <tr>\n",
       "      <th>11</th>\n",
       "      <td>Vol. 24 Núm. 48 (2016)</td>\n",
       "      <td>https://perfilesla.flacso.edu.mx/index.php/per...</td>\n",
       "    </tr>\n",
       "    <tr>\n",
       "      <th>12</th>\n",
       "      <td>Vol. 24 Núm. 47 (2016)</td>\n",
       "      <td>https://perfilesla.flacso.edu.mx/index.php/per...</td>\n",
       "    </tr>\n",
       "    <tr>\n",
       "      <th>13</th>\n",
       "      <td>Vol. 23 Núm. 46 (2015)</td>\n",
       "      <td>https://perfilesla.flacso.edu.mx/index.php/per...</td>\n",
       "    </tr>\n",
       "    <tr>\n",
       "      <th>14</th>\n",
       "      <td>Vol. 23 Núm. 45 (2015)</td>\n",
       "      <td>https://perfilesla.flacso.edu.mx/index.php/per...</td>\n",
       "    </tr>\n",
       "    <tr>\n",
       "      <th>15</th>\n",
       "      <td>Vol. 22 Núm. 44 (2014)</td>\n",
       "      <td>https://perfilesla.flacso.edu.mx/index.php/per...</td>\n",
       "    </tr>\n",
       "    <tr>\n",
       "      <th>16</th>\n",
       "      <td>Vol. 22 Núm. 43 (2014)</td>\n",
       "      <td>https://perfilesla.flacso.edu.mx/index.php/per...</td>\n",
       "    </tr>\n",
       "    <tr>\n",
       "      <th>17</th>\n",
       "      <td>Vol. 21 Núm. 42 (2013)</td>\n",
       "      <td>https://perfilesla.flacso.edu.mx/index.php/per...</td>\n",
       "    </tr>\n",
       "    <tr>\n",
       "      <th>18</th>\n",
       "      <td>Vol. 21 Núm. 41 (2013)</td>\n",
       "      <td>https://perfilesla.flacso.edu.mx/index.php/per...</td>\n",
       "    </tr>\n",
       "    <tr>\n",
       "      <th>19</th>\n",
       "      <td>Vol. 20 Núm. 40 (2012)</td>\n",
       "      <td>https://perfilesla.flacso.edu.mx/index.php/per...</td>\n",
       "    </tr>\n",
       "    <tr>\n",
       "      <th>20</th>\n",
       "      <td>Vol. 20 Núm. 39 (2012)</td>\n",
       "      <td>https://perfilesla.flacso.edu.mx/index.php/per...</td>\n",
       "    </tr>\n",
       "    <tr>\n",
       "      <th>21</th>\n",
       "      <td>Vol. 19 Núm. 38 (2011)</td>\n",
       "      <td>https://perfilesla.flacso.edu.mx/index.php/per...</td>\n",
       "    </tr>\n",
       "    <tr>\n",
       "      <th>22</th>\n",
       "      <td>Vol. 19 Núm. 37 (2011)</td>\n",
       "      <td>https://perfilesla.flacso.edu.mx/index.php/per...</td>\n",
       "    </tr>\n",
       "    <tr>\n",
       "      <th>23</th>\n",
       "      <td>Vol. 18 Núm. 36 (2010)</td>\n",
       "      <td>https://perfilesla.flacso.edu.mx/index.php/per...</td>\n",
       "    </tr>\n",
       "    <tr>\n",
       "      <th>24</th>\n",
       "      <td>Vol. 18 Núm. 35 (2010)</td>\n",
       "      <td>https://perfilesla.flacso.edu.mx/index.php/per...</td>\n",
       "    </tr>\n",
       "  </tbody>\n",
       "</table>\n",
       "</div>"
      ],
      "text/plain": [
       "                   Volumen                                               Link\n",
       "0   Vol. 30 Núm. 59 (2022)  https://perfilesla.flacso.edu.mx/index.php/per...\n",
       "1   Vol. 29 Núm. 58 (2021)  https://perfilesla.flacso.edu.mx/index.php/per...\n",
       "2   Vol. 29 Núm. 57 (2021)  https://perfilesla.flacso.edu.mx/index.php/per...\n",
       "3   Vol. 28 Núm. 56 (2020)  https://perfilesla.flacso.edu.mx/index.php/per...\n",
       "4   Vol. 28 Núm. 55 (2020)  https://perfilesla.flacso.edu.mx/index.php/per...\n",
       "5   Vol. 27 Núm. 54 (2019)  https://perfilesla.flacso.edu.mx/index.php/per...\n",
       "6   Vol. 27 Núm. 53 (2019)  https://perfilesla.flacso.edu.mx/index.php/per...\n",
       "7   Vol. 26 Núm. 52 (2018)  https://perfilesla.flacso.edu.mx/index.php/per...\n",
       "8   Vol. 26 Núm. 51 (2018)  https://perfilesla.flacso.edu.mx/index.php/per...\n",
       "9   Vol. 25 Núm. 50 (2017)  https://perfilesla.flacso.edu.mx/index.php/per...\n",
       "10  Vol. 25 Núm. 49 (2017)  https://perfilesla.flacso.edu.mx/index.php/per...\n",
       "11  Vol. 24 Núm. 48 (2016)  https://perfilesla.flacso.edu.mx/index.php/per...\n",
       "12  Vol. 24 Núm. 47 (2016)  https://perfilesla.flacso.edu.mx/index.php/per...\n",
       "13  Vol. 23 Núm. 46 (2015)  https://perfilesla.flacso.edu.mx/index.php/per...\n",
       "14  Vol. 23 Núm. 45 (2015)  https://perfilesla.flacso.edu.mx/index.php/per...\n",
       "15  Vol. 22 Núm. 44 (2014)  https://perfilesla.flacso.edu.mx/index.php/per...\n",
       "16  Vol. 22 Núm. 43 (2014)  https://perfilesla.flacso.edu.mx/index.php/per...\n",
       "17  Vol. 21 Núm. 42 (2013)  https://perfilesla.flacso.edu.mx/index.php/per...\n",
       "18  Vol. 21 Núm. 41 (2013)  https://perfilesla.flacso.edu.mx/index.php/per...\n",
       "19  Vol. 20 Núm. 40 (2012)  https://perfilesla.flacso.edu.mx/index.php/per...\n",
       "20  Vol. 20 Núm. 39 (2012)  https://perfilesla.flacso.edu.mx/index.php/per...\n",
       "21  Vol. 19 Núm. 38 (2011)  https://perfilesla.flacso.edu.mx/index.php/per...\n",
       "22  Vol. 19 Núm. 37 (2011)  https://perfilesla.flacso.edu.mx/index.php/per...\n",
       "23  Vol. 18 Núm. 36 (2010)  https://perfilesla.flacso.edu.mx/index.php/per...\n",
       "24  Vol. 18 Núm. 35 (2010)  https://perfilesla.flacso.edu.mx/index.php/per..."
      ]
     },
     "execution_count": 59,
     "metadata": {},
     "output_type": "execute_result"
    }
   ],
   "source": [
    "df_catalogo=pd.DataFrame(datos_book)\n",
    "df_catalogo"
   ]
  },
  {
   "cell_type": "code",
   "execution_count": 60,
   "id": "c883f53e-0e10-45c5-baca-87abf2d80000",
   "metadata": {},
   "outputs": [],
   "source": [
    "df_catalogo.to_csv('Revista21.csv')"
   ]
  },
  {
   "cell_type": "code",
   "execution_count": null,
   "id": "3eaf2a53-995e-428d-afab-bb6ada1359fc",
   "metadata": {},
   "outputs": [],
   "source": []
  }
 ],
 "metadata": {
  "kernelspec": {
   "display_name": "Python 3 (ipykernel)",
   "language": "python",
   "name": "python3"
  },
  "language_info": {
   "codemirror_mode": {
    "name": "ipython",
    "version": 3
   },
   "file_extension": ".py",
   "mimetype": "text/x-python",
   "name": "python",
   "nbconvert_exporter": "python",
   "pygments_lexer": "ipython3",
   "version": "3.10.4"
  }
 },
 "nbformat": 4,
 "nbformat_minor": 5
}
