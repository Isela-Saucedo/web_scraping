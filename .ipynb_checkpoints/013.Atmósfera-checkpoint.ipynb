{
 "cells": [
  {
   "cell_type": "code",
   "execution_count": 182,
   "id": "e206f1c6-22e6-418b-a881-59dffc621284",
   "metadata": {},
   "outputs": [],
   "source": [
    "import requests\n",
    "import bs4\n",
    "from bs4 import BeautifulSoup\n",
    "from urllib.parse import urljoin\n",
    "import pandas as pd"
   ]
  },
  {
   "cell_type": "code",
   "execution_count": 183,
   "id": "56a6a79e-01dc-4765-8064-872d6b297ca3",
   "metadata": {},
   "outputs": [],
   "source": [
    "url_inicial='https://www.revistascca.unam.mx/atm/index.php/atm/issue/archive/4'\n",
    "url_root= 'https://www.revistascca.unam.mx/atm/index.php/atm/issue/archive/4'\n",
    "r = requests.get(url_inicial)"
   ]
  },
  {
   "cell_type": "code",
   "execution_count": 184,
   "id": "38b8c35d-182a-4126-bbff-bb003fead43e",
   "metadata": {},
   "outputs": [],
   "source": [
    "soup = BeautifulSoup(r.text, 'html.parser')"
   ]
  },
  {
   "cell_type": "code",
   "execution_count": 185,
   "id": "217356b2-6ba0-4a06-ba93-fa94e68122e3",
   "metadata": {},
   "outputs": [
    {
     "data": {
      "text/plain": [
       "['https://www.revistascca.unam.mx/atm/index.php/atm/issue/view/707',\n",
       " 'https://www.revistascca.unam.mx/atm/index.php/atm/issue/view/706',\n",
       " 'https://www.revistascca.unam.mx/atm/index.php/atm/issue/view/2187',\n",
       " 'https://www.revistascca.unam.mx/atm/index.php/atm/issue/view/705',\n",
       " 'https://www.revistascca.unam.mx/atm/index.php/atm/issue/view/704']"
      ]
     },
     "execution_count": 185,
     "metadata": {},
     "output_type": "execute_result"
    }
   ],
   "source": [
    "box = soup.find('div', class_='issues media-list')\n",
    "volumen=box.findAll('h2', class_='media-heading')\n",
    "vol = [x.find('a').get('href')for x in volumen]\n",
    "vol=[urljoin(url_root,i) for i in vol]\n",
    "vol"
   ]
  },
  {
   "cell_type": "code",
   "execution_count": 186,
   "id": "d29cc500-c87d-481c-b168-71fae2a2e897",
   "metadata": {},
   "outputs": [],
   "source": [
    "def get_url_items(sopa, url): \n",
    "    box = soup.find('div', class_='issues media-list')\n",
    "    volumen=box.findAll('h2', class_='media-heading')\n",
    "    vol = [x.find('a').get('href')for x in volumen]\n",
    "    vol=[urljoin(url_root,i) for i in vol]\n",
    "    return vol"
   ]
  },
  {
   "cell_type": "code",
   "execution_count": 187,
   "id": "dd8b5bba-0b09-479f-97a0-ecdc12b6fc81",
   "metadata": {},
   "outputs": [
    {
     "name": "stdout",
     "output_type": "stream",
     "text": [
      "Estoy en la pagina https://www.revistascca.unam.mx/atm/index.php/atm/issue/archive/4\n"
     ]
    }
   ],
   "source": [
    "links_items=[]\n",
    "i=0\n",
    "while i<1:\n",
    "    i+=1\n",
    "    print(f'Estoy en la pagina {url_inicial}')\n",
    "    r_pag=requests.get(url_inicial)\n",
    "    s_p=BeautifulSoup(r_pag.text,'html.parser')\n",
    "    links=get_url_items(s_p, url_inicial)\n",
    "    links_items.append(links) \n",
    "    next_a=s_p.select('li.next > a')\n",
    "    if not next_a or not next_a[0].get('href'):\n",
    "        break\n",
    "    url_inicial = urljoin(url_inicial, next_a[0].get('href'))"
   ]
  },
  {
   "cell_type": "code",
   "execution_count": 188,
   "id": "94e494c6-3595-456f-a192-423f477fee36",
   "metadata": {},
   "outputs": [
    {
     "data": {
      "text/plain": [
       "5"
      ]
     },
     "execution_count": 188,
     "metadata": {},
     "output_type": "execute_result"
    }
   ],
   "source": [
    "list_scraper=[]\n",
    "for i in links_items:\n",
    "    for j in i:\n",
    "        list_scraper.append(j)\n",
    "len(list_scraper)"
   ]
  },
  {
   "cell_type": "code",
   "execution_count": 189,
   "id": "c6528eca-e283-4193-a383-ccc69b4d38e7",
   "metadata": {},
   "outputs": [],
   "source": [
    "uno=list_scraper[0]\n",
    "r_item=requests.get(uno)\n",
    "s_item=BeautifulSoup(r_item.text, 'html.parser')"
   ]
  },
  {
   "cell_type": "code",
   "execution_count": 190,
   "id": "b9d4ed0c-514d-4876-9021-8cbc65dc236a",
   "metadata": {},
   "outputs": [],
   "source": [
    "#funcion para iniciar el escraper de cada libro\n",
    "def scraper_book(url):\n",
    "    content_book={}\n",
    "    r=requests.get(url)\n",
    "    s_item=BeautifulSoup(r.text,'html.parser')\n",
    "    #volumen del libro\n",
    "    try:\n",
    "        vol=s_item.find('li', class_='active').get_text(strip=True)\n",
    "        content_book['Volumen']=vol\n",
    "    except AttributeError:\n",
    "        content_book['Articulo']=None\n",
    "    #fecha del libro\n",
    "    try:\n",
    "        publi=s_item.find('p', class_='published').get_text(strip=True)\n",
    "        content_book['Publicado']=publi\n",
    "    except AttributeError:\n",
    "        content_book['Publicado']=None\n",
    "    #obtener link\n",
    "    try:\n",
    "        link=s_item.find('div', class_='btn-group').get('data-href')\n",
    "        content_book['Link']=urljoin(url_root, link)\n",
    "    except AttributeError:\n",
    "        content_book['Link']=None\n",
    "    return content_book"
   ]
  },
  {
   "cell_type": "code",
   "execution_count": 191,
   "id": "7f0ed5ed-374a-4649-bc14-048b4db790df",
   "metadata": {},
   "outputs": [
    {
     "name": "stdout",
     "output_type": "stream",
     "text": [
      "estas escrapeando la pag 0\n",
      "estas escrapeando la pag 1\n",
      "estas escrapeando la pag 2\n",
      "estas escrapeando la pag 3\n",
      "estas escrapeando la pag 4\n"
     ]
    }
   ],
   "source": [
    "list_scraper=list_scraper[0:5]\n",
    "datos_book=[]\n",
    "for idx, i in enumerate(list_scraper):\n",
    "    print(f'estas escrapeando la pag {idx}')\n",
    "    datos_book.append(scraper_book(i))"
   ]
  },
  {
   "cell_type": "code",
   "execution_count": 192,
   "id": "b35f5498-9905-440c-9944-6ffe46b17bac",
   "metadata": {},
   "outputs": [
    {
     "data": {
      "text/html": [
       "<div>\n",
       "<style scoped>\n",
       "    .dataframe tbody tr th:only-of-type {\n",
       "        vertical-align: middle;\n",
       "    }\n",
       "\n",
       "    .dataframe tbody tr th {\n",
       "        vertical-align: top;\n",
       "    }\n",
       "\n",
       "    .dataframe thead th {\n",
       "        text-align: right;\n",
       "    }\n",
       "</style>\n",
       "<table border=\"1\" class=\"dataframe\">\n",
       "  <thead>\n",
       "    <tr style=\"text-align: right;\">\n",
       "      <th></th>\n",
       "      <th>Volumen</th>\n",
       "      <th>Publicado</th>\n",
       "      <th>Link</th>\n",
       "    </tr>\n",
       "  </thead>\n",
       "  <tbody>\n",
       "    <tr>\n",
       "      <th>0</th>\n",
       "      <td>Vol. 2 No. 2 (1989)</td>\n",
       "      <td>None</td>\n",
       "      <td>https://www.revistascca.unam.mx/atm/index.php/...</td>\n",
       "    </tr>\n",
       "    <tr>\n",
       "      <th>1</th>\n",
       "      <td>Vol. 2 No. 1 (1989)</td>\n",
       "      <td>None</td>\n",
       "      <td>https://www.revistascca.unam.mx/atm/index.php/...</td>\n",
       "    </tr>\n",
       "    <tr>\n",
       "      <th>2</th>\n",
       "      <td>Vol. 1 No. 3 (1988)</td>\n",
       "      <td>Published:2011-06-24</td>\n",
       "      <td>https://www.revistascca.unam.mx/atm/index.php/...</td>\n",
       "    </tr>\n",
       "    <tr>\n",
       "      <th>3</th>\n",
       "      <td>Vol. 1 No. 2 (1988)</td>\n",
       "      <td>None</td>\n",
       "      <td>https://www.revistascca.unam.mx/atm/index.php/...</td>\n",
       "    </tr>\n",
       "    <tr>\n",
       "      <th>4</th>\n",
       "      <td>Vol. 1 No. 1 (1988)</td>\n",
       "      <td>None</td>\n",
       "      <td>https://www.revistascca.unam.mx/atm/index.php/...</td>\n",
       "    </tr>\n",
       "  </tbody>\n",
       "</table>\n",
       "</div>"
      ],
      "text/plain": [
       "               Volumen             Publicado  \\\n",
       "0  Vol. 2 No. 2 (1989)                  None   \n",
       "1  Vol. 2 No. 1 (1989)                  None   \n",
       "2  Vol. 1 No. 3 (1988)  Published:2011-06-24   \n",
       "3  Vol. 1 No. 2 (1988)                  None   \n",
       "4  Vol. 1 No. 1 (1988)                  None   \n",
       "\n",
       "                                                Link  \n",
       "0  https://www.revistascca.unam.mx/atm/index.php/...  \n",
       "1  https://www.revistascca.unam.mx/atm/index.php/...  \n",
       "2  https://www.revistascca.unam.mx/atm/index.php/...  \n",
       "3  https://www.revistascca.unam.mx/atm/index.php/...  \n",
       "4  https://www.revistascca.unam.mx/atm/index.php/...  "
      ]
     },
     "execution_count": 192,
     "metadata": {},
     "output_type": "execute_result"
    }
   ],
   "source": [
    "df_catalogo=pd.DataFrame(datos_book)\n",
    "df_catalogo"
   ]
  },
  {
   "cell_type": "code",
   "execution_count": 193,
   "id": "460dbd26-d1cc-4a57-ad02-961464054af2",
   "metadata": {},
   "outputs": [],
   "source": [
    "df_catalogo.to_csv('Revista13.3.csv')"
   ]
  },
  {
   "cell_type": "code",
   "execution_count": null,
   "id": "4b07f94b-c6d1-45f0-a700-0a89e0a103f0",
   "metadata": {},
   "outputs": [],
   "source": []
  }
 ],
 "metadata": {
  "kernelspec": {
   "display_name": "Python 3 (ipykernel)",
   "language": "python",
   "name": "python3"
  },
  "language_info": {
   "codemirror_mode": {
    "name": "ipython",
    "version": 3
   },
   "file_extension": ".py",
   "mimetype": "text/x-python",
   "name": "python",
   "nbconvert_exporter": "python",
   "pygments_lexer": "ipython3",
   "version": "3.10.4"
  }
 },
 "nbformat": 4,
 "nbformat_minor": 5
}
