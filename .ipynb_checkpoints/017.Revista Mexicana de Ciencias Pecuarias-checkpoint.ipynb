{
 "cells": [
  {
   "cell_type": "code",
   "execution_count": 1,
   "id": "45957e0e-43bf-4ddf-8560-12024d051308",
   "metadata": {},
   "outputs": [],
   "source": [
    "import requests\n",
    "import bs4\n",
    "from bs4 import BeautifulSoup\n",
    "from urllib.parse import urljoin\n",
    "import pandas as pd"
   ]
  },
  {
   "cell_type": "code",
   "execution_count": 2,
   "id": "ad08bf7b-b5e9-47ca-8fd5-0034b5e84718",
   "metadata": {},
   "outputs": [],
   "source": [
    "url_inicial = 'https://cienciaspecuarias.inifap.gob.mx/index.php/Pecuarias'\n",
    "url_root = 'https://cienciaspecuarias.inifap.gob.mx/index.php/Pecuarias'\n",
    "r=requests.get(url_inicial)"
   ]
  },
  {
   "cell_type": "code",
   "execution_count": 3,
   "id": "a8785e89-259e-42e8-840d-67d50bc8d6db",
   "metadata": {},
   "outputs": [],
   "source": [
    "soup = BeautifulSoup(r.text, 'html.parser')"
   ]
  },
  {
   "cell_type": "code",
   "execution_count": 4,
   "id": "2bf95540-3597-431a-9a30-35a037cb670f",
   "metadata": {},
   "outputs": [
    {
     "data": {
      "text/plain": [
       "['https://cienciaspecuarias.inifap.gob.mx/index.php/Pecuarias/article/view/5759',\n",
       " 'https://cienciaspecuarias.inifap.gob.mx/index.php/Pecuarias/article/view/5729',\n",
       " 'https://cienciaspecuarias.inifap.gob.mx/index.php/Pecuarias/article/view/5744',\n",
       " 'https://cienciaspecuarias.inifap.gob.mx/index.php/Pecuarias/article/view/6017',\n",
       " 'https://cienciaspecuarias.inifap.gob.mx/index.php/Pecuarias/article/view/5942',\n",
       " 'https://cienciaspecuarias.inifap.gob.mx/index.php/Pecuarias/article/view/5381',\n",
       " 'https://cienciaspecuarias.inifap.gob.mx/index.php/Pecuarias/article/view/6032',\n",
       " 'https://cienciaspecuarias.inifap.gob.mx/index.php/Pecuarias/article/view/5789',\n",
       " 'https://cienciaspecuarias.inifap.gob.mx/index.php/Pecuarias/article/view/5922',\n",
       " 'https://cienciaspecuarias.inifap.gob.mx/index.php/Pecuarias/article/view/5832',\n",
       " 'https://cienciaspecuarias.inifap.gob.mx/index.php/Pecuarias/article/view/5980',\n",
       " 'https://cienciaspecuarias.inifap.gob.mx/index.php/Pecuarias/article/view/5960',\n",
       " 'https://cienciaspecuarias.inifap.gob.mx/index.php/Pecuarias/article/view/5819',\n",
       " 'https://cienciaspecuarias.inifap.gob.mx/index.php/Pecuarias/article/view/5977',\n",
       " 'https://cienciaspecuarias.inifap.gob.mx/index.php/Pecuarias/article/view/5007',\n",
       " 'https://cienciaspecuarias.inifap.gob.mx/index.php/Pecuarias/article/view/6229/4830']"
      ]
     },
     "execution_count": 4,
     "metadata": {},
     "output_type": "execute_result"
    }
   ],
   "source": [
    "lista_articulo = soup.find_all('table', class_='tocArticle')\n",
    "links_libros = [x.find('a').get('href') for x in lista_articulo]\n",
    "links_libros = [urljoin (url_root, i) for i in links_libros]\n",
    "links_libros"
   ]
  },
  {
   "cell_type": "code",
   "execution_count": 5,
   "id": "7b6279ea-fec9-409c-aff0-8057d034a10a",
   "metadata": {},
   "outputs": [],
   "source": [
    "def get_url_items(sopa,url):\n",
    "    lista_articulo = soup.find_all('table', class_='tocArticle')\n",
    "    links_libros = [x.find('a').get('href') for x in lista_articulo]\n",
    "    links_libros = [urljoin (url_root, i) for i in links_libros]\n",
    "    return links_libros"
   ]
  },
  {
   "cell_type": "code",
   "execution_count": 8,
   "id": "989076e2-7471-42ef-ba35-c94f8f207735",
   "metadata": {},
   "outputs": [
    {
     "name": "stdout",
     "output_type": "stream",
     "text": [
      "Estoy en la pagina https://cienciaspecuarias.inifap.gob.mx/index.php/Pecuarias\n"
     ]
    }
   ],
   "source": [
    "links_items=[]\n",
    "i = 0\n",
    "while i<1:\n",
    "    i+=1\n",
    "    print(f'Estoy en la pagina {url_inicial}')\n",
    "    r_pag = requests.get(url_inicial)\n",
    "    s_p = BeautifulSoup(r_pag.text, 'html.parser')\n",
    "    links = get_url_items(s_p, url_inicial)\n",
    "    links_items.append(links)\n",
    "    #next_a = s_p.select('nav.View additional pages > a')\n",
    "    #if not next_a or not next_a[0].get('href'):\n",
    "      #  break\n",
    "       # url_inicial = urljoin(url_inicial, next_a[0].get('href'))"
   ]
  },
  {
   "cell_type": "code",
   "execution_count": 9,
   "id": "23112973-3ef0-46de-a68b-1801419ac988",
   "metadata": {},
   "outputs": [
    {
     "data": {
      "text/plain": [
       "16"
      ]
     },
     "execution_count": 9,
     "metadata": {},
     "output_type": "execute_result"
    }
   ],
   "source": [
    "list_scraper=[]\n",
    "for i in links_items:\n",
    "    for j in i:\n",
    "        list_scraper.append(j)\n",
    "len(list_scraper)"
   ]
  },
  {
   "cell_type": "code",
   "execution_count": 10,
   "id": "f22ee226-eea1-45e6-a24a-a2225fc3b02a",
   "metadata": {},
   "outputs": [],
   "source": [
    "uno=list_scraper[0]\n",
    "r_item=requests.get(uno)\n",
    "s_item=BeautifulSoup(r_item.text, 'html.parser')"
   ]
  },
  {
   "cell_type": "code",
   "execution_count": 37,
   "id": "8f98ae01-1256-4ebb-8ee5-129bee5f2f0a",
   "metadata": {},
   "outputs": [],
   "source": [
    "#funcion para iniciar el escraper de cada libro\n",
    "def scraper_book(url):\n",
    "    content_book={}\n",
    "    r=requests.get(url)\n",
    "    s_item=BeautifulSoup(r.text,'html.parser')\n",
    "    #titulo del libro\n",
    "    try:\n",
    "        titulo=s_item.find('div', id='articleTitle').get_text(strip=True)\n",
    "        content_book['Titulo']=titulo\n",
    "    except AttributeError:\n",
    "        content_book['Titulo']=None\n",
    "    #autor del libro\n",
    "    try:\n",
    "        autor=s_item.find('div', id='authorString').get_text(strip=True)\n",
    "        content_book['Autor']=autor\n",
    "    except AttributeError:\n",
    "        content_book['Autor']=None\n",
    "    #resumen del libro\n",
    "    try:\n",
    "        resumen=s_item.find('div', id='articleAbstract').get_text(strip=True)\n",
    "        content_book['Resumen']=resumen\n",
    "    except AttributeError:\n",
    "        content_book['Resumen']=None\n",
    "    #obtener link\n",
    "    try:\n",
    "        link=s_item.find('a', class_='file').get('href')\n",
    "        content_book['Link']=urljoin(url_root, link)\n",
    "    except AttributeError:\n",
    "        content_book['Link']=None\n",
    "    return content_book"
   ]
  },
  {
   "cell_type": "code",
   "execution_count": 38,
   "id": "18524fc1-db2a-4164-840d-6749126dbdb2",
   "metadata": {},
   "outputs": [
    {
     "name": "stdout",
     "output_type": "stream",
     "text": [
      "estas escrapeando la pag 0\n",
      "estas escrapeando la pag 1\n",
      "estas escrapeando la pag 2\n",
      "estas escrapeando la pag 3\n",
      "estas escrapeando la pag 4\n",
      "estas escrapeando la pag 5\n",
      "estas escrapeando la pag 6\n",
      "estas escrapeando la pag 7\n",
      "estas escrapeando la pag 8\n",
      "estas escrapeando la pag 9\n",
      "estas escrapeando la pag 10\n",
      "estas escrapeando la pag 11\n",
      "estas escrapeando la pag 12\n",
      "estas escrapeando la pag 13\n",
      "estas escrapeando la pag 14\n",
      "estas escrapeando la pag 15\n"
     ]
    }
   ],
   "source": [
    "list_scraper=list_scraper[0:16]\n",
    "datos_book=[]\n",
    "for idx, i in enumerate(list_scraper):\n",
    "    print(f'estas escrapeando la pag {idx}')\n",
    "    datos_book.append(scraper_book(i))"
   ]
  },
  {
   "cell_type": "code",
   "execution_count": 39,
   "id": "5dec4f76-fc89-4c05-bb20-a4a57b3e1dbc",
   "metadata": {},
   "outputs": [
    {
     "data": {
      "text/html": [
       "<div>\n",
       "<style scoped>\n",
       "    .dataframe tbody tr th:only-of-type {\n",
       "        vertical-align: middle;\n",
       "    }\n",
       "\n",
       "    .dataframe tbody tr th {\n",
       "        vertical-align: top;\n",
       "    }\n",
       "\n",
       "    .dataframe thead th {\n",
       "        text-align: right;\n",
       "    }\n",
       "</style>\n",
       "<table border=\"1\" class=\"dataframe\">\n",
       "  <thead>\n",
       "    <tr style=\"text-align: right;\">\n",
       "      <th></th>\n",
       "      <th>Titulo</th>\n",
       "      <th>Autor</th>\n",
       "      <th>Resumen</th>\n",
       "      <th>Link</th>\n",
       "    </tr>\n",
       "  </thead>\n",
       "  <tbody>\n",
       "    <tr>\n",
       "      <th>0</th>\n",
       "      <td>Efecto de extractos naturales sobre la estabil...</td>\n",
       "      <td>María Josefina Graciano Cristobal, Javier Germ...</td>\n",
       "      <td>ResumenSe evaluó el efecto de tres extractos n...</td>\n",
       "      <td>https://cienciaspecuarias.inifap.gob.mx/index....</td>\n",
       "    </tr>\n",
       "    <tr>\n",
       "      <th>1</th>\n",
       "      <td>Diagnóstico de la calidad sanitaria de queserí...</td>\n",
       "      <td>Rocío Rodríguez-Gallegos, Gregorio Álvarez-Fue...</td>\n",
       "      <td>ResumenEl objetivo de este trabajo fue evaluar...</td>\n",
       "      <td>https://cienciaspecuarias.inifap.gob.mx/index....</td>\n",
       "    </tr>\n",
       "    <tr>\n",
       "      <th>2</th>\n",
       "      <td>Perspectivas sobre la continuidad, calidad de ...</td>\n",
       "      <td>Carlos Eduardo Romo-Bacco, Neftali Parga-Monto...</td>\n",
       "      <td>ResumenEl objetivo fue evaluar la productivida...</td>\n",
       "      <td>https://cienciaspecuarias.inifap.gob.mx/index....</td>\n",
       "    </tr>\n",
       "    <tr>\n",
       "      <th>3</th>\n",
       "      <td>Actividad antimicrobiana de plantas nativas de...</td>\n",
       "      <td>Jesús Sosa-Castañeda, Carmen Guadalupe Manzana...</td>\n",
       "      <td>ResumenLa mastitis bovina es una enfermedad ca...</td>\n",
       "      <td>https://cienciaspecuarias.inifap.gob.mx/index....</td>\n",
       "    </tr>\n",
       "    <tr>\n",
       "      <th>4</th>\n",
       "      <td>Pharmacokinetic analysis of intraarticular inj...</td>\n",
       "      <td>Fernando García-Lacy, Lilia Gutiérrez-Olvera, ...</td>\n",
       "      <td>ResumenInsulin induces mitosis on equine chond...</td>\n",
       "      <td>https://cienciaspecuarias.inifap.gob.mx/index....</td>\n",
       "    </tr>\n",
       "    <tr>\n",
       "      <th>5</th>\n",
       "      <td>Productive performance of sheep fed buffel gra...</td>\n",
       "      <td>Tiara Millena Barros e Silva, Gherman Garcia L...</td>\n",
       "      <td>ResumenThis study aimed to evaluate the produc...</td>\n",
       "      <td>https://cienciaspecuarias.inifap.gob.mx/index....</td>\n",
       "    </tr>\n",
       "    <tr>\n",
       "      <th>6</th>\n",
       "      <td>Función ovárica y respuesta a la sincronizació...</td>\n",
       "      <td>Elizabeth Pérez-Ruiz, Andrés Quezada-Casasola,...</td>\n",
       "      <td>ResumenHoy en día, las biotecnologías reproduc...</td>\n",
       "      <td>https://cienciaspecuarias.inifap.gob.mx/index....</td>\n",
       "    </tr>\n",
       "    <tr>\n",
       "      <th>7</th>\n",
       "      <td>Ultrasonography and physiological description ...</td>\n",
       "      <td>María Elena Torres-Lechuga, Juan González-Mald...</td>\n",
       "      <td>ResumenThe ultrasound allows to visualize the ...</td>\n",
       "      <td>https://cienciaspecuarias.inifap.gob.mx/index....</td>\n",
       "    </tr>\n",
       "    <tr>\n",
       "      <th>8</th>\n",
       "      <td>Demi-embryo reconstitution, a factor to consid...</td>\n",
       "      <td>Alfredo Lorenzo-Torres, Raymundo Rangel-Santos...</td>\n",
       "      <td>ResumenFor many years it has been sought to in...</td>\n",
       "      <td>https://cienciaspecuarias.inifap.gob.mx/index....</td>\n",
       "    </tr>\n",
       "    <tr>\n",
       "      <th>9</th>\n",
       "      <td>Estrés por calor en ganado lechero con énfasis...</td>\n",
       "      <td>Abelardo Correa-Calderón, Leonel Avendaño-Reye...</td>\n",
       "      <td>ResumenEl impacto negativo del estrés por calo...</td>\n",
       "      <td>https://cienciaspecuarias.inifap.gob.mx/index....</td>\n",
       "    </tr>\n",
       "    <tr>\n",
       "      <th>10</th>\n",
       "      <td>Concentrado de proteína de papa: una posible a...</td>\n",
       "      <td>Erick Alejandro Parra Alarcón, Teresita de Jes...</td>\n",
       "      <td>ResumenEl periodo del destete es crítico en la...</td>\n",
       "      <td>https://cienciaspecuarias.inifap.gob.mx/index....</td>\n",
       "    </tr>\n",
       "    <tr>\n",
       "      <th>11</th>\n",
       "      <td>Apis mellifera en México: producción de miel, ...</td>\n",
       "      <td>Fernanda Baena-Díaz, Estrella Chévez, Fortunat...</td>\n",
       "      <td>ResumenLa abeja de la miel, Apis mellifera,es ...</td>\n",
       "      <td>https://cienciaspecuarias.inifap.gob.mx/index....</td>\n",
       "    </tr>\n",
       "    <tr>\n",
       "      <th>12</th>\n",
       "      <td>Induced lactation in Holstein cattle with no e...</td>\n",
       "      <td>Juan González-Maldonado, Raymundo Rangel-Santo...</td>\n",
       "      <td>ResumenLactation induction in cattle is an alt...</td>\n",
       "      <td>https://cienciaspecuarias.inifap.gob.mx/index....</td>\n",
       "    </tr>\n",
       "    <tr>\n",
       "      <th>13</th>\n",
       "      <td>Frecuencia y puntaje de jadeo en bovinos produ...</td>\n",
       "      <td>Ana Mireya Romo Valdez, Jesús José Portillo Lo...</td>\n",
       "      <td>ResumenPara determinar la frecuencia y el punt...</td>\n",
       "      <td>https://cienciaspecuarias.inifap.gob.mx/index....</td>\n",
       "    </tr>\n",
       "    <tr>\n",
       "      <th>14</th>\n",
       "      <td>Arreglos silvopastoriles con Alnus acuminata y...</td>\n",
       "      <td>José Américo Saucedo-Uriarte, Segundo Manuel O...</td>\n",
       "      <td>ResumenLos sistemas silvopastoriles (SSP) son ...</td>\n",
       "      <td>https://cienciaspecuarias.inifap.gob.mx/index....</td>\n",
       "    </tr>\n",
       "    <tr>\n",
       "      <th>15</th>\n",
       "      <td>None</td>\n",
       "      <td>None</td>\n",
       "      <td>None</td>\n",
       "      <td>None</td>\n",
       "    </tr>\n",
       "  </tbody>\n",
       "</table>\n",
       "</div>"
      ],
      "text/plain": [
       "                                               Titulo  \\\n",
       "0   Efecto de extractos naturales sobre la estabil...   \n",
       "1   Diagnóstico de la calidad sanitaria de queserí...   \n",
       "2   Perspectivas sobre la continuidad, calidad de ...   \n",
       "3   Actividad antimicrobiana de plantas nativas de...   \n",
       "4   Pharmacokinetic analysis of intraarticular inj...   \n",
       "5   Productive performance of sheep fed buffel gra...   \n",
       "6   Función ovárica y respuesta a la sincronizació...   \n",
       "7   Ultrasonography and physiological description ...   \n",
       "8   Demi-embryo reconstitution, a factor to consid...   \n",
       "9   Estrés por calor en ganado lechero con énfasis...   \n",
       "10  Concentrado de proteína de papa: una posible a...   \n",
       "11  Apis mellifera en México: producción de miel, ...   \n",
       "12  Induced lactation in Holstein cattle with no e...   \n",
       "13  Frecuencia y puntaje de jadeo en bovinos produ...   \n",
       "14  Arreglos silvopastoriles con Alnus acuminata y...   \n",
       "15                                               None   \n",
       "\n",
       "                                                Autor  \\\n",
       "0   María Josefina Graciano Cristobal, Javier Germ...   \n",
       "1   Rocío Rodríguez-Gallegos, Gregorio Álvarez-Fue...   \n",
       "2   Carlos Eduardo Romo-Bacco, Neftali Parga-Monto...   \n",
       "3   Jesús Sosa-Castañeda, Carmen Guadalupe Manzana...   \n",
       "4   Fernando García-Lacy, Lilia Gutiérrez-Olvera, ...   \n",
       "5   Tiara Millena Barros e Silva, Gherman Garcia L...   \n",
       "6   Elizabeth Pérez-Ruiz, Andrés Quezada-Casasola,...   \n",
       "7   María Elena Torres-Lechuga, Juan González-Mald...   \n",
       "8   Alfredo Lorenzo-Torres, Raymundo Rangel-Santos...   \n",
       "9   Abelardo Correa-Calderón, Leonel Avendaño-Reye...   \n",
       "10  Erick Alejandro Parra Alarcón, Teresita de Jes...   \n",
       "11  Fernanda Baena-Díaz, Estrella Chévez, Fortunat...   \n",
       "12  Juan González-Maldonado, Raymundo Rangel-Santo...   \n",
       "13  Ana Mireya Romo Valdez, Jesús José Portillo Lo...   \n",
       "14  José Américo Saucedo-Uriarte, Segundo Manuel O...   \n",
       "15                                               None   \n",
       "\n",
       "                                              Resumen  \\\n",
       "0   ResumenSe evaluó el efecto de tres extractos n...   \n",
       "1   ResumenEl objetivo de este trabajo fue evaluar...   \n",
       "2   ResumenEl objetivo fue evaluar la productivida...   \n",
       "3   ResumenLa mastitis bovina es una enfermedad ca...   \n",
       "4   ResumenInsulin induces mitosis on equine chond...   \n",
       "5   ResumenThis study aimed to evaluate the produc...   \n",
       "6   ResumenHoy en día, las biotecnologías reproduc...   \n",
       "7   ResumenThe ultrasound allows to visualize the ...   \n",
       "8   ResumenFor many years it has been sought to in...   \n",
       "9   ResumenEl impacto negativo del estrés por calo...   \n",
       "10  ResumenEl periodo del destete es crítico en la...   \n",
       "11  ResumenLa abeja de la miel, Apis mellifera,es ...   \n",
       "12  ResumenLactation induction in cattle is an alt...   \n",
       "13  ResumenPara determinar la frecuencia y el punt...   \n",
       "14  ResumenLos sistemas silvopastoriles (SSP) son ...   \n",
       "15                                               None   \n",
       "\n",
       "                                                 Link  \n",
       "0   https://cienciaspecuarias.inifap.gob.mx/index....  \n",
       "1   https://cienciaspecuarias.inifap.gob.mx/index....  \n",
       "2   https://cienciaspecuarias.inifap.gob.mx/index....  \n",
       "3   https://cienciaspecuarias.inifap.gob.mx/index....  \n",
       "4   https://cienciaspecuarias.inifap.gob.mx/index....  \n",
       "5   https://cienciaspecuarias.inifap.gob.mx/index....  \n",
       "6   https://cienciaspecuarias.inifap.gob.mx/index....  \n",
       "7   https://cienciaspecuarias.inifap.gob.mx/index....  \n",
       "8   https://cienciaspecuarias.inifap.gob.mx/index....  \n",
       "9   https://cienciaspecuarias.inifap.gob.mx/index....  \n",
       "10  https://cienciaspecuarias.inifap.gob.mx/index....  \n",
       "11  https://cienciaspecuarias.inifap.gob.mx/index....  \n",
       "12  https://cienciaspecuarias.inifap.gob.mx/index....  \n",
       "13  https://cienciaspecuarias.inifap.gob.mx/index....  \n",
       "14  https://cienciaspecuarias.inifap.gob.mx/index....  \n",
       "15                                               None  "
      ]
     },
     "execution_count": 39,
     "metadata": {},
     "output_type": "execute_result"
    }
   ],
   "source": [
    "df_catalogo=pd.DataFrame(datos_book)\n",
    "df_catalogo"
   ]
  },
  {
   "cell_type": "code",
   "execution_count": 40,
   "id": "96c070ff-f422-4621-8f49-1f16bcc5670f",
   "metadata": {},
   "outputs": [],
   "source": [
    "df_catalogo.to_csv('Revista17.csv')"
   ]
  },
  {
   "cell_type": "code",
   "execution_count": null,
   "id": "a7aee773-889b-432a-af03-4ffc1bbb1914",
   "metadata": {},
   "outputs": [],
   "source": []
  }
 ],
 "metadata": {
  "kernelspec": {
   "display_name": "Python 3 (ipykernel)",
   "language": "python",
   "name": "python3"
  },
  "language_info": {
   "codemirror_mode": {
    "name": "ipython",
    "version": 3
   },
   "file_extension": ".py",
   "mimetype": "text/x-python",
   "name": "python",
   "nbconvert_exporter": "python",
   "pygments_lexer": "ipython3",
   "version": "3.10.4"
  }
 },
 "nbformat": 4,
 "nbformat_minor": 5
}
