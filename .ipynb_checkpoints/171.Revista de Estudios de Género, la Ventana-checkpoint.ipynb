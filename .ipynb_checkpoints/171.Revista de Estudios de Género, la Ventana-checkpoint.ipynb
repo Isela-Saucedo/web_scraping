{
 "cells": [
  {
   "cell_type": "code",
   "execution_count": 1,
   "id": "d4326137-203c-4c8e-add7-60b122a5955b",
   "metadata": {},
   "outputs": [],
   "source": [
    "import requests\n",
    "import bs4\n",
    "from bs4 import BeautifulSoup\n",
    "from urllib.parse import urljoin\n",
    "import pandas as pd"
   ]
  },
  {
   "cell_type": "code",
   "execution_count": 24,
   "id": "8c42dbd1-ff66-42c5-8447-68987cfebc5f",
   "metadata": {},
   "outputs": [],
   "source": [
    "url_inicial = 'http://www.revistalaventana.cucsh.udg.mx/index.php/LV/issue/archive/3'\n",
    "url_root = 'http://www.revistalaventana.cucsh.udg.mx/index.php/LV/issue/archive/3'\n",
    "r=requests.get(url_inicial)"
   ]
  },
  {
   "cell_type": "code",
   "execution_count": 25,
   "id": "449a9433-6cf4-4fe0-b7ab-fc8f9c95c5d6",
   "metadata": {},
   "outputs": [],
   "source": [
    "soup = BeautifulSoup(r.text, 'html.parser')"
   ]
  },
  {
   "cell_type": "code",
   "execution_count": 26,
   "id": "9e73d6cd-19b5-4184-a7e8-d4643b09b8dd",
   "metadata": {},
   "outputs": [
    {
     "data": {
      "text/plain": [
       "['http://www.revistalaventana.cucsh.udg.mx/index.php/LV/issue/view/55',\n",
       " 'http://www.revistalaventana.cucsh.udg.mx/index.php/LV/issue/view/52',\n",
       " 'http://www.revistalaventana.cucsh.udg.mx/index.php/LV/issue/view/51',\n",
       " 'http://www.revistalaventana.cucsh.udg.mx/index.php/LV/issue/view/256',\n",
       " 'http://www.revistalaventana.cucsh.udg.mx/index.php/LV/issue/view/270',\n",
       " 'http://www.revistalaventana.cucsh.udg.mx/index.php/LV/issue/view/271',\n",
       " 'http://www.revistalaventana.cucsh.udg.mx/index.php/LV/issue/view/272']"
      ]
     },
     "execution_count": 26,
     "metadata": {},
     "output_type": "execute_result"
    }
   ],
   "source": [
    "box = soup.find('ul', class_='issues_archive')\n",
    "volumen=box.findAll('div', class_='obj_issue_summary')\n",
    "vol = [x.find('a').get('href')for x in volumen]\n",
    "vol=[urljoin(url_root,i) for i in vol]\n",
    "vol"
   ]
  },
  {
   "cell_type": "code",
   "execution_count": 27,
   "id": "dc747d8a-4cdc-4097-bd19-3319d30b4506",
   "metadata": {},
   "outputs": [],
   "source": [
    "def get_url_items(sopa, url): \n",
    "    box = soup.find('ul', class_='issues_archive')\n",
    "    volumen=box.findAll('div', class_='obj_issue_summary')\n",
    "    vol = [x.find('a').get('href')for x in volumen]\n",
    "    vol=[urljoin(url_root,i) for i in vol]\n",
    "    return vol"
   ]
  },
  {
   "cell_type": "code",
   "execution_count": 28,
   "id": "0816b38d-b35e-4607-be89-c6052601eb28",
   "metadata": {},
   "outputs": [
    {
     "name": "stdout",
     "output_type": "stream",
     "text": [
      "Estoy en la pagina http://www.revistalaventana.cucsh.udg.mx/index.php/LV/issue/archive/3\n"
     ]
    }
   ],
   "source": [
    "links_items=[]\n",
    "i=0\n",
    "while i<1:\n",
    "    i+=1\n",
    "    print(f'Estoy en la pagina {url_inicial}')\n",
    "    r_pag=requests.get(url_inicial)\n",
    "    s_p=BeautifulSoup(r_pag.text,'html.parser')\n",
    "    links=get_url_items(s_p, url_inicial)\n",
    "    links_items.append(links)"
   ]
  },
  {
   "cell_type": "code",
   "execution_count": 29,
   "id": "ea2773b5-de65-40e4-885e-aab5917be849",
   "metadata": {},
   "outputs": [
    {
     "data": {
      "text/plain": [
       "7"
      ]
     },
     "execution_count": 29,
     "metadata": {},
     "output_type": "execute_result"
    }
   ],
   "source": [
    "list_scraper=[]\n",
    "for i in links_items:\n",
    "    for j in i:\n",
    "        list_scraper.append(j)\n",
    "len(list_scraper)"
   ]
  },
  {
   "cell_type": "code",
   "execution_count": 30,
   "id": "2bb6408d-dced-408d-8e1c-16c8c8bc9fd8",
   "metadata": {},
   "outputs": [],
   "source": [
    "uno=list_scraper[0]\n",
    "r_item=requests.get(uno)\n",
    "s_item=BeautifulSoup(r_item.text, 'html.parser')"
   ]
  },
  {
   "cell_type": "code",
   "execution_count": 31,
   "id": "ecfed8d8-555b-484d-a97e-41fb230737ce",
   "metadata": {},
   "outputs": [],
   "source": [
    "#funcion para iniciar el escraper de cada libro\n",
    "def scraper_book(url):\n",
    "    content_book={}\n",
    "    r=requests.get(url)\n",
    "    tire='Revista de Estudios de Género, la Ventana'\n",
    "    a='V. Ciencias Sociales'\n",
    "    tem='Estudios de Género'\n",
    "    url='http://www.revistalaventana.cucsh.udg.mx'\n",
    "    s_item=BeautifulSoup(r.text,'html.parser')\n",
    "    #titulo de revista\n",
    "    try:\n",
    "        titulo=tire\n",
    "        content_book['Titulo de revista']=tire\n",
    "    except AttributeError:\n",
    "        content_book['Titulo de revista']=None\n",
    "    #area\n",
    "    try:\n",
    "        area=a\n",
    "        content_book['Área']=a\n",
    "    except AttributeError:\n",
    "        content_book['Área']=None\n",
    "    #tematica\n",
    "    try:\n",
    "        tema=tem\n",
    "        content_book['Temática']=tem\n",
    "    except AttributeError:\n",
    "        content_book['Temática']=None\n",
    "    #titulo libro\n",
    "    try:\n",
    "        titu=s_item.find('h1').get_text(strip=True)\n",
    "        content_book['Titulo del libro']=titu\n",
    "    except AttributeError:\n",
    "        content_book['Titulo del libro']=None\n",
    "    #resumen\n",
    "    try:\n",
    "        resu=s_item.find('div', class_='description').get_text(strip=True)\n",
    "        content_book['Resumen']=resu\n",
    "    except AttributeError:\n",
    "        content_book['Resumen']=None\n",
    "    #Link incial\n",
    "    try:\n",
    "        inicial=url\n",
    "        content_book['Link inicial']=url\n",
    "    except AttributeError:\n",
    "        content_book['Link inicial']=None\n",
    "    #link articulo\n",
    "    try:\n",
    "        link=s_item.find('a', class_='obj_galley_link pdf').get('href')\n",
    "        content_book['Link articulo']=urljoin(url_root, link)\n",
    "    except AttributeError:\n",
    "        content_book['Link articulo']=None\n",
    "    return content_book"
   ]
  },
  {
   "cell_type": "code",
   "execution_count": 32,
   "id": "b156f534-21dd-45ad-977e-3bc509e8338d",
   "metadata": {},
   "outputs": [
    {
     "name": "stdout",
     "output_type": "stream",
     "text": [
      "estas escrapeando la pag 0\n",
      "estas escrapeando la pag 1\n",
      "estas escrapeando la pag 2\n",
      "estas escrapeando la pag 3\n",
      "estas escrapeando la pag 4\n",
      "estas escrapeando la pag 5\n",
      "estas escrapeando la pag 6\n"
     ]
    }
   ],
   "source": [
    "list_scraper=list_scraper[0:25]\n",
    "datos_book=[]\n",
    "for idx, i in enumerate(list_scraper):\n",
    "    print(f'estas escrapeando la pag {idx}')\n",
    "    datos_book.append(scraper_book(i))"
   ]
  },
  {
   "cell_type": "code",
   "execution_count": 33,
   "id": "90a2843f-312a-4bc4-af2d-337504ccda96",
   "metadata": {},
   "outputs": [
    {
     "data": {
      "text/html": [
       "<div>\n",
       "<style scoped>\n",
       "    .dataframe tbody tr th:only-of-type {\n",
       "        vertical-align: middle;\n",
       "    }\n",
       "\n",
       "    .dataframe tbody tr th {\n",
       "        vertical-align: top;\n",
       "    }\n",
       "\n",
       "    .dataframe thead th {\n",
       "        text-align: right;\n",
       "    }\n",
       "</style>\n",
       "<table border=\"1\" class=\"dataframe\">\n",
       "  <thead>\n",
       "    <tr style=\"text-align: right;\">\n",
       "      <th></th>\n",
       "      <th>Titulo de revista</th>\n",
       "      <th>Área</th>\n",
       "      <th>Temática</th>\n",
       "      <th>Titulo del libro</th>\n",
       "      <th>Resumen</th>\n",
       "      <th>Link inicial</th>\n",
       "      <th>Link articulo</th>\n",
       "    </tr>\n",
       "  </thead>\n",
       "  <tbody>\n",
       "    <tr>\n",
       "      <th>0</th>\n",
       "      <td>Revista de Estudios de Género, la Ventana</td>\n",
       "      <td>V. Ciencias Sociales</td>\n",
       "      <td>Estudios de Género</td>\n",
       "      <td>Vol. 1 Núm. 7 (1998)</td>\n",
       "      <td>None</td>\n",
       "      <td>http://www.revistalaventana.cucsh.udg.mx</td>\n",
       "      <td>http://www.revistalaventana.cucsh.udg.mx/index...</td>\n",
       "    </tr>\n",
       "    <tr>\n",
       "      <th>1</th>\n",
       "      <td>Revista de Estudios de Género, la Ventana</td>\n",
       "      <td>V. Ciencias Sociales</td>\n",
       "      <td>Estudios de Género</td>\n",
       "      <td>Vol. 1 Núm. 6 (1997)</td>\n",
       "      <td>None</td>\n",
       "      <td>http://www.revistalaventana.cucsh.udg.mx</td>\n",
       "      <td>http://www.revistalaventana.cucsh.udg.mx/index...</td>\n",
       "    </tr>\n",
       "    <tr>\n",
       "      <th>2</th>\n",
       "      <td>Revista de Estudios de Género, la Ventana</td>\n",
       "      <td>V. Ciencias Sociales</td>\n",
       "      <td>Estudios de Género</td>\n",
       "      <td>Núm. 5 (1997)</td>\n",
       "      <td>None</td>\n",
       "      <td>http://www.revistalaventana.cucsh.udg.mx</td>\n",
       "      <td>http://www.revistalaventana.cucsh.udg.mx/index...</td>\n",
       "    </tr>\n",
       "    <tr>\n",
       "      <th>3</th>\n",
       "      <td>Revista de Estudios de Género, la Ventana</td>\n",
       "      <td>V. Ciencias Sociales</td>\n",
       "      <td>Estudios de Género</td>\n",
       "      <td>Núm. 4 (1996)</td>\n",
       "      <td>None</td>\n",
       "      <td>http://www.revistalaventana.cucsh.udg.mx</td>\n",
       "      <td>http://www.revistalaventana.cucsh.udg.mx/index...</td>\n",
       "    </tr>\n",
       "    <tr>\n",
       "      <th>4</th>\n",
       "      <td>Revista de Estudios de Género, la Ventana</td>\n",
       "      <td>V. Ciencias Sociales</td>\n",
       "      <td>Estudios de Género</td>\n",
       "      <td>Núm. 3 (1996)</td>\n",
       "      <td>None</td>\n",
       "      <td>http://www.revistalaventana.cucsh.udg.mx</td>\n",
       "      <td>http://www.revistalaventana.cucsh.udg.mx/index...</td>\n",
       "    </tr>\n",
       "    <tr>\n",
       "      <th>5</th>\n",
       "      <td>Revista de Estudios de Género, la Ventana</td>\n",
       "      <td>V. Ciencias Sociales</td>\n",
       "      <td>Estudios de Género</td>\n",
       "      <td>Núm. 2 (1995)</td>\n",
       "      <td>None</td>\n",
       "      <td>http://www.revistalaventana.cucsh.udg.mx</td>\n",
       "      <td>http://www.revistalaventana.cucsh.udg.mx/index...</td>\n",
       "    </tr>\n",
       "    <tr>\n",
       "      <th>6</th>\n",
       "      <td>Revista de Estudios de Género, la Ventana</td>\n",
       "      <td>V. Ciencias Sociales</td>\n",
       "      <td>Estudios de Género</td>\n",
       "      <td>Núm. 1 (1995)</td>\n",
       "      <td>None</td>\n",
       "      <td>http://www.revistalaventana.cucsh.udg.mx</td>\n",
       "      <td>http://www.revistalaventana.cucsh.udg.mx/index...</td>\n",
       "    </tr>\n",
       "  </tbody>\n",
       "</table>\n",
       "</div>"
      ],
      "text/plain": [
       "                           Titulo de revista                  Área  \\\n",
       "0  Revista de Estudios de Género, la Ventana  V. Ciencias Sociales   \n",
       "1  Revista de Estudios de Género, la Ventana  V. Ciencias Sociales   \n",
       "2  Revista de Estudios de Género, la Ventana  V. Ciencias Sociales   \n",
       "3  Revista de Estudios de Género, la Ventana  V. Ciencias Sociales   \n",
       "4  Revista de Estudios de Género, la Ventana  V. Ciencias Sociales   \n",
       "5  Revista de Estudios de Género, la Ventana  V. Ciencias Sociales   \n",
       "6  Revista de Estudios de Género, la Ventana  V. Ciencias Sociales   \n",
       "\n",
       "             Temática      Titulo del libro Resumen  \\\n",
       "0  Estudios de Género  Vol. 1 Núm. 7 (1998)    None   \n",
       "1  Estudios de Género  Vol. 1 Núm. 6 (1997)    None   \n",
       "2  Estudios de Género         Núm. 5 (1997)    None   \n",
       "3  Estudios de Género         Núm. 4 (1996)    None   \n",
       "4  Estudios de Género         Núm. 3 (1996)    None   \n",
       "5  Estudios de Género         Núm. 2 (1995)    None   \n",
       "6  Estudios de Género         Núm. 1 (1995)    None   \n",
       "\n",
       "                               Link inicial  \\\n",
       "0  http://www.revistalaventana.cucsh.udg.mx   \n",
       "1  http://www.revistalaventana.cucsh.udg.mx   \n",
       "2  http://www.revistalaventana.cucsh.udg.mx   \n",
       "3  http://www.revistalaventana.cucsh.udg.mx   \n",
       "4  http://www.revistalaventana.cucsh.udg.mx   \n",
       "5  http://www.revistalaventana.cucsh.udg.mx   \n",
       "6  http://www.revistalaventana.cucsh.udg.mx   \n",
       "\n",
       "                                       Link articulo  \n",
       "0  http://www.revistalaventana.cucsh.udg.mx/index...  \n",
       "1  http://www.revistalaventana.cucsh.udg.mx/index...  \n",
       "2  http://www.revistalaventana.cucsh.udg.mx/index...  \n",
       "3  http://www.revistalaventana.cucsh.udg.mx/index...  \n",
       "4  http://www.revistalaventana.cucsh.udg.mx/index...  \n",
       "5  http://www.revistalaventana.cucsh.udg.mx/index...  \n",
       "6  http://www.revistalaventana.cucsh.udg.mx/index...  "
      ]
     },
     "execution_count": 33,
     "metadata": {},
     "output_type": "execute_result"
    }
   ],
   "source": [
    "df_catalogo=pd.DataFrame(datos_book)\n",
    "df_catalogo"
   ]
  },
  {
   "cell_type": "code",
   "execution_count": 34,
   "id": "063e294d-127b-4fb6-8072-791533b743e7",
   "metadata": {},
   "outputs": [],
   "source": [
    "df_catalogo.to_csv('Revista171.03.csv', index=False)"
   ]
  },
  {
   "cell_type": "code",
   "execution_count": null,
   "id": "1b885c4c-5818-45fe-938e-6d6f4d79f758",
   "metadata": {},
   "outputs": [],
   "source": []
  }
 ],
 "metadata": {
  "kernelspec": {
   "display_name": "Python 3 (ipykernel)",
   "language": "python",
   "name": "python3"
  },
  "language_info": {
   "codemirror_mode": {
    "name": "ipython",
    "version": 3
   },
   "file_extension": ".py",
   "mimetype": "text/x-python",
   "name": "python",
   "nbconvert_exporter": "python",
   "pygments_lexer": "ipython3",
   "version": "3.10.4"
  }
 },
 "nbformat": 4,
 "nbformat_minor": 5
}
