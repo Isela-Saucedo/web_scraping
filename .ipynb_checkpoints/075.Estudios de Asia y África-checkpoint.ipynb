{
 "cells": [
  {
   "cell_type": "code",
   "execution_count": null,
   "id": "d4326137-203c-4c8e-add7-60b122a5955b",
   "metadata": {},
   "outputs": [],
   "source": [
    "import requests\n",
    "import bs4\n",
    "from bs4 import BeautifulSoup\n",
    "from urllib.parse import urljoin\n",
    "import pandas as pd"
   ]
  },
  {
   "cell_type": "code",
   "execution_count": null,
   "id": "8c42dbd1-ff66-42c5-8447-68987cfebc5f",
   "metadata": {},
   "outputs": [],
   "source": [
    "url_inicial = 'http://www.gestionypoliticapublica.cide.edu/ojscide/index.php/gypp/issue/archive?issuesPage=2#issues'\n",
    "url_root = 'http://www.gestionypoliticapublica.cide.edu/ojscide/index.php/gypp/issue/archive?issuesPage=2#issues'\n",
    "r=requests.get(url_inicial)"
   ]
  },
  {
   "cell_type": "code",
   "execution_count": null,
   "id": "449a9433-6cf4-4fe0-b7ab-fc8f9c95c5d6",
   "metadata": {},
   "outputs": [],
   "source": [
    "soup = BeautifulSoup(r.text, 'html.parser')"
   ]
  },
  {
   "cell_type": "code",
   "execution_count": null,
   "id": "9e73d6cd-19b5-4184-a7e8-d4643b09b8dd",
   "metadata": {},
   "outputs": [],
   "source": [
    "box = soup.find('div', id='issues')\n",
    "volumen=box.findAll('div', id='issue')\n",
    "vol = [x.find('a').get('href')for x in volumen]\n",
    "vol=[urljoin(url_root,i) for i in vol]\n",
    "vol"
   ]
  },
  {
   "cell_type": "code",
   "execution_count": null,
   "id": "dc747d8a-4cdc-4097-bd19-3319d30b4506",
   "metadata": {},
   "outputs": [],
   "source": [
    "def get_url_items(sopa, url): \n",
    "    box = soup.find('div', id='issues')\n",
    "    volumen=box.findAll('div', id='issue')\n",
    "    vol = [x.find('a').get('href')for x in volumen]\n",
    "    vol=[urljoin(url_root,i) for i in vol]\n",
    "    return vol"
   ]
  },
  {
   "cell_type": "code",
   "execution_count": null,
   "id": "0816b38d-b35e-4607-be89-c6052601eb28",
   "metadata": {},
   "outputs": [],
   "source": [
    "links_items=[]\n",
    "i=0\n",
    "while i<1:\n",
    "    i+=1\n",
    "    print(f'Estoy en la pagina {url_inicial}')\n",
    "    r_pag=requests.get(url_inicial)\n",
    "    s_p=BeautifulSoup(r_pag.text,'html.parser')\n",
    "    links=get_url_items(s_p, url_inicial)\n",
    "    links_items.append(links)"
   ]
  },
  {
   "cell_type": "code",
   "execution_count": null,
   "id": "ea2773b5-de65-40e4-885e-aab5917be849",
   "metadata": {},
   "outputs": [],
   "source": [
    "list_scraper=[]\n",
    "for i in links_items:\n",
    "    for j in i:\n",
    "        list_scraper.append(j)\n",
    "len(list_scraper)"
   ]
  },
  {
   "cell_type": "code",
   "execution_count": null,
   "id": "2bb6408d-dced-408d-8e1c-16c8c8bc9fd8",
   "metadata": {},
   "outputs": [],
   "source": [
    "uno=list_scraper[0]\n",
    "r_item=requests.get(uno)\n",
    "s_item=BeautifulSoup(r_item.text, 'html.parser')"
   ]
  },
  {
   "cell_type": "code",
   "execution_count": null,
   "id": "ecfed8d8-555b-484d-a97e-41fb230737ce",
   "metadata": {},
   "outputs": [],
   "source": [
    "#funcion para iniciar el escraper de cada libro\n",
    "def scraper_book(url):\n",
    "    content_book={}\n",
    "    r=requests.get(url)\n",
    "    tire='Gestión y Política Pública'\n",
    "    a='V. Ciencias Sociales'\n",
    "    tem='Administración Pública y Estudio de las Organizaciones'\n",
    "    url='http://www.gestionypoliticapublica.cide.edu/'\n",
    "    s_item=BeautifulSoup(r.text,'html.parser')\n",
    "    #titulo de revista\n",
    "    try:\n",
    "        titulo=tire\n",
    "        content_book['Titulo de revista']=tire\n",
    "    except AttributeError:\n",
    "        content_book['Titulo de revista']=None\n",
    "    #area\n",
    "    try:\n",
    "        area=a\n",
    "        content_book['Área']=a\n",
    "    except AttributeError:\n",
    "        content_book['Área']=None\n",
    "    #tematica\n",
    "    try:\n",
    "        tema=tem\n",
    "        content_book['Temática']=tem\n",
    "    except AttributeError:\n",
    "        content_book['Temática']=None\n",
    "    #titulo libro\n",
    "    try:\n",
    "        titu=s_item.find('td', class_='tocTitle').get_text(strip=True)\n",
    "        content_book['Titulo del libro']=titu\n",
    "    except AttributeError:\n",
    "        content_book['Titulo del libro']=None\n",
    "    #resumen\n",
    "    try:\n",
    "        resu=s_item.find('a', class_='cover').get_text(strip=True)\n",
    "        content_book['Resumen']=resu\n",
    "    except AttributeError:\n",
    "        content_book['Resumen']=None\n",
    "    #Link incial\n",
    "    try:\n",
    "        inicial=url\n",
    "        content_book['Link inicial']=url\n",
    "    except AttributeError:\n",
    "        content_book['Link inicial']=None\n",
    "    #link articulo\n",
    "    try:\n",
    "        link=s_item.find('a', class_='file').get('href')\n",
    "        content_book['Link articulo']=urljoin(url_root, link)\n",
    "    except AttributeError:\n",
    "        content_book['Link articulo']=None\n",
    "    return content_book"
   ]
  },
  {
   "cell_type": "code",
   "execution_count": null,
   "id": "b156f534-21dd-45ad-977e-3bc509e8338d",
   "metadata": {},
   "outputs": [],
   "source": [
    "list_scraper=list_scraper[0:4]\n",
    "datos_book=[]\n",
    "for idx, i in enumerate(list_scraper):\n",
    "    print(f'estas escrapeando la pag {idx}')\n",
    "    datos_book.append(scraper_book(i))"
   ]
  },
  {
   "cell_type": "code",
   "execution_count": null,
   "id": "90a2843f-312a-4bc4-af2d-337504ccda96",
   "metadata": {},
   "outputs": [],
   "source": [
    "df_catalogo=pd.DataFrame(datos_book)\n",
    "df_catalogo"
   ]
  },
  {
   "cell_type": "code",
   "execution_count": null,
   "id": "063e294d-127b-4fb6-8072-791533b743e7",
   "metadata": {},
   "outputs": [],
   "source": [
    "df_catalogo.to_csv('Revista65.02.csv', index=False)"
   ]
  }
 ],
 "metadata": {
  "kernelspec": {
   "display_name": "Python 3 (ipykernel)",
   "language": "python",
   "name": "python3"
  },
  "language_info": {
   "codemirror_mode": {
    "name": "ipython",
    "version": 3
   },
   "file_extension": ".py",
   "mimetype": "text/x-python",
   "name": "python",
   "nbconvert_exporter": "python",
   "pygments_lexer": "ipython3",
   "version": "3.10.4"
  }
 },
 "nbformat": 4,
 "nbformat_minor": 5
}
