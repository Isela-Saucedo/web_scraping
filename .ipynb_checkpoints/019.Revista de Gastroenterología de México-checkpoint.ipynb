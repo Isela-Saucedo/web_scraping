{
 "cells": [
  {
   "cell_type": "code",
   "execution_count": 326,
   "id": "abb34eb1-90c3-405a-8dd8-f39cf5b775f5",
   "metadata": {},
   "outputs": [],
   "source": [
    "import requests\n",
    "import bs4\n",
    "from bs4 import BeautifulSoup\n",
    "from urllib.parse import urljoin\n",
    "import pandas as pd"
   ]
  },
  {
   "cell_type": "code",
   "execution_count": 327,
   "id": "f0e51251-5590-4c67-a595-e41529767bd7",
   "metadata": {},
   "outputs": [],
   "source": [
    "url_inicial='http://www.revistagastroenterologiamexico.org/es-numeros-anteriores-1995'\n",
    "url_root= 'http://www.revistagastroenterologiamexico.org/es-numeros-anteriores-1995'\n",
    "r = requests.get(url_inicial)"
   ]
  },
  {
   "cell_type": "code",
   "execution_count": 328,
   "id": "f4d41f58-32fc-4388-bf49-b96b445158a1",
   "metadata": {},
   "outputs": [],
   "source": [
    "soup = BeautifulSoup(r.text, 'html.parser')"
   ]
  },
  {
   "cell_type": "code",
   "execution_count": 329,
   "id": "7d1bfce7-e48d-43b2-a8dd-807089fac040",
   "metadata": {},
   "outputs": [
    {
     "data": {
      "text/plain": [
       "['http://www.revistagastroenterologiamexico.org/es-vol-60-num-4-sumario-X0375090695X67148',\n",
       " 'http://www.revistagastroenterologiamexico.org/es-vol-60-num-3-sumario-X0375090695X6713X',\n",
       " 'http://www.revistagastroenterologiamexico.org/es-vol-60-num-2-sumario-X0375090695X67121',\n",
       " 'http://www.revistagastroenterologiamexico.org/es-vol-60-num-1-sumario-X0375090695X67113']"
      ]
     },
     "execution_count": 329,
     "metadata": {},
     "output_type": "execute_result"
    }
   ],
   "source": [
    "box = soup.find('div', class_='contenido')\n",
    "volumen=box.findAll('div', class_='sumario row')\n",
    "vol = [x.find('a').get('href')for x in volumen]\n",
    "vol=[urljoin(url_root,i) for i in vol]\n",
    "vol"
   ]
  },
  {
   "cell_type": "code",
   "execution_count": 330,
   "id": "a5f82464-35f4-47e6-9c68-f1492a086a98",
   "metadata": {},
   "outputs": [],
   "source": [
    "def get_url_items(sopa, url): \n",
    "    box = soup.find('div', class_='contenido')\n",
    "    volumen=box.findAll('div', class_='sumario row')\n",
    "    vol = [x.find('a').get('href')for x in volumen]\n",
    "    vol=[urljoin(url_root,i) for i in vol]\n",
    "    return vol"
   ]
  },
  {
   "cell_type": "code",
   "execution_count": 331,
   "id": "a6fb7525-cd74-475a-90d4-89b117492f48",
   "metadata": {},
   "outputs": [
    {
     "name": "stdout",
     "output_type": "stream",
     "text": [
      "Estoy en la pagina http://www.revistagastroenterologiamexico.org/es-numeros-anteriores-1995\n"
     ]
    }
   ],
   "source": [
    "links_items=[]\n",
    "i=0\n",
    "while i<1:\n",
    "    i+=1\n",
    "    print(f'Estoy en la pagina {url_inicial}')\n",
    "    r_pag=requests.get(url_inicial)\n",
    "    s_p=BeautifulSoup(r_pag.text,'html.parser')\n",
    "    links=get_url_items(s_p, url_inicial)\n",
    "    links_items.append(links) \n",
    "    next_a=s_p.select('ul.decada-2022-2020 > a')\n",
    "    if not next_a or not next_a[0].get('href'):\n",
    "        break\n",
    "    url_inicial = urljoin(url_inicial, next_a[0].get('href'))"
   ]
  },
  {
   "cell_type": "code",
   "execution_count": 332,
   "id": "73bfb976-c887-4713-8827-46c394b12684",
   "metadata": {},
   "outputs": [
    {
     "data": {
      "text/plain": [
       "4"
      ]
     },
     "execution_count": 332,
     "metadata": {},
     "output_type": "execute_result"
    }
   ],
   "source": [
    "list_scraper=[]\n",
    "for i in links_items:\n",
    "    for j in i:\n",
    "        list_scraper.append(j)\n",
    "len(list_scraper)"
   ]
  },
  {
   "cell_type": "code",
   "execution_count": 333,
   "id": "a24707a9-a0bb-4643-b5ed-7d254ae6d4cb",
   "metadata": {},
   "outputs": [],
   "source": [
    "uno=list_scraper[0]\n",
    "r_item=requests.get(uno)\n",
    "s_item=BeautifulSoup(r_item.text, 'html.parser')"
   ]
  },
  {
   "cell_type": "code",
   "execution_count": 334,
   "id": "b09d801b-556c-42f8-bd5b-19fbd71f4732",
   "metadata": {},
   "outputs": [],
   "source": [
    "#funcion para iniciar el escraper de cada libro\n",
    "def scraper_book(url):\n",
    "    content_book={}\n",
    "    r=requests.get(url)\n",
    "    s_item=BeautifulSoup(r.text,'html.parser')\n",
    "    #volumen del libro\n",
    "    try:\n",
    "        vol=s_item.find('span', class_='volumen').get_text(strip=True)\n",
    "        content_book['Volumen']=vol\n",
    "    except AttributeError:\n",
    "        content_book['Volumen']=None\n",
    "    #fecha del libro\n",
    "    try:\n",
    "        publi=s_item.find('span', class_='fecha-trans').get_text(strip=True)\n",
    "        content_book['Publicado']=publi\n",
    "    except AttributeError:\n",
    "        content_book['Publicado']=None\n",
    "    #obtener link\n",
    "    try:\n",
    "        link=s_item.find('a', class_='portada desktop').get('href')\n",
    "        content_book['Link']=urljoin(url_root, link)\n",
    "    except AttributeError:\n",
    "        content_book['Link']=None\n",
    "    return content_book"
   ]
  },
  {
   "cell_type": "code",
   "execution_count": 335,
   "id": "443e6d47-e29e-4f2d-8100-3f329709df46",
   "metadata": {},
   "outputs": [
    {
     "name": "stdout",
     "output_type": "stream",
     "text": [
      "estas escrapeando la pag 0\n",
      "estas escrapeando la pag 1\n",
      "estas escrapeando la pag 2\n",
      "estas escrapeando la pag 3\n"
     ]
    }
   ],
   "source": [
    "list_scraper=list_scraper[0:4]\n",
    "datos_book=[]\n",
    "for idx, i in enumerate(list_scraper):\n",
    "    print(f'estas escrapeando la pag {idx}')\n",
    "    datos_book.append(scraper_book(i))"
   ]
  },
  {
   "cell_type": "code",
   "execution_count": 336,
   "id": "3ea676f0-008e-4a5c-ae3e-238274917fc1",
   "metadata": {},
   "outputs": [
    {
     "data": {
      "text/html": [
       "<div>\n",
       "<style scoped>\n",
       "    .dataframe tbody tr th:only-of-type {\n",
       "        vertical-align: middle;\n",
       "    }\n",
       "\n",
       "    .dataframe tbody tr th {\n",
       "        vertical-align: top;\n",
       "    }\n",
       "\n",
       "    .dataframe thead th {\n",
       "        text-align: right;\n",
       "    }\n",
       "</style>\n",
       "<table border=\"1\" class=\"dataframe\">\n",
       "  <thead>\n",
       "    <tr style=\"text-align: right;\">\n",
       "      <th></th>\n",
       "      <th>Volumen</th>\n",
       "      <th>Publicado</th>\n",
       "      <th>Link</th>\n",
       "    </tr>\n",
       "  </thead>\n",
       "  <tbody>\n",
       "    <tr>\n",
       "      <th>0</th>\n",
       "      <td>Vol. 60. Núm. 4.</td>\n",
       "      <td>(Octubre 1995)</td>\n",
       "      <td>http://www.revistagastroenterologiamexico.org/...</td>\n",
       "    </tr>\n",
       "    <tr>\n",
       "      <th>1</th>\n",
       "      <td>Vol. 60. Núm. 3.</td>\n",
       "      <td>(Julio 1995)</td>\n",
       "      <td>http://www.revistagastroenterologiamexico.org/...</td>\n",
       "    </tr>\n",
       "    <tr>\n",
       "      <th>2</th>\n",
       "      <td>Vol. 60. Núm. 2.</td>\n",
       "      <td>(Abril 1995)</td>\n",
       "      <td>http://www.revistagastroenterologiamexico.org/...</td>\n",
       "    </tr>\n",
       "    <tr>\n",
       "      <th>3</th>\n",
       "      <td>Vol. 60. Núm. 1.</td>\n",
       "      <td>(Enero 1995)</td>\n",
       "      <td>http://www.revistagastroenterologiamexico.org/...</td>\n",
       "    </tr>\n",
       "  </tbody>\n",
       "</table>\n",
       "</div>"
      ],
      "text/plain": [
       "            Volumen       Publicado  \\\n",
       "0  Vol. 60. Núm. 4.  (Octubre 1995)   \n",
       "1  Vol. 60. Núm. 3.    (Julio 1995)   \n",
       "2  Vol. 60. Núm. 2.    (Abril 1995)   \n",
       "3  Vol. 60. Núm. 1.    (Enero 1995)   \n",
       "\n",
       "                                                Link  \n",
       "0  http://www.revistagastroenterologiamexico.org/...  \n",
       "1  http://www.revistagastroenterologiamexico.org/...  \n",
       "2  http://www.revistagastroenterologiamexico.org/...  \n",
       "3  http://www.revistagastroenterologiamexico.org/...  "
      ]
     },
     "execution_count": 336,
     "metadata": {},
     "output_type": "execute_result"
    }
   ],
   "source": [
    "df_catalogo=pd.DataFrame(datos_book)\n",
    "df_catalogo"
   ]
  },
  {
   "cell_type": "code",
   "execution_count": 337,
   "id": "ced175e2-488b-40d3-a1e8-de2e035f8ef0",
   "metadata": {},
   "outputs": [],
   "source": [
    "df_catalogo.to_csv('Revista19.28.csv')"
   ]
  },
  {
   "cell_type": "code",
   "execution_count": null,
   "id": "7c097695-ebaf-4163-b3eb-b8920a0ef68a",
   "metadata": {},
   "outputs": [],
   "source": []
  },
  {
   "cell_type": "code",
   "execution_count": null,
   "id": "e58b2679-cf3e-48ad-9c0a-912fb1657f05",
   "metadata": {},
   "outputs": [],
   "source": []
  }
 ],
 "metadata": {
  "kernelspec": {
   "display_name": "Python 3 (ipykernel)",
   "language": "python",
   "name": "python3"
  },
  "language_info": {
   "codemirror_mode": {
    "name": "ipython",
    "version": 3
   },
   "file_extension": ".py",
   "mimetype": "text/x-python",
   "name": "python",
   "nbconvert_exporter": "python",
   "pygments_lexer": "ipython3",
   "version": "3.10.4"
  }
 },
 "nbformat": 4,
 "nbformat_minor": 5
}
