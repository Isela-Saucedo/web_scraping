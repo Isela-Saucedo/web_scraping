{
 "cells": [
  {
   "cell_type": "code",
   "execution_count": 113,
   "id": "d4326137-203c-4c8e-add7-60b122a5955b",
   "metadata": {},
   "outputs": [],
   "source": [
    "import requests\n",
    "import bs4\n",
    "from bs4 import BeautifulSoup\n",
    "from urllib.parse import urljoin\n",
    "import pandas as pd"
   ]
  },
  {
   "cell_type": "code",
   "execution_count": 114,
   "id": "8c42dbd1-ff66-42c5-8447-68987cfebc5f",
   "metadata": {},
   "outputs": [],
   "source": [
    "url_inicial = 'https://riiit.com.mx/apps/site/idem.php?module=Catalog&action=CategoryIndex&CategoryPager_page=10&sort_field=posicion&sort_order=DESC&category=5039'\n",
    "url_root = 'https://riiit.com.mx/apps/site/idem.php?module=Catalog&action=CategoryIndex&CategoryPager_page=10&sort_field=posicion&sort_order=DESC&category=5039'\n",
    "r=requests.get(url_inicial)"
   ]
  },
  {
   "cell_type": "code",
   "execution_count": 115,
   "id": "449a9433-6cf4-4fe0-b7ab-fc8f9c95c5d6",
   "metadata": {},
   "outputs": [],
   "source": [
    "soup = BeautifulSoup(r.text, 'html.parser')"
   ]
  },
  {
   "cell_type": "code",
   "execution_count": 116,
   "id": "9e73d6cd-19b5-4184-a7e8-d4643b09b8dd",
   "metadata": {},
   "outputs": [
    {
     "data": {
      "text/plain": [
       "['https://riiit.com.mx/apps/site/idem.php?module=Catalog&action=ViewItem&id=5039&item_id=83816&id=5039',\n",
       " 'https://riiit.com.mx/apps/site/idem.php?module=Catalog&action=ViewItem&id=5039&item_id=83877&id=5039',\n",
       " 'https://riiit.com.mx/apps/site/idem.php?module=Catalog&action=ViewItem&id=5039&item_id=83878&id=5039',\n",
       " 'https://riiit.com.mx/apps/site/idem.php?module=Catalog&action=ViewItem&id=5039&item_id=83879&id=5039',\n",
       " 'https://riiit.com.mx/apps/site/idem.php?module=Catalog&action=ViewItem&id=5039&item_id=83943&id=5039',\n",
       " 'https://riiit.com.mx/item/analizando-la-rigidez-de-un-rotor-con-fisura-transversal-triangular.html?id=5039&id=5039',\n",
       " 'https://riiit.com.mx/apps/site/idem.php?module=Catalog&action=ViewItem&id=5039&item_id=83817&id=5039',\n",
       " 'https://riiit.com.mx/apps/site/idem.php?module=Catalog&action=ViewItem&id=5039&item_id=83933&id=5039',\n",
       " 'https://riiit.com.mx/apps/site/idem.php?module=Catalog&action=ViewItem&id=5039&item_id=83944&id=5039',\n",
       " 'https://riiit.com.mx/apps/site/idem.php?module=Catalog&action=ViewItem&id=5039&item_id=84424&id=5039']"
      ]
     },
     "execution_count": 116,
     "metadata": {},
     "output_type": "execute_result"
    }
   ],
   "source": [
    "lista_articulo = soup.find_all('div', class_='cat_prod')\n",
    "links_libros = [x.find('a').get('href') for x in lista_articulo]\n",
    "links_libros = [urljoin (url_root, i) for i in links_libros]\n",
    "links_libros"
   ]
  },
  {
   "cell_type": "code",
   "execution_count": 117,
   "id": "dc747d8a-4cdc-4097-bd19-3319d30b4506",
   "metadata": {},
   "outputs": [],
   "source": [
    "def get_url_items(soup,url):\n",
    "    lista_articulo = soup.find_all('div', class_='cat_prod')\n",
    "    links_libros = [x.find('a').get('href') for x in lista_articulo]\n",
    "    links_libros = [urljoin (url_root, i) for i in links_libros]\n",
    "    return links_libros"
   ]
  },
  {
   "cell_type": "code",
   "execution_count": 118,
   "id": "0816b38d-b35e-4607-be89-c6052601eb28",
   "metadata": {},
   "outputs": [
    {
     "name": "stdout",
     "output_type": "stream",
     "text": [
      "Estoy en la pagina https://riiit.com.mx/apps/site/idem.php?module=Catalog&action=CategoryIndex&CategoryPager_page=10&sort_field=posicion&sort_order=DESC&category=5039\n"
     ]
    }
   ],
   "source": [
    "links_items=[]\n",
    "i=0\n",
    "while i<1:\n",
    "    i+=1\n",
    "    print(f'Estoy en la pagina {url_inicial}')\n",
    "    r_pag=requests.get(url_inicial)\n",
    "    s_p=BeautifulSoup(r_pag.text,'html.parser')\n",
    "    links=get_url_items(s_p, url_inicial)\n",
    "    links_items.append(links)"
   ]
  },
  {
   "cell_type": "code",
   "execution_count": 119,
   "id": "ea2773b5-de65-40e4-885e-aab5917be849",
   "metadata": {},
   "outputs": [
    {
     "data": {
      "text/plain": [
       "10"
      ]
     },
     "execution_count": 119,
     "metadata": {},
     "output_type": "execute_result"
    }
   ],
   "source": [
    "list_scraper=[]\n",
    "for i in links_items:\n",
    "    for j in i:\n",
    "        list_scraper.append(j)\n",
    "len(list_scraper)"
   ]
  },
  {
   "cell_type": "code",
   "execution_count": 120,
   "id": "2bb6408d-dced-408d-8e1c-16c8c8bc9fd8",
   "metadata": {},
   "outputs": [],
   "source": [
    "uno=list_scraper[0]\n",
    "r_item=requests.get(uno)\n",
    "s_item=BeautifulSoup(r_item.text, 'html.parser')"
   ]
  },
  {
   "cell_type": "code",
   "execution_count": 121,
   "id": "ecfed8d8-555b-484d-a97e-41fb230737ce",
   "metadata": {},
   "outputs": [],
   "source": [
    "#funcion para iniciar el escraper de cada libro\n",
    "def scraper_book(url):\n",
    "    content_book={}\n",
    "    r=requests.get(url)\n",
    "    tire='Revista Internacional de Investigación e Innovación Tecnológica'\n",
    "    a='Multidisciplinaria'\n",
    "    tem='Innovación Tecnológica'\n",
    "    url='http://riiit.com.mx/'\n",
    "    s_item=BeautifulSoup(r.text,'html.parser')\n",
    "    #titulo de revista\n",
    "    try:\n",
    "        titulo=tire\n",
    "        content_book['Titulo de revista']=tire\n",
    "    except AttributeError:\n",
    "        content_book['Titulo de revista']=None\n",
    "    #area\n",
    "    try:\n",
    "        area=a\n",
    "        content_book['Área']=a\n",
    "    except AttributeError:\n",
    "        content_book['Área']=None\n",
    "    #tematica\n",
    "    try:\n",
    "        tema=tem\n",
    "        content_book['Temática']=tem\n",
    "    except AttributeError:\n",
    "        content_book['Temática']=None\n",
    "    #titulo libro\n",
    "    try:\n",
    "        titu=s_item.find('p', class_='title_item').get_text(strip=True)\n",
    "        content_book['Titulo del libro']=titu\n",
    "    except AttributeError:\n",
    "        content_book['Titulo del libro']=None\n",
    "    #resumen\n",
    "    try:\n",
    "        resu=s_item.find('div', class_='description_item_art').get_text(strip=True)\n",
    "        content_book['Resumen']=resu\n",
    "    except AttributeError:\n",
    "        content_book['Resumen']=None\n",
    "    #Link incial\n",
    "    try:\n",
    "        inicial=url\n",
    "        content_book['Link inicial']=url\n",
    "    except AttributeError:\n",
    "        content_book['Link inicial']=None\n",
    "    #link articulo\n",
    "    try:\n",
    "        link=s_item.find('a', class_='ficha').get('href')\n",
    "        content_book['Link articulo']=urljoin(url_root, link)\n",
    "    except AttributeError:\n",
    "        content_book['Link articulo']=None\n",
    "    return content_book"
   ]
  },
  {
   "cell_type": "code",
   "execution_count": 122,
   "id": "b156f534-21dd-45ad-977e-3bc509e8338d",
   "metadata": {},
   "outputs": [
    {
     "name": "stdout",
     "output_type": "stream",
     "text": [
      "estas escrapeando la pag 0\n",
      "estas escrapeando la pag 1\n",
      "estas escrapeando la pag 2\n",
      "estas escrapeando la pag 3\n",
      "estas escrapeando la pag 4\n",
      "estas escrapeando la pag 5\n",
      "estas escrapeando la pag 6\n",
      "estas escrapeando la pag 7\n",
      "estas escrapeando la pag 8\n",
      "estas escrapeando la pag 9\n"
     ]
    }
   ],
   "source": [
    "list_scraper=list_scraper[0:15]\n",
    "datos_book=[]\n",
    "for idx, i in enumerate(list_scraper):\n",
    "    print(f'estas escrapeando la pag {idx}')\n",
    "    datos_book.append(scraper_book(i))"
   ]
  },
  {
   "cell_type": "code",
   "execution_count": 123,
   "id": "90a2843f-312a-4bc4-af2d-337504ccda96",
   "metadata": {},
   "outputs": [
    {
     "data": {
      "text/html": [
       "<div>\n",
       "<style scoped>\n",
       "    .dataframe tbody tr th:only-of-type {\n",
       "        vertical-align: middle;\n",
       "    }\n",
       "\n",
       "    .dataframe tbody tr th {\n",
       "        vertical-align: top;\n",
       "    }\n",
       "\n",
       "    .dataframe thead th {\n",
       "        text-align: right;\n",
       "    }\n",
       "</style>\n",
       "<table border=\"1\" class=\"dataframe\">\n",
       "  <thead>\n",
       "    <tr style=\"text-align: right;\">\n",
       "      <th></th>\n",
       "      <th>Titulo de revista</th>\n",
       "      <th>Área</th>\n",
       "      <th>Temática</th>\n",
       "      <th>Titulo del libro</th>\n",
       "      <th>Resumen</th>\n",
       "      <th>Link inicial</th>\n",
       "      <th>Link articulo</th>\n",
       "    </tr>\n",
       "  </thead>\n",
       "  <tbody>\n",
       "    <tr>\n",
       "      <th>0</th>\n",
       "      <td>Revista Internacional de Investigación e Innov...</td>\n",
       "      <td>Multidisciplinaria</td>\n",
       "      <td>Innovación Tecnológica</td>\n",
       "      <td>Caracterización de una película biopolimérica ...</td>\n",
       "      <td>Se desarrollaron dos formulaciones de película...</td>\n",
       "      <td>http://riiit.com.mx/</td>\n",
       "      <td>http://riiit.com.mx/apps/site/files/caracteriz...</td>\n",
       "    </tr>\n",
       "    <tr>\n",
       "      <th>1</th>\n",
       "      <td>Revista Internacional de Investigación e Innov...</td>\n",
       "      <td>Multidisciplinaria</td>\n",
       "      <td>Innovación Tecnológica</td>\n",
       "      <td>Dispersantes oligoméricos basados en copolímer...</td>\n",
       "      <td>Este trabajo trata sobre la preparación de dis...</td>\n",
       "      <td>http://riiit.com.mx/</td>\n",
       "      <td>http://riiit.com.mx/apps/site/files/j-a._1_v1.pdf</td>\n",
       "    </tr>\n",
       "    <tr>\n",
       "      <th>2</th>\n",
       "      <td>Revista Internacional de Investigación e Innov...</td>\n",
       "      <td>Multidisciplinaria</td>\n",
       "      <td>Innovación Tecnológica</td>\n",
       "      <td>Detección de obstáculos en imágenes de campos ...</td>\n",
       "      <td>El avance de la tecnología ha permitido el dis...</td>\n",
       "      <td>http://riiit.com.mx/</td>\n",
       "      <td>http://riiit.com.mx/apps/site/files/j-a._2_v1.pdf</td>\n",
       "    </tr>\n",
       "    <tr>\n",
       "      <th>3</th>\n",
       "      <td>Revista Internacional de Investigación e Innov...</td>\n",
       "      <td>Multidisciplinaria</td>\n",
       "      <td>Innovación Tecnológica</td>\n",
       "      <td>Producción de Biodiesel empleando ferrita de c...</td>\n",
       "      <td>En la búsqueda de producir Biodiesel, un bioco...</td>\n",
       "      <td>http://riiit.com.mx/</td>\n",
       "      <td>http://riiit.com.mx/apps/site/files/j-a._3_v1.pdf</td>\n",
       "    </tr>\n",
       "    <tr>\n",
       "      <th>4</th>\n",
       "      <td>Revista Internacional de Investigación e Innov...</td>\n",
       "      <td>Multidisciplinaria</td>\n",
       "      <td>Innovación Tecnológica</td>\n",
       "      <td>Rendimiento de híbridos de maíz en dos niveles...</td>\n",
       "      <td>El objetivo de este estudio fue evaluar el vig...</td>\n",
       "      <td>http://riiit.com.mx/</td>\n",
       "      <td>http://riiit.com.mx/apps/site/files/b_s-o._2_v...</td>\n",
       "    </tr>\n",
       "    <tr>\n",
       "      <th>5</th>\n",
       "      <td>Revista Internacional de Investigación e Innov...</td>\n",
       "      <td>Multidisciplinaria</td>\n",
       "      <td>Innovación Tecnológica</td>\n",
       "      <td>Analizando la Rigidez de un Rotor con Fisura T...</td>\n",
       "      <td>En este trabajo se determinó, la rigidez de un...</td>\n",
       "      <td>http://riiit.com.mx/</td>\n",
       "      <td>http://riiit.com.mx/apps/site/files/rigidez_de...</td>\n",
       "    </tr>\n",
       "    <tr>\n",
       "      <th>6</th>\n",
       "      <td>Revista Internacional de Investigación e Innov...</td>\n",
       "      <td>Multidisciplinaria</td>\n",
       "      <td>Innovación Tecnológica</td>\n",
       "      <td>Bloggers cómo influenciadores de consumo, refe...</td>\n",
       "      <td>Este estudio analiza el fenómeno de los blogge...</td>\n",
       "      <td>http://riiit.com.mx/</td>\n",
       "      <td>http://riiit.com.mx/apps/site/files/zahaira_gl...</td>\n",
       "    </tr>\n",
       "    <tr>\n",
       "      <th>7</th>\n",
       "      <td>Revista Internacional de Investigación e Innov...</td>\n",
       "      <td>Multidisciplinaria</td>\n",
       "      <td>Innovación Tecnológica</td>\n",
       "      <td>Simulation of an aeroderivative gas turbine vi...</td>\n",
       "      <td>Abstract\\r\\nIn recent years the use of softwar...</td>\n",
       "      <td>http://riiit.com.mx/</td>\n",
       "      <td>http://riiit.com.mx/apps/site/files/b_s-o.3_ci...</td>\n",
       "    </tr>\n",
       "    <tr>\n",
       "      <th>8</th>\n",
       "      <td>Revista Internacional de Investigación e Innov...</td>\n",
       "      <td>Multidisciplinaria</td>\n",
       "      <td>Innovación Tecnológica</td>\n",
       "      <td>Transformación de embriones de papaya maradol ...</td>\n",
       "      <td>La lipoxigenasa (LOX, EC 1.13.11.12) es una di...</td>\n",
       "      <td>http://riiit.com.mx/</td>\n",
       "      <td>http://riiit.com.mx/apps/site/files/b_s-o._1_1...</td>\n",
       "    </tr>\n",
       "    <tr>\n",
       "      <th>9</th>\n",
       "      <td>Revista Internacional de Investigación e Innov...</td>\n",
       "      <td>Multidisciplinaria</td>\n",
       "      <td>Innovación Tecnológica</td>\n",
       "      <td>Síntesis, funcionalización del ácido fólico-am...</td>\n",
       "      <td>Las nanopartículas de conversión ascendente (U...</td>\n",
       "      <td>http://riiit.com.mx/</td>\n",
       "      <td>http://riiit.com.mx/apps/site/files/art._3_ene...</td>\n",
       "    </tr>\n",
       "  </tbody>\n",
       "</table>\n",
       "</div>"
      ],
      "text/plain": [
       "                                   Titulo de revista                Área  \\\n",
       "0  Revista Internacional de Investigación e Innov...  Multidisciplinaria   \n",
       "1  Revista Internacional de Investigación e Innov...  Multidisciplinaria   \n",
       "2  Revista Internacional de Investigación e Innov...  Multidisciplinaria   \n",
       "3  Revista Internacional de Investigación e Innov...  Multidisciplinaria   \n",
       "4  Revista Internacional de Investigación e Innov...  Multidisciplinaria   \n",
       "5  Revista Internacional de Investigación e Innov...  Multidisciplinaria   \n",
       "6  Revista Internacional de Investigación e Innov...  Multidisciplinaria   \n",
       "7  Revista Internacional de Investigación e Innov...  Multidisciplinaria   \n",
       "8  Revista Internacional de Investigación e Innov...  Multidisciplinaria   \n",
       "9  Revista Internacional de Investigación e Innov...  Multidisciplinaria   \n",
       "\n",
       "                 Temática                                   Titulo del libro  \\\n",
       "0  Innovación Tecnológica  Caracterización de una película biopolimérica ...   \n",
       "1  Innovación Tecnológica  Dispersantes oligoméricos basados en copolímer...   \n",
       "2  Innovación Tecnológica  Detección de obstáculos en imágenes de campos ...   \n",
       "3  Innovación Tecnológica  Producción de Biodiesel empleando ferrita de c...   \n",
       "4  Innovación Tecnológica  Rendimiento de híbridos de maíz en dos niveles...   \n",
       "5  Innovación Tecnológica  Analizando la Rigidez de un Rotor con Fisura T...   \n",
       "6  Innovación Tecnológica  Bloggers cómo influenciadores de consumo, refe...   \n",
       "7  Innovación Tecnológica  Simulation of an aeroderivative gas turbine vi...   \n",
       "8  Innovación Tecnológica  Transformación de embriones de papaya maradol ...   \n",
       "9  Innovación Tecnológica  Síntesis, funcionalización del ácido fólico-am...   \n",
       "\n",
       "                                             Resumen          Link inicial  \\\n",
       "0  Se desarrollaron dos formulaciones de película...  http://riiit.com.mx/   \n",
       "1  Este trabajo trata sobre la preparación de dis...  http://riiit.com.mx/   \n",
       "2  El avance de la tecnología ha permitido el dis...  http://riiit.com.mx/   \n",
       "3  En la búsqueda de producir Biodiesel, un bioco...  http://riiit.com.mx/   \n",
       "4  El objetivo de este estudio fue evaluar el vig...  http://riiit.com.mx/   \n",
       "5  En este trabajo se determinó, la rigidez de un...  http://riiit.com.mx/   \n",
       "6  Este estudio analiza el fenómeno de los blogge...  http://riiit.com.mx/   \n",
       "7  Abstract\\r\\nIn recent years the use of softwar...  http://riiit.com.mx/   \n",
       "8  La lipoxigenasa (LOX, EC 1.13.11.12) es una di...  http://riiit.com.mx/   \n",
       "9  Las nanopartículas de conversión ascendente (U...  http://riiit.com.mx/   \n",
       "\n",
       "                                       Link articulo  \n",
       "0  http://riiit.com.mx/apps/site/files/caracteriz...  \n",
       "1  http://riiit.com.mx/apps/site/files/j-a._1_v1.pdf  \n",
       "2  http://riiit.com.mx/apps/site/files/j-a._2_v1.pdf  \n",
       "3  http://riiit.com.mx/apps/site/files/j-a._3_v1.pdf  \n",
       "4  http://riiit.com.mx/apps/site/files/b_s-o._2_v...  \n",
       "5  http://riiit.com.mx/apps/site/files/rigidez_de...  \n",
       "6  http://riiit.com.mx/apps/site/files/zahaira_gl...  \n",
       "7  http://riiit.com.mx/apps/site/files/b_s-o.3_ci...  \n",
       "8  http://riiit.com.mx/apps/site/files/b_s-o._1_1...  \n",
       "9  http://riiit.com.mx/apps/site/files/art._3_ene...  "
      ]
     },
     "execution_count": 123,
     "metadata": {},
     "output_type": "execute_result"
    }
   ],
   "source": [
    "df_catalogo=pd.DataFrame(datos_book)\n",
    "df_catalogo"
   ]
  },
  {
   "cell_type": "code",
   "execution_count": 124,
   "id": "063e294d-127b-4fb6-8072-791533b743e7",
   "metadata": {},
   "outputs": [],
   "source": [
    "df_catalogo.to_csv('Revista211.10csv', index=False)"
   ]
  },
  {
   "cell_type": "code",
   "execution_count": null,
   "id": "87ba00a2-a4ea-46a1-916a-0aacc80721c0",
   "metadata": {},
   "outputs": [],
   "source": []
  }
 ],
 "metadata": {
  "kernelspec": {
   "display_name": "Python 3 (ipykernel)",
   "language": "python",
   "name": "python3"
  },
  "language_info": {
   "codemirror_mode": {
    "name": "ipython",
    "version": 3
   },
   "file_extension": ".py",
   "mimetype": "text/x-python",
   "name": "python",
   "nbconvert_exporter": "python",
   "pygments_lexer": "ipython3",
   "version": "3.10.4"
  }
 },
 "nbformat": 4,
 "nbformat_minor": 5
}
