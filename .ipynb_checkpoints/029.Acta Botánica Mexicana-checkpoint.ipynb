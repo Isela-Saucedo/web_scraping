{
 "cells": [
  {
   "cell_type": "code",
   "execution_count": 8,
   "id": "24d9b428-86ea-4910-bd02-f4f0ae8a4e36",
   "metadata": {},
   "outputs": [],
   "source": [
    "import requests\n",
    "import bs4\n",
    "from bs4 import BeautifulSoup\n",
    "from urllib.parse import urljoin\n",
    "import pandas as pd"
   ]
  },
  {
   "cell_type": "code",
   "execution_count": 71,
   "id": "03cc035c-04a5-4157-b65c-d0b46a1f863e",
   "metadata": {},
   "outputs": [],
   "source": [
    "url_inicial = 'https://abm.ojs.inecol.mx/index.php/abm/issue/archive/6'\n",
    "url_root = 'https://abm.ojs.inecol.mx/index.php/abm/issue/archive/6'"
   ]
  },
  {
   "cell_type": "code",
   "execution_count": 72,
   "id": "eb1136c4-5722-4e31-b239-d238a3db91b2",
   "metadata": {},
   "outputs": [],
   "source": [
    "r=requests.get(url_inicial)"
   ]
  },
  {
   "cell_type": "code",
   "execution_count": 73,
   "id": "11598741-3e79-469a-b8fd-771cae86b8c8",
   "metadata": {},
   "outputs": [],
   "source": [
    "soup = BeautifulSoup(r.text, 'html.parser')"
   ]
  },
  {
   "cell_type": "code",
   "execution_count": 74,
   "id": "347b9eef-ffe5-40ea-b85f-13a843ab4f06",
   "metadata": {},
   "outputs": [
    {
     "data": {
      "text/plain": [
       "['https://abm.ojs.inecol.mx/index.php/abm/issue/view/100',\n",
       " 'https://abm.ojs.inecol.mx/index.php/abm/issue/view/99',\n",
       " 'https://abm.ojs.inecol.mx/index.php/abm/issue/view/98',\n",
       " 'https://abm.ojs.inecol.mx/index.php/abm/issue/view/97']"
      ]
     },
     "execution_count": 74,
     "metadata": {},
     "output_type": "execute_result"
    }
   ],
   "source": [
    "box = soup.find('div', class_='flex_container issues_list')\n",
    "volumen=box.findAll('div', class_='issue_item')\n",
    "vol = [x.find('a').get('href')for x in volumen]\n",
    "vol=[urljoin(url_root,i) for i in vol]\n",
    "vol"
   ]
  },
  {
   "cell_type": "code",
   "execution_count": 75,
   "id": "87b887c2-246c-43d3-8301-75ca55eebc7f",
   "metadata": {},
   "outputs": [],
   "source": [
    "def get_url_items(sopa, url): \n",
    "    box = soup.find('div', class_='flex_container issues_list')\n",
    "    volumen=box.findAll('div', class_='issue_item')\n",
    "    vol = [x.find('a').get('href')for x in volumen]\n",
    "    vol=[urljoin(url_root,i) for i in vol]\n",
    "    return vol"
   ]
  },
  {
   "cell_type": "code",
   "execution_count": 76,
   "id": "af388442-8100-4f9a-bc25-7e8b4fd4e2a3",
   "metadata": {},
   "outputs": [
    {
     "name": "stdout",
     "output_type": "stream",
     "text": [
      "Estoy en la pagina https://abm.ojs.inecol.mx/index.php/abm/issue/archive/6\n"
     ]
    }
   ],
   "source": [
    "links_items=[]\n",
    "i=0\n",
    "while i<6:\n",
    "    i+=1\n",
    "    print(f'Estoy en la pagina {url_inicial}')\n",
    "    r_pag=requests.get(url_inicial)\n",
    "    s_p=BeautifulSoup(r_pag.text,'html.parser')\n",
    "    links=get_url_items(s_p, url_inicial)\n",
    "    links_items.append(links)\n",
    "    next_a=s_p.select('page-link > a')\n",
    "    if not next_a or not next_a[0].get('href'):\n",
    "        break\n",
    "    url_inicial = urljoin(url_inicial, next_a[0].get('href'))"
   ]
  },
  {
   "cell_type": "code",
   "execution_count": 77,
   "id": "d60c4fcb-6c3c-456f-8409-3f269990c40d",
   "metadata": {},
   "outputs": [
    {
     "data": {
      "text/plain": [
       "4"
      ]
     },
     "execution_count": 77,
     "metadata": {},
     "output_type": "execute_result"
    }
   ],
   "source": [
    "list_scraper=[]\n",
    "for i in links_items:\n",
    "    for j in i:\n",
    "        list_scraper.append(j)\n",
    "len(list_scraper)"
   ]
  },
  {
   "cell_type": "code",
   "execution_count": 78,
   "id": "3b8853d7-6ec5-48ff-8de0-6a505f0cc2a1",
   "metadata": {},
   "outputs": [],
   "source": [
    "uno=list_scraper[0]\n",
    "r_item=requests.get(uno)\n",
    "s_item=BeautifulSoup(r_item.text, 'html.parser')"
   ]
  },
  {
   "cell_type": "code",
   "execution_count": 79,
   "id": "0892284c-c4c7-40b9-be31-dee54c5a6810",
   "metadata": {},
   "outputs": [],
   "source": [
    "#funcion para iniciar el escraper de cada libro\n",
    "def scraper_book(url):\n",
    "    content_book={}\n",
    "    r=requests.get(url)\n",
    "    tire='Acta Botánica Mexicana'\n",
    "    a='II. Biología y Química'\n",
    "    tem='Botánica'\n",
    "    url='http://abm.ojs.inecol.mx/index.php/abm/index'\n",
    "    s_item=BeautifulSoup(r.text,'html.parser')\n",
    "    #titulo de revista\n",
    "    try:\n",
    "        titulo=tire\n",
    "        content_book['Titulo de revista']=tire\n",
    "    except AttributeError:\n",
    "        content_book['Titulo de revista']=None\n",
    "    #area\n",
    "    try:\n",
    "        area=a\n",
    "        content_book['Área']=a\n",
    "    except AttributeError:\n",
    "        content_book['Área']=None\n",
    "    #tematica\n",
    "    try:\n",
    "        tema=tem\n",
    "        content_book['Temática']=tem\n",
    "    except AttributeError:\n",
    "        content_book['Temática']=None\n",
    "    #titulo libro\n",
    "    try:\n",
    "        titu=s_item.find('a', class_='summary_title').get_text(strip=True)\n",
    "        content_book['Titulo del libro']=titu\n",
    "    except AttributeError:\n",
    "        content_book['Titulo del libro']=None\n",
    "    #resumen\n",
    "    try:\n",
    "        resu=s_item.find('div', id='articleAbstract').get_text(strip=True)\n",
    "        content_book['Resumen']=resu\n",
    "    except AttributeError:\n",
    "        content_book['Resumen']=None\n",
    "    #Link incial\n",
    "    try:\n",
    "        inicial=url\n",
    "        content_book['Link inicial']=url\n",
    "    except AttributeError:\n",
    "        content_book['Link inicial']=None\n",
    "    #link articulo\n",
    "    try:\n",
    "        link=s_item.find('a', class_='btn galley-link obj_galley_link pdf').get('href')\n",
    "        content_book['Link articulo']=urljoin(url_root, link)\n",
    "    except AttributeError:\n",
    "        content_book['Link articulo']=None\n",
    "    return content_book"
   ]
  },
  {
   "cell_type": "code",
   "execution_count": 80,
   "id": "988a72ac-502f-4834-8e75-4b7db32c8aea",
   "metadata": {},
   "outputs": [
    {
     "name": "stdout",
     "output_type": "stream",
     "text": [
      "estas escrapeando la pag 0\n",
      "estas escrapeando la pag 1\n",
      "estas escrapeando la pag 2\n",
      "estas escrapeando la pag 3\n"
     ]
    }
   ],
   "source": [
    "list_scraper=list_scraper[0:4]\n",
    "datos_book=[]\n",
    "for idx, i in enumerate(list_scraper):\n",
    "    print(f'estas escrapeando la pag {idx}')\n",
    "    datos_book.append(scraper_book(i))"
   ]
  },
  {
   "cell_type": "code",
   "execution_count": 81,
   "id": "77068708-765f-4eaf-ab0b-f8bdf5b99bba",
   "metadata": {},
   "outputs": [
    {
     "data": {
      "text/html": [
       "<div>\n",
       "<style scoped>\n",
       "    .dataframe tbody tr th:only-of-type {\n",
       "        vertical-align: middle;\n",
       "    }\n",
       "\n",
       "    .dataframe tbody tr th {\n",
       "        vertical-align: top;\n",
       "    }\n",
       "\n",
       "    .dataframe thead th {\n",
       "        text-align: right;\n",
       "    }\n",
       "</style>\n",
       "<table border=\"1\" class=\"dataframe\">\n",
       "  <thead>\n",
       "    <tr style=\"text-align: right;\">\n",
       "      <th></th>\n",
       "      <th>Titulo de revista</th>\n",
       "      <th>Área</th>\n",
       "      <th>Temática</th>\n",
       "      <th>Titulo del libro</th>\n",
       "      <th>Resumen</th>\n",
       "      <th>Link inicial</th>\n",
       "      <th>Link articulo</th>\n",
       "    </tr>\n",
       "  </thead>\n",
       "  <tbody>\n",
       "    <tr>\n",
       "      <th>0</th>\n",
       "      <td>Acta Botánica Mexicana</td>\n",
       "      <td>II. Biología y Química</td>\n",
       "      <td>Botánica</td>\n",
       "      <td>El palo escrito, árbol de madera preciosa - un...</td>\n",
       "      <td>None</td>\n",
       "      <td>http://abm.ojs.inecol.mx/index.php/abm/index</td>\n",
       "      <td>https://abm.ojs.inecol.mx/index.php/abm/articl...</td>\n",
       "    </tr>\n",
       "    <tr>\n",
       "      <th>1</th>\n",
       "      <td>Acta Botánica Mexicana</td>\n",
       "      <td>II. Biología y Química</td>\n",
       "      <td>Botánica</td>\n",
       "      <td>Tres especies nuevas de Stachys (Labiatae) de ...</td>\n",
       "      <td>None</td>\n",
       "      <td>http://abm.ojs.inecol.mx/index.php/abm/index</td>\n",
       "      <td>https://abm.ojs.inecol.mx/index.php/abm/articl...</td>\n",
       "    </tr>\n",
       "    <tr>\n",
       "      <th>2</th>\n",
       "      <td>Acta Botánica Mexicana</td>\n",
       "      <td>II. Biología y Química</td>\n",
       "      <td>Botánica</td>\n",
       "      <td>Primer registro de Trichoglossum velutipes (Ge...</td>\n",
       "      <td>None</td>\n",
       "      <td>http://abm.ojs.inecol.mx/index.php/abm/index</td>\n",
       "      <td>https://abm.ojs.inecol.mx/index.php/abm/articl...</td>\n",
       "    </tr>\n",
       "    <tr>\n",
       "      <th>3</th>\n",
       "      <td>Acta Botánica Mexicana</td>\n",
       "      <td>II. Biología y Química</td>\n",
       "      <td>Botánica</td>\n",
       "      <td>Presentación</td>\n",
       "      <td>None</td>\n",
       "      <td>http://abm.ojs.inecol.mx/index.php/abm/index</td>\n",
       "      <td>https://abm.ojs.inecol.mx/index.php/abm/articl...</td>\n",
       "    </tr>\n",
       "  </tbody>\n",
       "</table>\n",
       "</div>"
      ],
      "text/plain": [
       "        Titulo de revista                    Área  Temática  \\\n",
       "0  Acta Botánica Mexicana  II. Biología y Química  Botánica   \n",
       "1  Acta Botánica Mexicana  II. Biología y Química  Botánica   \n",
       "2  Acta Botánica Mexicana  II. Biología y Química  Botánica   \n",
       "3  Acta Botánica Mexicana  II. Biología y Química  Botánica   \n",
       "\n",
       "                                    Titulo del libro Resumen  \\\n",
       "0  El palo escrito, árbol de madera preciosa - un...    None   \n",
       "1  Tres especies nuevas de Stachys (Labiatae) de ...    None   \n",
       "2  Primer registro de Trichoglossum velutipes (Ge...    None   \n",
       "3                                       Presentación    None   \n",
       "\n",
       "                                   Link inicial  \\\n",
       "0  http://abm.ojs.inecol.mx/index.php/abm/index   \n",
       "1  http://abm.ojs.inecol.mx/index.php/abm/index   \n",
       "2  http://abm.ojs.inecol.mx/index.php/abm/index   \n",
       "3  http://abm.ojs.inecol.mx/index.php/abm/index   \n",
       "\n",
       "                                       Link articulo  \n",
       "0  https://abm.ojs.inecol.mx/index.php/abm/articl...  \n",
       "1  https://abm.ojs.inecol.mx/index.php/abm/articl...  \n",
       "2  https://abm.ojs.inecol.mx/index.php/abm/articl...  \n",
       "3  https://abm.ojs.inecol.mx/index.php/abm/articl...  "
      ]
     },
     "execution_count": 81,
     "metadata": {},
     "output_type": "execute_result"
    }
   ],
   "source": [
    "df_catalogo=pd.DataFrame(datos_book)\n",
    "df_catalogo"
   ]
  },
  {
   "cell_type": "code",
   "execution_count": 82,
   "id": "1ed260ad-a656-4c3e-9710-b4aced3271cd",
   "metadata": {},
   "outputs": [],
   "source": [
    "df_catalogo.to_csv('Revista29.06.csv', index=False)"
   ]
  },
  {
   "cell_type": "code",
   "execution_count": null,
   "id": "5b79727c-2093-418e-b1bc-6790345810c6",
   "metadata": {},
   "outputs": [],
   "source": []
  }
 ],
 "metadata": {
  "kernelspec": {
   "display_name": "Python 3 (ipykernel)",
   "language": "python",
   "name": "python3"
  },
  "language_info": {
   "codemirror_mode": {
    "name": "ipython",
    "version": 3
   },
   "file_extension": ".py",
   "mimetype": "text/x-python",
   "name": "python",
   "nbconvert_exporter": "python",
   "pygments_lexer": "ipython3",
   "version": "3.10.4"
  }
 },
 "nbformat": 4,
 "nbformat_minor": 5
}
