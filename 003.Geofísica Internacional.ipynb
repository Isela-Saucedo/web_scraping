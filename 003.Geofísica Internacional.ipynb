{
 "cells": [
  {
   "cell_type": "code",
   "execution_count": 1,
   "id": "c3f7830b-d7d4-4c82-93f4-35734dfb610b",
   "metadata": {},
   "outputs": [],
   "source": [
    "import requests\n",
    "import bs4\n",
    "from bs4 import BeautifulSoup\n",
    "from urllib.parse import urljoin\n",
    "import pandas as pd"
   ]
  },
  {
   "cell_type": "code",
   "execution_count": 72,
   "id": "10a72335-3f31-42a2-9fe0-6a0a62da6765",
   "metadata": {},
   "outputs": [],
   "source": [
    "url_inicial = 'http://www.revistas.unam.mx/index.php/geofisica/issue/archive?issuesPage=6#issues'\n",
    "url_root = 'http://www.revistas.unam.mx/index.php/geofisica/issue/archive?issuesPage=6#issues'"
   ]
  },
  {
   "cell_type": "code",
   "execution_count": 73,
   "id": "71664e30-5442-485d-a080-0824077de940",
   "metadata": {},
   "outputs": [],
   "source": [
    "r=requests.get(url_inicial)"
   ]
  },
  {
   "cell_type": "code",
   "execution_count": 74,
   "id": "7d3b2593-bac0-4b8c-bf60-7ec9af2a2c5f",
   "metadata": {},
   "outputs": [],
   "source": [
    "soup = BeautifulSoup(r.text, 'html.parser')"
   ]
  },
  {
   "cell_type": "code",
   "execution_count": 75,
   "id": "a7f41789-b38d-49eb-ae99-9fdb3f757f5b",
   "metadata": {},
   "outputs": [
    {
     "data": {
      "text/plain": [
       "['http://www.revistas.unam.mx/index.php/geofisica/issue/view/3119',\n",
       " 'http://www.revistas.unam.mx/index.php/geofisica/issue/view/3115',\n",
       " 'http://www.revistas.unam.mx/index.php/geofisica/issue/view/3110',\n",
       " 'http://www.revistas.unam.mx/index.php/geofisica/issue/view/3108',\n",
       " 'http://www.revistas.unam.mx/index.php/geofisica/issue/view/3107',\n",
       " 'http://www.revistas.unam.mx/index.php/geofisica/issue/view/3106',\n",
       " 'http://www.revistas.unam.mx/index.php/geofisica/issue/view/3104',\n",
       " 'http://www.revistas.unam.mx/index.php/geofisica/issue/view/3101']"
      ]
     },
     "execution_count": 75,
     "metadata": {},
     "output_type": "execute_result"
    }
   ],
   "source": [
    "box = soup.find('div', id='issues')\n",
    "volumen=box.findAll('div', style='float: left; width: 100%;')\n",
    "vol = [x.find('a').get('href')for x in volumen]\n",
    "vol=[urljoin(url_root,i) for i in vol]\n",
    "vol"
   ]
  },
  {
   "cell_type": "code",
   "execution_count": 76,
   "id": "5770163b-9688-4bd2-bbc2-2d5a8a6e99ba",
   "metadata": {},
   "outputs": [],
   "source": [
    "def get_url_items(sopa, url): \n",
    "    box = soup.find('div', id='issues')\n",
    "    volumen=box.findAll('div', style='float: left; width: 100%;')\n",
    "    vol = [x.find('a').get('href')for x in volumen]\n",
    "    vol=[urljoin(url_root,i) for i in vol]\n",
    "    return vol"
   ]
  },
  {
   "cell_type": "code",
   "execution_count": null,
   "id": "5f78ec7b-1874-4207-b6e8-a55e91ddbe60",
   "metadata": {},
   "outputs": [],
   "source": [
    "for i in vol: \n",
    "    #print(i)\n",
    "    url_inicial1=i \n",
    "    r1 = requests.get(url_inicial1)\n",
    "    soup1 = BeautifulSoup(r1.text, 'html.parser')\n",
    "    box1 = soup1.find('div', class_='obj_issue_toc') \n",
    "    volumen1=box1.findAll('div', class_='title')\n",
    "    vol1 = [x.find('a').get('href')for x in volumen1]\n",
    "    vol1\n",
    "    for g in vol1: \n",
    "        print(g)"
   ]
  },
  {
   "cell_type": "code",
   "execution_count": 77,
   "id": "62e4ada2-5531-4704-ae5f-561a14e8c367",
   "metadata": {},
   "outputs": [
    {
     "name": "stdout",
     "output_type": "stream",
     "text": [
      "Estoy en la pagina http://www.revistas.unam.mx/index.php/geofisica/issue/archive?issuesPage=6#issues\n"
     ]
    }
   ],
   "source": [
    "links_items=[]\n",
    "i = 0\n",
    "while i<6:\n",
    "    i+=1\n",
    "    print(f'Estoy en la pagina {url_inicial}')\n",
    "    r_pag = requests.get(url_inicial)\n",
    "    s_p = BeautifulSoup(r_pag.text, 'html.parser')\n",
    "    links = get_url_items(s_p, url_inicial)\n",
    "    links_items.append(links)\n",
    "    next_a = s_p.select('strong > a')\n",
    "    if not next_a or not next_a[0].get('href'):\n",
    "        break\n",
    "        url_inicial = urljoin(url_inicial, next_a[0].get('href'))"
   ]
  },
  {
   "cell_type": "code",
   "execution_count": 78,
   "id": "fe6f8416-7445-4f71-b703-61289d9cdde9",
   "metadata": {},
   "outputs": [
    {
     "data": {
      "text/plain": [
       "8"
      ]
     },
     "execution_count": 78,
     "metadata": {},
     "output_type": "execute_result"
    }
   ],
   "source": [
    "list_scraper=[]\n",
    "for i in links_items:\n",
    "    for j in i:\n",
    "        list_scraper.append(j)\n",
    "len(list_scraper)"
   ]
  },
  {
   "cell_type": "code",
   "execution_count": 79,
   "id": "41fefd96-e8bd-42f6-b456-9ad6f5dfd15b",
   "metadata": {},
   "outputs": [],
   "source": [
    "uno=list_scraper[0]\n",
    "r_item=requests.get(uno)\n",
    "s_item=BeautifulSoup(r_item.text, 'html.parser')"
   ]
  },
  {
   "cell_type": "code",
   "execution_count": 80,
   "id": "d6701cdc-c2fb-45b6-b21b-58bb3a7f04ba",
   "metadata": {},
   "outputs": [],
   "source": [
    "#funcion para iniciar el escraper de cada libro\n",
    "def scraper_book(url):\n",
    "    content_book={}\n",
    "    r=requests.get(url)\n",
    "    tire='Geofísica Internacional'\n",
    "    a='I. Físico Matemáticas y Ciencias de la Tierra'\n",
    "    tem='Sismología, Vulcanología, Ciencias Espaciales, Hidrología y Exploración, Paleomagnetismo y Tectónicas, Oceanografía Física'\n",
    "    url='http://www.revistas.unam.mx/index.php/geofisica'\n",
    "    s_item=BeautifulSoup(r.text,'html.parser')\n",
    "    #titulo de revista\n",
    "    try:\n",
    "        titulo=tire\n",
    "        content_book['Titulo de revista']=tire\n",
    "    except AttributeError:\n",
    "        content_book['Titulo de revista']=None\n",
    "    #area\n",
    "    try:\n",
    "        area=a\n",
    "        content_book['Área']=a\n",
    "    except AttributeError:\n",
    "        content_book['Área']=None\n",
    "    #tematica\n",
    "    try:\n",
    "        tema=tem\n",
    "        content_book['Temática']=tem\n",
    "    except AttributeError:\n",
    "        content_book['Temática']=None\n",
    "    #titulo libro\n",
    "    try:\n",
    "        titu=s_item.find('a', class_='current').get_text(strip=True)\n",
    "        content_book['Titulo del libro']=titu\n",
    "    except AttributeError:\n",
    "        content_book['Titulo del libro']=None\n",
    "    #resumen\n",
    "    try:\n",
    "        resu=s_item.find('div', class_='journal-logo div_imagen_banner').get_text(strip=True)\n",
    "        content_book['Resumen']=resu\n",
    "    except AttributeError:\n",
    "        content_book['Resumen']=None\n",
    "    #Link incial\n",
    "    try:\n",
    "        inicial=url\n",
    "        content_book['Link inicial']=url\n",
    "    except AttributeError:\n",
    "        content_book['Link inicial']=None\n",
    "    #link articulo\n",
    "    try:\n",
    "        link=s_item.find('div', id='issueCoverImage').get('href')\n",
    "        content_book['Link articulo']=urljoin(url_root, link)\n",
    "    except AttributeError:\n",
    "        content_book['Link articulo']=None\n",
    "    return content_book"
   ]
  },
  {
   "cell_type": "code",
   "execution_count": 81,
   "id": "16bd124d-c075-42ea-97ae-1ba161e6a929",
   "metadata": {},
   "outputs": [
    {
     "name": "stdout",
     "output_type": "stream",
     "text": [
      "estas escrapeando la pag 0\n",
      "estas escrapeando la pag 1\n",
      "estas escrapeando la pag 2\n",
      "estas escrapeando la pag 3\n",
      "estas escrapeando la pag 4\n",
      "estas escrapeando la pag 5\n",
      "estas escrapeando la pag 6\n",
      "estas escrapeando la pag 7\n"
     ]
    }
   ],
   "source": [
    "list_scraper=list_scraper[0:8]\n",
    "datos_book=[]\n",
    "for idx, i in enumerate(list_scraper):\n",
    "    print(f'estas escrapeando la pag {idx}')\n",
    "    datos_book.append(scraper_book(i))"
   ]
  },
  {
   "cell_type": "code",
   "execution_count": 82,
   "id": "6dfcc528-f17e-4706-a6f8-06eef109f509",
   "metadata": {},
   "outputs": [
    {
     "data": {
      "text/html": [
       "<div>\n",
       "<style scoped>\n",
       "    .dataframe tbody tr th:only-of-type {\n",
       "        vertical-align: middle;\n",
       "    }\n",
       "\n",
       "    .dataframe tbody tr th {\n",
       "        vertical-align: top;\n",
       "    }\n",
       "\n",
       "    .dataframe thead th {\n",
       "        text-align: right;\n",
       "    }\n",
       "</style>\n",
       "<table border=\"1\" class=\"dataframe\">\n",
       "  <thead>\n",
       "    <tr style=\"text-align: right;\">\n",
       "      <th></th>\n",
       "      <th>Titulo de revista</th>\n",
       "      <th>Área</th>\n",
       "      <th>Temática</th>\n",
       "      <th>Titulo del libro</th>\n",
       "      <th>Resumen</th>\n",
       "      <th>Link inicial</th>\n",
       "      <th>Link articulo</th>\n",
       "    </tr>\n",
       "  </thead>\n",
       "  <tbody>\n",
       "    <tr>\n",
       "      <th>0</th>\n",
       "      <td>Geofísica Internacional</td>\n",
       "      <td>I. Físico Matemáticas y Ciencias de la Tierra</td>\n",
       "      <td>Sismología, Vulcanología, Ciencias Espaciales,...</td>\n",
       "      <td>Vol 13, No 4 (1973)</td>\n",
       "      <td>None</td>\n",
       "      <td>http://www.revistas.unam.mx/index.php/geofisica</td>\n",
       "      <td>http://www.revistas.unam.mx/index.php/geofisic...</td>\n",
       "    </tr>\n",
       "    <tr>\n",
       "      <th>1</th>\n",
       "      <td>Geofísica Internacional</td>\n",
       "      <td>I. Físico Matemáticas y Ciencias de la Tierra</td>\n",
       "      <td>Sismología, Vulcanología, Ciencias Espaciales,...</td>\n",
       "      <td>Vol 12, No 4 (1972)</td>\n",
       "      <td>None</td>\n",
       "      <td>http://www.revistas.unam.mx/index.php/geofisica</td>\n",
       "      <td>http://www.revistas.unam.mx/index.php/geofisic...</td>\n",
       "    </tr>\n",
       "    <tr>\n",
       "      <th>2</th>\n",
       "      <td>Geofísica Internacional</td>\n",
       "      <td>I. Físico Matemáticas y Ciencias de la Tierra</td>\n",
       "      <td>Sismología, Vulcanología, Ciencias Espaciales,...</td>\n",
       "      <td>Vol 11, No 3 (1971)</td>\n",
       "      <td>None</td>\n",
       "      <td>http://www.revistas.unam.mx/index.php/geofisica</td>\n",
       "      <td>http://www.revistas.unam.mx/index.php/geofisic...</td>\n",
       "    </tr>\n",
       "    <tr>\n",
       "      <th>3</th>\n",
       "      <td>Geofísica Internacional</td>\n",
       "      <td>I. Físico Matemáticas y Ciencias de la Tierra</td>\n",
       "      <td>Sismología, Vulcanología, Ciencias Espaciales,...</td>\n",
       "      <td>Vol 10, No 2 (1970)</td>\n",
       "      <td>None</td>\n",
       "      <td>http://www.revistas.unam.mx/index.php/geofisica</td>\n",
       "      <td>http://www.revistas.unam.mx/index.php/geofisic...</td>\n",
       "    </tr>\n",
       "    <tr>\n",
       "      <th>4</th>\n",
       "      <td>Geofísica Internacional</td>\n",
       "      <td>I. Físico Matemáticas y Ciencias de la Tierra</td>\n",
       "      <td>Sismología, Vulcanología, Ciencias Espaciales,...</td>\n",
       "      <td>Vol 8, No 2-4 (1968)</td>\n",
       "      <td>None</td>\n",
       "      <td>http://www.revistas.unam.mx/index.php/geofisica</td>\n",
       "      <td>http://www.revistas.unam.mx/index.php/geofisic...</td>\n",
       "    </tr>\n",
       "    <tr>\n",
       "      <th>5</th>\n",
       "      <td>Geofísica Internacional</td>\n",
       "      <td>I. Físico Matemáticas y Ciencias de la Tierra</td>\n",
       "      <td>Sismología, Vulcanología, Ciencias Espaciales,...</td>\n",
       "      <td>Vol 7, No 3-4 (1967)</td>\n",
       "      <td>None</td>\n",
       "      <td>http://www.revistas.unam.mx/index.php/geofisica</td>\n",
       "      <td>http://www.revistas.unam.mx/index.php/geofisic...</td>\n",
       "    </tr>\n",
       "    <tr>\n",
       "      <th>6</th>\n",
       "      <td>Geofísica Internacional</td>\n",
       "      <td>I. Físico Matemáticas y Ciencias de la Tierra</td>\n",
       "      <td>Sismología, Vulcanología, Ciencias Espaciales,...</td>\n",
       "      <td>Vol 5, No 4 (1965)</td>\n",
       "      <td>None</td>\n",
       "      <td>http://www.revistas.unam.mx/index.php/geofisica</td>\n",
       "      <td>http://www.revistas.unam.mx/index.php/geofisic...</td>\n",
       "    </tr>\n",
       "    <tr>\n",
       "      <th>7</th>\n",
       "      <td>Geofísica Internacional</td>\n",
       "      <td>I. Físico Matemáticas y Ciencias de la Tierra</td>\n",
       "      <td>Sismología, Vulcanología, Ciencias Espaciales,...</td>\n",
       "      <td>Vol 1, No 2 (1961)</td>\n",
       "      <td>None</td>\n",
       "      <td>http://www.revistas.unam.mx/index.php/geofisica</td>\n",
       "      <td>http://www.revistas.unam.mx/index.php/geofisic...</td>\n",
       "    </tr>\n",
       "  </tbody>\n",
       "</table>\n",
       "</div>"
      ],
      "text/plain": [
       "         Titulo de revista                                           Área  \\\n",
       "0  Geofísica Internacional  I. Físico Matemáticas y Ciencias de la Tierra   \n",
       "1  Geofísica Internacional  I. Físico Matemáticas y Ciencias de la Tierra   \n",
       "2  Geofísica Internacional  I. Físico Matemáticas y Ciencias de la Tierra   \n",
       "3  Geofísica Internacional  I. Físico Matemáticas y Ciencias de la Tierra   \n",
       "4  Geofísica Internacional  I. Físico Matemáticas y Ciencias de la Tierra   \n",
       "5  Geofísica Internacional  I. Físico Matemáticas y Ciencias de la Tierra   \n",
       "6  Geofísica Internacional  I. Físico Matemáticas y Ciencias de la Tierra   \n",
       "7  Geofísica Internacional  I. Físico Matemáticas y Ciencias de la Tierra   \n",
       "\n",
       "                                            Temática      Titulo del libro  \\\n",
       "0  Sismología, Vulcanología, Ciencias Espaciales,...   Vol 13, No 4 (1973)   \n",
       "1  Sismología, Vulcanología, Ciencias Espaciales,...   Vol 12, No 4 (1972)   \n",
       "2  Sismología, Vulcanología, Ciencias Espaciales,...   Vol 11, No 3 (1971)   \n",
       "3  Sismología, Vulcanología, Ciencias Espaciales,...   Vol 10, No 2 (1970)   \n",
       "4  Sismología, Vulcanología, Ciencias Espaciales,...  Vol 8, No 2-4 (1968)   \n",
       "5  Sismología, Vulcanología, Ciencias Espaciales,...  Vol 7, No 3-4 (1967)   \n",
       "6  Sismología, Vulcanología, Ciencias Espaciales,...    Vol 5, No 4 (1965)   \n",
       "7  Sismología, Vulcanología, Ciencias Espaciales,...    Vol 1, No 2 (1961)   \n",
       "\n",
       "  Resumen                                     Link inicial  \\\n",
       "0    None  http://www.revistas.unam.mx/index.php/geofisica   \n",
       "1    None  http://www.revistas.unam.mx/index.php/geofisica   \n",
       "2    None  http://www.revistas.unam.mx/index.php/geofisica   \n",
       "3    None  http://www.revistas.unam.mx/index.php/geofisica   \n",
       "4    None  http://www.revistas.unam.mx/index.php/geofisica   \n",
       "5    None  http://www.revistas.unam.mx/index.php/geofisica   \n",
       "6    None  http://www.revistas.unam.mx/index.php/geofisica   \n",
       "7    None  http://www.revistas.unam.mx/index.php/geofisica   \n",
       "\n",
       "                                       Link articulo  \n",
       "0  http://www.revistas.unam.mx/index.php/geofisic...  \n",
       "1  http://www.revistas.unam.mx/index.php/geofisic...  \n",
       "2  http://www.revistas.unam.mx/index.php/geofisic...  \n",
       "3  http://www.revistas.unam.mx/index.php/geofisic...  \n",
       "4  http://www.revistas.unam.mx/index.php/geofisic...  \n",
       "5  http://www.revistas.unam.mx/index.php/geofisic...  \n",
       "6  http://www.revistas.unam.mx/index.php/geofisic...  \n",
       "7  http://www.revistas.unam.mx/index.php/geofisic...  "
      ]
     },
     "execution_count": 82,
     "metadata": {},
     "output_type": "execute_result"
    }
   ],
   "source": [
    "df_catalogo=pd.DataFrame(datos_book)\n",
    "df_catalogo"
   ]
  },
  {
   "cell_type": "code",
   "execution_count": 83,
   "id": "880fe604-61cd-45a4-bff9-34f3d09aeeab",
   "metadata": {},
   "outputs": [],
   "source": [
    "df_catalogo.to_csv('Revista03.6.csv', index=False)"
   ]
  },
  {
   "cell_type": "code",
   "execution_count": null,
   "id": "720d5e29-7674-4b0f-add5-937d08f4e130",
   "metadata": {},
   "outputs": [],
   "source": []
  }
 ],
 "metadata": {
  "kernelspec": {
   "display_name": "Python 3 (ipykernel)",
   "language": "python",
   "name": "python3"
  },
  "language_info": {
   "codemirror_mode": {
    "name": "ipython",
    "version": 3
   },
   "file_extension": ".py",
   "mimetype": "text/x-python",
   "name": "python",
   "nbconvert_exporter": "python",
   "pygments_lexer": "ipython3",
   "version": "3.10.4"
  }
 },
 "nbformat": 4,
 "nbformat_minor": 5
}
