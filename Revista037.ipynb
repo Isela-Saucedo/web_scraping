{
 "cells": [
  {
   "cell_type": "code",
   "execution_count": 2,
   "id": "627a8fd3-e47a-40b4-9c76-ae18f2fb46e7",
   "metadata": {},
   "outputs": [],
   "source": [
    "import requests\n",
    "import bs4\n",
    "from bs4 import BeautifulSoup\n",
    "from urllib.parse import urljoin\n",
    "import pandas as pd"
   ]
  },
  {
   "cell_type": "code",
   "execution_count": 51,
   "id": "9669de22-a75b-4a83-bca8-626c8b8a4d5b",
   "metadata": {},
   "outputs": [],
   "source": [
    "url_inicial = 'http://www.cya.unam.mx/index.php/cya/issue/archive?issuesPage=4#issues'\n",
    "url_root = 'http://www.cya.unam.mx/index.php/cya/issue/archive?issuesPage=4#issues'\n",
    "r=requests.get(url_inicial)"
   ]
  },
  {
   "cell_type": "code",
   "execution_count": 52,
   "id": "1f4288f0-735e-47a1-98e1-da806a9b7300",
   "metadata": {},
   "outputs": [],
   "source": [
    "soup = BeautifulSoup(r.text, 'html.parser')"
   ]
  },
  {
   "cell_type": "code",
   "execution_count": 53,
   "id": "28953de7-5108-44e5-bc4e-4be2a702fe9b",
   "metadata": {},
   "outputs": [
    {
     "data": {
      "text/plain": [
       "['http://www.cya.unam.mx/index.php/cya/issue/view/52']"
      ]
     },
     "execution_count": 53,
     "metadata": {},
     "output_type": "execute_result"
    }
   ],
   "source": [
    "box = soup.find('div', id='issues')\n",
    "volumen=box.findAll('h4')\n",
    "vol = [x.find('a').get('href')for x in volumen]\n",
    "vol"
   ]
  },
  {
   "cell_type": "code",
   "execution_count": 54,
   "id": "331663d4-1af1-4d27-bd47-e5a120b7ea6e",
   "metadata": {},
   "outputs": [],
   "source": [
    "vol2 =[]\n",
    "for i in vol: \n",
    "    url_inicial1=i \n",
    "    r1 = requests.get(url_inicial1)\n",
    "    soup1 = BeautifulSoup(r1.text, 'html.parser')\n",
    "    box1 = soup1.find('div', id='content') \n",
    "    volumen1=box1.findAll('table', class_='tocArticle')\n",
    "    vol1 = [x.find('a').get('href')for x in volumen1]\n",
    "    vol2+=vol1"
   ]
  },
  {
   "cell_type": "code",
   "execution_count": 55,
   "id": "53fc3d30-7094-4409-b850-3c7efa9586c2",
   "metadata": {},
   "outputs": [
    {
     "data": {
      "text/plain": [
       "['http://www.cya.unam.mx/index.php/cya/article/view/456',\n",
       " 'http://www.cya.unam.mx/index.php/cya/article/view/457',\n",
       " 'http://www.cya.unam.mx/index.php/cya/article/view/458',\n",
       " 'http://www.cya.unam.mx/index.php/cya/article/view/459',\n",
       " 'http://www.cya.unam.mx/index.php/cya/article/view/460',\n",
       " 'http://www.cya.unam.mx/index.php/cya/article/view/461',\n",
       " 'http://www.cya.unam.mx/index.php/cya/article/view/462']"
      ]
     },
     "execution_count": 55,
     "metadata": {},
     "output_type": "execute_result"
    }
   ],
   "source": [
    "vol2"
   ]
  },
  {
   "cell_type": "code",
   "execution_count": 56,
   "id": "5f1be9f6-011b-4cf5-9fbd-fa387eea07ad",
   "metadata": {},
   "outputs": [],
   "source": [
    "def get_url_items(sopa,url):\n",
    "    box1 = soup1.find('div', id='content') \n",
    "    volumen1=box1.findAll('table', class_='tocArticle')\n",
    "    vol1 = [x.find('a').get('href')for x in volumen1]\n",
    "    return vol2"
   ]
  },
  {
   "cell_type": "code",
   "execution_count": 57,
   "id": "e0b36ccb-e26e-4de3-ae47-2fece0c0509f",
   "metadata": {},
   "outputs": [
    {
     "name": "stdout",
     "output_type": "stream",
     "text": [
      "Estoy en la pagina http://www.cya.unam.mx/index.php/cya/issue/archive?issuesPage=4#issues\n"
     ]
    }
   ],
   "source": [
    "links_items=[]\n",
    "i=0\n",
    "while i<1:\n",
    "    i+=1\n",
    "    print(f'Estoy en la pagina {url_inicial}')\n",
    "    r_pag=requests.get(url_inicial)\n",
    "    s_p=BeautifulSoup(r_pag.text,'html.parser')\n",
    "    links=get_url_items(s_p, url_inicial)\n",
    "    links_items.append(links) \n",
    "    next_a=s_p.select('li.next > a')\n",
    "    if not next_a or not next_a[0].get('href'):\n",
    "        break"
   ]
  },
  {
   "cell_type": "code",
   "execution_count": 58,
   "id": "0ab0e832-2d0b-4e08-a313-cf8134aad1ca",
   "metadata": {},
   "outputs": [
    {
     "data": {
      "text/plain": [
       "7"
      ]
     },
     "execution_count": 58,
     "metadata": {},
     "output_type": "execute_result"
    }
   ],
   "source": [
    "list_scraper=[]\n",
    "for i in links_items:\n",
    "    for j in i:\n",
    "        list_scraper.append(j)\n",
    "len(list_scraper)"
   ]
  },
  {
   "cell_type": "code",
   "execution_count": 59,
   "id": "1df6dae0-c05e-496a-9ebe-12feaac2bb36",
   "metadata": {},
   "outputs": [],
   "source": [
    "uno=list_scraper[0]\n",
    "r_item=requests.get(uno)\n",
    "s_item=BeautifulSoup(r_item.text, 'html.parser')"
   ]
  },
  {
   "cell_type": "code",
   "execution_count": 60,
   "id": "014da573-d9ee-49d6-af88-65ad73f98a1c",
   "metadata": {},
   "outputs": [],
   "source": [
    "#funcion para iniciar el escraper de cada libro\n",
    "def scraper_book(url):\n",
    "    content_book={}\n",
    "    r=requests.get(url)\n",
    "    tire='Contaduría y Administración'\n",
    "    a='V. Ciencias Sociales'\n",
    "    tem='Economía, Econometría y Finanzas'\n",
    "    s_item=BeautifulSoup(r.text,'html.parser')\n",
    " #titulo de revista\n",
    "    try:\n",
    "        titulo=tire\n",
    "        content_book['Titulo Revista']=tire\n",
    "    except AttributeError:\n",
    "        content_book['Titulo Revista']=None\n",
    "    #area\n",
    "    try:\n",
    "        area=a\n",
    "        content_book['Area']=a\n",
    "    except AttributeError:\n",
    "        content_book['Area']=None\n",
    "    #tematica\n",
    "    try:\n",
    "        tema=tem\n",
    "        content_book['Tematica']=tem\n",
    "    except AttributeError:\n",
    "        content_book['Tematica']=None\n",
    "    #titulo articulo\n",
    "    try:\n",
    "        titu=s_item.find('div', id='articleTitle').get_text(strip=True)\n",
    "        content_book['Titulo Articulo']=titu\n",
    "    except AttributeError:\n",
    "        content_book['Titulo Articulo']=None\n",
    "    #resumen\n",
    "    try:\n",
    "        resu=s_item.find('div', id='articleAbstract').get_text(strip=True)\n",
    "        content_book['Resumen']=resu.replace('Resumen','')\n",
    "    except AttributeError:\n",
    "        content_book['Resumen']=None\n",
    "    #abstract\n",
    "    try:\n",
    "        abst=s_item.find('div', class_='item cover_image').get_text(strip=True)\n",
    "        content_book['Abstract']=abst\n",
    "    except AttributeError:\n",
    "        content_book['Abstract']=None\n",
    "    #Link incial\n",
    "    try:\n",
    "        linkart=url\n",
    "        content_book['Link Articulo']=linkart\n",
    "    except AttributeError:\n",
    "        content_book['Link Articulo']=None\n",
    "    #link articulo\n",
    "    try:\n",
    "        link=s_item.find('a', class_='file').get('href')\n",
    "        content_book['Link PDF']=urljoin(url_root, link)\n",
    "    except AttributeError:\n",
    "        content_book['Link PDF']=None\n",
    "    return content_book"
   ]
  },
  {
   "cell_type": "code",
   "execution_count": 61,
   "id": "890d323b-78fa-47f0-bc41-fd192efb4411",
   "metadata": {},
   "outputs": [
    {
     "name": "stdout",
     "output_type": "stream",
     "text": [
      "estas escrapeando la pag 0\n",
      "estas escrapeando la pag 1\n",
      "estas escrapeando la pag 2\n",
      "estas escrapeando la pag 3\n",
      "estas escrapeando la pag 4\n",
      "estas escrapeando la pag 5\n",
      "estas escrapeando la pag 6\n"
     ]
    }
   ],
   "source": [
    "list_scraper=list_scraper[0:202]\n",
    "datos_book=[]\n",
    "for idx, i in enumerate(list_scraper):\n",
    "    print(f'estas escrapeando la pag {idx}')\n",
    "    datos_book.append(scraper_book(i))"
   ]
  },
  {
   "cell_type": "code",
   "execution_count": 62,
   "id": "bb335bf3-72c2-4de2-be65-44f97a44c160",
   "metadata": {},
   "outputs": [
    {
     "data": {
      "text/html": [
       "<div>\n",
       "<style scoped>\n",
       "    .dataframe tbody tr th:only-of-type {\n",
       "        vertical-align: middle;\n",
       "    }\n",
       "\n",
       "    .dataframe tbody tr th {\n",
       "        vertical-align: top;\n",
       "    }\n",
       "\n",
       "    .dataframe thead th {\n",
       "        text-align: right;\n",
       "    }\n",
       "</style>\n",
       "<table border=\"1\" class=\"dataframe\">\n",
       "  <thead>\n",
       "    <tr style=\"text-align: right;\">\n",
       "      <th></th>\n",
       "      <th>Titulo Revista</th>\n",
       "      <th>Area</th>\n",
       "      <th>Tematica</th>\n",
       "      <th>Titulo Articulo</th>\n",
       "      <th>Resumen</th>\n",
       "      <th>Abstract</th>\n",
       "      <th>Link Articulo</th>\n",
       "      <th>Link PDF</th>\n",
       "    </tr>\n",
       "  </thead>\n",
       "  <tbody>\n",
       "    <tr>\n",
       "      <th>0</th>\n",
       "      <td>Contaduría y Administración</td>\n",
       "      <td>V. Ciencias Sociales</td>\n",
       "      <td>Economía, Econometría y Finanzas</td>\n",
       "      <td>Editorial Número 213</td>\n",
       "      <td>Largo, Sinuoso, incluso interrumpido una vez, ...</td>\n",
       "      <td>None</td>\n",
       "      <td>http://www.cya.unam.mx/index.php/cya/article/v...</td>\n",
       "      <td>http://www.cya.unam.mx/index.php/cya/article/v...</td>\n",
       "    </tr>\n",
       "    <tr>\n",
       "      <th>1</th>\n",
       "      <td>Contaduría y Administración</td>\n",
       "      <td>V. Ciencias Sociales</td>\n",
       "      <td>Economía, Econometría y Finanzas</td>\n",
       "      <td>Política ambiental y su impacto en la innovaci...</td>\n",
       "      <td>NUEVOS CAMPOS DE ESTUDIO, COMO LA ECOLOGÍA IND...</td>\n",
       "      <td>None</td>\n",
       "      <td>http://www.cya.unam.mx/index.php/cya/article/v...</td>\n",
       "      <td>http://www.cya.unam.mx/index.php/cya/article/v...</td>\n",
       "    </tr>\n",
       "    <tr>\n",
       "      <th>2</th>\n",
       "      <td>Contaduría y Administración</td>\n",
       "      <td>V. Ciencias Sociales</td>\n",
       "      <td>Economía, Econometría y Finanzas</td>\n",
       "      <td>Las aproximaciones organizacionales caracteriz...</td>\n",
       "      <td>En este artículo se presenta una visión global...</td>\n",
       "      <td>None</td>\n",
       "      <td>http://www.cya.unam.mx/index.php/cya/article/v...</td>\n",
       "      <td>http://www.cya.unam.mx/index.php/cya/article/v...</td>\n",
       "    </tr>\n",
       "    <tr>\n",
       "      <th>3</th>\n",
       "      <td>Contaduría y Administración</td>\n",
       "      <td>V. Ciencias Sociales</td>\n",
       "      <td>Economía, Econometría y Finanzas</td>\n",
       "      <td>Competencia de las prendas de vestir mexicanas...</td>\n",
       "      <td>EL OBJETIVO DE ESTE ARTÍCULO ES ANALIZAR EL CO...</td>\n",
       "      <td>None</td>\n",
       "      <td>http://www.cya.unam.mx/index.php/cya/article/v...</td>\n",
       "      <td>http://www.cya.unam.mx/index.php/cya/article/v...</td>\n",
       "    </tr>\n",
       "    <tr>\n",
       "      <th>4</th>\n",
       "      <td>Contaduría y Administración</td>\n",
       "      <td>V. Ciencias Sociales</td>\n",
       "      <td>Economía, Econometría y Finanzas</td>\n",
       "      <td>Modelado de la volatilidad y pronóstico del ín...</td>\n",
       "      <td>EN ESTE DOCUMENTO SE EVALÚA LA CONTRIBUCIÓN DE...</td>\n",
       "      <td>None</td>\n",
       "      <td>http://www.cya.unam.mx/index.php/cya/article/v...</td>\n",
       "      <td>http://www.cya.unam.mx/index.php/cya/article/v...</td>\n",
       "    </tr>\n",
       "    <tr>\n",
       "      <th>5</th>\n",
       "      <td>Contaduría y Administración</td>\n",
       "      <td>V. Ciencias Sociales</td>\n",
       "      <td>Economía, Econometría y Finanzas</td>\n",
       "      <td>¿Ciencias duras y ciencias blandas? Una falsa ...</td>\n",
       "      <td>No comparto, por las razones que expondré más ...</td>\n",
       "      <td>None</td>\n",
       "      <td>http://www.cya.unam.mx/index.php/cya/article/v...</td>\n",
       "      <td>http://www.cya.unam.mx/index.php/cya/article/v...</td>\n",
       "    </tr>\n",
       "    <tr>\n",
       "      <th>6</th>\n",
       "      <td>Contaduría y Administración</td>\n",
       "      <td>V. Ciencias Sociales</td>\n",
       "      <td>Economía, Econometría y Finanzas</td>\n",
       "      <td>Sobre la administración comentarios a un texto...</td>\n",
       "      <td>Con el fin de pensar rigurosamente la cuestión...</td>\n",
       "      <td>None</td>\n",
       "      <td>http://www.cya.unam.mx/index.php/cya/article/v...</td>\n",
       "      <td>http://www.cya.unam.mx/index.php/cya/article/v...</td>\n",
       "    </tr>\n",
       "  </tbody>\n",
       "</table>\n",
       "</div>"
      ],
      "text/plain": [
       "                Titulo Revista                  Area  \\\n",
       "0  Contaduría y Administración  V. Ciencias Sociales   \n",
       "1  Contaduría y Administración  V. Ciencias Sociales   \n",
       "2  Contaduría y Administración  V. Ciencias Sociales   \n",
       "3  Contaduría y Administración  V. Ciencias Sociales   \n",
       "4  Contaduría y Administración  V. Ciencias Sociales   \n",
       "5  Contaduría y Administración  V. Ciencias Sociales   \n",
       "6  Contaduría y Administración  V. Ciencias Sociales   \n",
       "\n",
       "                           Tematica  \\\n",
       "0  Economía, Econometría y Finanzas   \n",
       "1  Economía, Econometría y Finanzas   \n",
       "2  Economía, Econometría y Finanzas   \n",
       "3  Economía, Econometría y Finanzas   \n",
       "4  Economía, Econometría y Finanzas   \n",
       "5  Economía, Econometría y Finanzas   \n",
       "6  Economía, Econometría y Finanzas   \n",
       "\n",
       "                                     Titulo Articulo  \\\n",
       "0                               Editorial Número 213   \n",
       "1  Política ambiental y su impacto en la innovaci...   \n",
       "2  Las aproximaciones organizacionales caracteriz...   \n",
       "3  Competencia de las prendas de vestir mexicanas...   \n",
       "4  Modelado de la volatilidad y pronóstico del ín...   \n",
       "5  ¿Ciencias duras y ciencias blandas? Una falsa ...   \n",
       "6  Sobre la administración comentarios a un texto...   \n",
       "\n",
       "                                             Resumen Abstract  \\\n",
       "0  Largo, Sinuoso, incluso interrumpido una vez, ...     None   \n",
       "1  NUEVOS CAMPOS DE ESTUDIO, COMO LA ECOLOGÍA IND...     None   \n",
       "2  En este artículo se presenta una visión global...     None   \n",
       "3  EL OBJETIVO DE ESTE ARTÍCULO ES ANALIZAR EL CO...     None   \n",
       "4  EN ESTE DOCUMENTO SE EVALÚA LA CONTRIBUCIÓN DE...     None   \n",
       "5  No comparto, por las razones que expondré más ...     None   \n",
       "6  Con el fin de pensar rigurosamente la cuestión...     None   \n",
       "\n",
       "                                       Link Articulo  \\\n",
       "0  http://www.cya.unam.mx/index.php/cya/article/v...   \n",
       "1  http://www.cya.unam.mx/index.php/cya/article/v...   \n",
       "2  http://www.cya.unam.mx/index.php/cya/article/v...   \n",
       "3  http://www.cya.unam.mx/index.php/cya/article/v...   \n",
       "4  http://www.cya.unam.mx/index.php/cya/article/v...   \n",
       "5  http://www.cya.unam.mx/index.php/cya/article/v...   \n",
       "6  http://www.cya.unam.mx/index.php/cya/article/v...   \n",
       "\n",
       "                                            Link PDF  \n",
       "0  http://www.cya.unam.mx/index.php/cya/article/v...  \n",
       "1  http://www.cya.unam.mx/index.php/cya/article/v...  \n",
       "2  http://www.cya.unam.mx/index.php/cya/article/v...  \n",
       "3  http://www.cya.unam.mx/index.php/cya/article/v...  \n",
       "4  http://www.cya.unam.mx/index.php/cya/article/v...  \n",
       "5  http://www.cya.unam.mx/index.php/cya/article/v...  \n",
       "6  http://www.cya.unam.mx/index.php/cya/article/v...  "
      ]
     },
     "execution_count": 62,
     "metadata": {},
     "output_type": "execute_result"
    }
   ],
   "source": [
    "df_catalogo=pd.DataFrame(datos_book)\n",
    "df_catalogo"
   ]
  },
  {
   "cell_type": "code",
   "execution_count": 63,
   "id": "81519bda-32de-4336-9c61-0da7aa707817",
   "metadata": {},
   "outputs": [],
   "source": [
    "df_catalogo.to_csv('Revista037.04.csv', index=False)"
   ]
  },
  {
   "cell_type": "code",
   "execution_count": null,
   "id": "c94aec1f-555a-43bf-95df-be6c85f01c38",
   "metadata": {},
   "outputs": [],
   "source": [
    "df=df_catalogo[df_catalogo[0,17,38,59,80,96,107,118,129,140,152,163,174,185,196,207,218,229,240,251,]#.isin(['Editorial 63 (2)', 'Editorial Vol. 63 Núm. 1'])]"
   ]
  },
  {
   "cell_type": "code",
   "execution_count": 23,
   "id": "669cf8fa-79b1-4596-8e91-701eb8e2e7d5",
   "metadata": {},
   "outputs": [],
   "source": [
    "df.to_csv('Revista037.01.csv', index=False)"
   ]
  },
  {
   "cell_type": "code",
   "execution_count": null,
   "id": "c36fa94a-06a5-4907-b245-5abd0d1147d1",
   "metadata": {},
   "outputs": [],
   "source": []
  }
 ],
 "metadata": {
  "kernelspec": {
   "display_name": "Python 3 (ipykernel)",
   "language": "python",
   "name": "python3"
  },
  "language_info": {
   "codemirror_mode": {
    "name": "ipython",
    "version": 3
   },
   "file_extension": ".py",
   "mimetype": "text/x-python",
   "name": "python",
   "nbconvert_exporter": "python",
   "pygments_lexer": "ipython3",
   "version": "3.10.4"
  }
 },
 "nbformat": 4,
 "nbformat_minor": 5
}
