{
 "cells": [
  {
   "cell_type": "code",
   "execution_count": 45,
   "id": "407da4a5-ba17-4fbb-beba-e8376d0aac51",
   "metadata": {},
   "outputs": [],
   "source": [
    "import requests\n",
    "import bs4\n",
    "from bs4 import BeautifulSoup\n",
    "from urllib.parse import urljoin\n",
    "import pandas as pd"
   ]
  },
  {
   "cell_type": "code",
   "execution_count": 58,
   "id": "341c92b2-d12b-4da8-bcd1-2811214d268d",
   "metadata": {},
   "outputs": [],
   "source": [
    "url_inicial = 'http://www.gestionypoliticapublica.cide.edu/ojscide/index.php/gypp/issue/archive?issuesPage=2#issues'\n",
    "url_root = 'http://www.gestionypoliticapublica.cide.edu/ojscide/index.php/gypp/issue/archive?issuesPage=2#issues'\n",
    "r=requests.get(url_inicial)"
   ]
  },
  {
   "cell_type": "code",
   "execution_count": 59,
   "id": "5ac19d26-a8ec-44c3-9f64-0332b7ab4cb5",
   "metadata": {},
   "outputs": [],
   "source": [
    "soup = BeautifulSoup(r.text, 'html.parser')"
   ]
  },
  {
   "cell_type": "code",
   "execution_count": 60,
   "id": "1ce0e308-0155-43a5-abf3-5b7c37692527",
   "metadata": {},
   "outputs": [
    {
     "data": {
      "text/plain": [
       "['http://www.gestionypoliticapublica.cide.edu/ojscide/index.php/gypp/issue/view/15',\n",
       " 'http://www.gestionypoliticapublica.cide.edu/ojscide/index.php/gypp/issue/view/12',\n",
       " 'http://www.gestionypoliticapublica.cide.edu/ojscide/index.php/gypp/issue/view/11',\n",
       " 'http://www.gestionypoliticapublica.cide.edu/ojscide/index.php/gypp/issue/view/13']"
      ]
     },
     "execution_count": 60,
     "metadata": {},
     "output_type": "execute_result"
    }
   ],
   "source": [
    "box = soup.find('div', id='issues')\n",
    "volumen=box.findAll('div', id='issue')\n",
    "vol = [x.find('a').get('href')for x in volumen]\n",
    "vol=[urljoin(url_root,i) for i in vol]\n",
    "vol"
   ]
  },
  {
   "cell_type": "code",
   "execution_count": 61,
   "id": "8fa78d2e-bdb5-47a7-aa58-2e6c280e00f4",
   "metadata": {},
   "outputs": [],
   "source": [
    "def get_url_items(sopa, url): \n",
    "    box = soup.find('div', id='issues')\n",
    "    volumen=box.findAll('div', id='issue')\n",
    "    vol = [x.find('a').get('href')for x in volumen]\n",
    "    vol=[urljoin(url_root,i) for i in vol]\n",
    "    return vol"
   ]
  },
  {
   "cell_type": "code",
   "execution_count": 62,
   "id": "ec299c04-3a04-4c92-b80b-8139b5919e63",
   "metadata": {},
   "outputs": [
    {
     "name": "stdout",
     "output_type": "stream",
     "text": [
      "Estoy en la pagina http://www.gestionypoliticapublica.cide.edu/ojscide/index.php/gypp/issue/archive?issuesPage=2#issues\n"
     ]
    }
   ],
   "source": [
    "links_items=[]\n",
    "i=0\n",
    "while i<1:\n",
    "    i+=1\n",
    "    print(f'Estoy en la pagina {url_inicial}')\n",
    "    r_pag=requests.get(url_inicial)\n",
    "    s_p=BeautifulSoup(r_pag.text,'html.parser')\n",
    "    links=get_url_items(s_p, url_inicial)\n",
    "    links_items.append(links)"
   ]
  },
  {
   "cell_type": "code",
   "execution_count": 63,
   "id": "ff1eae46-5723-419c-9304-53af0215ffc5",
   "metadata": {},
   "outputs": [
    {
     "data": {
      "text/plain": [
       "4"
      ]
     },
     "execution_count": 63,
     "metadata": {},
     "output_type": "execute_result"
    }
   ],
   "source": [
    "list_scraper=[]\n",
    "for i in links_items:\n",
    "    for j in i:\n",
    "        list_scraper.append(j)\n",
    "len(list_scraper)"
   ]
  },
  {
   "cell_type": "code",
   "execution_count": 64,
   "id": "9e50f80f-76cc-49d4-a8a2-c5fb553af25c",
   "metadata": {},
   "outputs": [],
   "source": [
    "uno=list_scraper[0]\n",
    "r_item=requests.get(uno)\n",
    "s_item=BeautifulSoup(r_item.text, 'html.parser')"
   ]
  },
  {
   "cell_type": "code",
   "execution_count": 65,
   "id": "baa3be38-d971-4f51-ae26-71cf59580530",
   "metadata": {},
   "outputs": [],
   "source": [
    "#funcion para iniciar el escraper de cada libro\n",
    "def scraper_book(url):\n",
    "    content_book={}\n",
    "    r=requests.get(url)\n",
    "    tire='Gestión y Política Pública'\n",
    "    a='V. Ciencias Sociales'\n",
    "    tem='Administración Pública y Estudio de las Organizaciones'\n",
    "    url='http://www.gestionypoliticapublica.cide.edu/'\n",
    "    s_item=BeautifulSoup(r.text,'html.parser')\n",
    "    #titulo de revista\n",
    "    try:\n",
    "        titulo=tire\n",
    "        content_book['Titulo de revista']=tire\n",
    "    except AttributeError:\n",
    "        content_book['Titulo de revista']=None\n",
    "    #area\n",
    "    try:\n",
    "        area=a\n",
    "        content_book['Área']=a\n",
    "    except AttributeError:\n",
    "        content_book['Área']=None\n",
    "    #tematica\n",
    "    try:\n",
    "        tema=tem\n",
    "        content_book['Temática']=tem\n",
    "    except AttributeError:\n",
    "        content_book['Temática']=None\n",
    "    #titulo libro\n",
    "    try:\n",
    "        titu=s_item.find('td', class_='tocTitle').get_text(strip=True)\n",
    "        content_book['Titulo del libro']=titu\n",
    "    except AttributeError:\n",
    "        content_book['Titulo del libro']=None\n",
    "    #resumen\n",
    "    try:\n",
    "        resu=s_item.find('a', class_='cover').get_text(strip=True)\n",
    "        content_book['Resumen']=resu\n",
    "    except AttributeError:\n",
    "        content_book['Resumen']=None\n",
    "    #Link incial\n",
    "    try:\n",
    "        inicial=url\n",
    "        content_book['Link inicial']=url\n",
    "    except AttributeError:\n",
    "        content_book['Link inicial']=None\n",
    "    #link articulo\n",
    "    try:\n",
    "        link=s_item.find('a', class_='file').get('href')\n",
    "        content_book['Link articulo']=urljoin(url_root, link)\n",
    "    except AttributeError:\n",
    "        content_book['Link articulo']=None\n",
    "    return content_book"
   ]
  },
  {
   "cell_type": "code",
   "execution_count": 66,
   "id": "a0ca0c15-8e0b-4dac-873f-cbdd57d03b31",
   "metadata": {},
   "outputs": [
    {
     "name": "stdout",
     "output_type": "stream",
     "text": [
      "estas escrapeando la pag 0\n",
      "estas escrapeando la pag 1\n",
      "estas escrapeando la pag 2\n",
      "estas escrapeando la pag 3\n"
     ]
    }
   ],
   "source": [
    "list_scraper=list_scraper[0:4]\n",
    "datos_book=[]\n",
    "for idx, i in enumerate(list_scraper):\n",
    "    print(f'estas escrapeando la pag {idx}')\n",
    "    datos_book.append(scraper_book(i))"
   ]
  },
  {
   "cell_type": "code",
   "execution_count": 67,
   "id": "89a9fa71-c50d-4b39-80ba-e93364e2e746",
   "metadata": {},
   "outputs": [
    {
     "data": {
      "text/html": [
       "<div>\n",
       "<style scoped>\n",
       "    .dataframe tbody tr th:only-of-type {\n",
       "        vertical-align: middle;\n",
       "    }\n",
       "\n",
       "    .dataframe tbody tr th {\n",
       "        vertical-align: top;\n",
       "    }\n",
       "\n",
       "    .dataframe thead th {\n",
       "        text-align: right;\n",
       "    }\n",
       "</style>\n",
       "<table border=\"1\" class=\"dataframe\">\n",
       "  <thead>\n",
       "    <tr style=\"text-align: right;\">\n",
       "      <th></th>\n",
       "      <th>Titulo de revista</th>\n",
       "      <th>Área</th>\n",
       "      <th>Temática</th>\n",
       "      <th>Titulo del libro</th>\n",
       "      <th>Resumen</th>\n",
       "      <th>Link inicial</th>\n",
       "      <th>Link articulo</th>\n",
       "    </tr>\n",
       "  </thead>\n",
       "  <tbody>\n",
       "    <tr>\n",
       "      <th>0</th>\n",
       "      <td>Gestión y Política Pública</td>\n",
       "      <td>V. Ciencias Sociales</td>\n",
       "      <td>Administración Pública y Estudio de las Organi...</td>\n",
       "      <td>Coherencia y políticas públicas. Metas, instru...</td>\n",
       "      <td>None</td>\n",
       "      <td>http://www.gestionypoliticapublica.cide.edu/</td>\n",
       "      <td>http://www.gestionypoliticapublica.cide.edu/oj...</td>\n",
       "    </tr>\n",
       "    <tr>\n",
       "      <th>1</th>\n",
       "      <td>Gestión y Política Pública</td>\n",
       "      <td>V. Ciencias Sociales</td>\n",
       "      <td>Administración Pública y Estudio de las Organi...</td>\n",
       "      <td>Soluciones al problema. La gestión de la segur...</td>\n",
       "      <td>None</td>\n",
       "      <td>http://www.gestionypoliticapublica.cide.edu/</td>\n",
       "      <td>http://www.gestionypoliticapublica.cide.edu/oj...</td>\n",
       "    </tr>\n",
       "    <tr>\n",
       "      <th>2</th>\n",
       "      <td>Gestión y Política Pública</td>\n",
       "      <td>V. Ciencias Sociales</td>\n",
       "      <td>Administración Pública y Estudio de las Organi...</td>\n",
       "      <td>Formación de capital social comunitario a part...</td>\n",
       "      <td>None</td>\n",
       "      <td>http://www.gestionypoliticapublica.cide.edu/</td>\n",
       "      <td>http://www.gestionypoliticapublica.cide.edu/oj...</td>\n",
       "    </tr>\n",
       "    <tr>\n",
       "      <th>3</th>\n",
       "      <td>Gestión y Política Pública</td>\n",
       "      <td>V. Ciencias Sociales</td>\n",
       "      <td>Administración Pública y Estudio de las Organi...</td>\n",
       "      <td>El estudio del deporte y las políticas públicas</td>\n",
       "      <td>None</td>\n",
       "      <td>http://www.gestionypoliticapublica.cide.edu/</td>\n",
       "      <td>http://www.gestionypoliticapublica.cide.edu/oj...</td>\n",
       "    </tr>\n",
       "  </tbody>\n",
       "</table>\n",
       "</div>"
      ],
      "text/plain": [
       "            Titulo de revista                  Área  \\\n",
       "0  Gestión y Política Pública  V. Ciencias Sociales   \n",
       "1  Gestión y Política Pública  V. Ciencias Sociales   \n",
       "2  Gestión y Política Pública  V. Ciencias Sociales   \n",
       "3  Gestión y Política Pública  V. Ciencias Sociales   \n",
       "\n",
       "                                            Temática  \\\n",
       "0  Administración Pública y Estudio de las Organi...   \n",
       "1  Administración Pública y Estudio de las Organi...   \n",
       "2  Administración Pública y Estudio de las Organi...   \n",
       "3  Administración Pública y Estudio de las Organi...   \n",
       "\n",
       "                                    Titulo del libro Resumen  \\\n",
       "0  Coherencia y políticas públicas. Metas, instru...    None   \n",
       "1  Soluciones al problema. La gestión de la segur...    None   \n",
       "2  Formación de capital social comunitario a part...    None   \n",
       "3    El estudio del deporte y las políticas públicas    None   \n",
       "\n",
       "                                   Link inicial  \\\n",
       "0  http://www.gestionypoliticapublica.cide.edu/   \n",
       "1  http://www.gestionypoliticapublica.cide.edu/   \n",
       "2  http://www.gestionypoliticapublica.cide.edu/   \n",
       "3  http://www.gestionypoliticapublica.cide.edu/   \n",
       "\n",
       "                                       Link articulo  \n",
       "0  http://www.gestionypoliticapublica.cide.edu/oj...  \n",
       "1  http://www.gestionypoliticapublica.cide.edu/oj...  \n",
       "2  http://www.gestionypoliticapublica.cide.edu/oj...  \n",
       "3  http://www.gestionypoliticapublica.cide.edu/oj...  "
      ]
     },
     "execution_count": 67,
     "metadata": {},
     "output_type": "execute_result"
    }
   ],
   "source": [
    "df_catalogo=pd.DataFrame(datos_book)\n",
    "df_catalogo"
   ]
  },
  {
   "cell_type": "code",
   "execution_count": 68,
   "id": "31d38ecc-1f02-4f0c-a9f8-691b49933b23",
   "metadata": {},
   "outputs": [],
   "source": [
    "df_catalogo.to_csv('Revista65.02.csv', index=False)"
   ]
  },
  {
   "cell_type": "code",
   "execution_count": null,
   "id": "50c9877f-9229-414f-9b52-d0c0899a5927",
   "metadata": {},
   "outputs": [],
   "source": []
  }
 ],
 "metadata": {
  "kernelspec": {
   "display_name": "Python 3 (ipykernel)",
   "language": "python",
   "name": "python3"
  },
  "language_info": {
   "codemirror_mode": {
    "name": "ipython",
    "version": 3
   },
   "file_extension": ".py",
   "mimetype": "text/x-python",
   "name": "python",
   "nbconvert_exporter": "python",
   "pygments_lexer": "ipython3",
   "version": "3.10.4"
  }
 },
 "nbformat": 4,
 "nbformat_minor": 5
}
