{
 "cells": [
  {
   "cell_type": "code",
   "execution_count": 49,
   "id": "d4326137-203c-4c8e-add7-60b122a5955b",
   "metadata": {},
   "outputs": [],
   "source": [
    "import requests\n",
    "import bs4\n",
    "from bs4 import BeautifulSoup\n",
    "from urllib.parse import urljoin\n",
    "import pandas as pd"
   ]
  },
  {
   "cell_type": "code",
   "execution_count": 50,
   "id": "8c42dbd1-ff66-42c5-8447-68987cfebc5f",
   "metadata": {},
   "outputs": [],
   "source": [
    "url_inicial = 'https://www.revistahistoriaygrafia.com.mx/index.php/HyG/issue/archive/5'\n",
    "url_root = 'https://www.revistahistoriaygrafia.com.mx/index.php/HyG/issue/archive/5'\n",
    "r=requests.get(url_inicial)"
   ]
  },
  {
   "cell_type": "code",
   "execution_count": 51,
   "id": "449a9433-6cf4-4fe0-b7ab-fc8f9c95c5d6",
   "metadata": {},
   "outputs": [],
   "source": [
    "soup = BeautifulSoup(r.text, 'html.parser')"
   ]
  },
  {
   "cell_type": "code",
   "execution_count": 52,
   "id": "9e73d6cd-19b5-4184-a7e8-d4643b09b8dd",
   "metadata": {},
   "outputs": [
    {
     "data": {
      "text/plain": [
       "['https://www.revistahistoriaygrafia.com.mx/index.php/HyG/issue/view/7',\n",
       " 'https://www.revistahistoriaygrafia.com.mx/index.php/HyG/issue/view/5',\n",
       " 'https://www.revistahistoriaygrafia.com.mx/index.php/HyG/issue/view/4',\n",
       " 'https://www.revistahistoriaygrafia.com.mx/index.php/HyG/issue/view/28',\n",
       " 'https://www.revistahistoriaygrafia.com.mx/index.php/HyG/issue/view/23']"
      ]
     },
     "execution_count": 52,
     "metadata": {},
     "output_type": "execute_result"
    }
   ],
   "source": [
    "box = soup.find('ul', class_='issues_archive')\n",
    "volumen=box.findAll('div', class_='obj_issue_summary')\n",
    "vol = [x.find('a').get('href')for x in volumen]\n",
    "vol=[urljoin(url_root,i) for i in vol]\n",
    "vol"
   ]
  },
  {
   "cell_type": "code",
   "execution_count": 53,
   "id": "dc747d8a-4cdc-4097-bd19-3319d30b4506",
   "metadata": {},
   "outputs": [],
   "source": [
    "def get_url_items(sopa, url): \n",
    "    box = soup.find('ul', class_='issues_archive')\n",
    "    volumen=box.findAll('div', class_='obj_issue_summary')\n",
    "    vol = [x.find('a').get('href')for x in volumen]\n",
    "    vol=[urljoin(url_root,i) for i in vol]\n",
    "    return vol"
   ]
  },
  {
   "cell_type": "code",
   "execution_count": 54,
   "id": "0816b38d-b35e-4607-be89-c6052601eb28",
   "metadata": {},
   "outputs": [
    {
     "name": "stdout",
     "output_type": "stream",
     "text": [
      "Estoy en la pagina https://www.revistahistoriaygrafia.com.mx/index.php/HyG/issue/archive/5\n"
     ]
    }
   ],
   "source": [
    "links_items=[]\n",
    "i=0\n",
    "while i<1:\n",
    "    i+=1\n",
    "    print(f'Estoy en la pagina {url_inicial}')\n",
    "    r_pag=requests.get(url_inicial)\n",
    "    s_p=BeautifulSoup(r_pag.text,'html.parser')\n",
    "    links=get_url_items(s_p, url_inicial)\n",
    "    links_items.append(links)"
   ]
  },
  {
   "cell_type": "code",
   "execution_count": 55,
   "id": "ea2773b5-de65-40e4-885e-aab5917be849",
   "metadata": {},
   "outputs": [
    {
     "data": {
      "text/plain": [
       "5"
      ]
     },
     "execution_count": 55,
     "metadata": {},
     "output_type": "execute_result"
    }
   ],
   "source": [
    "list_scraper=[]\n",
    "for i in links_items:\n",
    "    for j in i:\n",
    "        list_scraper.append(j)\n",
    "len(list_scraper)"
   ]
  },
  {
   "cell_type": "code",
   "execution_count": 56,
   "id": "2bb6408d-dced-408d-8e1c-16c8c8bc9fd8",
   "metadata": {},
   "outputs": [],
   "source": [
    "uno=list_scraper[0]\n",
    "r_item=requests.get(uno)\n",
    "s_item=BeautifulSoup(r_item.text, 'html.parser')"
   ]
  },
  {
   "cell_type": "code",
   "execution_count": 57,
   "id": "ecfed8d8-555b-484d-a97e-41fb230737ce",
   "metadata": {},
   "outputs": [],
   "source": [
    "#funcion para iniciar el escraper de cada libro\n",
    "def scraper_book(url):\n",
    "    content_book={}\n",
    "    r=requests.get(url)\n",
    "    tire='Historia y Grafía'\n",
    "    a='IV. Humanidades y Ciencias de la Conducta'\n",
    "    tem='Historia'\n",
    "    url='http://www.revistahistoriaygrafia.com.mx'\n",
    "    s_item=BeautifulSoup(r.text,'html.parser')\n",
    "    #titulo de revista\n",
    "    try:\n",
    "        titulo=tire\n",
    "        content_book['Titulo de revista']=tire\n",
    "    except AttributeError:\n",
    "        content_book['Titulo de revista']=None\n",
    "    #area\n",
    "    try:\n",
    "        area=a\n",
    "        content_book['Área']=a\n",
    "    except AttributeError:\n",
    "        content_book['Área']=None\n",
    "    #tematica\n",
    "    try:\n",
    "        tema=tem\n",
    "        content_book['Temática']=tem\n",
    "    except AttributeError:\n",
    "        content_book['Temática']=None\n",
    "    #titulo libro\n",
    "    try:\n",
    "        titu=s_item.find('h1').get_text(strip=True)\n",
    "        content_book['Titulo del libro']=titu\n",
    "    except AttributeError:\n",
    "        content_book['Titulo del libro']=None\n",
    "    #resumen\n",
    "    try:\n",
    "        resu=s_item.find('div', class_='description').get_text(strip=True)\n",
    "        content_book['Resumen']=resu\n",
    "    except AttributeError:\n",
    "        content_book['Resumen']=None\n",
    "    #Link incial\n",
    "    try:\n",
    "        inicial=url\n",
    "        content_book['Link inicial']=url\n",
    "    except AttributeError:\n",
    "        content_book['Link inicial']=None\n",
    "    #link articulo\n",
    "    try:\n",
    "        link=s_item.find('a', class_='obj_galley_link pdf').get('href')\n",
    "        content_book['Link articulo']=urljoin(url_root, link)\n",
    "    except AttributeError:\n",
    "        content_book['Link articulo']=None\n",
    "    return content_book"
   ]
  },
  {
   "cell_type": "code",
   "execution_count": 58,
   "id": "b156f534-21dd-45ad-977e-3bc509e8338d",
   "metadata": {},
   "outputs": [
    {
     "name": "stdout",
     "output_type": "stream",
     "text": [
      "estas escrapeando la pag 0\n",
      "estas escrapeando la pag 1\n",
      "estas escrapeando la pag 2\n",
      "estas escrapeando la pag 3\n",
      "estas escrapeando la pag 4\n"
     ]
    }
   ],
   "source": [
    "list_scraper=list_scraper[0:5]\n",
    "datos_book=[]\n",
    "for idx, i in enumerate(list_scraper):\n",
    "    print(f'estas escrapeando la pag {idx}')\n",
    "    datos_book.append(scraper_book(i))"
   ]
  },
  {
   "cell_type": "code",
   "execution_count": 59,
   "id": "90a2843f-312a-4bc4-af2d-337504ccda96",
   "metadata": {},
   "outputs": [
    {
     "data": {
      "text/html": [
       "<div>\n",
       "<style scoped>\n",
       "    .dataframe tbody tr th:only-of-type {\n",
       "        vertical-align: middle;\n",
       "    }\n",
       "\n",
       "    .dataframe tbody tr th {\n",
       "        vertical-align: top;\n",
       "    }\n",
       "\n",
       "    .dataframe thead th {\n",
       "        text-align: right;\n",
       "    }\n",
       "</style>\n",
       "<table border=\"1\" class=\"dataframe\">\n",
       "  <thead>\n",
       "    <tr style=\"text-align: right;\">\n",
       "      <th></th>\n",
       "      <th>Titulo de revista</th>\n",
       "      <th>Área</th>\n",
       "      <th>Temática</th>\n",
       "      <th>Titulo del libro</th>\n",
       "      <th>Resumen</th>\n",
       "      <th>Link inicial</th>\n",
       "      <th>Link articulo</th>\n",
       "    </tr>\n",
       "  </thead>\n",
       "  <tbody>\n",
       "    <tr>\n",
       "      <th>0</th>\n",
       "      <td>Historia y Grafía</td>\n",
       "      <td>IV. Humanidades y Ciencias de la Conducta</td>\n",
       "      <td>Historia</td>\n",
       "      <td>Núm. 39 (2012): LA PRODUCCIÓN CINEMÁTICA DEL P...</td>\n",
       "      <td>None</td>\n",
       "      <td>http://www.revistahistoriaygrafia.com.mx</td>\n",
       "      <td>https://www.revistahistoriaygrafia.com.mx/inde...</td>\n",
       "    </tr>\n",
       "    <tr>\n",
       "      <th>1</th>\n",
       "      <td>Historia y Grafía</td>\n",
       "      <td>IV. Humanidades y Ciencias de la Conducta</td>\n",
       "      <td>Historia</td>\n",
       "      <td>Núm. 38 (2012): DECONSTRUYENDO EL ARCHIVO</td>\n",
       "      <td>None</td>\n",
       "      <td>http://www.revistahistoriaygrafia.com.mx</td>\n",
       "      <td>https://www.revistahistoriaygrafia.com.mx/inde...</td>\n",
       "    </tr>\n",
       "    <tr>\n",
       "      <th>2</th>\n",
       "      <td>Historia y Grafía</td>\n",
       "      <td>IV. Humanidades y Ciencias de la Conducta</td>\n",
       "      <td>Historia</td>\n",
       "      <td>Núm. 37 (2011): SIN CONTRINCANTE EN EL FRENTE....</td>\n",
       "      <td>None</td>\n",
       "      <td>http://www.revistahistoriaygrafia.com.mx</td>\n",
       "      <td>https://www.revistahistoriaygrafia.com.mx/inde...</td>\n",
       "    </tr>\n",
       "    <tr>\n",
       "      <th>3</th>\n",
       "      <td>Historia y Grafía</td>\n",
       "      <td>IV. Humanidades y Ciencias de la Conducta</td>\n",
       "      <td>Historia</td>\n",
       "      <td>Núm. 36 (2011): Siegfried Kracauer: las ambigü...</td>\n",
       "      <td>Dedicado a Siegrfried Kracauer, el expediente ...</td>\n",
       "      <td>http://www.revistahistoriaygrafia.com.mx</td>\n",
       "      <td>https://www.revistahistoriaygrafia.com.mx/inde...</td>\n",
       "    </tr>\n",
       "    <tr>\n",
       "      <th>4</th>\n",
       "      <td>Historia y Grafía</td>\n",
       "      <td>IV. Humanidades y Ciencias de la Conducta</td>\n",
       "      <td>Historia</td>\n",
       "      <td>Núm. 1 (1993): Michel de Certeau: historia y a...</td>\n",
       "      <td>None</td>\n",
       "      <td>http://www.revistahistoriaygrafia.com.mx</td>\n",
       "      <td>https://www.revistahistoriaygrafia.com.mx/inde...</td>\n",
       "    </tr>\n",
       "  </tbody>\n",
       "</table>\n",
       "</div>"
      ],
      "text/plain": [
       "   Titulo de revista                                       Área  Temática  \\\n",
       "0  Historia y Grafía  IV. Humanidades y Ciencias de la Conducta  Historia   \n",
       "1  Historia y Grafía  IV. Humanidades y Ciencias de la Conducta  Historia   \n",
       "2  Historia y Grafía  IV. Humanidades y Ciencias de la Conducta  Historia   \n",
       "3  Historia y Grafía  IV. Humanidades y Ciencias de la Conducta  Historia   \n",
       "4  Historia y Grafía  IV. Humanidades y Ciencias de la Conducta  Historia   \n",
       "\n",
       "                                    Titulo del libro  \\\n",
       "0  Núm. 39 (2012): LA PRODUCCIÓN CINEMÁTICA DEL P...   \n",
       "1          Núm. 38 (2012): DECONSTRUYENDO EL ARCHIVO   \n",
       "2  Núm. 37 (2011): SIN CONTRINCANTE EN EL FRENTE....   \n",
       "3  Núm. 36 (2011): Siegfried Kracauer: las ambigü...   \n",
       "4  Núm. 1 (1993): Michel de Certeau: historia y a...   \n",
       "\n",
       "                                             Resumen  \\\n",
       "0                                               None   \n",
       "1                                               None   \n",
       "2                                               None   \n",
       "3  Dedicado a Siegrfried Kracauer, el expediente ...   \n",
       "4                                               None   \n",
       "\n",
       "                               Link inicial  \\\n",
       "0  http://www.revistahistoriaygrafia.com.mx   \n",
       "1  http://www.revistahistoriaygrafia.com.mx   \n",
       "2  http://www.revistahistoriaygrafia.com.mx   \n",
       "3  http://www.revistahistoriaygrafia.com.mx   \n",
       "4  http://www.revistahistoriaygrafia.com.mx   \n",
       "\n",
       "                                       Link articulo  \n",
       "0  https://www.revistahistoriaygrafia.com.mx/inde...  \n",
       "1  https://www.revistahistoriaygrafia.com.mx/inde...  \n",
       "2  https://www.revistahistoriaygrafia.com.mx/inde...  \n",
       "3  https://www.revistahistoriaygrafia.com.mx/inde...  \n",
       "4  https://www.revistahistoriaygrafia.com.mx/inde...  "
      ]
     },
     "execution_count": 59,
     "metadata": {},
     "output_type": "execute_result"
    }
   ],
   "source": [
    "df_catalogo=pd.DataFrame(datos_book)\n",
    "df_catalogo"
   ]
  },
  {
   "cell_type": "code",
   "execution_count": 60,
   "id": "063e294d-127b-4fb6-8072-791533b743e7",
   "metadata": {},
   "outputs": [],
   "source": [
    "df_catalogo.to_csv('Revista209.05.csv', index=False)"
   ]
  },
  {
   "cell_type": "code",
   "execution_count": null,
   "id": "1b940dc1-35b9-4f2c-87b1-4a2f44ae1ff7",
   "metadata": {},
   "outputs": [],
   "source": []
  }
 ],
 "metadata": {
  "kernelspec": {
   "display_name": "Python 3 (ipykernel)",
   "language": "python",
   "name": "python3"
  },
  "language_info": {
   "codemirror_mode": {
    "name": "ipython",
    "version": 3
   },
   "file_extension": ".py",
   "mimetype": "text/x-python",
   "name": "python",
   "nbconvert_exporter": "python",
   "pygments_lexer": "ipython3",
   "version": "3.10.4"
  }
 },
 "nbformat": 4,
 "nbformat_minor": 5
}
