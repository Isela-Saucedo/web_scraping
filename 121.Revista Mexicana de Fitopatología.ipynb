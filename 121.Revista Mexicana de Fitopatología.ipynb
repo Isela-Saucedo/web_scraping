{
 "cells": [
  {
   "cell_type": "code",
   "execution_count": 1,
   "id": "d4326137-203c-4c8e-add7-60b122a5955b",
   "metadata": {},
   "outputs": [],
   "source": [
    "import requests\n",
    "import bs4\n",
    "from bs4 import BeautifulSoup\n",
    "from urllib.parse import urljoin\n",
    "import pandas as pd"
   ]
  },
  {
   "cell_type": "code",
   "execution_count": 2,
   "id": "8c42dbd1-ff66-42c5-8447-68987cfebc5f",
   "metadata": {},
   "outputs": [],
   "source": [
    "url_inicial = 'https://www.smf.org.mx/rmf/'\n",
    "url_root = 'https://www.smf.org.mx/rmf/'\n",
    "r=requests.get(url_inicial)"
   ]
  },
  {
   "cell_type": "code",
   "execution_count": 3,
   "id": "449a9433-6cf4-4fe0-b7ab-fc8f9c95c5d6",
   "metadata": {},
   "outputs": [],
   "source": [
    "soup = BeautifulSoup(r.text, 'html.parser')"
   ]
  },
  {
   "cell_type": "code",
   "execution_count": 4,
   "id": "9e73d6cd-19b5-4184-a7e8-d4643b09b8dd",
   "metadata": {},
   "outputs": [
    {
     "ename": "AttributeError",
     "evalue": "'NoneType' object has no attribute 'findAll'",
     "output_type": "error",
     "traceback": [
      "\u001b[0;31m---------------------------------------------------------------------------\u001b[0m",
      "\u001b[0;31mAttributeError\u001b[0m                            Traceback (most recent call last)",
      "Input \u001b[0;32mIn [4]\u001b[0m, in \u001b[0;36m<cell line: 2>\u001b[0;34m()\u001b[0m\n\u001b[1;32m      1\u001b[0m box \u001b[38;5;241m=\u001b[39m soup\u001b[38;5;241m.\u001b[39mfind(\u001b[38;5;124m'\u001b[39m\u001b[38;5;124mdiv\u001b[39m\u001b[38;5;124m'\u001b[39m, \u001b[38;5;28mid\u001b[39m\u001b[38;5;241m=\u001b[39m\u001b[38;5;124m'\u001b[39m\u001b[38;5;124mCapa_Vol_31_1_2013\u001b[39m\u001b[38;5;124m'\u001b[39m)\n\u001b[0;32m----> 2\u001b[0m volumen\u001b[38;5;241m=\u001b[39m\u001b[43mbox\u001b[49m\u001b[38;5;241;43m.\u001b[39;49m\u001b[43mfindAll\u001b[49m(\u001b[38;5;124m'\u001b[39m\u001b[38;5;124mdiv\u001b[39m\u001b[38;5;124m'\u001b[39m, \u001b[38;5;28mid\u001b[39m\u001b[38;5;241m=\u001b[39m\u001b[38;5;124m'\u001b[39m\u001b[38;5;124missue\u001b[39m\u001b[38;5;124m'\u001b[39m)\n\u001b[1;32m      3\u001b[0m vol \u001b[38;5;241m=\u001b[39m [x\u001b[38;5;241m.\u001b[39mfind(\u001b[38;5;124m'\u001b[39m\u001b[38;5;124ma\u001b[39m\u001b[38;5;124m'\u001b[39m)\u001b[38;5;241m.\u001b[39mget(\u001b[38;5;124m'\u001b[39m\u001b[38;5;124mhref\u001b[39m\u001b[38;5;124m'\u001b[39m)\u001b[38;5;28;01mfor\u001b[39;00m x \u001b[38;5;129;01min\u001b[39;00m volumen]\n\u001b[1;32m      4\u001b[0m vol\u001b[38;5;241m=\u001b[39m[urljoin(url_root,i) \u001b[38;5;28;01mfor\u001b[39;00m i \u001b[38;5;129;01min\u001b[39;00m vol]\n",
      "\u001b[0;31mAttributeError\u001b[0m: 'NoneType' object has no attribute 'findAll'"
     ]
    }
   ],
   "source": [
    "box = soup.find('div', id='Capa_Vol_31_1_2013')\n",
    "volumen=box.findAll('div', id='issue')\n",
    "vol = [x.find('a').get('href')for x in volumen]\n",
    "vol=[urljoin(url_root,i) for i in vol]\n",
    "vol"
   ]
  },
  {
   "cell_type": "code",
   "execution_count": null,
   "id": "dc747d8a-4cdc-4097-bd19-3319d30b4506",
   "metadata": {},
   "outputs": [],
   "source": [
    "def get_url_items(sopa, url): \n",
    "    box = soup.find('div', id='Capa_Vol_31_1_2013')\n",
    "    volumen=box.findAll('div', id='issue')\n",
    "    vol = [x.find('a').get('href')for x in volumen]\n",
    "    vol=[urljoin(url_root,i) for i in vol]\n",
    "    return vol"
   ]
  },
  {
   "cell_type": "code",
   "execution_count": null,
   "id": "0816b38d-b35e-4607-be89-c6052601eb28",
   "metadata": {},
   "outputs": [],
   "source": [
    "links_items=[]\n",
    "i=0\n",
    "while i<1:\n",
    "    i+=1\n",
    "    print(f'Estoy en la pagina {url_inicial}')\n",
    "    r_pag=requests.get(url_inicial)\n",
    "    s_p=BeautifulSoup(r_pag.text,'html.parser')\n",
    "    links=get_url_items(s_p, url_inicial)\n",
    "    links_items.append(links)"
   ]
  },
  {
   "cell_type": "code",
   "execution_count": null,
   "id": "ea2773b5-de65-40e4-885e-aab5917be849",
   "metadata": {},
   "outputs": [],
   "source": [
    "list_scraper=[]\n",
    "for i in links_items:\n",
    "    for j in i:\n",
    "        list_scraper.append(j)\n",
    "len(list_scraper)"
   ]
  },
  {
   "cell_type": "code",
   "execution_count": null,
   "id": "2bb6408d-dced-408d-8e1c-16c8c8bc9fd8",
   "metadata": {},
   "outputs": [],
   "source": [
    "uno=list_scraper[0]\n",
    "r_item=requests.get(uno)\n",
    "s_item=BeautifulSoup(r_item.text, 'html.parser')"
   ]
  },
  {
   "cell_type": "code",
   "execution_count": null,
   "id": "ecfed8d8-555b-484d-a97e-41fb230737ce",
   "metadata": {},
   "outputs": [],
   "source": [
    "#funcion para iniciar el escraper de cada libro\n",
    "def scraper_book(url):\n",
    "    content_book={}\n",
    "    r=requests.get(url)\n",
    "    tire='Revista Mexicana de Fitopatología'\n",
    "    a='VI. Biotecnología y Ciencias Agropecuarias'\n",
    "    tem='Etiología, Manejo Fitosanitario, Epidemiología, Biología, Taxonomía, Control de Hongos, Bacterias, Virus, Nematodos y Otros Organismos Fitopatógenos'\n",
    "    url='http://rmf.smf.org.mx/'\n",
    "    s_item=BeautifulSoup(r.text,'html.parser')\n",
    "    #titulo de revista\n",
    "    try:\n",
    "        titulo=tire\n",
    "        content_book['Titulo de revista']=tire\n",
    "    except AttributeError:\n",
    "        content_book['Titulo de revista']=None\n",
    "    #area\n",
    "    try:\n",
    "        area=a\n",
    "        content_book['Área']=a\n",
    "    except AttributeError:\n",
    "        content_book['Área']=None\n",
    "    #tematica\n",
    "    try:\n",
    "        tema=tem\n",
    "        content_book['Temática']=tem\n",
    "    except AttributeError:\n",
    "        content_book['Temática']=None\n",
    "    #titulo libro\n",
    "    try:\n",
    "        titu=s_item.find('td', class_='tocTitle').get_text(strip=True)\n",
    "        content_book['Titulo del libro']=titu\n",
    "    except AttributeError:\n",
    "        content_book['Titulo del libro']=None\n",
    "    #resumen\n",
    "    try:\n",
    "        resu=s_item.find('a', class_='cover').get_text(strip=True)\n",
    "        content_book['Resumen']=resu\n",
    "    except AttributeError:\n",
    "        content_book['Resumen']=None\n",
    "    #Link incial\n",
    "    try:\n",
    "        inicial=url\n",
    "        content_book['Link inicial']=url\n",
    "    except AttributeError:\n",
    "        content_book['Link inicial']=None\n",
    "    #link articulo\n",
    "    try:\n",
    "        link=s_item.find('a', class_='file').get('href')\n",
    "        content_book['Link articulo']=urljoin(url_root, link)\n",
    "    except AttributeError:\n",
    "        content_book['Link articulo']=None\n",
    "    return content_book"
   ]
  },
  {
   "cell_type": "code",
   "execution_count": null,
   "id": "b156f534-21dd-45ad-977e-3bc509e8338d",
   "metadata": {},
   "outputs": [],
   "source": [
    "list_scraper=list_scraper[0:4]\n",
    "datos_book=[]\n",
    "for idx, i in enumerate(list_scraper):\n",
    "    print(f'estas escrapeando la pag {idx}')\n",
    "    datos_book.append(scraper_book(i))"
   ]
  },
  {
   "cell_type": "code",
   "execution_count": null,
   "id": "90a2843f-312a-4bc4-af2d-337504ccda96",
   "metadata": {},
   "outputs": [],
   "source": [
    "df_catalogo=pd.DataFrame(datos_book)\n",
    "df_catalogo"
   ]
  },
  {
   "cell_type": "code",
   "execution_count": null,
   "id": "063e294d-127b-4fb6-8072-791533b743e7",
   "metadata": {},
   "outputs": [],
   "source": [
    "df_catalogo.to_csv('Revista97.csv', index=False)"
   ]
  }
 ],
 "metadata": {
  "kernelspec": {
   "display_name": "Python 3 (ipykernel)",
   "language": "python",
   "name": "python3"
  },
  "language_info": {
   "codemirror_mode": {
    "name": "ipython",
    "version": 3
   },
   "file_extension": ".py",
   "mimetype": "text/x-python",
   "name": "python",
   "nbconvert_exporter": "python",
   "pygments_lexer": "ipython3",
   "version": "3.10.4"
  }
 },
 "nbformat": 4,
 "nbformat_minor": 5
}
