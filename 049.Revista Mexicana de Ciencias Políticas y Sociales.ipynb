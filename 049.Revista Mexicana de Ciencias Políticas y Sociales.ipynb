{
 "cells": [
  {
   "cell_type": "code",
   "execution_count": 1,
   "id": "34e51ef3-6020-4caa-820e-0bfdba41e90b",
   "metadata": {},
   "outputs": [],
   "source": [
    "import requests\n",
    "import bs4\n",
    "from bs4 import BeautifulSoup\n",
    "from urllib.parse import urljoin\n",
    "import pandas as pd"
   ]
  },
  {
   "cell_type": "code",
   "execution_count": 85,
   "id": "33c34463-eb0b-4a0c-9ab1-9f1a1feafd87",
   "metadata": {},
   "outputs": [],
   "source": [
    "url_inicial = 'http://www.revistas.unam.mx/index.php/rmcpys/issue/archive?issuesPage=7#issues'\n",
    "url_root = 'http://www.revistas.unam.mx/index.php/rmcpys/issue/archive?issuesPage=7#issues'\n",
    "r=requests.get(url_inicial)"
   ]
  },
  {
   "cell_type": "code",
   "execution_count": 86,
   "id": "3ec6d283-3837-41d9-bc0c-1ff031cd8867",
   "metadata": {},
   "outputs": [],
   "source": [
    "soup = BeautifulSoup(r.text, 'html.parser')"
   ]
  },
  {
   "cell_type": "code",
   "execution_count": 87,
   "id": "eb7f1b61-1643-4f03-b681-fd0c23e5e72e",
   "metadata": {},
   "outputs": [
    {
     "data": {
      "text/plain": [
       "['http://www.revistas.unam.mx/index.php/rmcpys/issue/view/5924',\n",
       " 'http://www.revistas.unam.mx/index.php/rmcpys/issue/view/5955',\n",
       " 'http://www.revistas.unam.mx/index.php/rmcpys/issue/view/5997',\n",
       " 'http://www.revistas.unam.mx/index.php/rmcpys/issue/view/6008',\n",
       " 'http://www.revistas.unam.mx/index.php/rmcpys/issue/view/6037']"
      ]
     },
     "execution_count": 87,
     "metadata": {},
     "output_type": "execute_result"
    }
   ],
   "source": [
    "box = soup.find('div', id='issues')\n",
    "volumen=box.findAll('div', style='float: left; width: 100%;')\n",
    "vol = [x.find('a').get('href')for x in volumen]\n",
    "vol=[urljoin(url_root,i) for i in vol]\n",
    "vol"
   ]
  },
  {
   "cell_type": "code",
   "execution_count": 88,
   "id": "355441d8-c0d4-4ce8-9c99-ba222371acd4",
   "metadata": {},
   "outputs": [],
   "source": [
    "def get_url_items(sopa, url): \n",
    "    box = soup.find('div', id='issues')\n",
    "    volumen=box.findAll('div', style='float: left; width: 100%;')\n",
    "    vol = [x.find('a').get('href')for x in volumen]\n",
    "    vol=[urljoin(url_root,i) for i in vol]\n",
    "    return vol"
   ]
  },
  {
   "cell_type": "code",
   "execution_count": 89,
   "id": "d50df582-9609-49a0-8df5-1918e870032f",
   "metadata": {},
   "outputs": [
    {
     "name": "stdout",
     "output_type": "stream",
     "text": [
      "Estoy en la pagina http://www.revistas.unam.mx/index.php/rmcpys/issue/archive?issuesPage=7#issues\n"
     ]
    }
   ],
   "source": [
    "links_items=[]\n",
    "i=0\n",
    "while i<1:\n",
    "    i+=1\n",
    "    print(f'Estoy en la pagina {url_inicial}')\n",
    "    r_pag=requests.get(url_inicial)\n",
    "    s_p=BeautifulSoup(r_pag.text,'html.parser')\n",
    "    links=get_url_items(s_p, url_inicial)\n",
    "    links_items.append(links) "
   ]
  },
  {
   "cell_type": "code",
   "execution_count": 90,
   "id": "a3d7ce11-a733-4098-b447-c7558343509f",
   "metadata": {},
   "outputs": [
    {
     "data": {
      "text/plain": [
       "5"
      ]
     },
     "execution_count": 90,
     "metadata": {},
     "output_type": "execute_result"
    }
   ],
   "source": [
    "list_scraper=[]\n",
    "for i in links_items:\n",
    "    for j in i:\n",
    "        list_scraper.append(j)\n",
    "len(list_scraper)"
   ]
  },
  {
   "cell_type": "code",
   "execution_count": 91,
   "id": "d98e51e4-0fc0-4086-8a6f-cda5f012df23",
   "metadata": {},
   "outputs": [],
   "source": [
    "uno=list_scraper[0]\n",
    "r_item=requests.get(uno)\n",
    "s_item=BeautifulSoup(r_item.text, 'html.parser')"
   ]
  },
  {
   "cell_type": "code",
   "execution_count": 92,
   "id": "404911fe-e559-498d-ba5d-666105dab644",
   "metadata": {},
   "outputs": [],
   "source": [
    "#funcion para iniciar el escraper de cada libro\n",
    "def scraper_book(url):\n",
    "    content_book={}\n",
    "    r=requests.get(url)\n",
    "    tire='Revista Mexicana de Ciencias Políticas y Sociales'\n",
    "    a='V. Ciencias Sociales'\n",
    "    tem='Sociología, Ciencia Política, Relaciones Internacionales, Administración Pública y Ciencias de la Comunicación'\n",
    "    url='http://www.revistas.unam.mx/index.php/rmcpys/'\n",
    "    s_item=BeautifulSoup(r.text,'html.parser')\n",
    "    #titulo de revista\n",
    "    try:\n",
    "        titulo=tire\n",
    "        content_book['Titulo de revista']=tire\n",
    "    except AttributeError:\n",
    "        content_book['Titulo de revista']=None\n",
    "    #area\n",
    "    try:\n",
    "        area=a\n",
    "        content_book['Área']=a\n",
    "    except AttributeError:\n",
    "        content_book['Área']=None\n",
    "    #tematica\n",
    "    try:\n",
    "        tema=tem\n",
    "        content_book['Temática']=tem\n",
    "    except AttributeError:\n",
    "        content_book['Temática']=None\n",
    "    #titulo libro\n",
    "    try:\n",
    "        titu=s_item.find('h3', class_='mes_sub').get_text(strip=True)\n",
    "        content_book['Titulo del libro']=titu\n",
    "    except AttributeError:\n",
    "        content_book['Titulo del libro']=None\n",
    "    #resumen\n",
    "    try:\n",
    "        resu=s_item.find('a', class_='cover').get_text(strip=True)\n",
    "        content_book['Resumen']=resu\n",
    "    except AttributeError:\n",
    "        content_book['Resumen']=None\n",
    "    #Link incial\n",
    "    try:\n",
    "        inicial=url\n",
    "        content_book['Link inicial']=url\n",
    "    except AttributeError:\n",
    "        content_book['Link inicial']=None\n",
    "    #link articulo\n",
    "    try:\n",
    "        link=s_item.find('div', id='issueCoverImage').get('href')\n",
    "        content_book['Link articulo']=urljoin(url_root, link)\n",
    "    except AttributeError:\n",
    "        content_book['Link articulo']=None\n",
    "    return content_book"
   ]
  },
  {
   "cell_type": "code",
   "execution_count": 93,
   "id": "72e7e443-d24d-4a5e-bf2b-4c4c6e0571c5",
   "metadata": {},
   "outputs": [
    {
     "name": "stdout",
     "output_type": "stream",
     "text": [
      "estas escrapeando la pag 0\n",
      "estas escrapeando la pag 1\n",
      "estas escrapeando la pag 2\n",
      "estas escrapeando la pag 3\n",
      "estas escrapeando la pag 4\n"
     ]
    }
   ],
   "source": [
    "list_scraper=list_scraper[0:5]\n",
    "datos_book=[]\n",
    "for idx, i in enumerate(list_scraper):\n",
    "    print(f'estas escrapeando la pag {idx}')\n",
    "    datos_book.append(scraper_book(i))"
   ]
  },
  {
   "cell_type": "code",
   "execution_count": 94,
   "id": "96f2fa51-68f8-42ad-bd8f-16cdc4f580dd",
   "metadata": {},
   "outputs": [
    {
     "data": {
      "text/html": [
       "<div>\n",
       "<style scoped>\n",
       "    .dataframe tbody tr th:only-of-type {\n",
       "        vertical-align: middle;\n",
       "    }\n",
       "\n",
       "    .dataframe tbody tr th {\n",
       "        vertical-align: top;\n",
       "    }\n",
       "\n",
       "    .dataframe thead th {\n",
       "        text-align: right;\n",
       "    }\n",
       "</style>\n",
       "<table border=\"1\" class=\"dataframe\">\n",
       "  <thead>\n",
       "    <tr style=\"text-align: right;\">\n",
       "      <th></th>\n",
       "      <th>Titulo de revista</th>\n",
       "      <th>Área</th>\n",
       "      <th>Temática</th>\n",
       "      <th>Titulo del libro</th>\n",
       "      <th>Resumen</th>\n",
       "      <th>Link inicial</th>\n",
       "      <th>Link articulo</th>\n",
       "    </tr>\n",
       "  </thead>\n",
       "  <tbody>\n",
       "    <tr>\n",
       "      <th>0</th>\n",
       "      <td>Revista Mexicana de Ciencias Políticas y Sociales</td>\n",
       "      <td>V. Ciencias Sociales</td>\n",
       "      <td>Sociología, Ciencia Política, Relaciones Inter...</td>\n",
       "      <td>ESTRATEGIA Y CRISIS DE LOS EUA</td>\n",
       "      <td>None</td>\n",
       "      <td>http://www.revistas.unam.mx/index.php/rmcpys/</td>\n",
       "      <td>http://www.revistas.unam.mx/index.php/rmcpys/i...</td>\n",
       "    </tr>\n",
       "    <tr>\n",
       "      <th>1</th>\n",
       "      <td>Revista Mexicana de Ciencias Políticas y Sociales</td>\n",
       "      <td>V. Ciencias Sociales</td>\n",
       "      <td>Sociología, Ciencia Política, Relaciones Inter...</td>\n",
       "      <td>FILOSOFÍA Y POLÍTICA</td>\n",
       "      <td>None</td>\n",
       "      <td>http://www.revistas.unam.mx/index.php/rmcpys/</td>\n",
       "      <td>http://www.revistas.unam.mx/index.php/rmcpys/i...</td>\n",
       "    </tr>\n",
       "    <tr>\n",
       "      <th>2</th>\n",
       "      <td>Revista Mexicana de Ciencias Políticas y Sociales</td>\n",
       "      <td>V. Ciencias Sociales</td>\n",
       "      <td>Sociología, Ciencia Política, Relaciones Inter...</td>\n",
       "      <td>COMICS Y TELEVISIÓN</td>\n",
       "      <td>None</td>\n",
       "      <td>http://www.revistas.unam.mx/index.php/rmcpys/</td>\n",
       "      <td>http://www.revistas.unam.mx/index.php/rmcpys/i...</td>\n",
       "    </tr>\n",
       "    <tr>\n",
       "      <th>3</th>\n",
       "      <td>Revista Mexicana de Ciencias Políticas y Sociales</td>\n",
       "      <td>V. Ciencias Sociales</td>\n",
       "      <td>Sociología, Ciencia Política, Relaciones Inter...</td>\n",
       "      <td>EL SISTEMA POLÍTICO MEXICANO</td>\n",
       "      <td>None</td>\n",
       "      <td>http://www.revistas.unam.mx/index.php/rmcpys/</td>\n",
       "      <td>http://www.revistas.unam.mx/index.php/rmcpys/i...</td>\n",
       "    </tr>\n",
       "    <tr>\n",
       "      <th>4</th>\n",
       "      <td>Revista Mexicana de Ciencias Políticas y Sociales</td>\n",
       "      <td>V. Ciencias Sociales</td>\n",
       "      <td>Sociología, Ciencia Política, Relaciones Inter...</td>\n",
       "      <td>PSICOANÁLISIS Y SOCIEDAD</td>\n",
       "      <td>None</td>\n",
       "      <td>http://www.revistas.unam.mx/index.php/rmcpys/</td>\n",
       "      <td>http://www.revistas.unam.mx/index.php/rmcpys/i...</td>\n",
       "    </tr>\n",
       "  </tbody>\n",
       "</table>\n",
       "</div>"
      ],
      "text/plain": [
       "                                   Titulo de revista                  Área  \\\n",
       "0  Revista Mexicana de Ciencias Políticas y Sociales  V. Ciencias Sociales   \n",
       "1  Revista Mexicana de Ciencias Políticas y Sociales  V. Ciencias Sociales   \n",
       "2  Revista Mexicana de Ciencias Políticas y Sociales  V. Ciencias Sociales   \n",
       "3  Revista Mexicana de Ciencias Políticas y Sociales  V. Ciencias Sociales   \n",
       "4  Revista Mexicana de Ciencias Políticas y Sociales  V. Ciencias Sociales   \n",
       "\n",
       "                                            Temática  \\\n",
       "0  Sociología, Ciencia Política, Relaciones Inter...   \n",
       "1  Sociología, Ciencia Política, Relaciones Inter...   \n",
       "2  Sociología, Ciencia Política, Relaciones Inter...   \n",
       "3  Sociología, Ciencia Política, Relaciones Inter...   \n",
       "4  Sociología, Ciencia Política, Relaciones Inter...   \n",
       "\n",
       "                 Titulo del libro Resumen  \\\n",
       "0  ESTRATEGIA Y CRISIS DE LOS EUA    None   \n",
       "1            FILOSOFÍA Y POLÍTICA    None   \n",
       "2             COMICS Y TELEVISIÓN    None   \n",
       "3    EL SISTEMA POLÍTICO MEXICANO    None   \n",
       "4        PSICOANÁLISIS Y SOCIEDAD    None   \n",
       "\n",
       "                                    Link inicial  \\\n",
       "0  http://www.revistas.unam.mx/index.php/rmcpys/   \n",
       "1  http://www.revistas.unam.mx/index.php/rmcpys/   \n",
       "2  http://www.revistas.unam.mx/index.php/rmcpys/   \n",
       "3  http://www.revistas.unam.mx/index.php/rmcpys/   \n",
       "4  http://www.revistas.unam.mx/index.php/rmcpys/   \n",
       "\n",
       "                                       Link articulo  \n",
       "0  http://www.revistas.unam.mx/index.php/rmcpys/i...  \n",
       "1  http://www.revistas.unam.mx/index.php/rmcpys/i...  \n",
       "2  http://www.revistas.unam.mx/index.php/rmcpys/i...  \n",
       "3  http://www.revistas.unam.mx/index.php/rmcpys/i...  \n",
       "4  http://www.revistas.unam.mx/index.php/rmcpys/i...  "
      ]
     },
     "execution_count": 94,
     "metadata": {},
     "output_type": "execute_result"
    }
   ],
   "source": [
    "df_catalogo=pd.DataFrame(datos_book)\n",
    "df_catalogo"
   ]
  },
  {
   "cell_type": "code",
   "execution_count": 95,
   "id": "7ad68f42-5432-4e73-b365-d3c33b5277a4",
   "metadata": {},
   "outputs": [],
   "source": [
    "df_catalogo.to_csv('Revista49.07.csv', index=False)"
   ]
  },
  {
   "cell_type": "code",
   "execution_count": null,
   "id": "637d22f6-2285-4471-b5b5-2ff428dbbcf9",
   "metadata": {},
   "outputs": [],
   "source": []
  },
  {
   "cell_type": "code",
   "execution_count": null,
   "id": "13b6464d-7d13-405c-ac95-7dab9f370a6a",
   "metadata": {},
   "outputs": [],
   "source": []
  }
 ],
 "metadata": {
  "kernelspec": {
   "display_name": "Python 3 (ipykernel)",
   "language": "python",
   "name": "python3"
  },
  "language_info": {
   "codemirror_mode": {
    "name": "ipython",
    "version": 3
   },
   "file_extension": ".py",
   "mimetype": "text/x-python",
   "name": "python",
   "nbconvert_exporter": "python",
   "pygments_lexer": "ipython3",
   "version": "3.10.4"
  }
 },
 "nbformat": 4,
 "nbformat_minor": 5
}
