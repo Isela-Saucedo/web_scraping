{
 "cells": [
  {
   "cell_type": "code",
   "execution_count": 1,
   "id": "d4326137-203c-4c8e-add7-60b122a5955b",
   "metadata": {},
   "outputs": [],
   "source": [
    "import requests\n",
    "import bs4\n",
    "from bs4 import BeautifulSoup\n",
    "from urllib.parse import urljoin\n",
    "import pandas as pd"
   ]
  },
  {
   "cell_type": "code",
   "execution_count": 2,
   "id": "8c42dbd1-ff66-42c5-8447-68987cfebc5f",
   "metadata": {},
   "outputs": [],
   "source": [
    "url_inicial = 'http://www.revistas.unam.mx/index.php/ecu/issue/archive'\n",
    "url_root = 'http://www.revistas.unam.mx/index.php/ecu/issue/archive'\n",
    "r=requests.get(url_inicial)"
   ]
  },
  {
   "cell_type": "code",
   "execution_count": 3,
   "id": "449a9433-6cf4-4fe0-b7ab-fc8f9c95c5d6",
   "metadata": {},
   "outputs": [],
   "source": [
    "soup = BeautifulSoup(r.text, 'html.parser')"
   ]
  },
  {
   "cell_type": "code",
   "execution_count": 4,
   "id": "9e73d6cd-19b5-4184-a7e8-d4643b09b8dd",
   "metadata": {},
   "outputs": [
    {
     "data": {
      "text/plain": [
       "['http://www.revistas.unam.mx/index.php/ecu/issue/view/1374',\n",
       " 'http://www.revistas.unam.mx/index.php/ecu/issue/view/1256',\n",
       " 'http://www.revistas.unam.mx/index.php/ecu/issue/view/244',\n",
       " 'http://www.revistas.unam.mx/index.php/ecu/issue/view/243',\n",
       " 'http://www.revistas.unam.mx/index.php/ecu/issue/view/242',\n",
       " 'http://www.revistas.unam.mx/index.php/ecu/issue/view/241',\n",
       " 'http://www.revistas.unam.mx/index.php/ecu/issue/view/240',\n",
       " 'http://www.revistas.unam.mx/index.php/ecu/issue/view/239',\n",
       " 'http://www.revistas.unam.mx/index.php/ecu/issue/view/238',\n",
       " 'http://www.revistas.unam.mx/index.php/ecu/issue/view/237',\n",
       " 'http://www.revistas.unam.mx/index.php/ecu/issue/view/236',\n",
       " 'http://www.revistas.unam.mx/index.php/ecu/issue/view/235',\n",
       " 'http://www.revistas.unam.mx/index.php/ecu/issue/view/234',\n",
       " 'http://www.revistas.unam.mx/index.php/ecu/issue/view/233',\n",
       " 'http://www.revistas.unam.mx/index.php/ecu/issue/view/232',\n",
       " 'http://www.revistas.unam.mx/index.php/ecu/issue/view/231',\n",
       " 'http://www.revistas.unam.mx/index.php/ecu/issue/view/230',\n",
       " 'http://www.revistas.unam.mx/index.php/ecu/issue/view/229',\n",
       " 'http://www.revistas.unam.mx/index.php/ecu/issue/view/228']"
      ]
     },
     "execution_count": 4,
     "metadata": {},
     "output_type": "execute_result"
    }
   ],
   "source": [
    "box = soup.find('div', id='content')\n",
    "volumen=box.findAll('h4')\n",
    "vol = [x.find('a').get('href')for x in volumen]\n",
    "vol=[urljoin(url_root,i) for i in vol]\n",
    "vol"
   ]
  },
  {
   "cell_type": "code",
   "execution_count": 5,
   "id": "6c2a343f-d0b0-4ead-8824-88d2ba20e4cd",
   "metadata": {},
   "outputs": [],
   "source": [
    "vol2 =[]\n",
    "for i in vol: \n",
    "    url_inicial1=i \n",
    "    r1 = requests.get(url_inicial1)\n",
    "    soup1 = BeautifulSoup(r1.text, 'html.parser')\n",
    "    box1 = soup1.find('div', id='content') \n",
    "    volumen1=box1.findAll('ul', class_='menu')\n",
    "    vol1 = [x.find('a').get('href')for x in volumen1]\n",
    "    vol2+=vol1"
   ]
  },
  {
   "cell_type": "code",
   "execution_count": 6,
   "id": "a45a9a11-8a80-4647-b95b-ca1cf9229723",
   "metadata": {},
   "outputs": [
    {
     "data": {
      "text/plain": [
       "['http://www.revistas.unam.mx/index.php/ecu/issue/view/1374/showToc',\n",
       " 'http://www.revistas.unam.mx/index.php/ecu/issue/view/1256/showToc',\n",
       " 'http://www.revistas.unam.mx/index.php/ecu/issue/view/244/showToc',\n",
       " 'http://www.revistas.unam.mx/index.php/ecu/issue/view/243/showToc',\n",
       " 'http://www.revistas.unam.mx/index.php/ecu/issue/view/242/showToc',\n",
       " 'http://www.revistas.unam.mx/index.php/ecu/issue/view/241/showToc',\n",
       " 'http://www.revistas.unam.mx/index.php/ecu/issue/view/240/showToc',\n",
       " 'http://www.revistas.unam.mx/index.php/ecu/issue/view/239/showToc',\n",
       " 'http://www.revistas.unam.mx/index.php/ecu/issue/view/238/showToc',\n",
       " 'http://www.revistas.unam.mx/index.php/ecu/issue/view/237/showToc',\n",
       " 'http://www.revistas.unam.mx/index.php/ecu/issue/view/236/showToc',\n",
       " 'http://www.revistas.unam.mx/index.php/ecu/issue/view/235/showToc',\n",
       " 'http://www.revistas.unam.mx/index.php/ecu/issue/view/234/showToc',\n",
       " 'http://www.revistas.unam.mx/index.php/ecu/issue/view/233/showToc',\n",
       " 'http://www.revistas.unam.mx/index.php/ecu/issue/view/232/showToc',\n",
       " 'http://www.revistas.unam.mx/index.php/ecu/issue/view/231/showToc',\n",
       " 'http://www.revistas.unam.mx/index.php/ecu/issue/view/230/showToc',\n",
       " 'http://www.revistas.unam.mx/index.php/ecu/issue/view/229/showToc',\n",
       " 'http://www.revistas.unam.mx/index.php/ecu/issue/view/228/showToc']"
      ]
     },
     "execution_count": 6,
     "metadata": {},
     "output_type": "execute_result"
    }
   ],
   "source": [
    "vol2"
   ]
  },
  {
   "cell_type": "code",
   "execution_count": 8,
   "id": "ba0fdb93-1158-40f8-8f61-de66d78ace6e",
   "metadata": {},
   "outputs": [],
   "source": [
    "vol3 =[]\n",
    "for b in vol2: \n",
    "    url_inicial2=b \n",
    "    r2 = requests.get(url_inicial2)\n",
    "    soup2 = BeautifulSoup(r2.text, 'html.parser')\n",
    "    box2 = soup2.find('div', id='content') \n",
    "    volumen2=box2.findAll('a')\n",
    "    vol2= [o.get('href')for o in volumen2]\n",
    "    vol3+=vol2"
   ]
  },
  {
   "cell_type": "code",
   "execution_count": 9,
   "id": "f8652fc6-a4bd-4a17-a942-48e57db0bbc5",
   "metadata": {},
   "outputs": [
    {
     "data": {
      "text/plain": [
       "['http://www.revistas.unam.mx/index.php/ecu/article/download/2799/2359',\n",
       " 'http://www.revistas.unam.mx/index.php/ecu/article/view/2800/2360',\n",
       " 'http://www.revistas.unam.mx/index.php/ecu/article/view/2801/2361',\n",
       " 'http://www.revistas.unam.mx/index.php/ecu/article/view/2802/2362',\n",
       " 'http://www.revistas.unam.mx/index.php/ecu/article/view/2803/2363',\n",
       " 'http://www.revistas.unam.mx/index.php/ecu/article/view/2804/2364',\n",
       " 'http://www.revistas.unam.mx/index.php/ecu/article/view/2805/2365',\n",
       " 'http://www.revistas.unam.mx/index.php/ecu/article/view/2806/2366',\n",
       " 'http://www.revistas.unam.mx/index.php/ecu/article/view/2807/2367',\n",
       " 'http://www.revistas.unam.mx/index.php/ecu/article/download/2809/2369',\n",
       " 'http://www.revistas.unam.mx/index.php/ecu/article/download/2810/2370',\n",
       " 'http://www.revistas.unam.mx/index.php/ecu/article/download/2811/2371',\n",
       " 'http://www.revistas.unam.mx/index.php/ecu/article/download/2812/2372',\n",
       " 'http://www.revistas.unam.mx/index.php/ecu/article/download/2808/2368']"
      ]
     },
     "execution_count": 9,
     "metadata": {},
     "output_type": "execute_result"
    }
   ],
   "source": [
    "vol3"
   ]
  },
  {
   "cell_type": "code",
   "execution_count": 10,
   "id": "dc747d8a-4cdc-4097-bd19-3319d30b4506",
   "metadata": {},
   "outputs": [],
   "source": [
    "def get_url_items(sopa,url):\n",
    "    box2 = soup2.find('div', id='content') \n",
    "    volumen2=box2.findAll('a')\n",
    "    vol2= [o.get('href')for o in volumen2]\n",
    "    return vol3"
   ]
  },
  {
   "cell_type": "code",
   "execution_count": 11,
   "id": "0816b38d-b35e-4607-be89-c6052601eb28",
   "metadata": {},
   "outputs": [
    {
     "name": "stdout",
     "output_type": "stream",
     "text": [
      "Estoy en la pagina http://www.revistas.unam.mx/index.php/ecu/issue/archive?issuesPage=2#issues\n"
     ]
    }
   ],
   "source": [
    "links_items=[]\n",
    "i=0\n",
    "while i<1:\n",
    "    i+=1\n",
    "    print(f'Estoy en la pagina {url_inicial}')\n",
    "    r_pag=requests.get(url_inicial)\n",
    "    s_p=BeautifulSoup(r_pag.text,'html.parser')\n",
    "    links=get_url_items(s_p, url_inicial)\n",
    "    links_items.append(links)"
   ]
  },
  {
   "cell_type": "code",
   "execution_count": 12,
   "id": "ea2773b5-de65-40e4-885e-aab5917be849",
   "metadata": {},
   "outputs": [
    {
     "data": {
      "text/plain": [
       "14"
      ]
     },
     "execution_count": 12,
     "metadata": {},
     "output_type": "execute_result"
    }
   ],
   "source": [
    "list_scraper=[]\n",
    "for i in links_items:\n",
    "    for j in i:\n",
    "        list_scraper.append(j)\n",
    "len(list_scraper)"
   ]
  },
  {
   "cell_type": "code",
   "execution_count": 13,
   "id": "2bb6408d-dced-408d-8e1c-16c8c8bc9fd8",
   "metadata": {},
   "outputs": [],
   "source": [
    "uno=list_scraper[0]\n",
    "r_item=requests.get(uno)\n",
    "s_item=BeautifulSoup(r_item.text, 'html.parser')"
   ]
  },
  {
   "cell_type": "code",
   "execution_count": 14,
   "id": "ecfed8d8-555b-484d-a97e-41fb230737ce",
   "metadata": {},
   "outputs": [],
   "source": [
    "#funcion para iniciar el escraper de cada libro\n",
    "def scraper_book(url):\n",
    "    content_book={}\n",
    "    r=requests.get(url)\n",
    "    tire='Economía UNAM'\n",
    "    a='V. Ciencias Sociales'\n",
    "    tem='Economía, Historia Económica, Finanzas, Macroeconomía, Microeconomía, Desarrollo, Crecimiento Económico, y otros temas vinculados a las Ciencias Sociales'\n",
    "    s_item=BeautifulSoup(r.text,'html.parser')\n",
    "    #titulo de revista\n",
    "    try:\n",
    "        titulo=tire\n",
    "        content_book['Titulo Revista']=tire\n",
    "    except AttributeError:\n",
    "        content_book['Titulo Revista']=None\n",
    "    #area\n",
    "    try:\n",
    "        area=a\n",
    "        content_book['Area']=a\n",
    "    except AttributeError:\n",
    "        content_book['Area']=None\n",
    "    #tematica\n",
    "    try:\n",
    "        tema=tem\n",
    "        content_book['Tematica']=tem\n",
    "    except AttributeError:\n",
    "        content_book['Tematica']=None\n",
    "    #titulo articulo\n",
    "    try:\n",
    "        titu=s_item.find('div', id='articleTitle').get_text(strip=True)\n",
    "        content_book['Titulo Articulo']=titu\n",
    "    except AttributeError:\n",
    "        content_book['Titulo Articulo']=None\n",
    "    #resumen\n",
    "    try:\n",
    "        resu=s_item.find('div', id='articleAbstract').get_text(strip=True)#.text.split(\"RESUMEN\")[0]\n",
    "        content_book['Resumen']=resu.replace(\"Resumen\",\"\")\n",
    "    except AttributeError:\n",
    "        content_book['Resumen']=None\n",
    "    #abstract\n",
    "    try:\n",
    "        abst=s_item.find('div', id='articleAbstract').find('p')#.text.split(\"ABSTRACT\")[0]\n",
    "        content_book['Abstract']=abst.soup.p.next_sibling.get_text(strip=True)\n",
    "    except AttributeError:\n",
    "        content_book['Abstract']=None\n",
    "    #Link incial\n",
    "    try:\n",
    "        linkart=url\n",
    "        content_book['Link Articulo']=linkart\n",
    "    except AttributeError:\n",
    "        content_book['Link Articulo']=None\n",
    "    #link articulo\n",
    "    try:\n",
    "        link=s_item.find('a', class_='file').get('href')\n",
    "        content_book['Link PDF']=urljoin(url_root, link)\n",
    "    except AttributeError:\n",
    "        content_book['Link PDF']=None\n",
    "    return content_book"
   ]
  },
  {
   "cell_type": "code",
   "execution_count": 15,
   "id": "b156f534-21dd-45ad-977e-3bc509e8338d",
   "metadata": {},
   "outputs": [
    {
     "name": "stdout",
     "output_type": "stream",
     "text": [
      "estas escrapeando la pag 0\n",
      "estas escrapeando la pag 1\n",
      "estas escrapeando la pag 2\n",
      "estas escrapeando la pag 3\n",
      "estas escrapeando la pag 4\n",
      "estas escrapeando la pag 5\n",
      "estas escrapeando la pag 6\n",
      "estas escrapeando la pag 7\n",
      "estas escrapeando la pag 8\n",
      "estas escrapeando la pag 9\n",
      "estas escrapeando la pag 10\n",
      "estas escrapeando la pag 11\n",
      "estas escrapeando la pag 12\n",
      "estas escrapeando la pag 13\n"
     ]
    }
   ],
   "source": [
    "list_scraper=list_scraper[0:174]\n",
    "datos_book=[]\n",
    "for idx, i in enumerate(list_scraper):\n",
    "    print(f'estas escrapeando la pag {idx}')\n",
    "    datos_book.append(scraper_book(i))"
   ]
  },
  {
   "cell_type": "code",
   "execution_count": 16,
   "id": "90a2843f-312a-4bc4-af2d-337504ccda96",
   "metadata": {},
   "outputs": [
    {
     "data": {
      "text/html": [
       "<div>\n",
       "<style scoped>\n",
       "    .dataframe tbody tr th:only-of-type {\n",
       "        vertical-align: middle;\n",
       "    }\n",
       "\n",
       "    .dataframe tbody tr th {\n",
       "        vertical-align: top;\n",
       "    }\n",
       "\n",
       "    .dataframe thead th {\n",
       "        text-align: right;\n",
       "    }\n",
       "</style>\n",
       "<table border=\"1\" class=\"dataframe\">\n",
       "  <thead>\n",
       "    <tr style=\"text-align: right;\">\n",
       "      <th></th>\n",
       "      <th>Titulo Revista</th>\n",
       "      <th>Area</th>\n",
       "      <th>Tematica</th>\n",
       "      <th>Titulo Articulo</th>\n",
       "      <th>Resumen</th>\n",
       "      <th>Abstract</th>\n",
       "      <th>Link Articulo</th>\n",
       "      <th>Link PDF</th>\n",
       "    </tr>\n",
       "  </thead>\n",
       "  <tbody>\n",
       "    <tr>\n",
       "      <th>0</th>\n",
       "      <td>Economía UNAM</td>\n",
       "      <td>V. Ciencias Sociales</td>\n",
       "      <td>Economía, Historia Económica, Finanzas, Macroe...</td>\n",
       "      <td>None</td>\n",
       "      <td>None</td>\n",
       "      <td>None</td>\n",
       "      <td>http://www.revistas.unam.mx/index.php/ecu/arti...</td>\n",
       "      <td>None</td>\n",
       "    </tr>\n",
       "    <tr>\n",
       "      <th>1</th>\n",
       "      <td>Economía UNAM</td>\n",
       "      <td>V. Ciencias Sociales</td>\n",
       "      <td>Economía, Historia Económica, Finanzas, Macroe...</td>\n",
       "      <td>None</td>\n",
       "      <td>None</td>\n",
       "      <td>None</td>\n",
       "      <td>http://www.revistas.unam.mx/index.php/ecu/arti...</td>\n",
       "      <td>None</td>\n",
       "    </tr>\n",
       "    <tr>\n",
       "      <th>2</th>\n",
       "      <td>Economía UNAM</td>\n",
       "      <td>V. Ciencias Sociales</td>\n",
       "      <td>Economía, Historia Económica, Finanzas, Macroe...</td>\n",
       "      <td>None</td>\n",
       "      <td>None</td>\n",
       "      <td>None</td>\n",
       "      <td>http://www.revistas.unam.mx/index.php/ecu/arti...</td>\n",
       "      <td>None</td>\n",
       "    </tr>\n",
       "    <tr>\n",
       "      <th>3</th>\n",
       "      <td>Economía UNAM</td>\n",
       "      <td>V. Ciencias Sociales</td>\n",
       "      <td>Economía, Historia Económica, Finanzas, Macroe...</td>\n",
       "      <td>None</td>\n",
       "      <td>None</td>\n",
       "      <td>None</td>\n",
       "      <td>http://www.revistas.unam.mx/index.php/ecu/arti...</td>\n",
       "      <td>None</td>\n",
       "    </tr>\n",
       "    <tr>\n",
       "      <th>4</th>\n",
       "      <td>Economía UNAM</td>\n",
       "      <td>V. Ciencias Sociales</td>\n",
       "      <td>Economía, Historia Económica, Finanzas, Macroe...</td>\n",
       "      <td>None</td>\n",
       "      <td>None</td>\n",
       "      <td>None</td>\n",
       "      <td>http://www.revistas.unam.mx/index.php/ecu/arti...</td>\n",
       "      <td>None</td>\n",
       "    </tr>\n",
       "    <tr>\n",
       "      <th>5</th>\n",
       "      <td>Economía UNAM</td>\n",
       "      <td>V. Ciencias Sociales</td>\n",
       "      <td>Economía, Historia Económica, Finanzas, Macroe...</td>\n",
       "      <td>None</td>\n",
       "      <td>None</td>\n",
       "      <td>None</td>\n",
       "      <td>http://www.revistas.unam.mx/index.php/ecu/arti...</td>\n",
       "      <td>None</td>\n",
       "    </tr>\n",
       "    <tr>\n",
       "      <th>6</th>\n",
       "      <td>Economía UNAM</td>\n",
       "      <td>V. Ciencias Sociales</td>\n",
       "      <td>Economía, Historia Económica, Finanzas, Macroe...</td>\n",
       "      <td>None</td>\n",
       "      <td>None</td>\n",
       "      <td>None</td>\n",
       "      <td>http://www.revistas.unam.mx/index.php/ecu/arti...</td>\n",
       "      <td>None</td>\n",
       "    </tr>\n",
       "    <tr>\n",
       "      <th>7</th>\n",
       "      <td>Economía UNAM</td>\n",
       "      <td>V. Ciencias Sociales</td>\n",
       "      <td>Economía, Historia Económica, Finanzas, Macroe...</td>\n",
       "      <td>None</td>\n",
       "      <td>None</td>\n",
       "      <td>None</td>\n",
       "      <td>http://www.revistas.unam.mx/index.php/ecu/arti...</td>\n",
       "      <td>None</td>\n",
       "    </tr>\n",
       "    <tr>\n",
       "      <th>8</th>\n",
       "      <td>Economía UNAM</td>\n",
       "      <td>V. Ciencias Sociales</td>\n",
       "      <td>Economía, Historia Económica, Finanzas, Macroe...</td>\n",
       "      <td>None</td>\n",
       "      <td>None</td>\n",
       "      <td>None</td>\n",
       "      <td>http://www.revistas.unam.mx/index.php/ecu/arti...</td>\n",
       "      <td>None</td>\n",
       "    </tr>\n",
       "    <tr>\n",
       "      <th>9</th>\n",
       "      <td>Economía UNAM</td>\n",
       "      <td>V. Ciencias Sociales</td>\n",
       "      <td>Economía, Historia Económica, Finanzas, Macroe...</td>\n",
       "      <td>None</td>\n",
       "      <td>None</td>\n",
       "      <td>None</td>\n",
       "      <td>http://www.revistas.unam.mx/index.php/ecu/arti...</td>\n",
       "      <td>None</td>\n",
       "    </tr>\n",
       "    <tr>\n",
       "      <th>10</th>\n",
       "      <td>Economía UNAM</td>\n",
       "      <td>V. Ciencias Sociales</td>\n",
       "      <td>Economía, Historia Económica, Finanzas, Macroe...</td>\n",
       "      <td>None</td>\n",
       "      <td>None</td>\n",
       "      <td>None</td>\n",
       "      <td>http://www.revistas.unam.mx/index.php/ecu/arti...</td>\n",
       "      <td>None</td>\n",
       "    </tr>\n",
       "    <tr>\n",
       "      <th>11</th>\n",
       "      <td>Economía UNAM</td>\n",
       "      <td>V. Ciencias Sociales</td>\n",
       "      <td>Economía, Historia Económica, Finanzas, Macroe...</td>\n",
       "      <td>None</td>\n",
       "      <td>None</td>\n",
       "      <td>None</td>\n",
       "      <td>http://www.revistas.unam.mx/index.php/ecu/arti...</td>\n",
       "      <td>None</td>\n",
       "    </tr>\n",
       "    <tr>\n",
       "      <th>12</th>\n",
       "      <td>Economía UNAM</td>\n",
       "      <td>V. Ciencias Sociales</td>\n",
       "      <td>Economía, Historia Económica, Finanzas, Macroe...</td>\n",
       "      <td>None</td>\n",
       "      <td>None</td>\n",
       "      <td>None</td>\n",
       "      <td>http://www.revistas.unam.mx/index.php/ecu/arti...</td>\n",
       "      <td>None</td>\n",
       "    </tr>\n",
       "    <tr>\n",
       "      <th>13</th>\n",
       "      <td>Economía UNAM</td>\n",
       "      <td>V. Ciencias Sociales</td>\n",
       "      <td>Economía, Historia Económica, Finanzas, Macroe...</td>\n",
       "      <td>None</td>\n",
       "      <td>None</td>\n",
       "      <td>None</td>\n",
       "      <td>http://www.revistas.unam.mx/index.php/ecu/arti...</td>\n",
       "      <td>None</td>\n",
       "    </tr>\n",
       "  </tbody>\n",
       "</table>\n",
       "</div>"
      ],
      "text/plain": [
       "   Titulo Revista                  Area  \\\n",
       "0   Economía UNAM  V. Ciencias Sociales   \n",
       "1   Economía UNAM  V. Ciencias Sociales   \n",
       "2   Economía UNAM  V. Ciencias Sociales   \n",
       "3   Economía UNAM  V. Ciencias Sociales   \n",
       "4   Economía UNAM  V. Ciencias Sociales   \n",
       "5   Economía UNAM  V. Ciencias Sociales   \n",
       "6   Economía UNAM  V. Ciencias Sociales   \n",
       "7   Economía UNAM  V. Ciencias Sociales   \n",
       "8   Economía UNAM  V. Ciencias Sociales   \n",
       "9   Economía UNAM  V. Ciencias Sociales   \n",
       "10  Economía UNAM  V. Ciencias Sociales   \n",
       "11  Economía UNAM  V. Ciencias Sociales   \n",
       "12  Economía UNAM  V. Ciencias Sociales   \n",
       "13  Economía UNAM  V. Ciencias Sociales   \n",
       "\n",
       "                                             Tematica Titulo Articulo Resumen  \\\n",
       "0   Economía, Historia Económica, Finanzas, Macroe...            None    None   \n",
       "1   Economía, Historia Económica, Finanzas, Macroe...            None    None   \n",
       "2   Economía, Historia Económica, Finanzas, Macroe...            None    None   \n",
       "3   Economía, Historia Económica, Finanzas, Macroe...            None    None   \n",
       "4   Economía, Historia Económica, Finanzas, Macroe...            None    None   \n",
       "5   Economía, Historia Económica, Finanzas, Macroe...            None    None   \n",
       "6   Economía, Historia Económica, Finanzas, Macroe...            None    None   \n",
       "7   Economía, Historia Económica, Finanzas, Macroe...            None    None   \n",
       "8   Economía, Historia Económica, Finanzas, Macroe...            None    None   \n",
       "9   Economía, Historia Económica, Finanzas, Macroe...            None    None   \n",
       "10  Economía, Historia Económica, Finanzas, Macroe...            None    None   \n",
       "11  Economía, Historia Económica, Finanzas, Macroe...            None    None   \n",
       "12  Economía, Historia Económica, Finanzas, Macroe...            None    None   \n",
       "13  Economía, Historia Económica, Finanzas, Macroe...            None    None   \n",
       "\n",
       "   Abstract                                      Link Articulo Link PDF  \n",
       "0      None  http://www.revistas.unam.mx/index.php/ecu/arti...     None  \n",
       "1      None  http://www.revistas.unam.mx/index.php/ecu/arti...     None  \n",
       "2      None  http://www.revistas.unam.mx/index.php/ecu/arti...     None  \n",
       "3      None  http://www.revistas.unam.mx/index.php/ecu/arti...     None  \n",
       "4      None  http://www.revistas.unam.mx/index.php/ecu/arti...     None  \n",
       "5      None  http://www.revistas.unam.mx/index.php/ecu/arti...     None  \n",
       "6      None  http://www.revistas.unam.mx/index.php/ecu/arti...     None  \n",
       "7      None  http://www.revistas.unam.mx/index.php/ecu/arti...     None  \n",
       "8      None  http://www.revistas.unam.mx/index.php/ecu/arti...     None  \n",
       "9      None  http://www.revistas.unam.mx/index.php/ecu/arti...     None  \n",
       "10     None  http://www.revistas.unam.mx/index.php/ecu/arti...     None  \n",
       "11     None  http://www.revistas.unam.mx/index.php/ecu/arti...     None  \n",
       "12     None  http://www.revistas.unam.mx/index.php/ecu/arti...     None  \n",
       "13     None  http://www.revistas.unam.mx/index.php/ecu/arti...     None  "
      ]
     },
     "execution_count": 16,
     "metadata": {},
     "output_type": "execute_result"
    }
   ],
   "source": [
    "df_catalogo=pd.DataFrame(datos_book)\n",
    "df_catalogo"
   ]
  },
  {
   "cell_type": "code",
   "execution_count": 87,
   "id": "063e294d-127b-4fb6-8072-791533b743e7",
   "metadata": {},
   "outputs": [],
   "source": [
    "df_catalogo.to_csv('Revista195.csv', index=False)"
   ]
  },
  {
   "cell_type": "code",
   "execution_count": null,
   "id": "ef98de8a-e3dd-4677-9afe-7c15a1f87b95",
   "metadata": {},
   "outputs": [],
   "source": []
  },
  {
   "cell_type": "code",
   "execution_count": null,
   "id": "fcdd67f8-8a34-4aa8-ae7e-98a284fb0b7e",
   "metadata": {},
   "outputs": [],
   "source": []
  }
 ],
 "metadata": {
  "kernelspec": {
   "display_name": "Python 3 (ipykernel)",
   "language": "python",
   "name": "python3"
  },
  "language_info": {
   "codemirror_mode": {
    "name": "ipython",
    "version": 3
   },
   "file_extension": ".py",
   "mimetype": "text/x-python",
   "name": "python",
   "nbconvert_exporter": "python",
   "pygments_lexer": "ipython3",
   "version": "3.10.4"
  }
 },
 "nbformat": 4,
 "nbformat_minor": 5
}
