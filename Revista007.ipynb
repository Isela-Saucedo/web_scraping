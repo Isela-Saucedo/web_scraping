{
 "cells": [
  {
   "cell_type": "code",
   "execution_count": 35,
   "id": "602ea0bd-7823-47cb-a4cf-2dc6c878c4cf",
   "metadata": {},
   "outputs": [],
   "source": [
    "import requests\n",
    "import bs4\n",
    "from bs4 import BeautifulSoup\n",
    "from urllib.parse import urljoin\n",
    "import pandas as pd"
   ]
  },
  {
   "cell_type": "code",
   "execution_count": 37,
   "id": "43b6add5-de21-40b6-9fbc-00de7654ab2e",
   "metadata": {},
   "outputs": [],
   "source": [
    "url_inicial='http://alhe.mora.edu.mx/index.php/ALHE'\n",
    "url_root= 'http://alhe.mora.edu.mx/index.php/ALHE'\n",
    "r = requests.get(url_inicial)"
   ]
  },
  {
   "cell_type": "code",
   "execution_count": 38,
   "id": "10bda294-2123-4f7d-8ca5-caf817c57740",
   "metadata": {},
   "outputs": [],
   "source": [
    "soup = BeautifulSoup(r.text, 'html.parser')"
   ]
  },
  {
   "cell_type": "code",
   "execution_count": 39,
   "id": "0e7607c9-d42c-4939-9b38-ac6951a1acd4",
   "metadata": {},
   "outputs": [
    {
     "data": {
      "text/plain": [
       "['http://alhe.mora.edu.mx/index.php/ALHE/article/view/1279',\n",
       " 'http://alhe.mora.edu.mx/index.php/ALHE/article/view/1230',\n",
       " 'http://alhe.mora.edu.mx/index.php/ALHE/article/view/1259',\n",
       " 'http://alhe.mora.edu.mx/index.php/ALHE/article/view/1280',\n",
       " 'http://alhe.mora.edu.mx/index.php/ALHE/article/view/1287',\n",
       " 'http://alhe.mora.edu.mx/index.php/ALHE/article/view/1289',\n",
       " 'http://alhe.mora.edu.mx/index.php/ALHE/article/view/1290',\n",
       " 'http://alhe.mora.edu.mx/index.php/ALHE/article/view/1208']"
      ]
     },
     "execution_count": 39,
     "metadata": {},
     "output_type": "execute_result"
    }
   ],
   "source": [
    "lista_articulo = soup.find_all('div', class_='media-body')\n",
    "links_libros = [x.find('a').get('href') for x in lista_articulo]\n",
    "links_libros = [urljoin (url_root, i) for i in links_libros]\n",
    "links_libros"
   ]
  },
  {
   "cell_type": "code",
   "execution_count": 40,
   "id": "4241e92a-ad37-481f-b9a0-72ff513f9add",
   "metadata": {},
   "outputs": [],
   "source": [
    "def get_url_items(soup,url):\n",
    "    lista_articulo = soup.find_all('div', class_='media-body')\n",
    "    links_libros = [x.find('a').get('href') for x in lista_articulo]\n",
    "    links_libros = [urljoin (url_root, i) for i in links_libros]\n",
    "    return links_libros"
   ]
  },
  {
   "cell_type": "code",
   "execution_count": 41,
   "id": "42598dbf-d38b-4713-81bc-8f1de772c2b2",
   "metadata": {},
   "outputs": [
    {
     "name": "stdout",
     "output_type": "stream",
     "text": [
      "Estoy en la pagina http://alhe.mora.edu.mx/index.php/ALHE\n"
     ]
    }
   ],
   "source": [
    "links_items=[]\n",
    "i=0\n",
    "while i<1:\n",
    "    i+=1\n",
    "    print(f'Estoy en la pagina {url_inicial}')\n",
    "    r_pag=requests.get(url_inicial)\n",
    "    s_p=BeautifulSoup(r_pag.text,'html.parser')\n",
    "    links=get_url_items(s_p, url_inicial)\n",
    "    links_items.append(links) \n",
    "    next_a=s_p.select('li.next > a')\n",
    "    if not next_a or not next_a[0].get('href'):\n",
    "        break"
   ]
  },
  {
   "cell_type": "code",
   "execution_count": 42,
   "id": "7487395e-2ea4-48fa-ab11-1dfe05306943",
   "metadata": {},
   "outputs": [
    {
     "data": {
      "text/plain": [
       "8"
      ]
     },
     "execution_count": 42,
     "metadata": {},
     "output_type": "execute_result"
    }
   ],
   "source": [
    "list_scraper=[]\n",
    "for i in links_items:\n",
    "    for j in i:\n",
    "        list_scraper.append(j)\n",
    "len(list_scraper)"
   ]
  },
  {
   "cell_type": "code",
   "execution_count": 43,
   "id": "b0be0404-c125-4760-bc39-e320d211a87b",
   "metadata": {},
   "outputs": [],
   "source": [
    "uno=list_scraper[0]\n",
    "r_item=requests.get(uno)\n",
    "s_item=BeautifulSoup(r_item.text, 'html.parser')"
   ]
  },
  {
   "cell_type": "code",
   "execution_count": 54,
   "id": "c9311a1c-607b-47ba-8234-ed71c858bf21",
   "metadata": {},
   "outputs": [],
   "source": [
    "#funcion para iniciar el escraper de cada libro\n",
    "def scraper_book(url):\n",
    "    content_book={}\n",
    "    r=requests.get(url)\n",
    "    tire='América Latina en la Historia Económica'\n",
    "    a='IV. Humanidades y Ciencias de la Conducta'\n",
    "    tem='Historia Económica'\n",
    "    #url='http://alhe.mora.edu.mx/'\n",
    "    s_item=BeautifulSoup(r.text,'html.parser')\n",
    "    #titulo de revista\n",
    "    try:\n",
    "        titulo=tire\n",
    "        content_book['Titulo Revista']=tire\n",
    "    except AttributeError:\n",
    "        content_book['Titulo de revista']=None\n",
    "    #area\n",
    "    try:\n",
    "        area=a\n",
    "        content_book['Area']=a\n",
    "    except AttributeError:\n",
    "        content_book['Area']=None\n",
    "    #tematica\n",
    "    try:\n",
    "        tema=tem\n",
    "        content_book['Tematica']=tem\n",
    "    except AttributeError:\n",
    "        content_book['Tematica']=None\n",
    "    #titulo libro\n",
    "    try:\n",
    "        titu=s_item.find('h1', class_='page-header').get_text(strip=True)\n",
    "        content_book['Titulo Articulo']=titu\n",
    "    except AttributeError:\n",
    "        content_book['Titulo Articulo']=None\n",
    "    #resumen\n",
    "    try:\n",
    "        resu=s_item.find('div', class_='article-abstract').get_text(strip=True)\n",
    "        content_book['Resumen']=resu\n",
    "    except AttributeError:\n",
    "        content_book['Resumen']=None\n",
    "    #abstract\n",
    "    try:\n",
    "        abst=s_item.find('a', rel='license').get_text(strip=True)\n",
    "        content_book['Abstract']=abst\n",
    "    except AttributeError:\n",
    "        content_book['Abstract']=None\n",
    "    #Link incial\n",
    "    try:\n",
    "        link=s_item.find('div', class_='list-group-item doi').find('a').get('href')\n",
    "        content_book['Link Articulo']=urljoin(url_root, link)\n",
    "    except AttributeError:\n",
    "        content_book['Link Articulo']=None\n",
    "    #link articulo\n",
    "    try:\n",
    "        link=s_item.find('div', class_='download').find(role=\"button\").get('data-href')\n",
    "        content_book['Link PDF']=urljoin(url_root, link)\n",
    "    except AttributeError:\n",
    "        content_book['Link PDF']=None\n",
    "    return content_book"
   ]
  },
  {
   "cell_type": "code",
   "execution_count": 57,
   "id": "b10960c8-240a-4b36-a144-b02c0cd6d03f",
   "metadata": {},
   "outputs": [
    {
     "name": "stdout",
     "output_type": "stream",
     "text": [
      "estas escrapeando la pag 0\n",
      "estas escrapeando la pag 1\n",
      "estas escrapeando la pag 2\n",
      "estas escrapeando la pag 3\n",
      "estas escrapeando la pag 4\n",
      "estas escrapeando la pag 5\n",
      "estas escrapeando la pag 6\n",
      "estas escrapeando la pag 7\n"
     ]
    }
   ],
   "source": [
    "list_scraper=list_scraper[0:8]\n",
    "datos_book=[]\n",
    "for idx, i in enumerate(list_scraper):\n",
    "    print(f'estas escrapeando la pag {idx}')\n",
    "    datos_book.append(scraper_book(i))"
   ]
  },
  {
   "cell_type": "code",
   "execution_count": 58,
   "id": "d225fa55-b0bd-46ba-851b-8175feebfd56",
   "metadata": {},
   "outputs": [
    {
     "data": {
      "text/html": [
       "<div>\n",
       "<style scoped>\n",
       "    .dataframe tbody tr th:only-of-type {\n",
       "        vertical-align: middle;\n",
       "    }\n",
       "\n",
       "    .dataframe tbody tr th {\n",
       "        vertical-align: top;\n",
       "    }\n",
       "\n",
       "    .dataframe thead th {\n",
       "        text-align: right;\n",
       "    }\n",
       "</style>\n",
       "<table border=\"1\" class=\"dataframe\">\n",
       "  <thead>\n",
       "    <tr style=\"text-align: right;\">\n",
       "      <th></th>\n",
       "      <th>Titulo Revista</th>\n",
       "      <th>Area</th>\n",
       "      <th>Tematica</th>\n",
       "      <th>Titulo Articulo</th>\n",
       "      <th>Resumen</th>\n",
       "      <th>Abstract</th>\n",
       "      <th>Link Articulo</th>\n",
       "      <th>Link PDF</th>\n",
       "    </tr>\n",
       "  </thead>\n",
       "  <tbody>\n",
       "    <tr>\n",
       "      <th>0</th>\n",
       "      <td>América Latina en la Historia Económica</td>\n",
       "      <td>IV. Humanidades y Ciencias de la Conducta</td>\n",
       "      <td>Historia Económica</td>\n",
       "      <td>El diario Noticias: ideas económicas de la izq...</td>\n",
       "      <td>En el presente trabajo proponemos un examen in...</td>\n",
       "      <td></td>\n",
       "      <td>https://doi.org/10.18232/20073496.1279</td>\n",
       "      <td>http://alhe.mora.edu.mx/index.php/ALHE</td>\n",
       "    </tr>\n",
       "    <tr>\n",
       "      <th>1</th>\n",
       "      <td>América Latina en la Historia Económica</td>\n",
       "      <td>IV. Humanidades y Ciencias de la Conducta</td>\n",
       "      <td>Historia Económica</td>\n",
       "      <td>Comparación del índice de salarios reales de u...</td>\n",
       "      <td>Real del Monte, durante los siglos XVIII y XIX...</td>\n",
       "      <td></td>\n",
       "      <td>https://doi.org/10.18232/20073496.1230</td>\n",
       "      <td>http://alhe.mora.edu.mx/index.php/ALHE</td>\n",
       "    </tr>\n",
       "    <tr>\n",
       "      <th>2</th>\n",
       "      <td>América Latina en la Historia Económica</td>\n",
       "      <td>IV. Humanidades y Ciencias de la Conducta</td>\n",
       "      <td>Historia Económica</td>\n",
       "      <td>El mercado musical italiano en Argentina, 1895...</td>\n",
       "      <td>El artículo tiene por objetivo estudiar un mer...</td>\n",
       "      <td></td>\n",
       "      <td>https://doi.org/10.18232/20073496.1259</td>\n",
       "      <td>http://alhe.mora.edu.mx/index.php/ALHE</td>\n",
       "    </tr>\n",
       "    <tr>\n",
       "      <th>3</th>\n",
       "      <td>América Latina en la Historia Económica</td>\n",
       "      <td>IV. Humanidades y Ciencias de la Conducta</td>\n",
       "      <td>Historia Económica</td>\n",
       "      <td>La fruticultura en el Alto Valle de Río Negro:...</td>\n",
       "      <td>La producción frutícola ubicada en la región d...</td>\n",
       "      <td></td>\n",
       "      <td>https://doi.org/10.18232/20073496.1280</td>\n",
       "      <td>http://alhe.mora.edu.mx/index.php/ALHE</td>\n",
       "    </tr>\n",
       "    <tr>\n",
       "      <th>4</th>\n",
       "      <td>América Latina en la Historia Económica</td>\n",
       "      <td>IV. Humanidades y Ciencias de la Conducta</td>\n",
       "      <td>Historia Económica</td>\n",
       "      <td>La desindustrialización argentina en el largo ...</td>\n",
       "      <td>En 1974 la economía argentina acumulaba una dé...</td>\n",
       "      <td></td>\n",
       "      <td>https://doi.org/10.18232/20073496.1287</td>\n",
       "      <td>http://alhe.mora.edu.mx/index.php/ALHE</td>\n",
       "    </tr>\n",
       "    <tr>\n",
       "      <th>5</th>\n",
       "      <td>América Latina en la Historia Económica</td>\n",
       "      <td>IV. Humanidades y Ciencias de la Conducta</td>\n",
       "      <td>Historia Económica</td>\n",
       "      <td>Estado, política externa e internacionalização...</td>\n",
       "      <td>O presente artigo busca compreender o início d...</td>\n",
       "      <td></td>\n",
       "      <td>https://doi.org/10.18232/20073496.1289</td>\n",
       "      <td>http://alhe.mora.edu.mx/index.php/ALHE</td>\n",
       "    </tr>\n",
       "    <tr>\n",
       "      <th>6</th>\n",
       "      <td>América Latina en la Historia Económica</td>\n",
       "      <td>IV. Humanidades y Ciencias de la Conducta</td>\n",
       "      <td>Historia Económica</td>\n",
       "      <td>Continuidades y rupturas de la cúpula empresar...</td>\n",
       "      <td>En el presente trabajo se buscará poner en evi...</td>\n",
       "      <td></td>\n",
       "      <td>https://doi.org/10.18232/20073496.1290</td>\n",
       "      <td>http://alhe.mora.edu.mx/index.php/ALHE</td>\n",
       "    </tr>\n",
       "    <tr>\n",
       "      <th>7</th>\n",
       "      <td>América Latina en la Historia Económica</td>\n",
       "      <td>IV. Humanidades y Ciencias de la Conducta</td>\n",
       "      <td>Historia Económica</td>\n",
       "      <td>Foreign Direct Investment and Multinationals i...</td>\n",
       "      <td>Foreign direct investment (FDI) in Brazil, sta...</td>\n",
       "      <td></td>\n",
       "      <td>https://doi.org/10.18232/20073496.1208</td>\n",
       "      <td>http://alhe.mora.edu.mx/index.php/ALHE</td>\n",
       "    </tr>\n",
       "  </tbody>\n",
       "</table>\n",
       "</div>"
      ],
      "text/plain": [
       "                            Titulo Revista  \\\n",
       "0  América Latina en la Historia Económica   \n",
       "1  América Latina en la Historia Económica   \n",
       "2  América Latina en la Historia Económica   \n",
       "3  América Latina en la Historia Económica   \n",
       "4  América Latina en la Historia Económica   \n",
       "5  América Latina en la Historia Económica   \n",
       "6  América Latina en la Historia Económica   \n",
       "7  América Latina en la Historia Económica   \n",
       "\n",
       "                                        Area            Tematica  \\\n",
       "0  IV. Humanidades y Ciencias de la Conducta  Historia Económica   \n",
       "1  IV. Humanidades y Ciencias de la Conducta  Historia Económica   \n",
       "2  IV. Humanidades y Ciencias de la Conducta  Historia Económica   \n",
       "3  IV. Humanidades y Ciencias de la Conducta  Historia Económica   \n",
       "4  IV. Humanidades y Ciencias de la Conducta  Historia Económica   \n",
       "5  IV. Humanidades y Ciencias de la Conducta  Historia Económica   \n",
       "6  IV. Humanidades y Ciencias de la Conducta  Historia Económica   \n",
       "7  IV. Humanidades y Ciencias de la Conducta  Historia Económica   \n",
       "\n",
       "                                     Titulo Articulo  \\\n",
       "0  El diario Noticias: ideas económicas de la izq...   \n",
       "1  Comparación del índice de salarios reales de u...   \n",
       "2  El mercado musical italiano en Argentina, 1895...   \n",
       "3  La fruticultura en el Alto Valle de Río Negro:...   \n",
       "4  La desindustrialización argentina en el largo ...   \n",
       "5  Estado, política externa e internacionalização...   \n",
       "6  Continuidades y rupturas de la cúpula empresar...   \n",
       "7  Foreign Direct Investment and Multinationals i...   \n",
       "\n",
       "                                             Resumen Abstract  \\\n",
       "0  En el presente trabajo proponemos un examen in...            \n",
       "1  Real del Monte, durante los siglos XVIII y XIX...            \n",
       "2  El artículo tiene por objetivo estudiar un mer...            \n",
       "3  La producción frutícola ubicada en la región d...            \n",
       "4  En 1974 la economía argentina acumulaba una dé...            \n",
       "5  O presente artigo busca compreender o início d...            \n",
       "6  En el presente trabajo se buscará poner en evi...            \n",
       "7  Foreign direct investment (FDI) in Brazil, sta...            \n",
       "\n",
       "                            Link Articulo  \\\n",
       "0  https://doi.org/10.18232/20073496.1279   \n",
       "1  https://doi.org/10.18232/20073496.1230   \n",
       "2  https://doi.org/10.18232/20073496.1259   \n",
       "3  https://doi.org/10.18232/20073496.1280   \n",
       "4  https://doi.org/10.18232/20073496.1287   \n",
       "5  https://doi.org/10.18232/20073496.1289   \n",
       "6  https://doi.org/10.18232/20073496.1290   \n",
       "7  https://doi.org/10.18232/20073496.1208   \n",
       "\n",
       "                                 Link PDF  \n",
       "0  http://alhe.mora.edu.mx/index.php/ALHE  \n",
       "1  http://alhe.mora.edu.mx/index.php/ALHE  \n",
       "2  http://alhe.mora.edu.mx/index.php/ALHE  \n",
       "3  http://alhe.mora.edu.mx/index.php/ALHE  \n",
       "4  http://alhe.mora.edu.mx/index.php/ALHE  \n",
       "5  http://alhe.mora.edu.mx/index.php/ALHE  \n",
       "6  http://alhe.mora.edu.mx/index.php/ALHE  \n",
       "7  http://alhe.mora.edu.mx/index.php/ALHE  "
      ]
     },
     "execution_count": 58,
     "metadata": {},
     "output_type": "execute_result"
    }
   ],
   "source": [
    "df_catalogo=pd.DataFrame(datos_book)\n",
    "df_catalogo"
   ]
  },
  {
   "cell_type": "code",
   "execution_count": 59,
   "id": "7c764f10-296a-42c8-94ff-062b772e5ddc",
   "metadata": {},
   "outputs": [],
   "source": [
    "df_catalogo.to_csv('Revista07.csv', index=False)"
   ]
  },
  {
   "cell_type": "code",
   "execution_count": null,
   "id": "de13d6b9-9965-4eb0-a8a4-5e87641e18a2",
   "metadata": {},
   "outputs": [],
   "source": []
  }
 ],
 "metadata": {
  "kernelspec": {
   "display_name": "Python 3 (ipykernel)",
   "language": "python",
   "name": "python3"
  },
  "language_info": {
   "codemirror_mode": {
    "name": "ipython",
    "version": 3
   },
   "file_extension": ".py",
   "mimetype": "text/x-python",
   "name": "python",
   "nbconvert_exporter": "python",
   "pygments_lexer": "ipython3",
   "version": "3.10.4"
  }
 },
 "nbformat": 4,
 "nbformat_minor": 5
}
