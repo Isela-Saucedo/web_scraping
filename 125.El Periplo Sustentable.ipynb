{
 "cells": [
  {
   "cell_type": "code",
   "execution_count": 91,
   "id": "d4326137-203c-4c8e-add7-60b122a5955b",
   "metadata": {},
   "outputs": [],
   "source": [
    "import requests\n",
    "import bs4\n",
    "from bs4 import BeautifulSoup\n",
    "from urllib.parse import urljoin\n",
    "import pandas as pd"
   ]
  },
  {
   "cell_type": "code",
   "execution_count": 92,
   "id": "8c42dbd1-ff66-42c5-8447-68987cfebc5f",
   "metadata": {},
   "outputs": [],
   "source": [
    "url_inicial = 'https://rperiplo.uaemex.mx/issue/archive?issuesPage=2#issues'\n",
    "url_root = 'https://rperiplo.uaemex.mx/issue/archive?issuesPage=2#issues'\n",
    "r=requests.get(url_inicial)"
   ]
  },
  {
   "cell_type": "code",
   "execution_count": 93,
   "id": "449a9433-6cf4-4fe0-b7ab-fc8f9c95c5d6",
   "metadata": {},
   "outputs": [],
   "source": [
    "soup = BeautifulSoup(r.text, 'html.parser')"
   ]
  },
  {
   "cell_type": "code",
   "execution_count": 94,
   "id": "9e73d6cd-19b5-4184-a7e8-d4643b09b8dd",
   "metadata": {},
   "outputs": [
    {
     "data": {
      "text/plain": [
       "['https://rperiplo.uaemex.mx/issue/view/315',\n",
       " 'https://rperiplo.uaemex.mx/issue/view/316',\n",
       " 'https://rperiplo.uaemex.mx/issue/view/319',\n",
       " 'https://rperiplo.uaemex.mx/issue/view/317',\n",
       " 'https://rperiplo.uaemex.mx/issue/view/318',\n",
       " 'https://rperiplo.uaemex.mx/issue/view/320',\n",
       " 'https://rperiplo.uaemex.mx/issue/view/321']"
      ]
     },
     "execution_count": 94,
     "metadata": {},
     "output_type": "execute_result"
    }
   ],
   "source": [
    "box = soup.find('div', class_='issues media-list')\n",
    "volumen=box.findAll('div', class_='issue-summary media')\n",
    "vol = [x.find('a').get('href')for x in volumen]\n",
    "vol=[urljoin(url_root,i) for i in vol]\n",
    "vol"
   ]
  },
  {
   "cell_type": "code",
   "execution_count": 95,
   "id": "dc747d8a-4cdc-4097-bd19-3319d30b4506",
   "metadata": {},
   "outputs": [],
   "source": [
    "def get_url_items(sopa, url): \n",
    "    box = soup.find('div', class_='issues media-list')\n",
    "    volumen=box.findAll('div', class_='issue-summary media')\n",
    "    vol = [x.find('a').get('href')for x in volumen]\n",
    "    vol=[urljoin(url_root,i) for i in vol]\n",
    "    return vol"
   ]
  },
  {
   "cell_type": "code",
   "execution_count": 96,
   "id": "0816b38d-b35e-4607-be89-c6052601eb28",
   "metadata": {},
   "outputs": [
    {
     "name": "stdout",
     "output_type": "stream",
     "text": [
      "Estoy en la pagina https://rperiplo.uaemex.mx/issue/archive?issuesPage=2#issues\n"
     ]
    }
   ],
   "source": [
    "links_items=[]\n",
    "i=0\n",
    "while i<1:\n",
    "    i+=1\n",
    "    print(f'Estoy en la pagina {url_inicial}')\n",
    "    r_pag=requests.get(url_inicial)\n",
    "    s_p=BeautifulSoup(r_pag.text,'html.parser')\n",
    "    links=get_url_items(s_p, url_inicial)\n",
    "    links_items.append(links)"
   ]
  },
  {
   "cell_type": "code",
   "execution_count": 97,
   "id": "ea2773b5-de65-40e4-885e-aab5917be849",
   "metadata": {},
   "outputs": [
    {
     "data": {
      "text/plain": [
       "7"
      ]
     },
     "execution_count": 97,
     "metadata": {},
     "output_type": "execute_result"
    }
   ],
   "source": [
    "list_scraper=[]\n",
    "for i in links_items:\n",
    "    for j in i:\n",
    "        list_scraper.append(j)\n",
    "len(list_scraper)"
   ]
  },
  {
   "cell_type": "code",
   "execution_count": 98,
   "id": "2bb6408d-dced-408d-8e1c-16c8c8bc9fd8",
   "metadata": {},
   "outputs": [],
   "source": [
    "uno=list_scraper[0]\n",
    "r_item=requests.get(uno)\n",
    "s_item=BeautifulSoup(r_item.text, 'html.parser')"
   ]
  },
  {
   "cell_type": "code",
   "execution_count": 99,
   "id": "ecfed8d8-555b-484d-a97e-41fb230737ce",
   "metadata": {},
   "outputs": [],
   "source": [
    "#funcion para iniciar el escraper de cada libro\n",
    "def scraper_book(url):\n",
    "    content_book={}\n",
    "    r=requests.get(url)\n",
    "    tire='El Periplo Sustentable'\n",
    "    a='V. Ciencias Sociales'\n",
    "    tem='Turismo, Sustentabilidad, Desarrollo y Competitividad'\n",
    "    url='http://rperiplo.uaemex.mx'\n",
    "    s_item=BeautifulSoup(r.text,'html.parser')\n",
    "    #titulo de revista\n",
    "    try:\n",
    "        titulo=tire\n",
    "        content_book['Titulo de revista']=tire\n",
    "    except AttributeError:\n",
    "        content_book['Titulo de revista']=None\n",
    "    #area\n",
    "    try:\n",
    "        area=a\n",
    "        content_book['Área']=a\n",
    "    except AttributeError:\n",
    "        content_book['Área']=None\n",
    "    #tematica\n",
    "    try:\n",
    "        tema=tem\n",
    "        content_book['Temática']=tem\n",
    "    except AttributeError:\n",
    "        content_book['Temática']=None\n",
    "    #titulo libro\n",
    "    try:\n",
    "        titu=s_item.find('h3', class_='media-heading').get_text(strip=True)\n",
    "        content_book['Titulo del libro']=titu\n",
    "    except AttributeError:\n",
    "        content_book['Titulo del libro']=None\n",
    "    #resumen\n",
    "    try:\n",
    "        resu=s_item.find('a', class_='cover').get_text(strip=True)\n",
    "        content_book['Resumen']=resu\n",
    "    except AttributeError:\n",
    "        content_book['Resumen']=None\n",
    "    #Link incial\n",
    "    try:\n",
    "        inicial=url\n",
    "        content_book['Link inicial']=url\n",
    "    except AttributeError:\n",
    "        content_book['Link inicial']=None\n",
    "    #link articulo\n",
    "    try:\n",
    "        link=s_item.find('a', class_='galley-link').get('href')\n",
    "        content_book['Link articulo']=urljoin(url_root, link)\n",
    "    except AttributeError:\n",
    "        content_book['Link articulo']=None\n",
    "    return content_book"
   ]
  },
  {
   "cell_type": "code",
   "execution_count": 100,
   "id": "b156f534-21dd-45ad-977e-3bc509e8338d",
   "metadata": {},
   "outputs": [
    {
     "name": "stdout",
     "output_type": "stream",
     "text": [
      "estas escrapeando la pag 0\n",
      "estas escrapeando la pag 1\n",
      "estas escrapeando la pag 2\n",
      "estas escrapeando la pag 3\n",
      "estas escrapeando la pag 4\n",
      "estas escrapeando la pag 5\n",
      "estas escrapeando la pag 6\n"
     ]
    }
   ],
   "source": [
    "list_scraper=list_scraper[0:25]\n",
    "datos_book=[]\n",
    "for idx, i in enumerate(list_scraper):\n",
    "    print(f'estas escrapeando la pag {idx}')\n",
    "    datos_book.append(scraper_book(i))"
   ]
  },
  {
   "cell_type": "code",
   "execution_count": 101,
   "id": "90a2843f-312a-4bc4-af2d-337504ccda96",
   "metadata": {},
   "outputs": [
    {
     "data": {
      "text/html": [
       "<div>\n",
       "<style scoped>\n",
       "    .dataframe tbody tr th:only-of-type {\n",
       "        vertical-align: middle;\n",
       "    }\n",
       "\n",
       "    .dataframe tbody tr th {\n",
       "        vertical-align: top;\n",
       "    }\n",
       "\n",
       "    .dataframe thead th {\n",
       "        text-align: right;\n",
       "    }\n",
       "</style>\n",
       "<table border=\"1\" class=\"dataframe\">\n",
       "  <thead>\n",
       "    <tr style=\"text-align: right;\">\n",
       "      <th></th>\n",
       "      <th>Titulo de revista</th>\n",
       "      <th>Área</th>\n",
       "      <th>Temática</th>\n",
       "      <th>Titulo del libro</th>\n",
       "      <th>Resumen</th>\n",
       "      <th>Link inicial</th>\n",
       "      <th>Link articulo</th>\n",
       "    </tr>\n",
       "  </thead>\n",
       "  <tbody>\n",
       "    <tr>\n",
       "      <th>0</th>\n",
       "      <td>El Periplo Sustentable</td>\n",
       "      <td>V. Ciencias Sociales</td>\n",
       "      <td>Turismo, Sustentabilidad, Desarrollo y Competi...</td>\n",
       "      <td>Evaluación multicriterio  de los recursos turí...</td>\n",
       "      <td>None</td>\n",
       "      <td>http://rperiplo.uaemex.mx</td>\n",
       "      <td>https://rperiplo.uaemex.mx/article/view/5029/3619</td>\n",
       "    </tr>\n",
       "    <tr>\n",
       "      <th>1</th>\n",
       "      <td>El Periplo Sustentable</td>\n",
       "      <td>V. Ciencias Sociales</td>\n",
       "      <td>Turismo, Sustentabilidad, Desarrollo y Competi...</td>\n",
       "      <td>Turismo rural: Participación de las comunidade...</td>\n",
       "      <td>None</td>\n",
       "      <td>http://rperiplo.uaemex.mx</td>\n",
       "      <td>https://rperiplo.uaemex.mx/article/view/5033/3623</td>\n",
       "    </tr>\n",
       "    <tr>\n",
       "      <th>2</th>\n",
       "      <td>El Periplo Sustentable</td>\n",
       "      <td>V. Ciencias Sociales</td>\n",
       "      <td>Turismo, Sustentabilidad, Desarrollo y Competi...</td>\n",
       "      <td>Ambiente de la isla Roqueta de Acapulco Guerre...</td>\n",
       "      <td>None</td>\n",
       "      <td>http://rperiplo.uaemex.mx</td>\n",
       "      <td>https://rperiplo.uaemex.mx/article/view/5049/3639</td>\n",
       "    </tr>\n",
       "    <tr>\n",
       "      <th>3</th>\n",
       "      <td>El Periplo Sustentable</td>\n",
       "      <td>V. Ciencias Sociales</td>\n",
       "      <td>Turismo, Sustentabilidad, Desarrollo y Competi...</td>\n",
       "      <td>Propuesta de un ejercicio cualitativo para eva...</td>\n",
       "      <td>None</td>\n",
       "      <td>http://rperiplo.uaemex.mx</td>\n",
       "      <td>https://rperiplo.uaemex.mx/article/view/5037/3627</td>\n",
       "    </tr>\n",
       "    <tr>\n",
       "      <th>4</th>\n",
       "      <td>El Periplo Sustentable</td>\n",
       "      <td>V. Ciencias Sociales</td>\n",
       "      <td>Turismo, Sustentabilidad, Desarrollo y Competi...</td>\n",
       "      <td>Alojamientos turísticos y problemáticas  ambie...</td>\n",
       "      <td>None</td>\n",
       "      <td>http://rperiplo.uaemex.mx</td>\n",
       "      <td>https://rperiplo.uaemex.mx/article/view/5043/3633</td>\n",
       "    </tr>\n",
       "    <tr>\n",
       "      <th>5</th>\n",
       "      <td>El Periplo Sustentable</td>\n",
       "      <td>V. Ciencias Sociales</td>\n",
       "      <td>Turismo, Sustentabilidad, Desarrollo y Competi...</td>\n",
       "      <td>¿Políticas públicas o acciones de gobierno tur...</td>\n",
       "      <td>None</td>\n",
       "      <td>http://rperiplo.uaemex.mx</td>\n",
       "      <td>https://rperiplo.uaemex.mx/article/view/5054/3644</td>\n",
       "    </tr>\n",
       "    <tr>\n",
       "      <th>6</th>\n",
       "      <td>El Periplo Sustentable</td>\n",
       "      <td>V. Ciencias Sociales</td>\n",
       "      <td>Turismo, Sustentabilidad, Desarrollo y Competi...</td>\n",
       "      <td>Análisis del papel del turismo residencial en ...</td>\n",
       "      <td>None</td>\n",
       "      <td>http://rperiplo.uaemex.mx</td>\n",
       "      <td>https://rperiplo.uaemex.mx/article/view/5058/3648</td>\n",
       "    </tr>\n",
       "  </tbody>\n",
       "</table>\n",
       "</div>"
      ],
      "text/plain": [
       "        Titulo de revista                  Área  \\\n",
       "0  El Periplo Sustentable  V. Ciencias Sociales   \n",
       "1  El Periplo Sustentable  V. Ciencias Sociales   \n",
       "2  El Periplo Sustentable  V. Ciencias Sociales   \n",
       "3  El Periplo Sustentable  V. Ciencias Sociales   \n",
       "4  El Periplo Sustentable  V. Ciencias Sociales   \n",
       "5  El Periplo Sustentable  V. Ciencias Sociales   \n",
       "6  El Periplo Sustentable  V. Ciencias Sociales   \n",
       "\n",
       "                                            Temática  \\\n",
       "0  Turismo, Sustentabilidad, Desarrollo y Competi...   \n",
       "1  Turismo, Sustentabilidad, Desarrollo y Competi...   \n",
       "2  Turismo, Sustentabilidad, Desarrollo y Competi...   \n",
       "3  Turismo, Sustentabilidad, Desarrollo y Competi...   \n",
       "4  Turismo, Sustentabilidad, Desarrollo y Competi...   \n",
       "5  Turismo, Sustentabilidad, Desarrollo y Competi...   \n",
       "6  Turismo, Sustentabilidad, Desarrollo y Competi...   \n",
       "\n",
       "                                    Titulo del libro Resumen  \\\n",
       "0  Evaluación multicriterio  de los recursos turí...    None   \n",
       "1  Turismo rural: Participación de las comunidade...    None   \n",
       "2  Ambiente de la isla Roqueta de Acapulco Guerre...    None   \n",
       "3  Propuesta de un ejercicio cualitativo para eva...    None   \n",
       "4  Alojamientos turísticos y problemáticas  ambie...    None   \n",
       "5  ¿Políticas públicas o acciones de gobierno tur...    None   \n",
       "6  Análisis del papel del turismo residencial en ...    None   \n",
       "\n",
       "                Link inicial  \\\n",
       "0  http://rperiplo.uaemex.mx   \n",
       "1  http://rperiplo.uaemex.mx   \n",
       "2  http://rperiplo.uaemex.mx   \n",
       "3  http://rperiplo.uaemex.mx   \n",
       "4  http://rperiplo.uaemex.mx   \n",
       "5  http://rperiplo.uaemex.mx   \n",
       "6  http://rperiplo.uaemex.mx   \n",
       "\n",
       "                                       Link articulo  \n",
       "0  https://rperiplo.uaemex.mx/article/view/5029/3619  \n",
       "1  https://rperiplo.uaemex.mx/article/view/5033/3623  \n",
       "2  https://rperiplo.uaemex.mx/article/view/5049/3639  \n",
       "3  https://rperiplo.uaemex.mx/article/view/5037/3627  \n",
       "4  https://rperiplo.uaemex.mx/article/view/5043/3633  \n",
       "5  https://rperiplo.uaemex.mx/article/view/5054/3644  \n",
       "6  https://rperiplo.uaemex.mx/article/view/5058/3648  "
      ]
     },
     "execution_count": 101,
     "metadata": {},
     "output_type": "execute_result"
    }
   ],
   "source": [
    "df_catalogo=pd.DataFrame(datos_book)\n",
    "df_catalogo"
   ]
  },
  {
   "cell_type": "code",
   "execution_count": 102,
   "id": "063e294d-127b-4fb6-8072-791533b743e7",
   "metadata": {},
   "outputs": [],
   "source": [
    "df_catalogo.to_csv('Revista125.02.csv', index=False)"
   ]
  },
  {
   "cell_type": "code",
   "execution_count": null,
   "id": "28e39c03-2f18-42bb-9462-aa917847c468",
   "metadata": {},
   "outputs": [],
   "source": []
  }
 ],
 "metadata": {
  "kernelspec": {
   "display_name": "Python 3 (ipykernel)",
   "language": "python",
   "name": "python3"
  },
  "language_info": {
   "codemirror_mode": {
    "name": "ipython",
    "version": 3
   },
   "file_extension": ".py",
   "mimetype": "text/x-python",
   "name": "python",
   "nbconvert_exporter": "python",
   "pygments_lexer": "ipython3",
   "version": "3.10.4"
  }
 },
 "nbformat": 4,
 "nbformat_minor": 5
}
