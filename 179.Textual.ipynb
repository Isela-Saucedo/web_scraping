{
 "cells": [
  {
   "cell_type": "code",
   "execution_count": 1,
   "id": "d4326137-203c-4c8e-add7-60b122a5955b",
   "metadata": {},
   "outputs": [],
   "source": [
    "import requests\n",
    "import bs4\n",
    "from bs4 import BeautifulSoup\n",
    "from urllib.parse import urljoin\n",
    "import pandas as pd"
   ]
  },
  {
   "cell_type": "code",
   "execution_count": 2,
   "id": "8c42dbd1-ff66-42c5-8447-68987cfebc5f",
   "metadata": {},
   "outputs": [],
   "source": [
    "url_inicial = 'https://chapingo-cori.mx/textual/textual/issue/archive'\n",
    "url_root = 'https://chapingo-cori.mx/textual/textual/issue/archive'\n",
    "r=requests.get(url_inicial)"
   ]
  },
  {
   "cell_type": "code",
   "execution_count": 3,
   "id": "449a9433-6cf4-4fe0-b7ab-fc8f9c95c5d6",
   "metadata": {},
   "outputs": [],
   "source": [
    "soup = BeautifulSoup(r.text, 'html.parser')"
   ]
  },
  {
   "cell_type": "code",
   "execution_count": 4,
   "id": "9e73d6cd-19b5-4184-a7e8-d4643b09b8dd",
   "metadata": {},
   "outputs": [
    {
     "data": {
      "text/plain": [
       "['https://chapingo-cori.mx/textual/textual/issue/view/12',\n",
       " 'https://chapingo-cori.mx/textual/textual/issue/view/11',\n",
       " 'https://chapingo-cori.mx/textual/textual/issue/view/10',\n",
       " 'https://chapingo-cori.mx/textual/textual/issue/view/8',\n",
       " 'https://chapingo-cori.mx/textual/textual/issue/view/3',\n",
       " 'https://chapingo-cori.mx/textual/textual/issue/view/1',\n",
       " 'https://chapingo-cori.mx/textual/textual/issue/view/2',\n",
       " 'https://chapingo-cori.mx/textual/textual/issue/view/4',\n",
       " 'https://chapingo-cori.mx/textual/textual/issue/view/5',\n",
       " 'https://chapingo-cori.mx/textual/textual/issue/view/6',\n",
       " 'https://chapingo-cori.mx/textual/textual/issue/view/7']"
      ]
     },
     "execution_count": 4,
     "metadata": {},
     "output_type": "execute_result"
    }
   ],
   "source": [
    "box = soup.find('div', class_='container page-archives')\n",
    "volumen=box.findAll('div', class_='col-md-3 col-lg-2')\n",
    "vol = [x.find('a').get('href')for x in volumen]\n",
    "vol=[urljoin(url_root,i) for i in vol]\n",
    "vol"
   ]
  },
  {
   "cell_type": "code",
   "execution_count": 5,
   "id": "dc747d8a-4cdc-4097-bd19-3319d30b4506",
   "metadata": {},
   "outputs": [],
   "source": [
    "def get_url_items(sopa, url): \n",
    "    box = soup.find('div', class_='container page-archives')\n",
    "    volumen=box.findAll('div', class_='col-md-3 col-lg-2')\n",
    "    vol = [x.find('a').get('href')for x in volumen]\n",
    "    vol=[urljoin(url_root,i) for i in vol]\n",
    "    return vol"
   ]
  },
  {
   "cell_type": "code",
   "execution_count": 6,
   "id": "0816b38d-b35e-4607-be89-c6052601eb28",
   "metadata": {},
   "outputs": [
    {
     "name": "stdout",
     "output_type": "stream",
     "text": [
      "Estoy en la pagina https://chapingo-cori.mx/textual/textual/issue/archive\n"
     ]
    }
   ],
   "source": [
    "links_items=[]\n",
    "i=0\n",
    "while i<1:\n",
    "    i+=1\n",
    "    print(f'Estoy en la pagina {url_inicial}')\n",
    "    r_pag=requests.get(url_inicial)\n",
    "    s_p=BeautifulSoup(r_pag.text,'html.parser')\n",
    "    links=get_url_items(s_p, url_inicial)\n",
    "    links_items.append(links)"
   ]
  },
  {
   "cell_type": "code",
   "execution_count": 7,
   "id": "ea2773b5-de65-40e4-885e-aab5917be849",
   "metadata": {},
   "outputs": [
    {
     "data": {
      "text/plain": [
       "11"
      ]
     },
     "execution_count": 7,
     "metadata": {},
     "output_type": "execute_result"
    }
   ],
   "source": [
    "list_scraper=[]\n",
    "for i in links_items:\n",
    "    for j in i:\n",
    "        list_scraper.append(j)\n",
    "len(list_scraper)"
   ]
  },
  {
   "cell_type": "code",
   "execution_count": 8,
   "id": "2bb6408d-dced-408d-8e1c-16c8c8bc9fd8",
   "metadata": {},
   "outputs": [],
   "source": [
    "uno=list_scraper[0]\n",
    "r_item=requests.get(uno)\n",
    "s_item=BeautifulSoup(r_item.text, 'html.parser')"
   ]
  },
  {
   "cell_type": "code",
   "execution_count": 13,
   "id": "ecfed8d8-555b-484d-a97e-41fb230737ce",
   "metadata": {},
   "outputs": [],
   "source": [
    "#funcion para iniciar el escraper de cada libro\n",
    "def scraper_book(url):\n",
    "    content_book={}\n",
    "    r=requests.get(url)\n",
    "    tire='Textual'\n",
    "    a='V. Ciencias Sociales'\n",
    "    tem='Analisis del Medio Rural'\n",
    "    url='https://chapingo-cori.mx/textual/textual'\n",
    "    s_item=BeautifulSoup(r.text,'html.parser')\n",
    "    #titulo de revista\n",
    "    try:\n",
    "        titulo=tire\n",
    "        content_book['Titulo de revista']=tire\n",
    "    except AttributeError:\n",
    "        content_book['Titulo de revista']=None\n",
    "    #area\n",
    "    try:\n",
    "        area=a\n",
    "        content_book['Área']=a\n",
    "    except AttributeError:\n",
    "        content_book['Área']=None\n",
    "    #tematica\n",
    "    try:\n",
    "        tema=tem\n",
    "        content_book['Temática']=tem\n",
    "    except AttributeError:\n",
    "        content_book['Temática']=None\n",
    "    #titulo libro\n",
    "    try:\n",
    "        titu=s_item.find('div', class_='article-summary-title').get_text(strip=True)\n",
    "        content_book['Titulo del libro']=titu\n",
    "    except AttributeError:\n",
    "        content_book['Titulo del libro']=None\n",
    "    #resumen\n",
    "    try:\n",
    "        resu=s_item.find('a', class_='cover').get_text(strip=True)\n",
    "        content_book['Resumen']=resu\n",
    "    except AttributeError:\n",
    "        content_book['Resumen']=None\n",
    "    #Link incial\n",
    "    try:\n",
    "        inicial=url\n",
    "        content_book['Link inicial']=url\n",
    "    except AttributeError:\n",
    "        content_book['Link inicial']=None\n",
    "    #link articulo\n",
    "    try:\n",
    "        link=s_item.find('a', class_='btn btn-primary').get('href')\n",
    "        content_book['Link articulo']=urljoin(url_root, link)\n",
    "    except AttributeError:\n",
    "        content_book['Link articulo']=None\n",
    "    return content_book"
   ]
  },
  {
   "cell_type": "code",
   "execution_count": 14,
   "id": "b156f534-21dd-45ad-977e-3bc509e8338d",
   "metadata": {},
   "outputs": [
    {
     "name": "stdout",
     "output_type": "stream",
     "text": [
      "estas escrapeando la pag 0\n",
      "estas escrapeando la pag 1\n",
      "estas escrapeando la pag 2\n",
      "estas escrapeando la pag 3\n",
      "estas escrapeando la pag 4\n",
      "estas escrapeando la pag 5\n",
      "estas escrapeando la pag 6\n",
      "estas escrapeando la pag 7\n",
      "estas escrapeando la pag 8\n",
      "estas escrapeando la pag 9\n",
      "estas escrapeando la pag 10\n"
     ]
    }
   ],
   "source": [
    "list_scraper=list_scraper[0:11]\n",
    "datos_book=[]\n",
    "for idx, i in enumerate(list_scraper):\n",
    "    print(f'estas escrapeando la pag {idx}')\n",
    "    datos_book.append(scraper_book(i))"
   ]
  },
  {
   "cell_type": "code",
   "execution_count": 15,
   "id": "90a2843f-312a-4bc4-af2d-337504ccda96",
   "metadata": {},
   "outputs": [
    {
     "data": {
      "text/html": [
       "<div>\n",
       "<style scoped>\n",
       "    .dataframe tbody tr th:only-of-type {\n",
       "        vertical-align: middle;\n",
       "    }\n",
       "\n",
       "    .dataframe tbody tr th {\n",
       "        vertical-align: top;\n",
       "    }\n",
       "\n",
       "    .dataframe thead th {\n",
       "        text-align: right;\n",
       "    }\n",
       "</style>\n",
       "<table border=\"1\" class=\"dataframe\">\n",
       "  <thead>\n",
       "    <tr style=\"text-align: right;\">\n",
       "      <th></th>\n",
       "      <th>Titulo de revista</th>\n",
       "      <th>Área</th>\n",
       "      <th>Temática</th>\n",
       "      <th>Titulo del libro</th>\n",
       "      <th>Resumen</th>\n",
       "      <th>Link inicial</th>\n",
       "      <th>Link articulo</th>\n",
       "    </tr>\n",
       "  </thead>\n",
       "  <tbody>\n",
       "    <tr>\n",
       "      <th>0</th>\n",
       "      <td>Textual</td>\n",
       "      <td>V. Ciencias Sociales</td>\n",
       "      <td>Analisis del Medio Rural</td>\n",
       "      <td>CONFLICTO AMBIENTAL Y TERRITORIALIDADES EN EL ...</td>\n",
       "      <td>None</td>\n",
       "      <td>https://chapingo-cori.mx/textual/textual</td>\n",
       "      <td>https://chapingo-cori.mx/textual/textual/artic...</td>\n",
       "    </tr>\n",
       "    <tr>\n",
       "      <th>1</th>\n",
       "      <td>Textual</td>\n",
       "      <td>V. Ciencias Sociales</td>\n",
       "      <td>Analisis del Medio Rural</td>\n",
       "      <td>VIDA EN FELICIDAD O TAPAXUWAN LATAMAT: CONOCIM...</td>\n",
       "      <td>None</td>\n",
       "      <td>https://chapingo-cori.mx/textual/textual</td>\n",
       "      <td>https://chapingo-cori.mx/textual/textual/artic...</td>\n",
       "    </tr>\n",
       "    <tr>\n",
       "      <th>2</th>\n",
       "      <td>Textual</td>\n",
       "      <td>V. Ciencias Sociales</td>\n",
       "      <td>Analisis del Medio Rural</td>\n",
       "      <td>EL COVID-19: UN SISTEMA ESTRUCTURAL BAJO REVISIÓN</td>\n",
       "      <td>None</td>\n",
       "      <td>https://chapingo-cori.mx/textual/textual</td>\n",
       "      <td>https://chapingo-cori.mx/textual/textual/artic...</td>\n",
       "    </tr>\n",
       "    <tr>\n",
       "      <th>3</th>\n",
       "      <td>Textual</td>\n",
       "      <td>V. Ciencias Sociales</td>\n",
       "      <td>Analisis del Medio Rural</td>\n",
       "      <td>PRESENTACIÓN</td>\n",
       "      <td>None</td>\n",
       "      <td>https://chapingo-cori.mx/textual/textual</td>\n",
       "      <td>https://chapingo-cori.mx/textual/textual/artic...</td>\n",
       "    </tr>\n",
       "    <tr>\n",
       "      <th>4</th>\n",
       "      <td>Textual</td>\n",
       "      <td>V. Ciencias Sociales</td>\n",
       "      <td>Analisis del Medio Rural</td>\n",
       "      <td>Editorial</td>\n",
       "      <td>None</td>\n",
       "      <td>https://chapingo-cori.mx/textual/textual</td>\n",
       "      <td>https://chapingo-cori.mx/textual/textual/artic...</td>\n",
       "    </tr>\n",
       "    <tr>\n",
       "      <th>5</th>\n",
       "      <td>Textual</td>\n",
       "      <td>V. Ciencias Sociales</td>\n",
       "      <td>Analisis del Medio Rural</td>\n",
       "      <td>EDITORIAL</td>\n",
       "      <td>None</td>\n",
       "      <td>https://chapingo-cori.mx/textual/textual</td>\n",
       "      <td>https://chapingo-cori.mx/textual/textual/artic...</td>\n",
       "    </tr>\n",
       "    <tr>\n",
       "      <th>6</th>\n",
       "      <td>Textual</td>\n",
       "      <td>V. Ciencias Sociales</td>\n",
       "      <td>Analisis del Medio Rural</td>\n",
       "      <td>Editorial</td>\n",
       "      <td>None</td>\n",
       "      <td>https://chapingo-cori.mx/textual/textual</td>\n",
       "      <td>https://chapingo-cori.mx/textual/textual/artic...</td>\n",
       "    </tr>\n",
       "    <tr>\n",
       "      <th>7</th>\n",
       "      <td>Textual</td>\n",
       "      <td>V. Ciencias Sociales</td>\n",
       "      <td>Analisis del Medio Rural</td>\n",
       "      <td>ANÁLISIS DEL PROCESO DE CERTIFICACIÓN DEL ORGA...</td>\n",
       "      <td>None</td>\n",
       "      <td>https://chapingo-cori.mx/textual/textual</td>\n",
       "      <td>https://chapingo-cori.mx/textual/textual/artic...</td>\n",
       "    </tr>\n",
       "    <tr>\n",
       "      <th>8</th>\n",
       "      <td>Textual</td>\n",
       "      <td>V. Ciencias Sociales</td>\n",
       "      <td>Analisis del Medio Rural</td>\n",
       "      <td>EDITORIAL</td>\n",
       "      <td>None</td>\n",
       "      <td>https://chapingo-cori.mx/textual/textual</td>\n",
       "      <td>https://chapingo-cori.mx/textual/textual/artic...</td>\n",
       "    </tr>\n",
       "    <tr>\n",
       "      <th>9</th>\n",
       "      <td>Textual</td>\n",
       "      <td>V. Ciencias Sociales</td>\n",
       "      <td>Analisis del Medio Rural</td>\n",
       "      <td>EDITORIAL</td>\n",
       "      <td>None</td>\n",
       "      <td>https://chapingo-cori.mx/textual/textual</td>\n",
       "      <td>https://chapingo-cori.mx/textual/textual/artic...</td>\n",
       "    </tr>\n",
       "    <tr>\n",
       "      <th>10</th>\n",
       "      <td>Textual</td>\n",
       "      <td>V. Ciencias Sociales</td>\n",
       "      <td>Analisis del Medio Rural</td>\n",
       "      <td>None</td>\n",
       "      <td>None</td>\n",
       "      <td>https://chapingo-cori.mx/textual/textual</td>\n",
       "      <td>None</td>\n",
       "    </tr>\n",
       "  </tbody>\n",
       "</table>\n",
       "</div>"
      ],
      "text/plain": [
       "   Titulo de revista                  Área                  Temática  \\\n",
       "0            Textual  V. Ciencias Sociales  Analisis del Medio Rural   \n",
       "1            Textual  V. Ciencias Sociales  Analisis del Medio Rural   \n",
       "2            Textual  V. Ciencias Sociales  Analisis del Medio Rural   \n",
       "3            Textual  V. Ciencias Sociales  Analisis del Medio Rural   \n",
       "4            Textual  V. Ciencias Sociales  Analisis del Medio Rural   \n",
       "5            Textual  V. Ciencias Sociales  Analisis del Medio Rural   \n",
       "6            Textual  V. Ciencias Sociales  Analisis del Medio Rural   \n",
       "7            Textual  V. Ciencias Sociales  Analisis del Medio Rural   \n",
       "8            Textual  V. Ciencias Sociales  Analisis del Medio Rural   \n",
       "9            Textual  V. Ciencias Sociales  Analisis del Medio Rural   \n",
       "10           Textual  V. Ciencias Sociales  Analisis del Medio Rural   \n",
       "\n",
       "                                     Titulo del libro Resumen  \\\n",
       "0   CONFLICTO AMBIENTAL Y TERRITORIALIDADES EN EL ...    None   \n",
       "1   VIDA EN FELICIDAD O TAPAXUWAN LATAMAT: CONOCIM...    None   \n",
       "2   EL COVID-19: UN SISTEMA ESTRUCTURAL BAJO REVISIÓN    None   \n",
       "3                                        PRESENTACIÓN    None   \n",
       "4                                           Editorial    None   \n",
       "5                                           EDITORIAL    None   \n",
       "6                                           Editorial    None   \n",
       "7   ANÁLISIS DEL PROCESO DE CERTIFICACIÓN DEL ORGA...    None   \n",
       "8                                           EDITORIAL    None   \n",
       "9                                           EDITORIAL    None   \n",
       "10                                               None    None   \n",
       "\n",
       "                                Link inicial  \\\n",
       "0   https://chapingo-cori.mx/textual/textual   \n",
       "1   https://chapingo-cori.mx/textual/textual   \n",
       "2   https://chapingo-cori.mx/textual/textual   \n",
       "3   https://chapingo-cori.mx/textual/textual   \n",
       "4   https://chapingo-cori.mx/textual/textual   \n",
       "5   https://chapingo-cori.mx/textual/textual   \n",
       "6   https://chapingo-cori.mx/textual/textual   \n",
       "7   https://chapingo-cori.mx/textual/textual   \n",
       "8   https://chapingo-cori.mx/textual/textual   \n",
       "9   https://chapingo-cori.mx/textual/textual   \n",
       "10  https://chapingo-cori.mx/textual/textual   \n",
       "\n",
       "                                        Link articulo  \n",
       "0   https://chapingo-cori.mx/textual/textual/artic...  \n",
       "1   https://chapingo-cori.mx/textual/textual/artic...  \n",
       "2   https://chapingo-cori.mx/textual/textual/artic...  \n",
       "3   https://chapingo-cori.mx/textual/textual/artic...  \n",
       "4   https://chapingo-cori.mx/textual/textual/artic...  \n",
       "5   https://chapingo-cori.mx/textual/textual/artic...  \n",
       "6   https://chapingo-cori.mx/textual/textual/artic...  \n",
       "7   https://chapingo-cori.mx/textual/textual/artic...  \n",
       "8   https://chapingo-cori.mx/textual/textual/artic...  \n",
       "9   https://chapingo-cori.mx/textual/textual/artic...  \n",
       "10                                               None  "
      ]
     },
     "execution_count": 15,
     "metadata": {},
     "output_type": "execute_result"
    }
   ],
   "source": [
    "df_catalogo=pd.DataFrame(datos_book)\n",
    "df_catalogo"
   ]
  },
  {
   "cell_type": "code",
   "execution_count": 16,
   "id": "063e294d-127b-4fb6-8072-791533b743e7",
   "metadata": {},
   "outputs": [],
   "source": [
    "df_catalogo.to_csv('Revista179.csv', index=False)"
   ]
  },
  {
   "cell_type": "code",
   "execution_count": null,
   "id": "9dc21446-f68a-4035-afc1-7dee5be4d590",
   "metadata": {},
   "outputs": [],
   "source": []
  }
 ],
 "metadata": {
  "kernelspec": {
   "display_name": "Python 3 (ipykernel)",
   "language": "python",
   "name": "python3"
  },
  "language_info": {
   "codemirror_mode": {
    "name": "ipython",
    "version": 3
   },
   "file_extension": ".py",
   "mimetype": "text/x-python",
   "name": "python",
   "nbconvert_exporter": "python",
   "pygments_lexer": "ipython3",
   "version": "3.10.4"
  }
 },
 "nbformat": 4,
 "nbformat_minor": 5
}
