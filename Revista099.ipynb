{
 "cells": [
  {
   "cell_type": "code",
   "execution_count": 1,
   "id": "d4326137-203c-4c8e-add7-60b122a5955b",
   "metadata": {},
   "outputs": [],
   "source": [
    "import requests\n",
    "import bs4\n",
    "from bs4 import BeautifulSoup\n",
    "from urllib.parse import urljoin\n",
    "import pandas as pd"
   ]
  },
  {
   "cell_type": "code",
   "execution_count": 58,
   "id": "8c42dbd1-ff66-42c5-8447-68987cfebc5f",
   "metadata": {},
   "outputs": [],
   "source": [
    "url_inicial = 'https://www.rmangiologia.com/?indice=2020484#JournalContents'\n",
    "url_root = 'https://www.rmangiologia.com/?indice=2020484#JournalContents'\n",
    "r=requests.get(url_inicial)"
   ]
  },
  {
   "cell_type": "code",
   "execution_count": 59,
   "id": "449a9433-6cf4-4fe0-b7ab-fc8f9c95c5d6",
   "metadata": {},
   "outputs": [],
   "source": [
    "soup = BeautifulSoup(r.text, 'html.parser')"
   ]
  },
  {
   "cell_type": "code",
   "execution_count": 60,
   "id": "9e73d6cd-19b5-4184-a7e8-d4643b09b8dd",
   "metadata": {},
   "outputs": [
    {
     "data": {
      "text/plain": [
       "['https://www.rmangiologia.com/frame_esp.php?id=42',\n",
       " 'https://www.rmangiologia.com/frame_esp.php?id=43',\n",
       " 'https://www.rmangiologia.com/frame_esp.php?id=44',\n",
       " 'https://www.rmangiologia.com/frame_esp.php?id=45',\n",
       " 'https://www.rmangiologia.com/frame_esp.php?id=46']"
      ]
     },
     "execution_count": 60,
     "metadata": {},
     "output_type": "execute_result"
    }
   ],
   "source": [
    "#box = soup.find('div', class_='container')\n",
    "volumen=soup.findAll('div', class_=\"item\")\n",
    "vol = [x.find('a').get('href')for x in volumen]\n",
    "vol=[urljoin(url_root,i) for i in vol]\n",
    "vol"
   ]
  },
  {
   "cell_type": "code",
   "execution_count": 61,
   "id": "dc747d8a-4cdc-4097-bd19-3319d30b4506",
   "metadata": {},
   "outputs": [],
   "source": [
    "def get_url_items(sopa,url):\n",
    "    #box = soup.find('div', class_='container')\n",
    "    volumen=soup.findAll('div', class_=\"item\")\n",
    "    vol = [x.find('a').get('href')for x in volumen]\n",
    "    vol=[urljoin(url_root,i) for i in vol]\n",
    "    return vol"
   ]
  },
  {
   "cell_type": "code",
   "execution_count": 62,
   "id": "0816b38d-b35e-4607-be89-c6052601eb28",
   "metadata": {},
   "outputs": [
    {
     "name": "stdout",
     "output_type": "stream",
     "text": [
      "Estoy en la pagina https://www.rmangiologia.com/?indice=2020484#JournalContents\n"
     ]
    }
   ],
   "source": [
    "links_items=[]\n",
    "i=0\n",
    "while i<1:\n",
    "    i+=1\n",
    "    print(f'Estoy en la pagina {url_inicial}')\n",
    "    r_pag=requests.get(url_inicial)\n",
    "    s_p=BeautifulSoup(r_pag.text,'html.parser')\n",
    "    links=get_url_items(s_p, url_inicial)\n",
    "    links_items.append(links) \n",
    "    next_a=s_p.select('li.next > a')\n",
    "    if not next_a or not next_a[0].get('href'):\n",
    "        break"
   ]
  },
  {
   "cell_type": "code",
   "execution_count": 63,
   "id": "ea2773b5-de65-40e4-885e-aab5917be849",
   "metadata": {},
   "outputs": [
    {
     "data": {
      "text/plain": [
       "5"
      ]
     },
     "execution_count": 63,
     "metadata": {},
     "output_type": "execute_result"
    }
   ],
   "source": [
    "list_scraper=[]\n",
    "for i in links_items:\n",
    "    for j in i:\n",
    "        list_scraper.append(j)\n",
    "len(list_scraper)"
   ]
  },
  {
   "cell_type": "code",
   "execution_count": 64,
   "id": "2bb6408d-dced-408d-8e1c-16c8c8bc9fd8",
   "metadata": {},
   "outputs": [],
   "source": [
    "uno=list_scraper[0]\n",
    "r_item=requests.get(uno)\n",
    "s_item=BeautifulSoup(r_item.text, 'html.parser')"
   ]
  },
  {
   "cell_type": "code",
   "execution_count": 65,
   "id": "ecfed8d8-555b-484d-a97e-41fb230737ce",
   "metadata": {},
   "outputs": [],
   "source": [
    "#funcion para iniciar el escraper de cada libro\n",
    "def scraper_book(url):\n",
    "    content_book={}\n",
    "    r=requests.get(url)\n",
    "    tire='Revista Mexicana de Angiología'\n",
    "    a='III. Medicina y Ciencias de la Salud'\n",
    "    tem='Medicina'\n",
    "    s_item=BeautifulSoup(r.text,'html.parser')\n",
    "    #titulo de revista\n",
    "    try:\n",
    "        titulo=tire\n",
    "        content_book['Titulo Revista']=tire\n",
    "    except AttributeError:\n",
    "        content_book['Titulo Revista']=None\n",
    "    #area\n",
    "    try:\n",
    "        area=a\n",
    "        content_book['Area']=a\n",
    "    except AttributeError:\n",
    "        content_book['Area']=None\n",
    "    #tematica\n",
    "    try:\n",
    "        tema=tem\n",
    "        content_book['Tematica']=tem\n",
    "    except AttributeError:\n",
    "        content_book['Tematica']=None\n",
    "    #titulo articulo\n",
    "    try:\n",
    "        titu=s_item.find('title').get_text(strip=True)\n",
    "        content_book['Titulo Articulo']=titu\n",
    "    except AttributeError:\n",
    "        content_book['Titulo Articulo']=None\n",
    "    #resumen\n",
    "    try:\n",
    "        resu=s_item.find('h4', class_='callout-title').get_text(strip=True)\n",
    "        content_book['Resumen']=resu.replace(\"Resumen\",\"\")\n",
    "    except AttributeError:\n",
    "        content_book['Resumen']=None\n",
    "    #abstract\n",
    "    try:\n",
    "        abst=s_item.find('div', id='item cover_image').get_text(strip=True)\n",
    "        content_book['Abstract']=abst\n",
    "    except AttributeError:\n",
    "        content_book['Abstract']=None\n",
    "    #Link incial\n",
    "    try:\n",
    "        linkart=url\n",
    "        content_book['Link Articulo']=linkart\n",
    "    except AttributeError:\n",
    "        content_book['Link Articulo']=None\n",
    "    #link articulo\n",
    "    try:\n",
    "        link=s_item.find('div', class_='col-lg-2 col-md-2 col-sm-2').find('a').get('href')\n",
    "        content_book['Link PDF']=urljoin(url_root, link)\n",
    "    except AttributeError:\n",
    "        content_book['Link PDF']=None\n",
    "    return content_book"
   ]
  },
  {
   "cell_type": "code",
   "execution_count": 66,
   "id": "b156f534-21dd-45ad-977e-3bc509e8338d",
   "metadata": {},
   "outputs": [
    {
     "name": "stdout",
     "output_type": "stream",
     "text": [
      "estas escrapeando la pag 0\n",
      "estas escrapeando la pag 1\n",
      "estas escrapeando la pag 2\n",
      "estas escrapeando la pag 3\n",
      "estas escrapeando la pag 4\n"
     ]
    }
   ],
   "source": [
    "list_scraper=list_scraper[0:6]\n",
    "datos_book=[]\n",
    "for idx, i in enumerate(list_scraper):\n",
    "    print(f'estas escrapeando la pag {idx}')\n",
    "    datos_book.append(scraper_book(i))"
   ]
  },
  {
   "cell_type": "code",
   "execution_count": 67,
   "id": "90a2843f-312a-4bc4-af2d-337504ccda96",
   "metadata": {},
   "outputs": [
    {
     "data": {
      "text/html": [
       "<div>\n",
       "<style scoped>\n",
       "    .dataframe tbody tr th:only-of-type {\n",
       "        vertical-align: middle;\n",
       "    }\n",
       "\n",
       "    .dataframe tbody tr th {\n",
       "        vertical-align: top;\n",
       "    }\n",
       "\n",
       "    .dataframe thead th {\n",
       "        text-align: right;\n",
       "    }\n",
       "</style>\n",
       "<table border=\"1\" class=\"dataframe\">\n",
       "  <thead>\n",
       "    <tr style=\"text-align: right;\">\n",
       "      <th></th>\n",
       "      <th>Titulo Revista</th>\n",
       "      <th>Area</th>\n",
       "      <th>Tematica</th>\n",
       "      <th>Titulo Articulo</th>\n",
       "      <th>Resumen</th>\n",
       "      <th>Abstract</th>\n",
       "      <th>Link Articulo</th>\n",
       "      <th>Link PDF</th>\n",
       "    </tr>\n",
       "  </thead>\n",
       "  <tbody>\n",
       "    <tr>\n",
       "      <th>0</th>\n",
       "      <td>Revista Mexicana de Angiología</td>\n",
       "      <td>III. Medicina y Ciencias de la Salud</td>\n",
       "      <td>Medicina</td>\n",
       "      <td>Tratamiento farmacomecánico dirigido por catét...</td>\n",
       "      <td>None</td>\n",
       "      <td>None</td>\n",
       "      <td>https://www.rmangiologia.com/frame_esp.php?id=42</td>\n",
       "      <td>https://www.rmangiologia.com/files/rma_20_48_4...</td>\n",
       "    </tr>\n",
       "    <tr>\n",
       "      <th>1</th>\n",
       "      <td>Revista Mexicana de Angiología</td>\n",
       "      <td>III. Medicina y Ciencias de la Salud</td>\n",
       "      <td>Medicina</td>\n",
       "      <td>Utilidad del índice tobillo-brazo en el trauma...</td>\n",
       "      <td>None</td>\n",
       "      <td>None</td>\n",
       "      <td>https://www.rmangiologia.com/frame_esp.php?id=43</td>\n",
       "      <td>https://www.rmangiologia.com/files/rma_20_48_4...</td>\n",
       "    </tr>\n",
       "    <tr>\n",
       "      <th>2</th>\n",
       "      <td>Revista Mexicana de Angiología</td>\n",
       "      <td>III. Medicina y Ciencias de la Salud</td>\n",
       "      <td>Medicina</td>\n",
       "      <td>Angiographic predictors of post-operative atri...</td>\n",
       "      <td>None</td>\n",
       "      <td>None</td>\n",
       "      <td>https://www.rmangiologia.com/frame_esp.php?id=44</td>\n",
       "      <td>https://www.rmangiologia.com/files/rma_20_48_4...</td>\n",
       "    </tr>\n",
       "    <tr>\n",
       "      <th>3</th>\n",
       "      <td>Revista Mexicana de Angiología</td>\n",
       "      <td>III. Medicina y Ciencias de la Salud</td>\n",
       "      <td>Medicina</td>\n",
       "      <td>Asociación entre la distancia a base de cráneo...</td>\n",
       "      <td>None</td>\n",
       "      <td>None</td>\n",
       "      <td>https://www.rmangiologia.com/frame_esp.php?id=45</td>\n",
       "      <td>https://www.rmangiologia.com/files/rma_20_48_4...</td>\n",
       "    </tr>\n",
       "    <tr>\n",
       "      <th>4</th>\n",
       "      <td>Revista Mexicana de Angiología</td>\n",
       "      <td>III. Medicina y Ciencias de la Salud</td>\n",
       "      <td>Medicina</td>\n",
       "      <td>Tratamiento quirúrgico del traumatismo vascula...</td>\n",
       "      <td>None</td>\n",
       "      <td>None</td>\n",
       "      <td>https://www.rmangiologia.com/frame_esp.php?id=46</td>\n",
       "      <td>https://www.rmangiologia.com/files/rma_20_48_4...</td>\n",
       "    </tr>\n",
       "  </tbody>\n",
       "</table>\n",
       "</div>"
      ],
      "text/plain": [
       "                   Titulo Revista                                  Area  \\\n",
       "0  Revista Mexicana de Angiología  III. Medicina y Ciencias de la Salud   \n",
       "1  Revista Mexicana de Angiología  III. Medicina y Ciencias de la Salud   \n",
       "2  Revista Mexicana de Angiología  III. Medicina y Ciencias de la Salud   \n",
       "3  Revista Mexicana de Angiología  III. Medicina y Ciencias de la Salud   \n",
       "4  Revista Mexicana de Angiología  III. Medicina y Ciencias de la Salud   \n",
       "\n",
       "   Tematica                                    Titulo Articulo Resumen  \\\n",
       "0  Medicina  Tratamiento farmacomecánico dirigido por catét...    None   \n",
       "1  Medicina  Utilidad del índice tobillo-brazo en el trauma...    None   \n",
       "2  Medicina  Angiographic predictors of post-operative atri...    None   \n",
       "3  Medicina  Asociación entre la distancia a base de cráneo...    None   \n",
       "4  Medicina  Tratamiento quirúrgico del traumatismo vascula...    None   \n",
       "\n",
       "  Abstract                                     Link Articulo  \\\n",
       "0     None  https://www.rmangiologia.com/frame_esp.php?id=42   \n",
       "1     None  https://www.rmangiologia.com/frame_esp.php?id=43   \n",
       "2     None  https://www.rmangiologia.com/frame_esp.php?id=44   \n",
       "3     None  https://www.rmangiologia.com/frame_esp.php?id=45   \n",
       "4     None  https://www.rmangiologia.com/frame_esp.php?id=46   \n",
       "\n",
       "                                            Link PDF  \n",
       "0  https://www.rmangiologia.com/files/rma_20_48_4...  \n",
       "1  https://www.rmangiologia.com/files/rma_20_48_4...  \n",
       "2  https://www.rmangiologia.com/files/rma_20_48_4...  \n",
       "3  https://www.rmangiologia.com/files/rma_20_48_4...  \n",
       "4  https://www.rmangiologia.com/files/rma_20_48_4...  "
      ]
     },
     "execution_count": 67,
     "metadata": {},
     "output_type": "execute_result"
    }
   ],
   "source": [
    "df_catalogo=pd.DataFrame(datos_book)\n",
    "df_catalogo"
   ]
  },
  {
   "cell_type": "code",
   "execution_count": 57,
   "id": "063e294d-127b-4fb6-8072-791533b743e7",
   "metadata": {},
   "outputs": [],
   "source": [
    "df_catalogo.to_csv('Revista099.07.csv', index=False)"
   ]
  },
  {
   "cell_type": "code",
   "execution_count": null,
   "id": "4d60d5b7-4d06-4b3a-bedc-b7abe3da5c11",
   "metadata": {},
   "outputs": [],
   "source": []
  }
 ],
 "metadata": {
  "kernelspec": {
   "display_name": "Python 3 (ipykernel)",
   "language": "python",
   "name": "python3"
  },
  "language_info": {
   "codemirror_mode": {
    "name": "ipython",
    "version": 3
   },
   "file_extension": ".py",
   "mimetype": "text/x-python",
   "name": "python",
   "nbconvert_exporter": "python",
   "pygments_lexer": "ipython3",
   "version": "3.10.4"
  }
 },
 "nbformat": 4,
 "nbformat_minor": 5
}
