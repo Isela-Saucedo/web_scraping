{
 "cells": [
  {
   "cell_type": "code",
   "execution_count": 28,
   "id": "11ecbf92-9e07-44ec-972a-ea99527a4f67",
   "metadata": {},
   "outputs": [],
   "source": [
    "import requests\n",
    "import bs4\n",
    "from bs4 import BeautifulSoup\n",
    "from urllib.parse import urljoin\n",
    "import pandas as pd"
   ]
  },
  {
   "cell_type": "code",
   "execution_count": 29,
   "id": "b9c09685-0169-474e-aab5-cb78532bb1e0",
   "metadata": {},
   "outputs": [],
   "source": [
    "url_inicial='http://alhe.mora.edu.mx/index.php/ALHE'\n",
    "url_root= 'http://alhe.mora.edu.mx/index.php/ALHE'\n",
    "r = requests.get(url_inicial)"
   ]
  },
  {
   "cell_type": "code",
   "execution_count": 30,
   "id": "d39da7f5-ba52-4dc2-9b2a-8456ec5503f5",
   "metadata": {},
   "outputs": [],
   "source": [
    "soup = BeautifulSoup(r.text, 'html.parser')"
   ]
  },
  {
   "cell_type": "code",
   "execution_count": 31,
   "id": "83d8e892-80f1-4c4d-89f0-3d228edd7ca6",
   "metadata": {},
   "outputs": [
    {
     "data": {
      "text/plain": [
       "['http://alhe.mora.edu.mx/index.php/ALHE/article/view/1279',\n",
       " 'http://alhe.mora.edu.mx/index.php/ALHE/article/view/1230',\n",
       " 'http://alhe.mora.edu.mx/index.php/ALHE/article/view/1259',\n",
       " 'http://alhe.mora.edu.mx/index.php/ALHE/article/view/1280',\n",
       " 'http://alhe.mora.edu.mx/index.php/ALHE/article/view/1287',\n",
       " 'http://alhe.mora.edu.mx/index.php/ALHE/article/view/1289',\n",
       " 'http://alhe.mora.edu.mx/index.php/ALHE/article/view/1290',\n",
       " 'http://alhe.mora.edu.mx/index.php/ALHE/article/view/1208']"
      ]
     },
     "execution_count": 31,
     "metadata": {},
     "output_type": "execute_result"
    }
   ],
   "source": [
    "lista_articulo = soup.find_all('h3', class_='media-heading')\n",
    "links_libros = [x.find('a').get('href') for x in lista_articulo]\n",
    "links_libros = [urljoin (url_root, i) for i in links_libros]\n",
    "links_libros"
   ]
  },
  {
   "cell_type": "code",
   "execution_count": 32,
   "id": "f9e22285-fc1e-49d3-8a57-2b1cb685886a",
   "metadata": {},
   "outputs": [],
   "source": [
    "def get_url_items(soup,url):\n",
    "    lista_articulo = soup.find_all('h3', class_='media-heading')\n",
    "    links_libros = [x.find('a').get('href') for x in lista_articulo]\n",
    "    links_libros = [urljoin (url_root, i) for i in links_libros]\n",
    "    return links_libros"
   ]
  },
  {
   "cell_type": "code",
   "execution_count": 33,
   "id": "aeb1e65e-5359-47b6-b277-a5fe575ad732",
   "metadata": {},
   "outputs": [
    {
     "name": "stdout",
     "output_type": "stream",
     "text": [
      "Estoy en la pagina http://alhe.mora.edu.mx/index.php/ALHE\n"
     ]
    }
   ],
   "source": [
    "links_items=[]\n",
    "i=0\n",
    "while i<1:\n",
    "    i+=1\n",
    "    print(f'Estoy en la pagina {url_inicial}')\n",
    "    r_pag=requests.get(url_inicial)\n",
    "    s_p=BeautifulSoup(r_pag.text,'html.parser')\n",
    "    links=get_url_items(s_p, url_inicial)\n",
    "    links_items.append(links)\n",
    "    #next_a=s_p.select('li.next > a')\n",
    "    #if not next_a or not next_a[0].get('href'):\n",
    "     #   break\n",
    "    #url_inicial = urljoin(url_inicial, next_a[0].get('href'))"
   ]
  },
  {
   "cell_type": "code",
   "execution_count": 34,
   "id": "ea80f025-b2c7-4b7d-a0ee-88d15d5a3ccc",
   "metadata": {},
   "outputs": [
    {
     "data": {
      "text/plain": [
       "8"
      ]
     },
     "execution_count": 34,
     "metadata": {},
     "output_type": "execute_result"
    }
   ],
   "source": [
    "list_scraper=[]\n",
    "for i in links_items:\n",
    "    for j in i:\n",
    "        list_scraper.append(j)\n",
    "len(list_scraper)"
   ]
  },
  {
   "cell_type": "code",
   "execution_count": 8,
   "id": "37a54f37-03c3-4bf5-abd8-e361e9cda877",
   "metadata": {},
   "outputs": [],
   "source": [
    "uno=list_scraper[0]\n",
    "r_item=requests.get(uno)\n",
    "s_item=BeautifulSoup(r_item.text, 'html.parser')"
   ]
  },
  {
   "cell_type": "code",
   "execution_count": 23,
   "id": "5ca5b2d2-4bef-4ad0-b2d2-a04b84ed7941",
   "metadata": {},
   "outputs": [],
   "source": [
    "#funcion para iniciar el escraper de cada libro\n",
    "def scraper_book(url):\n",
    "    content_book={}\n",
    "    r=requests.get(url)\n",
    "    tire='América Latina en la Historia Económica'\n",
    "    a='IV. Humanidades y Ciencias de la Conducta'\n",
    "    tem='Historia Económica'\n",
    "    url='http://alhe.mora.edu.mx/'\n",
    "    s_item=BeautifulSoup(r.text,'html.parser')\n",
    "    #titulo de revista\n",
    "    try:\n",
    "        titulo=tire\n",
    "        content_book['Titulo de revista']=tire\n",
    "    except AttributeError:\n",
    "        content_book['Titulo de revista']=None\n",
    "    #area\n",
    "    try:\n",
    "        area=a\n",
    "        content_book['Área']=a\n",
    "    except AttributeError:\n",
    "        content_book['Área']=None\n",
    "    #tematica\n",
    "    try:\n",
    "        tema=tem\n",
    "        content_book['Temática']=tem\n",
    "    except AttributeError:\n",
    "        content_book['Temática']=None\n",
    "    #titulo libro\n",
    "    try:\n",
    "        titu=s_item.find('h1', class_='page-header').get_text(strip=True)\n",
    "        content_book['Titulo del libro']=titu\n",
    "    except AttributeError:\n",
    "        content_book['Titulo del libro']=None\n",
    "    #abstract\n",
    "    try:\n",
    "        abst=s_item.find('a', rel='license').get_text(strip=True)\n",
    "        content_book['Abstract']=abst\n",
    "    except AttributeError:\n",
    "        content_book['Abstract']=None\n",
    "    #resumen\n",
    "    try:\n",
    "        resu=s_item.find('div', class_='article-abstract').get_text(strip=True)\n",
    "        content_book['Resumen']=resu\n",
    "    except AttributeError:\n",
    "        content_book['Resumen']=None\n",
    "    #Link incial\n",
    "    try:\n",
    "        inicial=url\n",
    "        content_book['Link inicial']=url\n",
    "    except AttributeError:\n",
    "        content_book['Link inicial']=None\n",
    "    #link articulo\n",
    "    try:\n",
    "        link=s_item.find('div', class_='download').get('data-href')\n",
    "        content_book['Link articulo']=urljoin(url_root, link)\n",
    "    except AttributeError:\n",
    "        content_book['Link articulo']=None\n",
    "    return content_book"
   ]
  },
  {
   "cell_type": "code",
   "execution_count": 24,
   "id": "c5d2b222-9d39-4713-8ac1-5a2426f7529a",
   "metadata": {},
   "outputs": [
    {
     "name": "stdout",
     "output_type": "stream",
     "text": [
      "estas escrapeando la pag 0\n",
      "estas escrapeando la pag 1\n",
      "estas escrapeando la pag 2\n",
      "estas escrapeando la pag 3\n",
      "estas escrapeando la pag 4\n",
      "estas escrapeando la pag 5\n",
      "estas escrapeando la pag 6\n",
      "estas escrapeando la pag 7\n"
     ]
    }
   ],
   "source": [
    "list_scraper=list_scraper[0:8]\n",
    "datos_book=[]\n",
    "for idx, i in enumerate(list_scraper):\n",
    "    print(f'estas escrapeando la pag {idx}')\n",
    "    datos_book.append(scraper_book(i))"
   ]
  },
  {
   "cell_type": "code",
   "execution_count": 25,
   "id": "fe0c3dd4-88a8-41d2-9fc8-c60a1d1f9ae2",
   "metadata": {},
   "outputs": [
    {
     "data": {
      "text/html": [
       "<div>\n",
       "<style scoped>\n",
       "    .dataframe tbody tr th:only-of-type {\n",
       "        vertical-align: middle;\n",
       "    }\n",
       "\n",
       "    .dataframe tbody tr th {\n",
       "        vertical-align: top;\n",
       "    }\n",
       "\n",
       "    .dataframe thead th {\n",
       "        text-align: right;\n",
       "    }\n",
       "</style>\n",
       "<table border=\"1\" class=\"dataframe\">\n",
       "  <thead>\n",
       "    <tr style=\"text-align: right;\">\n",
       "      <th></th>\n",
       "      <th>Titulo de revista</th>\n",
       "      <th>Área</th>\n",
       "      <th>Temática</th>\n",
       "      <th>Titulo del libro</th>\n",
       "      <th>Abstract</th>\n",
       "      <th>Resumen</th>\n",
       "      <th>Link inicial</th>\n",
       "      <th>Link articulo</th>\n",
       "    </tr>\n",
       "  </thead>\n",
       "  <tbody>\n",
       "    <tr>\n",
       "      <th>0</th>\n",
       "      <td>América Latina en la Historia Económica</td>\n",
       "      <td>IV. Humanidades y Ciencias de la Conducta</td>\n",
       "      <td>Historia Económica</td>\n",
       "      <td>El diario Noticias: ideas económicas de la izq...</td>\n",
       "      <td></td>\n",
       "      <td>En el presente trabajo proponemos un examen in...</td>\n",
       "      <td>http://alhe.mora.edu.mx/</td>\n",
       "      <td>http://alhe.mora.edu.mx/index.php/ALHE</td>\n",
       "    </tr>\n",
       "    <tr>\n",
       "      <th>1</th>\n",
       "      <td>América Latina en la Historia Económica</td>\n",
       "      <td>IV. Humanidades y Ciencias de la Conducta</td>\n",
       "      <td>Historia Económica</td>\n",
       "      <td>Comparación del índice de salarios reales de u...</td>\n",
       "      <td></td>\n",
       "      <td>Real del Monte, durante los siglos XVIII y XIX...</td>\n",
       "      <td>http://alhe.mora.edu.mx/</td>\n",
       "      <td>http://alhe.mora.edu.mx/index.php/ALHE</td>\n",
       "    </tr>\n",
       "    <tr>\n",
       "      <th>2</th>\n",
       "      <td>América Latina en la Historia Económica</td>\n",
       "      <td>IV. Humanidades y Ciencias de la Conducta</td>\n",
       "      <td>Historia Económica</td>\n",
       "      <td>El mercado musical italiano en Argentina, 1895...</td>\n",
       "      <td></td>\n",
       "      <td>El artículo tiene por objetivo estudiar un mer...</td>\n",
       "      <td>http://alhe.mora.edu.mx/</td>\n",
       "      <td>http://alhe.mora.edu.mx/index.php/ALHE</td>\n",
       "    </tr>\n",
       "    <tr>\n",
       "      <th>3</th>\n",
       "      <td>América Latina en la Historia Económica</td>\n",
       "      <td>IV. Humanidades y Ciencias de la Conducta</td>\n",
       "      <td>Historia Económica</td>\n",
       "      <td>La fruticultura en el Alto Valle de Río Negro:...</td>\n",
       "      <td></td>\n",
       "      <td>La producción frutícola ubicada en la región d...</td>\n",
       "      <td>http://alhe.mora.edu.mx/</td>\n",
       "      <td>http://alhe.mora.edu.mx/index.php/ALHE</td>\n",
       "    </tr>\n",
       "    <tr>\n",
       "      <th>4</th>\n",
       "      <td>América Latina en la Historia Económica</td>\n",
       "      <td>IV. Humanidades y Ciencias de la Conducta</td>\n",
       "      <td>Historia Económica</td>\n",
       "      <td>La desindustrialización argentina en el largo ...</td>\n",
       "      <td></td>\n",
       "      <td>En 1974 la economía argentina acumulaba una dé...</td>\n",
       "      <td>http://alhe.mora.edu.mx/</td>\n",
       "      <td>http://alhe.mora.edu.mx/index.php/ALHE</td>\n",
       "    </tr>\n",
       "    <tr>\n",
       "      <th>5</th>\n",
       "      <td>América Latina en la Historia Económica</td>\n",
       "      <td>IV. Humanidades y Ciencias de la Conducta</td>\n",
       "      <td>Historia Económica</td>\n",
       "      <td>Estado, política externa e internacionalização...</td>\n",
       "      <td></td>\n",
       "      <td>O presente artigo busca compreender o início d...</td>\n",
       "      <td>http://alhe.mora.edu.mx/</td>\n",
       "      <td>http://alhe.mora.edu.mx/index.php/ALHE</td>\n",
       "    </tr>\n",
       "    <tr>\n",
       "      <th>6</th>\n",
       "      <td>América Latina en la Historia Económica</td>\n",
       "      <td>IV. Humanidades y Ciencias de la Conducta</td>\n",
       "      <td>Historia Económica</td>\n",
       "      <td>Continuidades y rupturas de la cúpula empresar...</td>\n",
       "      <td></td>\n",
       "      <td>En el presente trabajo se buscará poner en evi...</td>\n",
       "      <td>http://alhe.mora.edu.mx/</td>\n",
       "      <td>http://alhe.mora.edu.mx/index.php/ALHE</td>\n",
       "    </tr>\n",
       "    <tr>\n",
       "      <th>7</th>\n",
       "      <td>América Latina en la Historia Económica</td>\n",
       "      <td>IV. Humanidades y Ciencias de la Conducta</td>\n",
       "      <td>Historia Económica</td>\n",
       "      <td>Foreign Direct Investment and Multinationals i...</td>\n",
       "      <td></td>\n",
       "      <td>Foreign direct investment (FDI) in Brazil, sta...</td>\n",
       "      <td>http://alhe.mora.edu.mx/</td>\n",
       "      <td>http://alhe.mora.edu.mx/index.php/ALHE</td>\n",
       "    </tr>\n",
       "  </tbody>\n",
       "</table>\n",
       "</div>"
      ],
      "text/plain": [
       "                         Titulo de revista  \\\n",
       "0  América Latina en la Historia Económica   \n",
       "1  América Latina en la Historia Económica   \n",
       "2  América Latina en la Historia Económica   \n",
       "3  América Latina en la Historia Económica   \n",
       "4  América Latina en la Historia Económica   \n",
       "5  América Latina en la Historia Económica   \n",
       "6  América Latina en la Historia Económica   \n",
       "7  América Latina en la Historia Económica   \n",
       "\n",
       "                                        Área            Temática  \\\n",
       "0  IV. Humanidades y Ciencias de la Conducta  Historia Económica   \n",
       "1  IV. Humanidades y Ciencias de la Conducta  Historia Económica   \n",
       "2  IV. Humanidades y Ciencias de la Conducta  Historia Económica   \n",
       "3  IV. Humanidades y Ciencias de la Conducta  Historia Económica   \n",
       "4  IV. Humanidades y Ciencias de la Conducta  Historia Económica   \n",
       "5  IV. Humanidades y Ciencias de la Conducta  Historia Económica   \n",
       "6  IV. Humanidades y Ciencias de la Conducta  Historia Económica   \n",
       "7  IV. Humanidades y Ciencias de la Conducta  Historia Económica   \n",
       "\n",
       "                                    Titulo del libro Abstract  \\\n",
       "0  El diario Noticias: ideas económicas de la izq...            \n",
       "1  Comparación del índice de salarios reales de u...            \n",
       "2  El mercado musical italiano en Argentina, 1895...            \n",
       "3  La fruticultura en el Alto Valle de Río Negro:...            \n",
       "4  La desindustrialización argentina en el largo ...            \n",
       "5  Estado, política externa e internacionalização...            \n",
       "6  Continuidades y rupturas de la cúpula empresar...            \n",
       "7  Foreign Direct Investment and Multinationals i...            \n",
       "\n",
       "                                             Resumen  \\\n",
       "0  En el presente trabajo proponemos un examen in...   \n",
       "1  Real del Monte, durante los siglos XVIII y XIX...   \n",
       "2  El artículo tiene por objetivo estudiar un mer...   \n",
       "3  La producción frutícola ubicada en la región d...   \n",
       "4  En 1974 la economía argentina acumulaba una dé...   \n",
       "5  O presente artigo busca compreender o início d...   \n",
       "6  En el presente trabajo se buscará poner en evi...   \n",
       "7  Foreign direct investment (FDI) in Brazil, sta...   \n",
       "\n",
       "               Link inicial                           Link articulo  \n",
       "0  http://alhe.mora.edu.mx/  http://alhe.mora.edu.mx/index.php/ALHE  \n",
       "1  http://alhe.mora.edu.mx/  http://alhe.mora.edu.mx/index.php/ALHE  \n",
       "2  http://alhe.mora.edu.mx/  http://alhe.mora.edu.mx/index.php/ALHE  \n",
       "3  http://alhe.mora.edu.mx/  http://alhe.mora.edu.mx/index.php/ALHE  \n",
       "4  http://alhe.mora.edu.mx/  http://alhe.mora.edu.mx/index.php/ALHE  \n",
       "5  http://alhe.mora.edu.mx/  http://alhe.mora.edu.mx/index.php/ALHE  \n",
       "6  http://alhe.mora.edu.mx/  http://alhe.mora.edu.mx/index.php/ALHE  \n",
       "7  http://alhe.mora.edu.mx/  http://alhe.mora.edu.mx/index.php/ALHE  "
      ]
     },
     "execution_count": 25,
     "metadata": {},
     "output_type": "execute_result"
    }
   ],
   "source": [
    "df_catalogo=pd.DataFrame(datos_book)\n",
    "df_catalogo"
   ]
  },
  {
   "cell_type": "code",
   "execution_count": 27,
   "id": "58c17d58-e556-4de2-a240-d92aa8a6975b",
   "metadata": {},
   "outputs": [],
   "source": [
    "df_catalogo.to_csv('Revista07.csv', index=False)"
   ]
  },
  {
   "cell_type": "code",
   "execution_count": null,
   "id": "5d9d03e4-bae5-44a3-bf1f-dbf820be0e72",
   "metadata": {},
   "outputs": [],
   "source": []
  }
 ],
 "metadata": {
  "kernelspec": {
   "display_name": "Python 3 (ipykernel)",
   "language": "python",
   "name": "python3"
  },
  "language_info": {
   "codemirror_mode": {
    "name": "ipython",
    "version": 3
   },
   "file_extension": ".py",
   "mimetype": "text/x-python",
   "name": "python",
   "nbconvert_exporter": "python",
   "pygments_lexer": "ipython3",
   "version": "3.10.4"
  }
 },
 "nbformat": 4,
 "nbformat_minor": 5
}
